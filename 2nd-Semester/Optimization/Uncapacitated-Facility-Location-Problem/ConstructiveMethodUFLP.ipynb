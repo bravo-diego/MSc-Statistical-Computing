{
  "nbformat": 4,
  "nbformat_minor": 0,
  "metadata": {
    "colab": {
      "provenance": []
    },
    "kernelspec": {
      "name": "python3",
      "display_name": "Python 3"
    },
    "language_info": {
      "name": "python"
    }
  },
  "cells": [
    {
      "cell_type": "markdown",
      "source": [
        "# Uncapacited facility location problem (UFLP)"
      ],
      "metadata": {
        "id": "0GNfKO0UEq8l"
      }
    },
    {
      "cell_type": "markdown",
      "source": [
        "The uncapacitated facility location problem ( UFLP) involves locating an undetermined number of facilities to minimize the sum of the (annualized) fixed setup costs and the variable costs of serving the market demand from these facilities. UFLP is also known as the “simple” facility location problem SFLP, where both the alternative facility locations and the customer zones are considered discrete points on a plane or a road network."
      ],
      "metadata": {
        "id": "sasQmcpMEvJl"
      }
    },
    {
      "cell_type": "code",
      "execution_count": 1,
      "metadata": {
        "id": "vSS6Sy9TEC1A"
      },
      "outputs": [],
      "source": [
        "import numpy as np"
      ]
    },
    {
      "cell_type": "markdown",
      "source": [
        "Function to generate variable and fixed costs random matrices."
      ],
      "metadata": {
        "id": "lJNYzYLqE7DF"
      }
    },
    {
      "cell_type": "code",
      "source": [
        "def costs(locations, clients):\n",
        "\tvariable_costs = np.random.randint(clients*10, size = (locations, clients)) # variable costs (distances)\n",
        "\tfixed_costs = np.random.randint(clients*10, size = locations) # fixed costs\n",
        "\treturn variable_costs, fixed_costs"
      ],
      "metadata": {
        "id": "n2USbQjaE2mf"
      },
      "execution_count": 3,
      "outputs": []
    },
    {
      "cell_type": "markdown",
      "source": [
        "Constructive Method\n",
        "\n",
        "A rapid and straightforward method to obtain a solution is to generate it randomly among the set of all feasible solutions."
      ],
      "metadata": {
        "id": "XLtHWv4aFKeD"
      }
    },
    {
      "cell_type": "code",
      "source": [
        "def constructive_method(locations, clients, variable_costs):\n",
        "\tx = np.zeros((locations, clients)) # empty clients matrix\n",
        "\ty = np.zeros(locations) # empty locations vector\n",
        "\tr = np.random.rand(locations) # random number vector\n",
        "\n",
        "\tidx = [] # empty list to store open locations indices\n",
        "\n",
        "\tfor i in range(locations): # decision rule\n",
        "\t\tif r[i] < 0.5: # if r value is less than 0.5 then enable ith location, otherwise keep it closed\n",
        "\t\t\ty[i] = 1\n",
        "\t\t\tidx.append(i) # list of open locations indices\n",
        "\n",
        "\tif len(idx) == 0: # if the are no open locations return the empty x matrix and y vector\n",
        "\t\treturn x, y\n",
        "\n",
        "\tl = 0\n",
        "\tfor i in range(clients): # for loop to ensure every client is assigned to a location\n",
        "\t\topen_locations = sum(y) # no. open locations\n",
        "\t\tloc = idx[l] # index of open locations\n",
        "\t\tif y[loc] == 1: # if location is open then assign client to nearest location\n",
        "\t\t\tclient = np.argmin(variable_costs[loc])\n",
        "\t\t\tx[loc][client] = 1 # assign client to ith location\n",
        "\t\t\tfor j in range(locations): # for loop to avoid clients assign to > 1 location\n",
        "\t\t\t\tfor k in range(clients):\n",
        "\t\t\t\t\tif k == client:\n",
        "\t\t\t\t\t\tvariable_costs[j][k] = 1000\n",
        "\t\t\t\t\t\tbreak\n",
        "\t\tl += 1\n",
        "\t\tif l >= open_locations: # reset l value\n",
        "\t\t\tl = 0\n",
        "\n",
        "\treturn y, x"
      ],
      "metadata": {
        "id": "5OLYiheiFFME"
      },
      "execution_count": 5,
      "outputs": []
    },
    {
      "cell_type": "markdown",
      "source": [
        " Evaluate objective function with feasible solution obtained with *constructive_method* function."
      ],
      "metadata": {
        "id": "4ZBLUxEoFxQn"
      }
    },
    {
      "cell_type": "code",
      "source": [
        "def objective_function(x, variable_costs, fixed_costs, y):\n",
        "\tvariable_cost = 0\n",
        "\tfor i in range(len(variable_costs)):\n",
        "\t\tfor j in range(len(variable_costs[i])):\n",
        "\t\t\tvariable_cost += variable_costs[i][j] * x[i][j] # variable costs\n",
        "\t#print(variable_cost)\n",
        "\tfixed_cost = np.sum(np.multiply(fixed_costs, y)) # fixed costs\n",
        "\t#print(fixed_cost)\n",
        "\ttotal_cost = variable_cost + fixed_cost # total cost\n",
        "\treturn total_cost"
      ],
      "metadata": {
        "id": "jB099rQ3FFlp"
      },
      "execution_count": 16,
      "outputs": []
    },
    {
      "cell_type": "markdown",
      "source": [
        "Given"
      ],
      "metadata": {
        "id": "XHigFdDCG_cm"
      }
    },
    {
      "cell_type": "code",
      "source": [
        "m = 4 # no. locations\n",
        "n = 3 # no. clients"
      ],
      "metadata": {
        "id": "l5_quAmXGATi"
      },
      "execution_count": null,
      "outputs": []
    },
    {
      "cell_type": "markdown",
      "source": [
        "Variable and fixed costs matrices."
      ],
      "metadata": {
        "id": "hQ4zA7ssGcRs"
      }
    },
    {
      "cell_type": "code",
      "source": [
        "vcosts, fcosts = costs(m, n)\n",
        "print(vcosts, fcosts)"
      ],
      "metadata": {
        "colab": {
          "base_uri": "https://localhost:8080/"
        },
        "id": "nr7xMrD1GDOr",
        "outputId": "03c0101b-f327-48aa-b3ec-3864f15ae37a"
      },
      "execution_count": 9,
      "outputs": [
        {
          "output_type": "stream",
          "name": "stdout",
          "text": [
            "[[ 6 15 20]\n",
            " [14 22 15]\n",
            " [14 25 25]\n",
            " [11  8 23]] [ 2 12  2  5]\n"
          ]
        }
      ]
    },
    {
      "cell_type": "markdown",
      "source": [
        "Make a copy of variable and fixed costs matrices to evaluate objective function."
      ],
      "metadata": {
        "id": "L-he46ctGHrZ"
      }
    },
    {
      "cell_type": "code",
      "source": [
        "c = vcosts.copy()\n",
        "f = fcosts.copy()"
      ],
      "metadata": {
        "id": "6Voqp8JSF6Qa"
      },
      "execution_count": 10,
      "outputs": []
    },
    {
      "cell_type": "markdown",
      "source": [
        "Feasible solution."
      ],
      "metadata": {
        "id": "aGT4-3j_GXUV"
      }
    },
    {
      "cell_type": "code",
      "source": [
        "y, x = constructive_method(m, n, vcosts)\n",
        "print(y, x)"
      ],
      "metadata": {
        "colab": {
          "base_uri": "https://localhost:8080/"
        },
        "id": "6L1t3TXPGMk0",
        "outputId": "7d7303c9-87cb-427a-988e-e6aa780a0bec"
      },
      "execution_count": 11,
      "outputs": [
        {
          "output_type": "stream",
          "name": "stdout",
          "text": [
            "[1. 1. 0. 0.] [[1. 1. 0.]\n",
            " [0. 0. 1.]\n",
            " [0. 0. 0.]\n",
            " [0. 0. 0.]]\n"
          ]
        }
      ]
    },
    {
      "cell_type": "markdown",
      "source": [
        "Evaluate objective function."
      ],
      "metadata": {
        "id": "X4TguF6dGUzI"
      }
    },
    {
      "cell_type": "code",
      "source": [
        "if np.sum(y) != 0:\n",
        "\tz = objective_function(x, c, f, y)\n",
        "\tprint(z)\n",
        "else:\n",
        "\tprint(\"There are no open locations.\")"
      ],
      "metadata": {
        "colab": {
          "base_uri": "https://localhost:8080/"
        },
        "id": "7-_JKXJ6GRQR",
        "outputId": "ca035da2-9fea-4791-d74f-d4068326889c"
      },
      "execution_count": 17,
      "outputs": [
        {
          "output_type": "stream",
          "name": "stdout",
          "text": [
            "50.0\n"
          ]
        }
      ]
    }
  ]
}