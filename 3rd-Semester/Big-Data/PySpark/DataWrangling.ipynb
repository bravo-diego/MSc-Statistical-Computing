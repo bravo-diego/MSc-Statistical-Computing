{
 "cells": [
  {
   "cell_type": "markdown",
   "id": "4c1c6b3a-4f17-4db2-8cac-0ef5c3d215bb",
   "metadata": {},
   "source": [
    "# Data Wrangling in PySpark"
   ]
  },
  {
   "cell_type": "markdown",
   "id": "59a94bb2-37d5-4acf-8201-7d04e2b84364",
   "metadata": {},
   "source": [
    "## PySpark Dataframes"
   ]
  },
  {
   "cell_type": "code",
   "execution_count": 1,
   "id": "f4ad5534-d45d-41e9-a3bb-1ea8acd187a5",
   "metadata": {},
   "outputs": [],
   "source": [
    "import pyspark\n",
    "import pandas as pd \n",
    "from pyspark.sql import SparkSession\n",
    "from pyspark.sql import functions as F\n",
    "from pyspark.sql.functions import col, when, count # load libraries"
   ]
  },
  {
   "cell_type": "code",
   "execution_count": 3,
   "id": "76132887-4124-4f8a-bdf3-89441f743b73",
   "metadata": {},
   "outputs": [],
   "source": [
    "spark = SparkSession.builder\\\n",
    "        .appName(\"Intro to Spark Dataframes\")\\\n",
    "        .getOrCreate() # create a Spark session "
   ]
  },
  {
   "cell_type": "code",
   "execution_count": 4,
   "id": "322bf5a5-d609-4d7f-a476-b9ec1916caef",
   "metadata": {},
   "outputs": [
    {
     "data": {
      "text/html": [
       "\n",
       "            <div>\n",
       "                <p><b>SparkSession - in-memory</b></p>\n",
       "                \n",
       "        <div>\n",
       "            <p><b>SparkContext</b></p>\n",
       "\n",
       "            <p><a href=\"http://10.0.2.15:4040\">Spark UI</a></p>\n",
       "\n",
       "            <dl>\n",
       "              <dt>Version</dt>\n",
       "                <dd><code>v3.5.3</code></dd>\n",
       "              <dt>Master</dt>\n",
       "                <dd><code>local[*]</code></dd>\n",
       "              <dt>AppName</dt>\n",
       "                <dd><code>Intro to Spark Dataframes</code></dd>\n",
       "            </dl>\n",
       "        </div>\n",
       "        \n",
       "            </div>\n",
       "        "
      ],
      "text/plain": [
       "<pyspark.sql.session.SparkSession at 0x76e93010f230>"
      ]
     },
     "execution_count": 4,
     "metadata": {},
     "output_type": "execute_result"
    }
   ],
   "source": [
    "spark # spark session I've created"
   ]
  },
  {
   "cell_type": "code",
   "execution_count": 5,
   "id": "0d622b73-8218-4bc6-bfc7-dcb503d26288",
   "metadata": {},
   "outputs": [],
   "source": [
    "path = '/home/aspphem/Desktop/Statistics-with-Python/Cartwheeldata.csv' # file path\n",
    "df = spark.read.csv(path, header = True) # read a csv file"
   ]
  },
  {
   "cell_type": "code",
   "execution_count": 6,
   "id": "6bb29035-35f0-4e00-a7ae-6f4f9aaec14b",
   "metadata": {},
   "outputs": [
    {
     "data": {
      "text/plain": [
       "pyspark.sql.dataframe.DataFrame"
      ]
     },
     "execution_count": 6,
     "metadata": {},
     "output_type": "execute_result"
    }
   ],
   "source": [
    "type(df) # pyspark dataframe object"
   ]
  },
  {
   "cell_type": "code",
   "execution_count": 8,
   "id": "180133ef-e673-4c9a-8988-9292c2378d5e",
   "metadata": {},
   "outputs": [
    {
     "name": "stdout",
     "output_type": "stream",
     "text": [
      "root\n",
      " |-- ID: string (nullable = true)\n",
      " |-- Age: string (nullable = true)\n",
      " |-- Gender: string (nullable = true)\n",
      " |-- GenderGroup: string (nullable = true)\n",
      " |-- Glasses: string (nullable = true)\n",
      " |-- GlassesGroup: string (nullable = true)\n",
      " |-- Height: string (nullable = true)\n",
      " |-- Wingspan: string (nullable = true)\n",
      " |-- CWDistance: string (nullable = true)\n",
      " |-- Complete: string (nullable = true)\n",
      " |-- CompleteGroup: string (nullable = true)\n",
      " |-- Score: string (nullable = true)\n",
      "\n"
     ]
    }
   ],
   "source": [
    "df.printSchema() # print out the schema in tree format"
   ]
  },
  {
   "cell_type": "code",
   "execution_count": 9,
   "id": "7a38f0a0-f86e-49f0-9d11-7917b27c7b13",
   "metadata": {},
   "outputs": [],
   "source": [
    "df = spark.read.option('header', 'true').csv(path, inferSchema = True) # overwrite existing data frame and add inferSchema attribute"
   ]
  },
  {
   "cell_type": "code",
   "execution_count": 10,
   "id": "1b429409-0774-4132-9c92-4ae67269ed13",
   "metadata": {},
   "outputs": [
    {
     "name": "stdout",
     "output_type": "stream",
     "text": [
      "root\n",
      " |-- ID: integer (nullable = true)\n",
      " |-- Age: integer (nullable = true)\n",
      " |-- Gender: string (nullable = true)\n",
      " |-- GenderGroup: integer (nullable = true)\n",
      " |-- Glasses: string (nullable = true)\n",
      " |-- GlassesGroup: integer (nullable = true)\n",
      " |-- Height: double (nullable = true)\n",
      " |-- Wingspan: double (nullable = true)\n",
      " |-- CWDistance: integer (nullable = true)\n",
      " |-- Complete: string (nullable = true)\n",
      " |-- CompleteGroup: integer (nullable = true)\n",
      " |-- Score: integer (nullable = true)\n",
      "\n"
     ]
    }
   ],
   "source": [
    "df.printSchema() # print out the schema in tree format"
   ]
  },
  {
   "cell_type": "code",
   "execution_count": 11,
   "id": "73fe349b-1419-4554-a74a-dfc37d6e9450",
   "metadata": {},
   "outputs": [
    {
     "name": "stdout",
     "output_type": "stream",
     "text": [
      "Dataframe shape: 25 rows, 12 columns\n"
     ]
    }
   ],
   "source": [
    "print(\"Dataframe shape: {} rows, {} columns\".format(df.count(), len(df.columns))) # dataframe dimension"
   ]
  },
  {
   "cell_type": "code",
   "execution_count": 12,
   "id": "6257fb34-9d05-4a88-9685-7dfa21ce070b",
   "metadata": {},
   "outputs": [
    {
     "data": {
      "text/plain": [
       "['ID',\n",
       " 'Age',\n",
       " 'Gender',\n",
       " 'GenderGroup',\n",
       " 'Glasses',\n",
       " 'GlassesGroup',\n",
       " 'Height',\n",
       " 'Wingspan',\n",
       " 'CWDistance',\n",
       " 'Complete',\n",
       " 'CompleteGroup',\n",
       " 'Score']"
      ]
     },
     "execution_count": 12,
     "metadata": {},
     "output_type": "execute_result"
    }
   ],
   "source": [
    "df.columns # columns names"
   ]
  },
  {
   "cell_type": "code",
   "execution_count": 13,
   "id": "a5ab3a1b-6d6a-465c-8d3e-b2468f83f6e5",
   "metadata": {},
   "outputs": [
    {
     "name": "stdout",
     "output_type": "stream",
     "text": [
      "+---+---+------+-----------+-------+------------+------+--------+----------+--------+-------------+-----+\n",
      "| ID|Age|Gender|GenderGroup|Glasses|GlassesGroup|Height|Wingspan|CWDistance|Complete|CompleteGroup|Score|\n",
      "+---+---+------+-----------+-------+------------+------+--------+----------+--------+-------------+-----+\n",
      "|  1| 56|     F|          1|      Y|           1|  62.0|    61.0|        79|       Y|            1|    7|\n",
      "|  2| 26|     F|          1|      Y|           1|  62.0|    60.0|        70|       Y|            1|    8|\n",
      "|  3| 33|     F|          1|      Y|           1|  66.0|    64.0|        85|       Y|            1|    7|\n",
      "|  4| 39|     F|          1|      N|           0|  64.0|    63.0|        87|       Y|            1|   10|\n",
      "|  5| 27|     M|          2|      N|           0|  73.0|    75.0|        72|       N|            0|    4|\n",
      "+---+---+------+-----------+-------+------------+------+--------+----------+--------+-------------+-----+\n",
      "only showing top 5 rows\n",
      "\n"
     ]
    }
   ],
   "source": [
    "df.show(5) # preview data"
   ]
  },
  {
   "cell_type": "code",
   "execution_count": 172,
   "id": "6f1950c2-f19a-445e-ad93-5e5bf0619958",
   "metadata": {},
   "outputs": [
    {
     "name": "stdout",
     "output_type": "stream",
     "text": [
      "+------+------+----------+-----+\n",
      "|Gender|Height|CWDistance|Score|\n",
      "+------+------+----------+-----+\n",
      "|     F|  62.0|        79|    7|\n",
      "|     F|  62.0|        70|    8|\n",
      "|     F|  66.0|        85|    7|\n",
      "|     F|  64.0|        87|   10|\n",
      "|     M|  73.0|        72|    4|\n",
      "+------+------+----------+-----+\n",
      "only showing top 5 rows\n",
      "\n"
     ]
    }
   ],
   "source": [
    "updated_df = df.select('Gender', 'Height', 'CWDistance', 'Score') \n",
    "updated_df.show(5) # selecting columns"
   ]
  },
  {
   "cell_type": "code",
   "execution_count": 173,
   "id": "a624bb5b-dbea-41ae-9e21-4d1732974eb3",
   "metadata": {},
   "outputs": [
    {
     "name": "stdout",
     "output_type": "stream",
     "text": [
      "+-------+------+-----------------+------------------+------------------+\n",
      "|summary|Gender|           Height|        CWDistance|             Score|\n",
      "+-------+------+-----------------+------------------+------------------+\n",
      "|  count|    25|               25|                25|                25|\n",
      "|   mean|  NULL|            67.65|             82.48|               6.4|\n",
      "| stddev|  NULL|4.431186823715139|15.058552387264852|2.5331140255951103|\n",
      "|    min|     F|             61.5|                63|                 2|\n",
      "|    max|     M|             75.0|               115|                10|\n",
      "+-------+------+-----------------+------------------+------------------+\n",
      "\n"
     ]
    }
   ],
   "source": [
    "updated_df.describe().show() # dataframe summary"
   ]
  },
  {
   "cell_type": "code",
   "execution_count": 174,
   "id": "f9d6d72b-d82e-4a06-9d30-19fde2ad07f1",
   "metadata": {},
   "outputs": [
    {
     "name": "stdout",
     "output_type": "stream",
     "text": [
      "+------+------+----------+-----+-----------+\n",
      "|Gender|Height|CWDistance|Score|Height > 67|\n",
      "+------+------+----------+-----+-----------+\n",
      "|     F|  62.0|        79|    7|      false|\n",
      "|     F|  62.0|        70|    8|      false|\n",
      "|     F|  66.0|        85|    7|      false|\n",
      "|     F|  64.0|        87|   10|      false|\n",
      "|     M|  73.0|        72|    4|       true|\n",
      "+------+------+----------+-----+-----------+\n",
      "only showing top 5 rows\n",
      "\n"
     ]
    }
   ],
   "source": [
    "updated_df = updated_df.withColumn('Height > 67', updated_df['Height'] >= 67)\n",
    "updated_df.show(5) # adding columns in data frame"
   ]
  },
  {
   "cell_type": "code",
   "execution_count": 175,
   "id": "86706032-4908-46c0-a6ce-f40155989b5b",
   "metadata": {},
   "outputs": [
    {
     "name": "stdout",
     "output_type": "stream",
     "text": [
      "+------+------+----------+-----------+\n",
      "|Gender|Height|CWDistance|Height > 67|\n",
      "+------+------+----------+-----------+\n",
      "|     F|  62.0|        79|      false|\n",
      "|     F|  62.0|        70|      false|\n",
      "|     F|  66.0|        85|      false|\n",
      "|     F|  64.0|        87|      false|\n",
      "|     M|  73.0|        72|       true|\n",
      "+------+------+----------+-----------+\n",
      "only showing top 5 rows\n",
      "\n"
     ]
    }
   ],
   "source": [
    "updated_df = updated_df.drop('Score')\n",
    "updated_df.show(5) # drop the columns"
   ]
  },
  {
   "cell_type": "code",
   "execution_count": 176,
   "id": "b5711246-00f5-4788-9b57-a2dd7f6cfad0",
   "metadata": {},
   "outputs": [
    {
     "name": "stdout",
     "output_type": "stream",
     "text": [
      "+------+------+-----------------+-----------+\n",
      "|Gender|Height|CartwheelDistance|Height > 67|\n",
      "+------+------+-----------------+-----------+\n",
      "|     F|  62.0|               79|      false|\n",
      "|     F|  62.0|               70|      false|\n",
      "|     F|  66.0|               85|      false|\n",
      "|     F|  64.0|               87|      false|\n",
      "|     M|  73.0|               72|       true|\n",
      "+------+------+-----------------+-----------+\n",
      "only showing top 5 rows\n",
      "\n"
     ]
    }
   ],
   "source": [
    "updated_df = updated_df.withColumnRenamed(\"CWDistance\", \"CartwheelDistance\") \n",
    "updated_df.show(5) # rename columns"
   ]
  },
  {
   "cell_type": "markdown",
   "id": "aacd1b62-3cdf-4668-837a-df77d659402e",
   "metadata": {},
   "source": [
    "### Filter Operations"
   ]
  },
  {
   "cell_type": "code",
   "execution_count": 177,
   "id": "063b0dc8-0f7b-478b-b6cd-b1f26d862c80",
   "metadata": {},
   "outputs": [
    {
     "name": "stdout",
     "output_type": "stream",
     "text": [
      "+---+---+------+-----------+-------+------------+------+--------+----------+--------+-------------+-----+\n",
      "| ID|Age|Gender|GenderGroup|Glasses|GlassesGroup|Height|Wingspan|CWDistance|Complete|CompleteGroup|Score|\n",
      "+---+---+------+-----------+-------+------------+------+--------+----------+--------+-------------+-----+\n",
      "|  1| 56|     F|          1|      Y|           1|  62.0|    61.0|        79|       Y|            1|    7|\n",
      "|  2| 26|     F|          1|      Y|           1|  62.0|    60.0|        70|       Y|            1|    8|\n",
      "|  3| 33|     F|          1|      Y|           1|  66.0|    64.0|        85|       Y|            1|    7|\n",
      "|  4| 39|     F|          1|      N|           0|  64.0|    63.0|        87|       Y|            1|   10|\n",
      "|  5| 27|     M|          2|      N|           0|  73.0|    75.0|        72|       N|            0|    4|\n",
      "+---+---+------+-----------+-------+------------+------+--------+----------+--------+-------------+-----+\n",
      "only showing top 5 rows\n",
      "\n"
     ]
    }
   ],
   "source": [
    "df.show(5) # preview data"
   ]
  },
  {
   "cell_type": "code",
   "execution_count": 178,
   "id": "e5f5b3cb-d4a3-4d36-9c5b-d7b4f519165b",
   "metadata": {},
   "outputs": [
    {
     "data": {
      "text/plain": [
       "82.48"
      ]
     },
     "execution_count": 178,
     "metadata": {},
     "output_type": "execute_result"
    }
   ],
   "source": [
    "df.agg(F.mean('CWDistance')).collect()[0][0] # mean value of cartwheel distance"
   ]
  },
  {
   "cell_type": "code",
   "execution_count": 182,
   "id": "51107c54-7b38-4541-9589-4a75b4d9fbb7",
   "metadata": {},
   "outputs": [
    {
     "name": "stdout",
     "output_type": "stream",
     "text": [
      "+---+---+------+-----------+-------+------------+------+--------+----------+--------+-------------+-----+\n",
      "| ID|Age|Gender|GenderGroup|Glasses|GlassesGroup|Height|Wingspan|CWDistance|Complete|CompleteGroup|Score|\n",
      "+---+---+------+-----------+-------+------------+------+--------+----------+--------+-------------+-----+\n",
      "|  1| 56|     F|          1|      Y|           1|  62.0|    61.0|        79|       Y|            1|    7|\n",
      "|  2| 26|     F|          1|      Y|           1|  62.0|    60.0|        70|       Y|            1|    8|\n",
      "|  5| 27|     M|          2|      N|           0|  73.0|    75.0|        72|       N|            0|    4|\n",
      "|  6| 24|     M|          2|      N|           0|  75.0|    71.0|        81|       N|            0|    3|\n",
      "| 10| 33|     F|          1|      Y|           1|  63.0|    60.0|        65|       Y|            1|    8|\n",
      "+---+---+------+-----------+-------+------------+------+--------+----------+--------+-------------+-----+\n",
      "only showing top 5 rows\n",
      "\n"
     ]
    }
   ],
   "source": [
    "df.filter('CWDistance<82').show(5) # cartwheel distance less than the mean value "
   ]
  },
  {
   "cell_type": "code",
   "execution_count": 188,
   "id": "ef6ac2ae-6dc3-4404-b682-cb7ceba2b884",
   "metadata": {},
   "outputs": [
    {
     "name": "stdout",
     "output_type": "stream",
     "text": [
      "+---+------+----------+-----+\n",
      "|Age|Gender|CWDistance|Score|\n",
      "+---+------+----------+-----+\n",
      "| 56|     F|        79|    7|\n",
      "| 26|     F|        70|    8|\n",
      "| 27|     M|        72|    4|\n",
      "| 24|     M|        81|    3|\n",
      "| 33|     F|        65|    8|\n",
      "+---+------+----------+-----+\n",
      "only showing top 5 rows\n",
      "\n"
     ]
    }
   ],
   "source": [
    "df.filter(df['CWDistance']<82).select(['Age', 'Gender', 'CWDistance', 'Score']).show(5) # select specific columns"
   ]
  },
  {
   "cell_type": "code",
   "execution_count": 187,
   "id": "4c717693-3948-48b5-9b94-11a429bd1748",
   "metadata": {},
   "outputs": [
    {
     "name": "stdout",
     "output_type": "stream",
     "text": [
      "+---+------+----------+-----+\n",
      "|Age|Gender|CWDistance|Score|\n",
      "+---+------+----------+-----+\n",
      "| 26|     F|        70|    8|\n",
      "| 27|     M|        72|    4|\n",
      "| 24|     M|        81|    3|\n",
      "| 28|     F|        79|   10|\n",
      "| 23|     F|        66|    4|\n",
      "+---+------+----------+-----+\n",
      "only showing top 5 rows\n",
      "\n"
     ]
    }
   ],
   "source": [
    "df.filter((df['CWDistance']<82) & \n",
    "          (df['Age']<=30)).select(['Age', 'Gender', 'CWDistance', 'Score']).show(5) # combine two specific conditions"
   ]
  },
  {
   "cell_type": "code",
   "execution_count": 190,
   "id": "deb24fb4-0c3e-4a80-aa11-0c5594aa97d0",
   "metadata": {},
   "outputs": [
    {
     "name": "stdout",
     "output_type": "stream",
     "text": [
      "+---+------+----------+-----+\n",
      "|Age|Gender|CWDistance|Score|\n",
      "+---+------+----------+-----+\n",
      "| 33|     F|        85|    7|\n",
      "| 39|     F|        87|   10|\n",
      "| 28|     M|       107|   10|\n",
      "| 22|     F|        98|    9|\n",
      "| 29|     M|       106|    5|\n",
      "+---+------+----------+-----+\n",
      "only showing top 5 rows\n",
      "\n"
     ]
    }
   ],
   "source": [
    "df.filter(~(df['CWDistance'] < 82)).select(['Age', 'Gender', 'CWDistance', 'Score']).show(5) # ~ not operator; anything that is greater than the mean value will be given"
   ]
  },
  {
   "cell_type": "markdown",
   "id": "547617a7-0edc-4b88-93d2-b3f7a0c1a217",
   "metadata": {},
   "source": [
    "### GroupBy and Aggregate Functions"
   ]
  },
  {
   "cell_type": "code",
   "execution_count": 14,
   "id": "b298824e-d2b9-4e04-a0c3-ef2ed0b8bf8f",
   "metadata": {},
   "outputs": [
    {
     "name": "stdout",
     "output_type": "stream",
     "text": [
      "+---+---+------+-----------+-------+------------+------+--------+----------+--------+-------------+-----+\n",
      "| ID|Age|Gender|GenderGroup|Glasses|GlassesGroup|Height|Wingspan|CWDistance|Complete|CompleteGroup|Score|\n",
      "+---+---+------+-----------+-------+------------+------+--------+----------+--------+-------------+-----+\n",
      "|  1| 56|     F|          1|      Y|           1|  62.0|    61.0|        79|       Y|            1|    7|\n",
      "|  2| 26|     F|          1|      Y|           1|  62.0|    60.0|        70|       Y|            1|    8|\n",
      "|  3| 33|     F|          1|      Y|           1|  66.0|    64.0|        85|       Y|            1|    7|\n",
      "|  4| 39|     F|          1|      N|           0|  64.0|    63.0|        87|       Y|            1|   10|\n",
      "|  5| 27|     M|          2|      N|           0|  73.0|    75.0|        72|       N|            0|    4|\n",
      "+---+---+------+-----------+-------+------------+------+--------+----------+--------+-------------+-----+\n",
      "only showing top 5 rows\n",
      "\n"
     ]
    }
   ],
   "source": [
    "df.show(5) # preview data"
   ]
  },
  {
   "cell_type": "code",
   "execution_count": 16,
   "id": "9482bfde-8a81-4f86-bd1c-ee55a8b6c857",
   "metadata": {},
   "outputs": [
    {
     "name": "stdout",
     "output_type": "stream",
     "text": [
      "+---+------+------+----------+-----+\n",
      "|Age|Gender|Height|CWDistance|Score|\n",
      "+---+------+------+----------+-----+\n",
      "| 56|     F|  62.0|        79|    7|\n",
      "| 26|     F|  62.0|        70|    8|\n",
      "| 33|     F|  66.0|        85|    7|\n",
      "| 39|     F|  64.0|        87|   10|\n",
      "| 27|     M|  73.0|        72|    4|\n",
      "+---+------+------+----------+-----+\n",
      "only showing top 5 rows\n",
      "\n"
     ]
    }
   ],
   "source": [
    "updated_df = df.select('Age', 'Gender', 'Height', 'CWDistance', 'Score') \n",
    "updated_df.show(5) # selecting columns"
   ]
  },
  {
   "cell_type": "code",
   "execution_count": 24,
   "id": "c8da8b45-683e-4986-b779-66938cab6b25",
   "metadata": {},
   "outputs": [
    {
     "name": "stdout",
     "output_type": "stream",
     "text": [
      "+------+----------+\n",
      "|Gender|sum(Score)|\n",
      "+------+----------+\n",
      "|     F|        90|\n",
      "|     M|        70|\n",
      "+------+----------+\n",
      "\n"
     ]
    }
   ],
   "source": [
    "updated_df.select('Gender', 'Score').groupBy('Gender').sum().show() # females have the highest global score"
   ]
  },
  {
   "cell_type": "code",
   "execution_count": 26,
   "id": "d5110538-4805-41c7-8e93-5ad5d8848952",
   "metadata": {},
   "outputs": [
    {
     "name": "stdout",
     "output_type": "stream",
     "text": [
      "+------+-----------------+\n",
      "|Gender|  avg(CWDistance)|\n",
      "+------+-----------------+\n",
      "|     F|            80.25|\n",
      "|     M|84.53846153846153|\n",
      "+------+-----------------+\n",
      "\n"
     ]
    }
   ],
   "source": [
    "updated_df.select('Gender', 'CWDistance').groupBy('Gender').mean().show() # males have the highest CW distance mean value"
   ]
  },
  {
   "cell_type": "code",
   "execution_count": 28,
   "id": "d6fbda49-e145-429f-9d4d-e7c473930d36",
   "metadata": {},
   "outputs": [
    {
     "name": "stdout",
     "output_type": "stream",
     "text": [
      "+------+-----+\n",
      "|Gender|count|\n",
      "+------+-----+\n",
      "|     F|   12|\n",
      "|     M|   13|\n",
      "+------+-----+\n",
      "\n"
     ]
    }
   ],
   "source": [
    "updated_df.groupBy('Gender').count().show() # no. of females and males in the dataset"
   ]
  },
  {
   "cell_type": "code",
   "execution_count": 30,
   "id": "ebd99ee8-f985-460e-b20e-d75a8b4d8585",
   "metadata": {},
   "outputs": [
    {
     "name": "stdout",
     "output_type": "stream",
     "text": [
      "+-----------+\n",
      "|avg(Height)|\n",
      "+-----------+\n",
      "|      67.65|\n",
      "+-----------+\n",
      "\n"
     ]
    }
   ],
   "source": [
    "updated_df.agg({'Height': 'mean'}).show() # Height mean value"
   ]
  },
  {
   "cell_type": "markdown",
   "id": "5285b898-2d42-4835-9cea-1faea1911ef4",
   "metadata": {},
   "source": [
    "**N o t e**\\\n",
    "GroupBy and aggregate functions works together ."
   ]
  },
  {
   "cell_type": "markdown",
   "id": "b3e0dc78-7295-43ee-86d4-3eda6b3574c9",
   "metadata": {},
   "source": [
    "## PySpark Handling Missing Values"
   ]
  },
  {
   "cell_type": "code",
   "execution_count": 156,
   "id": "751f5479-a683-410c-8e04-a80624a73c6f",
   "metadata": {},
   "outputs": [],
   "source": [
    "updated_df = df.select('Gender', 'Height', 'CWDistance', 'Score') "
   ]
  },
  {
   "cell_type": "code",
   "execution_count": 157,
   "id": "f710b7be-bd28-4427-b206-37b15ffc4092",
   "metadata": {},
   "outputs": [
    {
     "name": "stdout",
     "output_type": "stream",
     "text": [
      "+------+------+----------+-----+\n",
      "|Gender|Height|CWDistance|Score|\n",
      "+------+------+----------+-----+\n",
      "|     0|     0|         0|    0|\n",
      "+------+------+----------+-----+\n",
      "\n"
     ]
    }
   ],
   "source": [
    "updated_df.select([count(when(col(c).isNull(), c)).alias(c) for c in updated_df.columns]).show() # check for NULL values"
   ]
  },
  {
   "cell_type": "code",
   "execution_count": 158,
   "id": "dabcbb9f-510e-42e0-a69d-8175bd62b7fc",
   "metadata": {},
   "outputs": [
    {
     "name": "stdout",
     "output_type": "stream",
     "text": [
      "+------+------+----------+-----+\n",
      "|Gender|Height|CWDistance|Score|\n",
      "+------+------+----------+-----+\n",
      "|  NULL|  62.0|        79|    7|\n",
      "|  NULL|  62.0|        70|    8|\n",
      "|  NULL|  66.0|        85|    7|\n",
      "|  NULL|  64.0|        87|   10|\n",
      "|     M|  73.0|        72|    4|\n",
      "+------+------+----------+-----+\n",
      "only showing top 5 rows\n",
      "\n"
     ]
    }
   ],
   "source": [
    "updated_df = updated_df.replace({'F': None}, subset = ['Gender']) \n",
    "updated_df.show(5) # adding NULL values"
   ]
  },
  {
   "cell_type": "code",
   "execution_count": 159,
   "id": "30d251df-14dc-420a-8e2f-da24e2bae1ec",
   "metadata": {},
   "outputs": [
    {
     "name": "stdout",
     "output_type": "stream",
     "text": [
      "Updated dataframe shape: 25 rows, 4 columns\n"
     ]
    }
   ],
   "source": [
    "print(\"Updated dataframe shape: {} rows, {} columns\".format(updated_df.count(), len(updated_df.columns))) # dataframe dimension"
   ]
  },
  {
   "cell_type": "code",
   "execution_count": 160,
   "id": "715ae7a0-bed7-4f01-b539-afd84520aec6",
   "metadata": {},
   "outputs": [
    {
     "name": "stdout",
     "output_type": "stream",
     "text": [
      "+------+------+----------+-----+\n",
      "|Gender|Height|CWDistance|Score|\n",
      "+------+------+----------+-----+\n",
      "|     M|  73.0|        72|    4|\n",
      "|     M|  75.0|        81|    3|\n",
      "|     M|  75.0|       107|   10|\n",
      "|     M|  74.0|       106|    5|\n",
      "|     M|  69.5|        96|    6|\n",
      "+------+------+----------+-----+\n",
      "only showing top 5 rows\n",
      "\n"
     ]
    }
   ],
   "source": [
    "updated_df = updated_df.na.drop() # by default 'how = any' so it will drop a row if it contains any nulls ('how = all' will drop a row only if all its values are NULL)\n",
    "updated_df.show(5) # drop rows with NULL values"
   ]
  },
  {
   "cell_type": "code",
   "execution_count": 161,
   "id": "9cc61a56-3d62-45f2-a40e-d97914acad53",
   "metadata": {},
   "outputs": [
    {
     "name": "stdout",
     "output_type": "stream",
     "text": [
      "Updated dataframe shape: 13 rows, 4 columns\n"
     ]
    }
   ],
   "source": [
    "print(\"Updated dataframe shape: {} rows, {} columns\".format(updated_df.count(), len(updated_df.columns))) # dataframe dimension"
   ]
  },
  {
   "cell_type": "code",
   "execution_count": 163,
   "id": "70e693bf-eeb3-49b4-a1b6-2264db3f01d7",
   "metadata": {},
   "outputs": [
    {
     "name": "stdout",
     "output_type": "stream",
     "text": [
      "+------+------+----------+-----+\n",
      "|Gender|Height|CWDistance|Score|\n",
      "+------+------+----------+-----+\n",
      "|     F|  62.0|        79|    7|\n",
      "|     F|  62.0|        70|    8|\n",
      "|     F|  66.0|      NULL|    7|\n",
      "|     F|  64.0|        87|   10|\n",
      "|     M|  73.0|        72|    4|\n",
      "+------+------+----------+-----+\n",
      "only showing top 5 rows\n",
      "\n"
     ]
    }
   ],
   "source": [
    "restored_df = df.select('Gender', 'Height', 'CWDistance', 'Score').replace({85: None}, subset = ['CWDistance']) \n",
    "restored_df.show(5) # define a new dataframe with NULL values on it"
   ]
  },
  {
   "cell_type": "code",
   "execution_count": 164,
   "id": "7cb9cf22-2140-49fc-9041-02b7d11346aa",
   "metadata": {},
   "outputs": [
    {
     "name": "stdout",
     "output_type": "stream",
     "text": [
      "+----------+-----+\n",
      "|CWDistance|count|\n",
      "+----------+-----+\n",
      "|      NULL|    2|\n",
      "|        72|    2|\n",
      "|        79|    2|\n",
      "|        66|    2|\n",
      "|        65|    1|\n",
      "|       115|    1|\n",
      "|       101|    1|\n",
      "|        81|    1|\n",
      "|        96|    1|\n",
      "|        92|    1|\n",
      "|        64|    1|\n",
      "|       107|    1|\n",
      "|        87|    1|\n",
      "|        63|    1|\n",
      "|        82|    1|\n",
      "|        70|    1|\n",
      "|        98|    1|\n",
      "|        90|    1|\n",
      "|       106|    1|\n",
      "|        67|    1|\n",
      "+----------+-----+\n",
      "only showing top 20 rows\n",
      "\n"
     ]
    }
   ],
   "source": [
    "restored_df.groupBy('CWDistance').count().orderBy(F.col(\"count\").desc()).show() # get unique values and the no. of times each value appears"
   ]
  },
  {
   "cell_type": "code",
   "execution_count": 152,
   "id": "9f10a307-2f85-4e3f-90df-af83b3f4974c",
   "metadata": {},
   "outputs": [
    {
     "data": {
      "text/plain": [
       "82.26086956521739"
      ]
     },
     "execution_count": 152,
     "metadata": {},
     "output_type": "execute_result"
    }
   ],
   "source": [
    "restored_df.agg(F.mean('CWDistance')).collect()[0][0] # mean value of cartwheel distance"
   ]
  },
  {
   "cell_type": "code",
   "execution_count": 165,
   "id": "97656c63-f2cb-43be-8682-ac57d740058f",
   "metadata": {},
   "outputs": [],
   "source": [
    "from pyspark.ml.feature import Imputer\n",
    "\n",
    "imputer = Imputer(\n",
    "    inputCols = ['CWDistance'], \n",
    "    outputCols = ['{}_imputed'.format(c) for c in ['CWDistance']]\n",
    ").setStrategy('mean') # create a new column with the NULL values of the specified column replaced by the mean value"
   ]
  },
  {
   "cell_type": "code",
   "execution_count": 166,
   "id": "9e1d0765-a1bb-4b20-bdbd-f91727894d4f",
   "metadata": {},
   "outputs": [
    {
     "name": "stdout",
     "output_type": "stream",
     "text": [
      "+------+------+----------+-----+------------------+\n",
      "|Gender|Height|CWDistance|Score|CWDistance_imputed|\n",
      "+------+------+----------+-----+------------------+\n",
      "|     F|  62.0|        79|    7|                79|\n",
      "|     F|  62.0|        70|    8|                70|\n",
      "|     F|  66.0|      NULL|    7|                82|\n",
      "|     F|  64.0|        87|   10|                87|\n",
      "|     M|  73.0|        72|    4|                72|\n",
      "+------+------+----------+-----+------------------+\n",
      "only showing top 5 rows\n",
      "\n"
     ]
    }
   ],
   "source": [
    "restored_df = imputer.fit(restored_df).transform(restored_df) \n",
    "restored_df.show(5) # add imputation cols to df"
   ]
  },
  {
   "cell_type": "code",
   "execution_count": 191,
   "id": "ecc64eaf-33d8-4bfa-aedd-8cbd923c1c87",
   "metadata": {},
   "outputs": [],
   "source": [
    "spark.stop() # stop spark session"
   ]
  }
 ],
 "metadata": {
  "kernelspec": {
   "display_name": "Python 3 (ipykernel)",
   "language": "python",
   "name": "python3"
  },
  "language_info": {
   "codemirror_mode": {
    "name": "ipython",
    "version": 3
   },
   "file_extension": ".py",
   "mimetype": "text/x-python",
   "name": "python",
   "nbconvert_exporter": "python",
   "pygments_lexer": "ipython3",
   "version": "3.12.3"
  }
 },
 "nbformat": 4,
 "nbformat_minor": 5
}
