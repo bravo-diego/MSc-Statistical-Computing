{
 "cells": [
  {
   "cell_type": "markdown",
   "id": "db2c4d4c-fbee-4be3-aeab-9bff287307a4",
   "metadata": {},
   "source": [
    "# Getting Started with PySpark"
   ]
  },
  {
   "cell_type": "markdown",
   "id": "ca2238cd-4b48-418d-bf1a-278cec96e658",
   "metadata": {},
   "source": [
    "## How to build a Spark Session?"
   ]
  },
  {
   "cell_type": "code",
   "execution_count": 2,
   "id": "10b8b4fc-9ce2-461a-a2bb-d4d89d3966cd",
   "metadata": {},
   "outputs": [],
   "source": [
    "import pyspark\n",
    "from pyspark.sql import SparkSession\n",
    "from pyspark.sql.functions import col # load libraries"
   ]
  },
  {
   "cell_type": "code",
   "execution_count": 9,
   "id": "ac573721-923d-4558-b54f-e9e2694ecf84",
   "metadata": {},
   "outputs": [],
   "source": [
    "spark = SparkSession.builder\\\n",
    "        .appName(\"Intro to Spark Dataframes\")\\\n",
    "        .getOrCreate() # create a Spark session "
   ]
  },
  {
   "cell_type": "code",
   "execution_count": 4,
   "id": "20da1726-aba9-4a1c-b38a-af298d551ac6",
   "metadata": {},
   "outputs": [
    {
     "data": {
      "text/html": [
       "\n",
       "            <div>\n",
       "                <p><b>SparkSession - in-memory</b></p>\n",
       "                \n",
       "        <div>\n",
       "            <p><b>SparkContext</b></p>\n",
       "\n",
       "            <p><a href=\"http://10.0.2.15:4041\">Spark UI</a></p>\n",
       "\n",
       "            <dl>\n",
       "              <dt>Version</dt>\n",
       "                <dd><code>v3.5.3</code></dd>\n",
       "              <dt>Master</dt>\n",
       "                <dd><code>local[*]</code></dd>\n",
       "              <dt>AppName</dt>\n",
       "                <dd><code>Intro to Spark Dataframes</code></dd>\n",
       "            </dl>\n",
       "        </div>\n",
       "        \n",
       "            </div>\n",
       "        "
      ],
      "text/plain": [
       "<pyspark.sql.session.SparkSession at 0x7706a49e9250>"
      ]
     },
     "execution_count": 4,
     "metadata": {},
     "output_type": "execute_result"
    }
   ],
   "source": [
    "spark # spark session I've created"
   ]
  },
  {
   "cell_type": "code",
   "execution_count": 5,
   "id": "67cd8ac2-31c9-4030-814e-103aaedc8916",
   "metadata": {},
   "outputs": [],
   "source": [
    "data = [\n",
    "    (1, \"Mandy\", 24),\n",
    "    (2, \"Robin\", 50),\n",
    "    (3, \"Moly\", 22)\n",
    "] # data\n",
    "\n",
    "cols = [\"ID\", \"Name\", \"Age\"] # column names"
   ]
  },
  {
   "cell_type": "code",
   "execution_count": 6,
   "id": "237b7729-e5d4-4a76-8c53-6e71c4533914",
   "metadata": {},
   "outputs": [],
   "source": [
    "df = spark.createDataFrame(data, cols) # create a dataframe"
   ]
  },
  {
   "cell_type": "code",
   "execution_count": 8,
   "id": "2889b62f-81a9-42aa-b61c-fa5515812d58",
   "metadata": {},
   "outputs": [
    {
     "name": "stdout",
     "output_type": "stream",
     "text": [
      "+---+-----+---+\n",
      "| ID| Name|Age|\n",
      "+---+-----+---+\n",
      "|  1|Mandy| 24|\n",
      "|  2|Robin| 50|\n",
      "|  3| Moly| 22|\n",
      "+---+-----+---+\n",
      "\n"
     ]
    }
   ],
   "source": [
    "df.show() # data preview"
   ]
  },
  {
   "cell_type": "code",
   "execution_count": 10,
   "id": "75cbacd2-9af7-4e02-80de-30641eb3e1f6",
   "metadata": {},
   "outputs": [],
   "source": [
    "spark.stop() # stop spark session"
   ]
  },
  {
   "cell_type": "markdown",
   "id": "dda2c1c2-1ae7-4cc2-bc90-80ac7cdcca39",
   "metadata": {},
   "source": [
    "## Intro to Data Wrangling in PySpark"
   ]
  },
  {
   "cell_type": "code",
   "execution_count": 10,
   "id": "d3390377-c7fc-4a4a-adaf-6ff2cf1aad91",
   "metadata": {},
   "outputs": [],
   "source": [
    "spark = SparkSession.builder\\\n",
    "        .appName(\"Data Wrangling in PySpark\")\\\n",
    "        .getOrCreate() # create a Spark session "
   ]
  },
  {
   "cell_type": "code",
   "execution_count": 15,
   "id": "5611e7e7-d988-4cf0-a577-56aaeea7b028",
   "metadata": {},
   "outputs": [],
   "source": [
    "data = [\n",
    "    (1, \"Mandy\", 24),\n",
    "    (2, \"Robin\", 50),\n",
    "    (3, \"Moly\", 22),\n",
    "    (4, \"Mandilona\", 25),\n",
    "    (5, \"Rocky\", None),\n",
    "    (6, None, 14)\n",
    "] # data\n",
    "\n",
    "cols = [\"ID\", \"Name\", \"Age\"] # columns names"
   ]
  },
  {
   "cell_type": "code",
   "execution_count": 16,
   "id": "16363d50-4fb1-4d96-a616-4b8e8ed15264",
   "metadata": {},
   "outputs": [],
   "source": [
    "df = spark.createDataFrame(data, cols) # create dataframe"
   ]
  },
  {
   "cell_type": "code",
   "execution_count": 17,
   "id": "eab4fdc2-63f2-4140-8ede-b34e42728c0a",
   "metadata": {},
   "outputs": [
    {
     "name": "stdout",
     "output_type": "stream",
     "text": [
      "Original DataFrame:\n",
      "+---+---------+----+\n",
      "| ID|     Name| Age|\n",
      "+---+---------+----+\n",
      "|  1|    Mandy|  24|\n",
      "|  2|    Robin|  50|\n",
      "|  3|     Moly|  22|\n",
      "|  4|Mandilona|  25|\n",
      "|  5|    Rocky|NULL|\n",
      "|  6|     NULL|  14|\n",
      "+---+---------+----+\n",
      "\n"
     ]
    }
   ],
   "source": [
    "print(\"Original DataFrame:\")\n",
    "df.show() # data preview"
   ]
  },
  {
   "cell_type": "code",
   "execution_count": 18,
   "id": "a949050a-7266-43b2-b133-66daac6a2ea7",
   "metadata": {},
   "outputs": [
    {
     "name": "stdout",
     "output_type": "stream",
     "text": [
      "Dataframe shape: 6 rows, 3 columns\n"
     ]
    }
   ],
   "source": [
    "print(\"Dataframe shape: {} rows, {} columns\".format(df.count(), len(df.columns))) # dataframe dimensions"
   ]
  },
  {
   "cell_type": "code",
   "execution_count": 19,
   "id": "34d57cd3-af1e-4c51-a3d8-1436d5635c13",
   "metadata": {},
   "outputs": [
    {
     "data": {
      "text/plain": [
       "['ID', 'Name', 'Age']"
      ]
     },
     "execution_count": 19,
     "metadata": {},
     "output_type": "execute_result"
    }
   ],
   "source": [
    "df.columns # columns names"
   ]
  },
  {
   "cell_type": "code",
   "execution_count": 20,
   "id": "750c936d-9144-4312-b008-79b1d7bb1845",
   "metadata": {},
   "outputs": [
    {
     "data": {
      "text/plain": [
       "[Row(ID=6, Name=None, Age=14)]"
      ]
     },
     "execution_count": 20,
     "metadata": {},
     "output_type": "execute_result"
    }
   ],
   "source": [
    "df.filter(df.Name.isNull()).collect() # identify and report rows with null values in Name column"
   ]
  },
  {
   "cell_type": "code",
   "execution_count": 21,
   "id": "a95cf337-e47e-47e2-90e5-d05ad591f2c6",
   "metadata": {},
   "outputs": [
    {
     "data": {
      "text/plain": [
       "[Row(ID=5, Name='Rocky', Age=None)]"
      ]
     },
     "execution_count": 21,
     "metadata": {},
     "output_type": "execute_result"
    }
   ],
   "source": [
    "df.filter(df.Age.isNull()).collect() # identify and report rows with null values in Age column"
   ]
  },
  {
   "cell_type": "code",
   "execution_count": 23,
   "id": "b9921090-de14-4c94-a7c3-87a60c350ff1",
   "metadata": {},
   "outputs": [
    {
     "name": "stdout",
     "output_type": "stream",
     "text": [
      "+---+---------+---+\n",
      "| ID|     Name|Age|\n",
      "+---+---------+---+\n",
      "|  1|    Mandy| 24|\n",
      "|  2|    Robin| 50|\n",
      "|  3|     Moly| 22|\n",
      "|  4|Mandilona| 25|\n",
      "+---+---------+---+\n",
      "\n"
     ]
    }
   ],
   "source": [
    "updated_df = df.filter(df.Age.isNotNull() & df.Name.isNotNull()) # filter NULL values\n",
    "updated_df.show()"
   ]
  },
  {
   "cell_type": "code",
   "execution_count": 24,
   "id": "b1234479-fe5f-4ed7-b8aa-79fe9850be1c",
   "metadata": {},
   "outputs": [
    {
     "name": "stdout",
     "output_type": "stream",
     "text": [
      "+---+---------+---------+\n",
      "| ID|     Name|Age (yrs)|\n",
      "+---+---------+---------+\n",
      "|  1|    Mandy|       24|\n",
      "|  2|    Robin|       50|\n",
      "|  3|     Moly|       22|\n",
      "|  4|Mandilona|       25|\n",
      "+---+---------+---------+\n",
      "\n"
     ]
    }
   ],
   "source": [
    "renamed_df = updated_df.withColumnRenamed(\"Age\", \"Age (yrs)\") # rename columns \n",
    "renamed_df.show()"
   ]
  },
  {
   "cell_type": "code",
   "execution_count": 26,
   "id": "b1f32e51-6374-439d-8a46-c4d04ed286b6",
   "metadata": {},
   "outputs": [
    {
     "name": "stdout",
     "output_type": "stream",
     "text": [
      "+---+---------+---------+--------+\n",
      "| ID|     Name|Age (yrs)|> 30 yrs|\n",
      "+---+---------+---------+--------+\n",
      "|  1|    Mandy|       24|   false|\n",
      "|  2|    Robin|       50|    true|\n",
      "|  3|     Moly|       22|   false|\n",
      "|  4|Mandilona|       25|   false|\n",
      "+---+---------+---------+--------+\n",
      "\n"
     ]
    }
   ],
   "source": [
    "selected_ppl = renamed_df.withColumn(\"> 30 yrs\", col(\"Age (yrs)\") >= 30) # create a new column based on age column\n",
    "selected_ppl.show()"
   ]
  },
  {
   "cell_type": "code",
   "execution_count": 27,
   "id": "394239cc-25ff-4fcf-ae7a-da7c4bbf8f9a",
   "metadata": {},
   "outputs": [],
   "source": [
    "spark.stop() # stop spark session"
   ]
  }
 ],
 "metadata": {
  "kernelspec": {
   "display_name": "Python 3 (ipykernel)",
   "language": "python",
   "name": "python3"
  },
  "language_info": {
   "codemirror_mode": {
    "name": "ipython",
    "version": 3
   },
   "file_extension": ".py",
   "mimetype": "text/x-python",
   "name": "python",
   "nbconvert_exporter": "python",
   "pygments_lexer": "ipython3",
   "version": "3.12.3"
  }
 },
 "nbformat": 4,
 "nbformat_minor": 5
}
