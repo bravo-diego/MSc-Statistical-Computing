{
 "cells": [
  {
   "cell_type": "markdown",
   "id": "317c1840-5041-46d9-8871-9f008d28817d",
   "metadata": {},
   "source": [
    "# Machine Learning Library (MLlib) in PySpark"
   ]
  },
  {
   "cell_type": "markdown",
   "id": "87a7869d-baf1-4229-97e3-07479b1112ec",
   "metadata": {},
   "source": [
    "MLlib is a **Machine Learning library in PySpark**. It makes machine learning models scalables and easy to apply them."
   ]
  },
  {
   "cell_type": "code",
   "execution_count": 1,
   "id": "4ec087d2-a3ac-402a-8f9c-10f40c17502b",
   "metadata": {},
   "outputs": [],
   "source": [
    "import pyspark\n",
    "import kagglehub\n",
    "import pandas as pd \n",
    "from pyspark.sql import SparkSession \n",
    "from pyspark.ml.feature import Imputer \n",
    "from pyspark.ml.feature import OneHotEncoder\n",
    "from pyspark.ml.feature import StringIndexer\n",
    "from pyspark.ml.feature import StandardScaler\n",
    "from pyspark.ml.feature import VectorAssembler\n",
    "from pyspark.ml.regression import LinearRegression \n",
    "from pyspark.mllib.evaluation import RegressionMetrics\n",
    "from pyspark.sql.functions import isnan, when, count, col # loading libraries"
   ]
  },
  {
   "cell_type": "code",
   "execution_count": 3,
   "id": "2c361142-aa1e-4964-866f-a11849e219bd",
   "metadata": {},
   "outputs": [],
   "source": [
    "spark = SparkSession.builder\\\n",
    "        .appName(\"Machine Learning Library (MLlib) Introduction\")\\\n",
    "        .getOrCreate() # create a Spark session "
   ]
  },
  {
   "cell_type": "code",
   "execution_count": 4,
   "id": "b2fe6e42-c719-48b8-b47a-22e97a740d4c",
   "metadata": {},
   "outputs": [
    {
     "data": {
      "text/html": [
       "\n",
       "            <div>\n",
       "                <p><b>SparkSession - in-memory</b></p>\n",
       "                \n",
       "        <div>\n",
       "            <p><b>SparkContext</b></p>\n",
       "\n",
       "            <p><a href=\"http://10.0.2.15:4040\">Spark UI</a></p>\n",
       "\n",
       "            <dl>\n",
       "              <dt>Version</dt>\n",
       "                <dd><code>v3.5.3</code></dd>\n",
       "              <dt>Master</dt>\n",
       "                <dd><code>local[*]</code></dd>\n",
       "              <dt>AppName</dt>\n",
       "                <dd><code>Machine Learning Library (MLlib) Introduction</code></dd>\n",
       "            </dl>\n",
       "        </div>\n",
       "        \n",
       "            </div>\n",
       "        "
      ],
      "text/plain": [
       "<pyspark.sql.session.SparkSession at 0x71ba7c09f9e0>"
      ]
     },
     "execution_count": 4,
     "metadata": {},
     "output_type": "execute_result"
    }
   ],
   "source": [
    "spark # spark session I've created"
   ]
  },
  {
   "cell_type": "code",
   "execution_count": 6,
   "id": "8613ca2e-514c-460a-9952-a1799f8db573",
   "metadata": {},
   "outputs": [],
   "source": [
    "path = kagglehub.dataset_download(\"camnugent/california-housing-prices\") # path file"
   ]
  },
  {
   "cell_type": "markdown",
   "id": "b8d23f58-2086-42ba-b103-d69e7f7f6918",
   "metadata": {},
   "source": [
    "## Data Processing"
   ]
  },
  {
   "cell_type": "code",
   "execution_count": 7,
   "id": "541d9c51-bced-494b-8252-2d0a72f6f547",
   "metadata": {},
   "outputs": [
    {
     "name": "stdout",
     "output_type": "stream",
     "text": [
      "root\n",
      " |-- longitude: double (nullable = true)\n",
      " |-- latitude: double (nullable = true)\n",
      " |-- housing_median_age: double (nullable = true)\n",
      " |-- total_rooms: double (nullable = true)\n",
      " |-- total_bedrooms: double (nullable = true)\n",
      " |-- population: double (nullable = true)\n",
      " |-- households: double (nullable = true)\n",
      " |-- median_income: double (nullable = true)\n",
      " |-- median_house_value: double (nullable = true)\n",
      " |-- ocean_proximity: string (nullable = true)\n",
      "\n"
     ]
    }
   ],
   "source": [
    "df = spark.read.format('csv').load(path, header = True, inferSchema = True) # read csv file\n",
    "df.printSchema()"
   ]
  },
  {
   "cell_type": "code",
   "execution_count": 8,
   "id": "5eb5d8f5-5d64-44b0-a1f3-91c84c82450b",
   "metadata": {},
   "outputs": [
    {
     "name": "stdout",
     "output_type": "stream",
     "text": [
      "+---------+--------+------------------+-----------+--------------+----------+----------+-------------+------------------+---------------+\n",
      "|longitude|latitude|housing_median_age|total_rooms|total_bedrooms|population|households|median_income|median_house_value|ocean_proximity|\n",
      "+---------+--------+------------------+-----------+--------------+----------+----------+-------------+------------------+---------------+\n",
      "|  -122.23|   37.88|              41.0|      880.0|         129.0|     322.0|     126.0|       8.3252|          452600.0|       NEAR BAY|\n",
      "|  -122.22|   37.86|              21.0|     7099.0|        1106.0|    2401.0|    1138.0|       8.3014|          358500.0|       NEAR BAY|\n",
      "|  -122.24|   37.85|              52.0|     1467.0|         190.0|     496.0|     177.0|       7.2574|          352100.0|       NEAR BAY|\n",
      "|  -122.25|   37.85|              52.0|     1274.0|         235.0|     558.0|     219.0|       5.6431|          341300.0|       NEAR BAY|\n",
      "|  -122.25|   37.85|              52.0|     1627.0|         280.0|     565.0|     259.0|       3.8462|          342200.0|       NEAR BAY|\n",
      "+---------+--------+------------------+-----------+--------------+----------+----------+-------------+------------------+---------------+\n",
      "only showing top 5 rows\n",
      "\n"
     ]
    }
   ],
   "source": [
    "df.show(5) # dataframe preview"
   ]
  },
  {
   "cell_type": "markdown",
   "id": "faca1bd6-c650-4922-9dd1-792e2a9dd933",
   "metadata": {},
   "source": [
    "### Handling Missing Values"
   ]
  },
  {
   "cell_type": "code",
   "execution_count": 9,
   "id": "d9ef2531-484d-4111-8c54-b348444e49d6",
   "metadata": {},
   "outputs": [
    {
     "name": "stdout",
     "output_type": "stream",
     "text": [
      "+---------+--------+------------------+-----------+--------------+----------+----------+-------------+------------------+---------------+\n",
      "|longitude|latitude|housing_median_age|total_rooms|total_bedrooms|population|households|median_income|median_house_value|ocean_proximity|\n",
      "+---------+--------+------------------+-----------+--------------+----------+----------+-------------+------------------+---------------+\n",
      "|        0|       0|                 0|          0|           207|         0|         0|            0|                 0|              0|\n",
      "+---------+--------+------------------+-----------+--------------+----------+----------+-------------+------------------+---------------+\n",
      "\n"
     ]
    }
   ],
   "source": [
    "df.select([count(when(isnan(c) | col(c).isNull(), c)).alias(c) for c in df.columns]).show() # count of NULL and NaN values for each column"
   ]
  },
  {
   "cell_type": "code",
   "execution_count": 10,
   "id": "f4b2a98c-ff8f-4a9a-a834-2e86257f3f4b",
   "metadata": {},
   "outputs": [],
   "source": [
    "numerical_features = df.columns\n",
    "numerical_features.remove('median_house_value') # remove variable we want to predict\n",
    "numerical_features.remove('ocean_proximity') # remove categorical variable"
   ]
  },
  {
   "cell_type": "code",
   "execution_count": 11,
   "id": "db7065ca-d716-43ee-bca2-f0918c8c1418",
   "metadata": {},
   "outputs": [
    {
     "data": {
      "text/plain": [
       "['longitude',\n",
       " 'latitude',\n",
       " 'housing_median_age',\n",
       " 'total_rooms',\n",
       " 'total_bedrooms',\n",
       " 'population',\n",
       " 'households',\n",
       " 'median_income']"
      ]
     },
     "execution_count": 11,
     "metadata": {},
     "output_type": "execute_result"
    }
   ],
   "source": [
    "numerical_features "
   ]
  },
  {
   "cell_type": "code",
   "execution_count": 28,
   "id": "748e0dc0-24ad-4c82-b477-47af5d6f8f88",
   "metadata": {},
   "outputs": [],
   "source": [
    "imputer = Imputer(inputCols = numerical_features, \n",
    "                 outputCols = numerical_features) # define an imputer\n",
    "\n",
    "imputer = imputer.fit(df)\n",
    "df = imputer.transform(df) # overwrite existing columns"
   ]
  },
  {
   "cell_type": "code",
   "execution_count": 27,
   "id": "89bffdda-7e47-4bf4-b93f-09421b35d5e1",
   "metadata": {},
   "outputs": [
    {
     "name": "stdout",
     "output_type": "stream",
     "text": [
      "+---------+--------+------------------+-----------+--------------+----------+----------+-------------+------------------+---------------+\n",
      "|longitude|latitude|housing_median_age|total_rooms|total_bedrooms|population|households|median_income|median_house_value|ocean_proximity|\n",
      "+---------+--------+------------------+-----------+--------------+----------+----------+-------------+------------------+---------------+\n",
      "|        0|       0|                 0|          0|             0|         0|         0|            0|                 0|              0|\n",
      "+---------+--------+------------------+-----------+--------------+----------+----------+-------------+------------------+---------------+\n",
      "\n"
     ]
    }
   ],
   "source": [
    "df.select([count(when(isnan(c) | col(c).isNull(), c)).alias(c) for c in df.columns]).show() # missing values were imputed"
   ]
  },
  {
   "cell_type": "markdown",
   "id": "c78d95b5-5857-468d-9ed5-0915831ee33b",
   "metadata": {},
   "source": [
    "## Building and Evaluating a Regression Model"
   ]
  },
  {
   "cell_type": "markdown",
   "id": "e3ff95b8-9f03-4c04-8d7a-5ff6d1ac71fd",
   "metadata": {},
   "source": [
    "### Extracting and Transforming Features"
   ]
  },
  {
   "cell_type": "markdown",
   "id": "0164f460-c49f-4b48-81a0-bec8540e66ec",
   "metadata": {},
   "source": [
    "Combining all features into a single vector with **VectorAssembler** and converting string categorical features into numerical indices with **StringIndexer**."
   ]
  },
  {
   "cell_type": "code",
   "execution_count": 29,
   "id": "fbfcf0f6-afa0-431e-9f6c-a8cb49efe8ca",
   "metadata": {},
   "outputs": [],
   "source": [
    "numerical_vector_assembler = VectorAssembler(inputCols = ['longitude', 'latitude', 'housing_median_age', \n",
    "                                                          'total_rooms', 'total_bedrooms', 'population', \n",
    "                                                          'households', 'median_income'],\n",
    "                                            outputCol = 'numerical_features',\n",
    "                                            handleInvalid = \"skip\") # merge numerical features into a single vector"
   ]
  },
  {
   "cell_type": "code",
   "execution_count": 30,
   "id": "ee9ec6ed-d74f-4478-a5d5-09901eb024fc",
   "metadata": {},
   "outputs": [],
   "source": [
    "assembled_data = numerical_vector_assembler.transform(df) # apply VectorAssembler to the dataframe"
   ]
  },
  {
   "cell_type": "code",
   "execution_count": 31,
   "id": "35358240-92a7-4718-8d7f-f15125c59f6d",
   "metadata": {},
   "outputs": [
    {
     "name": "stdout",
     "output_type": "stream",
     "text": [
      "+---------+--------+------------------+-----------+--------------+----------+----------+-------------+------------------+---------------+--------------------+\n",
      "|longitude|latitude|housing_median_age|total_rooms|total_bedrooms|population|households|median_income|median_house_value|ocean_proximity|  numerical_features|\n",
      "+---------+--------+------------------+-----------+--------------+----------+----------+-------------+------------------+---------------+--------------------+\n",
      "|  -122.23|   37.88|              41.0|      880.0|         129.0|     322.0|     126.0|       8.3252|          452600.0|       NEAR BAY|[-122.23,37.88,41...|\n",
      "|  -122.22|   37.86|              21.0|     7099.0|        1106.0|    2401.0|    1138.0|       8.3014|          358500.0|       NEAR BAY|[-122.22,37.86,21...|\n",
      "|  -122.24|   37.85|              52.0|     1467.0|         190.0|     496.0|     177.0|       7.2574|          352100.0|       NEAR BAY|[-122.24,37.85,52...|\n",
      "|  -122.25|   37.85|              52.0|     1274.0|         235.0|     558.0|     219.0|       5.6431|          341300.0|       NEAR BAY|[-122.25,37.85,52...|\n",
      "|  -122.25|   37.85|              52.0|     1627.0|         280.0|     565.0|     259.0|       3.8462|          342200.0|       NEAR BAY|[-122.25,37.85,52...|\n",
      "+---------+--------+------------------+-----------+--------------+----------+----------+-------------+------------------+---------------+--------------------+\n",
      "only showing top 5 rows\n",
      "\n"
     ]
    }
   ],
   "source": [
    "assembled_data.show(5) # dataframe preview"
   ]
  },
  {
   "cell_type": "code",
   "execution_count": 32,
   "id": "cbba31bf-12d1-46d4-928e-a36c3e23e0e2",
   "metadata": {},
   "outputs": [],
   "source": [
    "train, test = assembled_data.randomSplit([0.8, 0.2], seed = 42) # split data in train (80%) and test (20%) sets"
   ]
  },
  {
   "cell_type": "code",
   "execution_count": 33,
   "id": "9e5d2877-d4b0-4ad6-8eb3-e09b0fd50063",
   "metadata": {},
   "outputs": [
    {
     "data": {
      "text/plain": [
       "[Row(numerical_features=DenseVector([-124.35, 40.54, 52.0, 1820.0, 300.0, 806.0, 270.0, 3.0147])),\n",
       " Row(numerical_features=DenseVector([-124.3, 41.8, 19.0, 2672.0, 552.0, 1298.0, 478.0, 1.9797]))]"
      ]
     },
     "execution_count": 33,
     "metadata": {},
     "output_type": "execute_result"
    }
   ],
   "source": [
    "train.select('numerical_features').take(2)"
   ]
  },
  {
   "cell_type": "code",
   "execution_count": 34,
   "id": "8ace86d2-510e-4ebc-bd7b-768ddb2d6fb1",
   "metadata": {},
   "outputs": [
    {
     "data": {
      "text/plain": [
       "[Row(numerical_features=DenseVector([-124.3, 41.84, 17.0, 2677.0, 531.0, 1244.0, 456.0, 3.0313])),\n",
       " Row(numerical_features=DenseVector([-124.23, 40.54, 52.0, 2694.0, 453.0, 1152.0, 435.0, 3.0806]))]"
      ]
     },
     "execution_count": 34,
     "metadata": {},
     "output_type": "execute_result"
    }
   ],
   "source": [
    "test.select('numerical_features').take(2)"
   ]
  },
  {
   "cell_type": "code",
   "execution_count": 35,
   "id": "57b2a4ea-a0b6-45a7-b532-59d1fcf56d40",
   "metadata": {},
   "outputs": [],
   "source": [
    "indexer = StringIndexer(inputCol = 'ocean_proximity',\n",
    "                       outputCol = 'ocean_category') # map string column of labels to a column of label indices\n",
    "\n",
    "indexer = indexer.fit(train)"
   ]
  },
  {
   "cell_type": "code",
   "execution_count": 36,
   "id": "9c44c6d1-93d0-4cbd-875d-31fb902a1300",
   "metadata": {},
   "outputs": [],
   "source": [
    "train = indexer.transform(train)\n",
    "test = indexer.transform(test) # adding column of label indices for ocean proximity categories"
   ]
  },
  {
   "cell_type": "code",
   "execution_count": 37,
   "id": "f960214e-122e-493a-9e00-797a220ff9c3",
   "metadata": {},
   "outputs": [
    {
     "data": {
      "text/plain": [
       "{Row(ocean_category=0.0),\n",
       " Row(ocean_category=1.0),\n",
       " Row(ocean_category=2.0),\n",
       " Row(ocean_category=3.0),\n",
       " Row(ocean_category=4.0)}"
      ]
     },
     "execution_count": 37,
     "metadata": {},
     "output_type": "execute_result"
    }
   ],
   "source": [
    "set(train.select('ocean_category').collect()) # categories created by the indexer"
   ]
  },
  {
   "cell_type": "code",
   "execution_count": 38,
   "id": "a160e771-524a-4f14-9e34-2ca1c83f31e1",
   "metadata": {},
   "outputs": [],
   "source": [
    "one_hot_encoder = OneHotEncoder(inputCol = 'ocean_category',\n",
    "                               outputCol = 'ocean_category_one_hot') # map a column of category indices to a column of binary vectors\n",
    "\n",
    "one_hot_encoder = one_hot_encoder.fit(train)"
   ]
  },
  {
   "cell_type": "code",
   "execution_count": 39,
   "id": "55428816-a67e-4e0c-9104-9a1f5bddefc3",
   "metadata": {},
   "outputs": [],
   "source": [
    "train = one_hot_encoder.transform(train)\n",
    "test = one_hot_encoder.transform(test) # apply the one hot encoder to both train and test sets "
   ]
  },
  {
   "cell_type": "code",
   "execution_count": 40,
   "id": "18968c6e-a03a-4553-b99b-0bbb94bd4514",
   "metadata": {},
   "outputs": [
    {
     "data": {
      "text/plain": [
       "{Row(ocean_category_one_hot=SparseVector(4, {0: 1.0})),\n",
       " Row(ocean_category_one_hot=SparseVector(4, {1: 1.0})),\n",
       " Row(ocean_category_one_hot=SparseVector(4, {2: 1.0})),\n",
       " Row(ocean_category_one_hot=SparseVector(4, {3: 1.0})),\n",
       " Row(ocean_category_one_hot=SparseVector(4, {}))}"
      ]
     },
     "execution_count": 40,
     "metadata": {},
     "output_type": "execute_result"
    }
   ],
   "source": [
    "set(train.select('ocean_category_one_hot').collect())"
   ]
  },
  {
   "cell_type": "code",
   "execution_count": 41,
   "id": "a35b2786-741c-4e49-9ebc-cfd73e1df39c",
   "metadata": {},
   "outputs": [],
   "source": [
    "assembler = VectorAssembler(inputCols = ['numerical_features',\n",
    "                                        'ocean_category_one_hot'],\n",
    "                           outputCol = 'complete_features') # merge both numerical and categorical features\n",
    "\n",
    "train = assembler.transform(train)\n",
    "test = assembler.transform(test) # adding complete feature vector to both train and test dataframes"
   ]
  },
  {
   "cell_type": "code",
   "execution_count": 42,
   "id": "483290dc-303e-4704-a385-39a85186bf7e",
   "metadata": {},
   "outputs": [
    {
     "name": "stdout",
     "output_type": "stream",
     "text": [
      "+---------+--------+------------------+-----------+--------------+----------+----------+-------------+------------------+---------------+--------------------+--------------+----------------------+--------------------+\n",
      "|longitude|latitude|housing_median_age|total_rooms|total_bedrooms|population|households|median_income|median_house_value|ocean_proximity|  numerical_features|ocean_category|ocean_category_one_hot|   complete_features|\n",
      "+---------+--------+------------------+-----------+--------------+----------+----------+-------------+------------------+---------------+--------------------+--------------+----------------------+--------------------+\n",
      "|  -124.35|   40.54|              52.0|     1820.0|         300.0|     806.0|     270.0|       3.0147|           94600.0|     NEAR OCEAN|[-124.35,40.54,52...|           2.0|         (4,[2],[1.0])|[-124.35,40.54,52...|\n",
      "|   -124.3|    41.8|              19.0|     2672.0|         552.0|    1298.0|     478.0|       1.9797|           85800.0|     NEAR OCEAN|[-124.3,41.8,19.0...|           2.0|         (4,[2],[1.0])|[-124.3,41.8,19.0...|\n",
      "|  -124.27|   40.69|              36.0|     2349.0|         528.0|    1194.0|     465.0|       2.5179|           79000.0|     NEAR OCEAN|[-124.27,40.69,36...|           2.0|         (4,[2],[1.0])|[-124.27,40.69,36...|\n",
      "|  -124.26|   40.58|              52.0|     2217.0|         394.0|     907.0|     369.0|       2.3571|          111400.0|     NEAR OCEAN|[-124.26,40.58,52...|           2.0|         (4,[2],[1.0])|[-124.26,40.58,52...|\n",
      "|  -124.25|   40.28|              32.0|     1430.0|         419.0|     434.0|     187.0|       1.9417|           76100.0|     NEAR OCEAN|[-124.25,40.28,32...|           2.0|         (4,[2],[1.0])|[-124.25,40.28,32...|\n",
      "+---------+--------+------------------+-----------+--------------+----------+----------+-------------+------------------+---------------+--------------------+--------------+----------------------+--------------------+\n",
      "only showing top 5 rows\n",
      "\n"
     ]
    }
   ],
   "source": [
    "train.show(5) # preview training set"
   ]
  },
  {
   "cell_type": "code",
   "execution_count": 43,
   "id": "1a41401a-26de-409f-b832-822b951cb2fb",
   "metadata": {},
   "outputs": [
    {
     "name": "stdout",
     "output_type": "stream",
     "text": [
      "+---------+--------+------------------+-----------+--------------+----------+----------+-------------+------------------+---------------+--------------------+--------------+----------------------+--------------------+\n",
      "|longitude|latitude|housing_median_age|total_rooms|total_bedrooms|population|households|median_income|median_house_value|ocean_proximity|  numerical_features|ocean_category|ocean_category_one_hot|   complete_features|\n",
      "+---------+--------+------------------+-----------+--------------+----------+----------+-------------+------------------+---------------+--------------------+--------------+----------------------+--------------------+\n",
      "|   -124.3|   41.84|              17.0|     2677.0|         531.0|    1244.0|     456.0|       3.0313|          103600.0|     NEAR OCEAN|[-124.3,41.84,17....|           2.0|         (4,[2],[1.0])|[-124.3,41.84,17....|\n",
      "|  -124.23|   40.54|              52.0|     2694.0|         453.0|    1152.0|     435.0|       3.0806|          106700.0|     NEAR OCEAN|[-124.23,40.54,52...|           2.0|         (4,[2],[1.0])|[-124.23,40.54,52...|\n",
      "|  -124.23|   41.75|              11.0|     3159.0|         616.0|    1343.0|     479.0|       2.4805|           73200.0|     NEAR OCEAN|[-124.23,41.75,11...|           2.0|         (4,[2],[1.0])|[-124.23,41.75,11...|\n",
      "|  -124.19|   40.73|              21.0|     5694.0|        1056.0|    2907.0|     972.0|       3.5363|           90100.0|     NEAR OCEAN|[-124.19,40.73,21...|           2.0|         (4,[2],[1.0])|[-124.19,40.73,21...|\n",
      "|  -124.18|   40.78|              34.0|     1592.0|         364.0|     950.0|     317.0|       2.1607|           67000.0|     NEAR OCEAN|[-124.18,40.78,34...|           2.0|         (4,[2],[1.0])|[-124.18,40.78,34...|\n",
      "+---------+--------+------------------+-----------+--------------+----------+----------+-------------+------------------+---------------+--------------------+--------------+----------------------+--------------------+\n",
      "only showing top 5 rows\n",
      "\n"
     ]
    }
   ],
   "source": [
    "test.show(5) # preview testing set"
   ]
  },
  {
   "cell_type": "code",
   "execution_count": 45,
   "id": "e074f785-80de-4aef-a7d9-5071fa7c9333",
   "metadata": {},
   "outputs": [
    {
     "data": {
      "text/plain": [
       "[Row(complete_features=DenseVector([-124.35, 40.54, 52.0, 1820.0, 300.0, 806.0, 270.0, 3.0147, 0.0, 0.0, 1.0, 0.0])),\n",
       " Row(complete_features=DenseVector([-124.3, 41.8, 19.0, 2672.0, 552.0, 1298.0, 478.0, 1.9797, 0.0, 0.0, 1.0, 0.0])),\n",
       " Row(complete_features=DenseVector([-124.27, 40.69, 36.0, 2349.0, 528.0, 1194.0, 465.0, 2.5179, 0.0, 0.0, 1.0, 0.0])),\n",
       " Row(complete_features=DenseVector([-124.26, 40.58, 52.0, 2217.0, 394.0, 907.0, 369.0, 2.3571, 0.0, 0.0, 1.0, 0.0])),\n",
       " Row(complete_features=DenseVector([-124.25, 40.28, 32.0, 1430.0, 419.0, 434.0, 187.0, 1.9417, 0.0, 0.0, 1.0, 0.0]))]"
      ]
     },
     "execution_count": 45,
     "metadata": {},
     "output_type": "execute_result"
    }
   ],
   "source": [
    "train.select('complete_features').take(5) # complete features vector preview"
   ]
  },
  {
   "cell_type": "markdown",
   "id": "4f8e625c-559b-4440-af89-b40f35f21857",
   "metadata": {},
   "source": [
    "### Fitting a Linear Regression Model"
   ]
  },
  {
   "cell_type": "code",
   "execution_count": 50,
   "id": "58c0dcab-3469-45ee-9b9a-890adf3f613a",
   "metadata": {},
   "outputs": [
    {
     "data": {
      "text/plain": [
       "LinearRegression_dfe052c5055b"
      ]
     },
     "execution_count": 50,
     "metadata": {},
     "output_type": "execute_result"
    }
   ],
   "source": [
    "linear_regression_model = LinearRegression(featuresCol = 'complete_features',\n",
    "                                           labelCol = 'median_house_value') # define a linear regression model\n",
    "\n",
    "linear_regression_model"
   ]
  },
  {
   "cell_type": "code",
   "execution_count": 51,
   "id": "ea5d9fab-5155-4780-bf04-476310940b47",
   "metadata": {},
   "outputs": [
    {
     "name": "stderr",
     "output_type": "stream",
     "text": [
      "24/10/22 19:42:40 WARN Instrumentation: [ed93705e] regParam is zero, which might cause numerical instability and overfitting.\n",
      "                                                                                \r"
     ]
    }
   ],
   "source": [
    "linear_regression_model = linear_regression_model.fit(train) # fit the linear regression model to train data"
   ]
  },
  {
   "cell_type": "code",
   "execution_count": 53,
   "id": "8aed88f1-8798-44c5-9bed-c2cb7d9f6eef",
   "metadata": {},
   "outputs": [
    {
     "name": "stdout",
     "output_type": "stream",
     "text": [
      "+---------+--------+------------------+-----------+--------------+----------+----------+-------------+------------------+---------------+--------------------+--------------+----------------------+--------------------+----------------------------+\n",
      "|longitude|latitude|housing_median_age|total_rooms|total_bedrooms|population|households|median_income|median_house_value|ocean_proximity|  numerical_features|ocean_category|ocean_category_one_hot|   complete_features|predicted_median_house_value|\n",
      "+---------+--------+------------------+-----------+--------------+----------+----------+-------------+------------------+---------------+--------------------+--------------+----------------------+--------------------+----------------------------+\n",
      "|   -124.3|   41.84|              17.0|     2677.0|         531.0|    1244.0|     456.0|       3.0313|          103600.0|     NEAR OCEAN|[-124.3,41.84,17....|           2.0|         (4,[2],[1.0])|[-124.3,41.84,17....|          150428.91124387458|\n",
      "|  -124.23|   40.54|              52.0|     2694.0|         453.0|    1152.0|     435.0|       3.0806|          106700.0|     NEAR OCEAN|[-124.23,40.54,52...|           2.0|         (4,[2],[1.0])|[-124.23,40.54,52...|          217515.79790594103|\n",
      "|  -124.23|   41.75|              11.0|     3159.0|         616.0|    1343.0|     479.0|       2.4805|           73200.0|     NEAR OCEAN|[-124.23,41.75,11...|           2.0|         (4,[2],[1.0])|[-124.23,41.75,11...|           125091.6165320538|\n",
      "+---------+--------+------------------+-----------+--------------+----------+----------+-------------+------------------+---------------+--------------------+--------------+----------------------+--------------------+----------------------------+\n",
      "only showing top 3 rows\n",
      "\n"
     ]
    }
   ],
   "source": [
    "predictions_test = linear_regression_model.transform(test).withColumnRenamed('prediction',\n",
    "                                                                             'predicted_median_house_value') # predict the median house values\n",
    "\n",
    "predictions_test.show(3)"
   ]
  },
  {
   "cell_type": "markdown",
   "id": "9b7a06b2-0353-4068-8487-5582e7f68fd4",
   "metadata": {},
   "source": [
    "### Model Evaluation"
   ]
  },
  {
   "cell_type": "markdown",
   "id": "7fac8817-866e-4136-97e7-a0fabf797373",
   "metadata": {},
   "source": [
    "To evaluate the model, we retrieve both the predicted and actual values. The `RegressionMetrics` function requires an RDD containing the predictions alongside the observed values."
   ]
  },
  {
   "cell_type": "code",
   "execution_count": 54,
   "id": "75213c4c-4df1-414a-863c-167b3ecd2e60",
   "metadata": {},
   "outputs": [],
   "source": [
    "predictions_test_df = predictions_test.toPandas() # convert to pandas dataframe"
   ]
  },
  {
   "cell_type": "code",
   "execution_count": 55,
   "id": "a2187eab-64d3-4fba-9d21-2b36eec99977",
   "metadata": {},
   "outputs": [],
   "source": [
    "predictions_observations = predictions_test_df[['predicted_median_house_value',\n",
    "                                                'median_house_value']] # get the predicted and the actual median house values\n",
    "\n",
    "predictions_observations = spark.createDataFrame(predictions_observations) # convert to pyspark dataframe"
   ]
  },
  {
   "cell_type": "code",
   "execution_count": 59,
   "id": "ed5455ae-e5f4-4463-98a8-04f449577249",
   "metadata": {},
   "outputs": [
    {
     "data": {
      "text/plain": [
       "[Row(predicted_median_house_value=150428.91124387458, median_house_value=103600.0),\n",
       " Row(predicted_median_house_value=217515.79790594103, median_house_value=106700.0)]"
      ]
     },
     "execution_count": 59,
     "metadata": {},
     "output_type": "execute_result"
    }
   ],
   "source": [
    "predictions_observations_rdd = predictions_observations.rdd # convert to an RDD\n",
    "predictions_observations_rdd.take(2)"
   ]
  },
  {
   "cell_type": "code",
   "execution_count": 60,
   "id": "5e17d0c1-6718-4a68-901c-e5699f36b85b",
   "metadata": {},
   "outputs": [
    {
     "data": {
      "text/plain": [
       "[(150428.91124387458, 103600.0), (217515.79790594103, 106700.0)]"
      ]
     },
     "execution_count": 60,
     "metadata": {},
     "output_type": "execute_result"
    }
   ],
   "source": [
    "predictions_observations_rdd = predictions_observations_rdd.map(tuple) # convert to a tuple to retrieve the values\n",
    "predictions_observations_rdd.take(2)"
   ]
  },
  {
   "cell_type": "code",
   "execution_count": 61,
   "id": "218395bc-07fe-4e9c-8af2-417c4c82eac8",
   "metadata": {},
   "outputs": [],
   "source": [
    "metrics = RegressionMetrics(predictions_observations_rdd)"
   ]
  },
  {
   "cell_type": "code",
   "execution_count": 62,
   "id": "a89ff531-2f95-41cb-a70e-4e1ff1403c6b",
   "metadata": {},
   "outputs": [],
   "source": [
    "model_evaluation = '''\n",
    "Mean Squared Error: {0}\n",
    "Root Mean Squared Error: {1}\n",
    "Mean Absolute Error: {2}\n",
    "R-Squared: {3}\n",
    "'''.format(metrics.meanSquaredError,\n",
    "           metrics.rootMeanSquaredError,\n",
    "           metrics.meanAbsoluteError,\n",
    "           metrics.r2)"
   ]
  },
  {
   "cell_type": "code",
   "execution_count": 63,
   "id": "02861eb1-120b-456f-85b1-dd26e1ef963c",
   "metadata": {},
   "outputs": [
    {
     "name": "stdout",
     "output_type": "stream",
     "text": [
      "\n",
      "Mean Squared Error: 5009982545.682196\n",
      "Root Mean Squared Error: 70781.2301792092\n",
      "Mean Absolute Error: 50855.05025358482\n",
      "R-Squared: 0.6378987876472275\n",
      "\n"
     ]
    }
   ],
   "source": [
    "print(model_evaluation)"
   ]
  },
  {
   "cell_type": "markdown",
   "id": "4c7f03ad-025f-4d9e-93cc-e2fc665fa525",
   "metadata": {},
   "source": [
    "The $R^2$ value suggests a moderately good fit, but there is variability that remains unexplained, i.e. other factors or more complex relationships might be influencing house prices."
   ]
  },
  {
   "cell_type": "code",
   "execution_count": 64,
   "id": "0dd61b6b-ce7d-4c4c-ab6d-4b94b745f2a3",
   "metadata": {},
   "outputs": [],
   "source": [
    "spark.stop() # stop spark session"
   ]
  }
 ],
 "metadata": {
  "kernelspec": {
   "display_name": "Python 3 (ipykernel)",
   "language": "python",
   "name": "python3"
  },
  "language_info": {
   "codemirror_mode": {
    "name": "ipython",
    "version": 3
   },
   "file_extension": ".py",
   "mimetype": "text/x-python",
   "name": "python",
   "nbconvert_exporter": "python",
   "pygments_lexer": "ipython3",
   "version": "3.12.3"
  }
 },
 "nbformat": 4,
 "nbformat_minor": 5
}
