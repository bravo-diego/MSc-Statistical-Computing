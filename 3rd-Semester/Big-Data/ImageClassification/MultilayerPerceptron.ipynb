{
 "cells": [
  {
   "cell_type": "markdown",
   "metadata": {},
   "source": [
    "# Multilayer Perceptron Classifier for Image Classification using PySpark"
   ]
  },
  {
   "cell_type": "code",
   "execution_count": 2,
   "metadata": {
    "id": "ksaZmcVAVo4i"
   },
   "outputs": [],
   "source": [
    "import pyspark\n",
    "import numpy as np\n",
    "import matplotlib.pyplot as plt\n",
    "from pyspark.sql import SparkSession\n",
    "from pyspark.ml.linalg import Vectors, VectorUDT\n",
    "from pyspark.sql import functions as F\n",
    "from pyspark.sql.functions import udf\n",
    "from pyspark.ml.feature import VectorAssembler\n",
    "from tensorflow.keras import datasets, layers, models\n",
    "from pyspark.ml.evaluation import MulticlassClassificationEvaluator\n",
    "from pyspark.ml.classification import MultilayerPerceptronClassifier\n",
    "from pyspark.sql.types import StructField, StructType, ArrayType, IntegerType, FloatType # loading libraries"
   ]
  },
  {
   "cell_type": "code",
   "execution_count": 3,
   "metadata": {
    "id": "1en72XJwK_KD"
   },
   "outputs": [],
   "source": [
    "from tensorflow.keras.datasets import cifar10"
   ]
  },
  {
   "cell_type": "markdown",
   "metadata": {
    "id": "0B2-2NQdLIZJ"
   },
   "source": [
    "The CIFAR-10 dataset consists of $60,000$ color images of $32 \\times 32$ pixels, distributed across $10$ classes, with $6,000$ images per class. The dataset is divided into $50,000$ training images and $10,000$ test images."
   ]
  },
  {
   "cell_type": "code",
   "execution_count": 4,
   "metadata": {
    "id": "MwrfOh4OfUxd"
   },
   "outputs": [],
   "source": [
    "spark = SparkSession.builder\\\n",
    "        .appName('MLP-CIFAR10')\\\n",
    "        .config('spark.driver.memory', '12g')\\\n",
    "        .getOrCreate() # create a Spark session"
   ]
  },
  {
   "cell_type": "code",
   "execution_count": 5,
   "metadata": {
    "colab": {
     "base_uri": "https://localhost:8080/",
     "height": 221
    },
    "id": "NlgA2hCHfXgm",
    "outputId": "255f02ca-e1b1-4b3d-9432-2e96bcd7e8ef"
   },
   "outputs": [
    {
     "data": {
      "text/html": [
       "\n",
       "            <div>\n",
       "                <p><b>SparkSession - in-memory</b></p>\n",
       "                \n",
       "        <div>\n",
       "            <p><b>SparkContext</b></p>\n",
       "\n",
       "            <p><a href=\"http://3403b38c3491:4040\">Spark UI</a></p>\n",
       "\n",
       "            <dl>\n",
       "              <dt>Version</dt>\n",
       "                <dd><code>v3.5.3</code></dd>\n",
       "              <dt>Master</dt>\n",
       "                <dd><code>local[*]</code></dd>\n",
       "              <dt>AppName</dt>\n",
       "                <dd><code>MLP-CIFAR10</code></dd>\n",
       "            </dl>\n",
       "        </div>\n",
       "        \n",
       "            </div>\n",
       "        "
      ],
      "text/plain": [
       "<pyspark.sql.session.SparkSession at 0x78cb20cddf90>"
      ]
     },
     "execution_count": 5,
     "metadata": {},
     "output_type": "execute_result"
    }
   ],
   "source": [
    "spark"
   ]
  },
  {
   "cell_type": "code",
   "execution_count": 6,
   "metadata": {
    "colab": {
     "base_uri": "https://localhost:8080/"
    },
    "id": "wkh7eWwvLFr7",
    "outputId": "54f55512-e481-4832-b388-aa08e1eaf091"
   },
   "outputs": [
    {
     "name": "stdout",
     "output_type": "stream",
     "text": [
      "Downloading data from https://www.cs.toronto.edu/~kriz/cifar-10-python.tar.gz\n",
      "\u001b[1m170498071/170498071\u001b[0m \u001b[32m━━━━━━━━━━━━━━━━━━━━\u001b[0m\u001b[37m\u001b[0m \u001b[1m7s\u001b[0m 0us/step\n"
     ]
    }
   ],
   "source": [
    "(X_train, y_train), (X_test, y_test) = datasets.cifar10.load_data() # download CIFAR10 data"
   ]
  },
  {
   "cell_type": "markdown",
   "metadata": {
    "id": "-hU3sSndlznq"
   },
   "source": [
    "Each image is represented as a three-dimensional array of size $32 \\times 32 \\times 3$, where the 3rd dimension corresponds to the RGB channels (Red, Green, and Blue), which encode the color information for each pixel (i.e. each pixel has three values, one for each color channel)."
   ]
  },
  {
   "cell_type": "code",
   "execution_count": 7,
   "metadata": {
    "colab": {
     "base_uri": "https://localhost:8080/"
    },
    "id": "cHYBpGzULMMI",
    "outputId": "00053c0d-db81-4bde-b08b-52ce8b0958aa"
   },
   "outputs": [
    {
     "data": {
      "text/plain": [
       "(50000, 32, 32, 3)"
      ]
     },
     "execution_count": 7,
     "metadata": {},
     "output_type": "execute_result"
    }
   ],
   "source": [
    "X_train.shape # each image has 32 by 32 pixels and 3 RGB channels; 50,000 training images"
   ]
  },
  {
   "cell_type": "code",
   "execution_count": 8,
   "metadata": {
    "colab": {
     "base_uri": "https://localhost:8080/"
    },
    "id": "z47kse5YLUvE",
    "outputId": "ec9719ab-9a06-4222-981c-36377a9230f8"
   },
   "outputs": [
    {
     "data": {
      "text/plain": [
       "(10000, 32, 32, 3)"
      ]
     },
     "execution_count": 8,
     "metadata": {},
     "output_type": "execute_result"
    }
   ],
   "source": [
    "X_test.shape # each image has 32 by 32 pixels and 3 RGB channels; 10,000 test images"
   ]
  },
  {
   "cell_type": "markdown",
   "metadata": {
    "id": "VpL7pgyGna-w"
   },
   "source": [
    "It's important to check for NULL and NaN values in the dataset, as they can lead to failures in the implementation of machine learning models, since these models cannot process data with NULL or NaN values."
   ]
  },
  {
   "cell_type": "code",
   "execution_count": 9,
   "metadata": {
    "colab": {
     "base_uri": "https://localhost:8080/"
    },
    "id": "o-S96YPhJKWU",
    "outputId": "56e7a908-dc21-4aca-b11c-55247a794c6e"
   },
   "outputs": [
    {
     "name": "stdout",
     "output_type": "stream",
     "text": [
      "NaN values in training set: False\n"
     ]
    }
   ],
   "source": [
    "print(\"NaN values in training set:\", np.isnan(X_train).any() or np.isnan(y_train).any()) # check for NaN values in training set"
   ]
  },
  {
   "cell_type": "code",
   "execution_count": 10,
   "metadata": {
    "colab": {
     "base_uri": "https://localhost:8080/"
    },
    "id": "8fUbhJ0LJOXh",
    "outputId": "dc0e8628-be93-4bb9-db3e-d4b8d36235be"
   },
   "outputs": [
    {
     "name": "stdout",
     "output_type": "stream",
     "text": [
      "NaN values in test set: False\n"
     ]
    }
   ],
   "source": [
    "print(\"NaN values in test set:\", np.isnan(X_test).any() or np.isnan(y_test).any()) # check for NaN values in test set"
   ]
  },
  {
   "cell_type": "code",
   "execution_count": 11,
   "metadata": {
    "colab": {
     "base_uri": "https://localhost:8080/"
    },
    "id": "fmCUWo3OjpEi",
    "outputId": "345a0a50-e6ba-473e-bab7-f9210eef4f66"
   },
   "outputs": [
    {
     "data": {
      "text/plain": [
       "numpy.ndarray"
      ]
     },
     "execution_count": 11,
     "metadata": {},
     "output_type": "execute_result"
    }
   ],
   "source": [
    "type(X_train) # data stored in a np array"
   ]
  },
  {
   "cell_type": "markdown",
   "metadata": {
    "id": "kzWFyt5hqayw"
   },
   "source": [
    "Note that the pixel values range from 0 to 255."
   ]
  },
  {
   "cell_type": "code",
   "execution_count": 12,
   "metadata": {
    "colab": {
     "base_uri": "https://localhost:8080/",
     "height": 887
    },
    "id": "U_l1-JGOLesY",
    "outputId": "09bb533a-9a86-4631-9451-f32706a5ee36"
   },
   "outputs": [
    {
     "data": {
      "text/html": [
       "<style>\n",
       "      .ndarray_repr .ndarray_raw_data {\n",
       "        display: none;\n",
       "      }\n",
       "      .ndarray_repr.show_array .ndarray_raw_data {\n",
       "        display: block;\n",
       "      }\n",
       "      .ndarray_repr.show_array .ndarray_image_preview {\n",
       "        display: none;\n",
       "      }\n",
       "      </style>\n",
       "      <div id=\"id-5a227efd-4036-4f10-935f-e6cb6d653835\" class=\"ndarray_repr\"><pre>ndarray (32, 32, 3) <button style=\"padding: 0 2px;\">show data</button></pre><img src=\"data:image/png;base64,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\" class=\"ndarray_image_preview\" /><pre class=\"ndarray_raw_data\">array([[[ 59,  62,  63],\n",
       "        [ 43,  46,  45],\n",
       "        [ 50,  48,  43],\n",
       "        ...,\n",
       "        [158, 132, 108],\n",
       "        [152, 125, 102],\n",
       "        [148, 124, 103]],\n",
       "\n",
       "       [[ 16,  20,  20],\n",
       "        [  0,   0,   0],\n",
       "        [ 18,   8,   0],\n",
       "        ...,\n",
       "        [123,  88,  55],\n",
       "        [119,  83,  50],\n",
       "        [122,  87,  57]],\n",
       "\n",
       "       [[ 25,  24,  21],\n",
       "        [ 16,   7,   0],\n",
       "        [ 49,  27,   8],\n",
       "        ...,\n",
       "        [118,  84,  50],\n",
       "        [120,  84,  50],\n",
       "        [109,  73,  42]],\n",
       "\n",
       "       ...,\n",
       "\n",
       "       [[208, 170,  96],\n",
       "        [201, 153,  34],\n",
       "        [198, 161,  26],\n",
       "        ...,\n",
       "        [160, 133,  70],\n",
       "        [ 56,  31,   7],\n",
       "        [ 53,  34,  20]],\n",
       "\n",
       "       [[180, 139,  96],\n",
       "        [173, 123,  42],\n",
       "        [186, 144,  30],\n",
       "        ...,\n",
       "        [184, 148,  94],\n",
       "        [ 97,  62,  34],\n",
       "        [ 83,  53,  34]],\n",
       "\n",
       "       [[177, 144, 116],\n",
       "        [168, 129,  94],\n",
       "        [179, 142,  87],\n",
       "        ...,\n",
       "        [216, 184, 140],\n",
       "        [151, 118,  84],\n",
       "        [123,  92,  72]]], dtype=uint8)</pre></div><script>\n",
       "      (() => {\n",
       "      const titles = ['show data', 'hide data'];\n",
       "      let index = 0\n",
       "      document.querySelector('#id-5a227efd-4036-4f10-935f-e6cb6d653835 button').onclick = (e) => {\n",
       "        document.querySelector('#id-5a227efd-4036-4f10-935f-e6cb6d653835').classList.toggle('show_array');\n",
       "        index = (++index) % 2;\n",
       "        document.querySelector('#id-5a227efd-4036-4f10-935f-e6cb6d653835 button').textContent = titles[index];\n",
       "        e.preventDefault();\n",
       "        e.stopPropagation();\n",
       "      }\n",
       "      })();\n",
       "    </script>"
      ],
      "text/plain": [
       "array([[[ 59,  62,  63],\n",
       "        [ 43,  46,  45],\n",
       "        [ 50,  48,  43],\n",
       "        ...,\n",
       "        [158, 132, 108],\n",
       "        [152, 125, 102],\n",
       "        [148, 124, 103]],\n",
       "\n",
       "       [[ 16,  20,  20],\n",
       "        [  0,   0,   0],\n",
       "        [ 18,   8,   0],\n",
       "        ...,\n",
       "        [123,  88,  55],\n",
       "        [119,  83,  50],\n",
       "        [122,  87,  57]],\n",
       "\n",
       "       [[ 25,  24,  21],\n",
       "        [ 16,   7,   0],\n",
       "        [ 49,  27,   8],\n",
       "        ...,\n",
       "        [118,  84,  50],\n",
       "        [120,  84,  50],\n",
       "        [109,  73,  42]],\n",
       "\n",
       "       ...,\n",
       "\n",
       "       [[208, 170,  96],\n",
       "        [201, 153,  34],\n",
       "        [198, 161,  26],\n",
       "        ...,\n",
       "        [160, 133,  70],\n",
       "        [ 56,  31,   7],\n",
       "        [ 53,  34,  20]],\n",
       "\n",
       "       [[180, 139,  96],\n",
       "        [173, 123,  42],\n",
       "        [186, 144,  30],\n",
       "        ...,\n",
       "        [184, 148,  94],\n",
       "        [ 97,  62,  34],\n",
       "        [ 83,  53,  34]],\n",
       "\n",
       "       [[177, 144, 116],\n",
       "        [168, 129,  94],\n",
       "        [179, 142,  87],\n",
       "        ...,\n",
       "        [216, 184, 140],\n",
       "        [151, 118,  84],\n",
       "        [123,  92,  72]]], dtype=uint8)"
      ]
     },
     "execution_count": 12,
     "metadata": {},
     "output_type": "execute_result"
    }
   ],
   "source": [
    "X_train[0] # numpy array (32, 32, 3)"
   ]
  },
  {
   "cell_type": "code",
   "execution_count": 13,
   "metadata": {
    "colab": {
     "base_uri": "https://localhost:8080/",
     "height": 430
    },
    "id": "5kqbaXZeLnb8",
    "outputId": "f738efd8-4bb2-42d4-ed23-164a416900b7"
   },
   "outputs": [
    {
     "data": {
      "image/png": "[encoded data removed]",
      "text/plain": [
       "<Figure size 640x480 with 1 Axes>"
      ]
     },
     "metadata": {},
     "output_type": "display_data"
    }
   ],
   "source": [
    "img = plt.imshow(X_train[0])"
   ]
  },
  {
   "cell_type": "code",
   "execution_count": 14,
   "metadata": {
    "colab": {
     "base_uri": "https://localhost:8080/"
    },
    "id": "9rHQMfAOLusw",
    "outputId": "c2455aa0-b04a-4cad-a496-c91446151b76"
   },
   "outputs": [
    {
     "data": {
      "text/plain": [
       "array([6], dtype=uint8)"
      ]
     },
     "execution_count": 14,
     "metadata": {},
     "output_type": "execute_result"
    }
   ],
   "source": [
    "y_train[0] # according to Keras documentation the label 6 correspond to frog category"
   ]
  },
  {
   "cell_type": "markdown",
   "metadata": {
    "id": "k7nG2FIEr49W"
   },
   "source": [
    "To avoid issues with RAM saturation, we reduce the number of both training and testing images, as the model execution was interrupted when using the complete dataset."
   ]
  },
  {
   "cell_type": "code",
   "execution_count": 15,
   "metadata": {
    "id": "886xxgMrjOig"
   },
   "outputs": [],
   "source": [
    "X_train = X_train[:20000]\n",
    "y_train = y_train[:20000]"
   ]
  },
  {
   "cell_type": "code",
   "execution_count": 16,
   "metadata": {
    "colab": {
     "base_uri": "https://localhost:8080/"
    },
    "id": "5v4T3C73jUL5",
    "outputId": "ad186724-9e54-49d1-bc70-65c493782cdb"
   },
   "outputs": [
    {
     "data": {
      "text/plain": [
       "(20000, 32, 32, 3)"
      ]
     },
     "execution_count": 16,
     "metadata": {},
     "output_type": "execute_result"
    }
   ],
   "source": [
    "X_train.shape"
   ]
  },
  {
   "cell_type": "code",
   "execution_count": 17,
   "metadata": {
    "id": "Zcg-RGj-jTfH"
   },
   "outputs": [],
   "source": [
    "X_test = X_test[:4000]\n",
    "y_test = y_test[:4000]"
   ]
  },
  {
   "cell_type": "code",
   "execution_count": 18,
   "metadata": {
    "colab": {
     "base_uri": "https://localhost:8080/"
    },
    "id": "_4CWx13ijWss",
    "outputId": "2da156f3-15e8-4149-9030-cf559b7c7dc0"
   },
   "outputs": [
    {
     "data": {
      "text/plain": [
       "(4000, 32, 32, 3)"
      ]
     },
     "execution_count": 18,
     "metadata": {},
     "output_type": "execute_result"
    }
   ],
   "source": [
    "X_test.shape"
   ]
  },
  {
   "cell_type": "markdown",
   "metadata": {
    "id": "5amshXJuhqjj"
   },
   "source": [
    "Since activation functions (e.g., sigmoid, softmax, etc.) produce values in the range of $[0,1]$, we normalize the pixel values within this range to ensure that the inputs to these functions are on a compatible scale. This improves the convergence process of the optimization algorithms and prevents saturation of the activation functions."
   ]
  },
  {
   "cell_type": "markdown",
   "metadata": {
    "id": "HtS79D9CzXXn"
   },
   "source": [
    "By saturation, we refer to the phenomenon in which the outputs of the hidden units cluster near the extremes of the activation function's range. For the sigmoid activation function, these extremes are 0 and 1.\n",
    "\n",
    "When the outputs are near the asymptotic ends, the gradients of the activation functions become very small. For instance, the derivative of the sigmoid function approaches 0 when the output is close to 0 or 1. Consequently, the weights associated with these saturated neurons receive very little update during training, slowing down learning or causing the model to stop learning altogether."
   ]
  },
  {
   "cell_type": "code",
   "execution_count": 19,
   "metadata": {
    "id": "ZaiUhB7ALwls"
   },
   "outputs": [],
   "source": [
    "X_train = X_train.astype(\"float32\") / 255\n",
    "X_test = X_test.astype(\"float32\") / 255 # normalize the pixels values to range 0 to 1"
   ]
  },
  {
   "cell_type": "code",
   "execution_count": 20,
   "metadata": {
    "colab": {
     "base_uri": "https://localhost:8080/"
    },
    "id": "fZgkeb-RN4K1",
    "outputId": "a58afe46-c3ca-4b97-cdd9-12bb4a0aab0e"
   },
   "outputs": [
    {
     "data": {
      "text/plain": [
       "array([[0.23137255, 0.24313726, 0.24705882],\n",
       "       [0.16862746, 0.18039216, 0.1764706 ],\n",
       "       [0.19607843, 0.1882353 , 0.16862746],\n",
       "       [0.26666668, 0.21176471, 0.16470589],\n",
       "       [0.38431373, 0.28627452, 0.20392157],\n",
       "       [0.46666667, 0.35686275, 0.24705882],\n",
       "       [0.54509807, 0.41960785, 0.29411766],\n",
       "       [0.5686275 , 0.43137255, 0.3137255 ],\n",
       "       [0.58431375, 0.45882353, 0.34901962],\n",
       "       [0.58431375, 0.47058824, 0.3647059 ],\n",
       "       [0.5137255 , 0.40392157, 0.3019608 ],\n",
       "       [0.49019608, 0.3882353 , 0.29803923],\n",
       "       [0.5568628 , 0.4509804 , 0.35686275],\n",
       "       [0.5647059 , 0.4392157 , 0.3372549 ],\n",
       "       [0.5372549 , 0.4117647 , 0.30980393],\n",
       "       [0.5058824 , 0.38039216, 0.2784314 ],\n",
       "       [0.5372549 , 0.41568628, 0.30980393],\n",
       "       [0.5254902 , 0.41568628, 0.29803923],\n",
       "       [0.4862745 , 0.38039216, 0.2509804 ],\n",
       "       [0.54509807, 0.44313726, 0.30588236],\n",
       "       [0.54509807, 0.4392157 , 0.29411766],\n",
       "       [0.52156866, 0.4117647 , 0.27058825],\n",
       "       [0.53333336, 0.4117647 , 0.2901961 ],\n",
       "       [0.54509807, 0.42352942, 0.3019608 ],\n",
       "       [0.59607846, 0.47058824, 0.34901962],\n",
       "       [0.6392157 , 0.5137255 , 0.39215687],\n",
       "       [0.65882355, 0.53333336, 0.42352942],\n",
       "       [0.62352943, 0.5058824 , 0.4       ],\n",
       "       [0.61960787, 0.50980395, 0.40784314],\n",
       "       [0.61960787, 0.5176471 , 0.42352942],\n",
       "       [0.59607846, 0.49019608, 0.4       ],\n",
       "       [0.5803922 , 0.4862745 , 0.40392157]], dtype=float32)"
      ]
     },
     "execution_count": 20,
     "metadata": {},
     "output_type": "execute_result"
    }
   ],
   "source": [
    "X_train[0][0]"
   ]
  },
  {
   "cell_type": "code",
   "execution_count": 21,
   "metadata": {
    "id": "3CkIT5hWv2RC"
   },
   "outputs": [],
   "source": [
    "schema = StructType([\n",
    "    StructField(\"label\", FloatType(), False),\n",
    "    StructField(\"features\", ArrayType(FloatType()), False)\n",
    "]) # to maintain data consistency, the schema is explicitly defined"
   ]
  },
  {
   "cell_type": "markdown",
   "metadata": {
    "id": "xoboAG-vES8Q"
   },
   "source": [
    "Define a function to get the dataframe shape in PySpark."
   ]
  },
  {
   "cell_type": "code",
   "execution_count": 22,
   "metadata": {
    "id": "Nxp_puJqy8BA"
   },
   "outputs": [],
   "source": [
    "def sparkdf_shape(spark_dataframe):\n",
    "    return (spark_dataframe.count(), len(spark_dataframe.columns))\n",
    "pyspark.sql.dataframe.DataFrame.shape = sparkdf_shape"
   ]
  },
  {
   "cell_type": "markdown",
   "metadata": {
    "id": "XpxbZyXMWZBe"
   },
   "source": [
    "Processing data in batches reduces memory usage, making feasible to work with large datasets that might not fit into memory all at once. During processing, only one batch resides in memory at a time. Once the batch is processed, it can be discarded, freeing up memory for the next batch.\n",
    "\n",
    "This approach reduces the overall memory usage during the entire processing run."
   ]
  },
  {
   "cell_type": "code",
   "execution_count": 23,
   "metadata": {
    "id": "WX0UZKHIv-lA"
   },
   "outputs": [],
   "source": [
    "def process_data(X_data, y_data, batch_size = 10000): # features, labels, and batch size as input parameters\n",
    "    no_images = X_data.shape[0] # total no. of images\n",
    "    for i in range(0, no_images, batch_size): # iterate through the entire dataset in increments defined by the batch size\n",
    "        X_batch = X_data[i:i + batch_size]\n",
    "        y_batch = y_data[i:i + batch_size]\n",
    "\n",
    "        X_batch_flattened = X_batch.reshape((X_batch.shape[0], -1)) # convert the 3-dimensional data into a 1-dimensional array keeping the 32*32*3 pixel values\n",
    "\n",
    "        labels_and_features = [(float(y), [float(val) for val in x]) for x, y in zip(X_batch_flattened, y_batch.flatten())] # list of tuples containing both labels and features\n",
    "        spark_df = spark.createDataFrame(labels_and_features, schema = schema)  # specify schema explicitly\n",
    "\n",
    "        yield spark_df # return each spark dataframe immediately"
   ]
  },
  {
   "cell_type": "markdown",
   "metadata": {
    "id": "Ks0CtCKv1yd7"
   },
   "source": [
    "We use `yield` when we want to iterate over a sequence, but don't want to store the entire sequence in memory. It returns each batch immediately as it is obtained, rather than waiting until all batches are processed to return them in a single large collection.\n",
    "\n",
    "Each time `yield` is called in the function describe above, it outputs the current batch and then pauses. When the function resumes for the next iteration, it overwrites the previous batch with the new one.\n",
    "\n",
    "This keeps memory usage low by only keeping one batch at a time in memory and discarding it once it's processed, replaced by the next batch in the subsequent iteration."
   ]
  },
  {
   "cell_type": "markdown",
   "metadata": {
    "id": "fQVpBOyjdc6V"
   },
   "source": [
    "### Training Set Processing"
   ]
  },
  {
   "cell_type": "code",
   "execution_count": 24,
   "metadata": {
    "colab": {
     "base_uri": "https://localhost:8080/"
    },
    "id": "EGsZb0I3xAx-",
    "outputId": "9593873b-606e-4fa5-adef-3ddf6ff64c6e"
   },
   "outputs": [
    {
     "name": "stdout",
     "output_type": "stream",
     "text": [
      "DataFrame[label: float, features: array<float>]\n",
      "DataFrame[label: float, features: array<float>]\n"
     ]
    }
   ],
   "source": [
    "batches = [] # empty list to batches\n",
    "for batch_df in process_data(X_train, y_train, batch_size = 10000): # iterate through the batches produced by the function\n",
    "    print(batch_df) # total no. of batches processed\n",
    "    batches.append(batch_df) # combine all batches into a single list"
   ]
  },
  {
   "cell_type": "code",
   "execution_count": 25,
   "metadata": {
    "id": "2-tnr6VcxIHu"
   },
   "outputs": [],
   "source": [
    "train_df = batches[0]\n",
    "for spark_dataframe in batches[1:]:\n",
    "    train_df = train_df.union(spark_dataframe) # combines all the spark dataframes (batches) into a single spark dataframe"
   ]
  },
  {
   "cell_type": "code",
   "execution_count": 26,
   "metadata": {
    "colab": {
     "base_uri": "https://localhost:8080/",
     "height": 187
    },
    "id": "edWzb4MXx_0-",
    "outputId": "600c0ff0-fb4c-4cc9-a161-5e7160e30f5d"
   },
   "outputs": [
    {
     "data": {
      "text/html": [
       "<div style=\"max-width:800px; border: 1px solid var(--colab-border-color);\"><style>\n",
       "      pre.function-repr-contents {\n",
       "        overflow-x: auto;\n",
       "        padding: 8px 12px;\n",
       "        max-height: 500px;\n",
       "      }\n",
       "\n",
       "      pre.function-repr-contents.function-repr-contents-collapsed {\n",
       "        cursor: pointer;\n",
       "        max-height: 100px;\n",
       "      }\n",
       "    </style>\n",
       "    <pre style=\"white-space: initial; background:\n",
       "         var(--colab-secondary-surface-color); padding: 8px 12px;\n",
       "         border-bottom: 1px solid var(--colab-border-color);\"><b>pyspark.sql.dataframe.DataFrame</b><br/>def __init__(jdf: JavaObject, sql_ctx: Union[&#x27;SQLContext&#x27;, &#x27;SparkSession&#x27;])</pre><pre class=\"function-repr-contents function-repr-contents-collapsed\" style=\"\"><a class=\"filepath\" style=\"display:none\" href=\"#\">/usr/local/lib/python3.10/dist-packages/pyspark/sql/dataframe.py</a>A distributed collection of data grouped into named columns.\n",
       "\n",
       ".. versionadded:: 1.3.0\n",
       "\n",
       ".. versionchanged:: 3.4.0\n",
       "    Supports Spark Connect.\n",
       "\n",
       "Examples\n",
       "--------\n",
       "A :class:`DataFrame` is equivalent to a relational table in Spark SQL,\n",
       "and can be created using various functions in :class:`SparkSession`:\n",
       "\n",
       "&gt;&gt;&gt; people = spark.createDataFrame([\n",
       "...     {&quot;deptId&quot;: 1, &quot;age&quot;: 40, &quot;name&quot;: &quot;Hyukjin Kwon&quot;, &quot;gender&quot;: &quot;M&quot;, &quot;salary&quot;: 50},\n",
       "...     {&quot;deptId&quot;: 1, &quot;age&quot;: 50, &quot;name&quot;: &quot;Takuya Ueshin&quot;, &quot;gender&quot;: &quot;M&quot;, &quot;salary&quot;: 100},\n",
       "...     {&quot;deptId&quot;: 2, &quot;age&quot;: 60, &quot;name&quot;: &quot;Xinrong Meng&quot;, &quot;gender&quot;: &quot;F&quot;, &quot;salary&quot;: 150},\n",
       "...     {&quot;deptId&quot;: 3, &quot;age&quot;: 20, &quot;name&quot;: &quot;Haejoon Lee&quot;, &quot;gender&quot;: &quot;M&quot;, &quot;salary&quot;: 200}\n",
       "... ])\n",
       "\n",
       "Once created, it can be manipulated using the various domain-specific-language\n",
       "(DSL) functions defined in: :class:`DataFrame`, :class:`Column`.\n",
       "\n",
       "To select a column from the :class:`DataFrame`, use the apply method:\n",
       "\n",
       "&gt;&gt;&gt; age_col = people.age\n",
       "\n",
       "A more concrete example:\n",
       "\n",
       "&gt;&gt;&gt; # To create DataFrame using SparkSession\n",
       "... department = spark.createDataFrame([\n",
       "...     {&quot;id&quot;: 1, &quot;name&quot;: &quot;PySpark&quot;},\n",
       "...     {&quot;id&quot;: 2, &quot;name&quot;: &quot;ML&quot;},\n",
       "...     {&quot;id&quot;: 3, &quot;name&quot;: &quot;Spark SQL&quot;}\n",
       "... ])\n",
       "\n",
       "&gt;&gt;&gt; people.filter(people.age &gt; 30).join(\n",
       "...     department, people.deptId == department.id).groupBy(\n",
       "...     department.name, &quot;gender&quot;).agg({&quot;salary&quot;: &quot;avg&quot;, &quot;age&quot;: &quot;max&quot;}).show()\n",
       "+-------+------+-----------+--------+\n",
       "|   name|gender|avg(salary)|max(age)|\n",
       "+-------+------+-----------+--------+\n",
       "|     ML|     F|      150.0|      60|\n",
       "|PySpark|     M|       75.0|      50|\n",
       "+-------+------+-----------+--------+\n",
       "\n",
       "Notes\n",
       "-----\n",
       "A DataFrame should only be created as described above. It should not be directly\n",
       "created via using the constructor.</pre>\n",
       "      <script>\n",
       "      if (google.colab.kernel.accessAllowed && google.colab.files && google.colab.files.view) {\n",
       "        for (const element of document.querySelectorAll('.filepath')) {\n",
       "          element.style.display = 'block'\n",
       "          element.onclick = (event) => {\n",
       "            event.preventDefault();\n",
       "            event.stopPropagation();\n",
       "            google.colab.files.view(element.textContent, 80);\n",
       "          };\n",
       "        }\n",
       "      }\n",
       "      for (const element of document.querySelectorAll('.function-repr-contents')) {\n",
       "        element.onclick = (event) => {\n",
       "          event.preventDefault();\n",
       "          event.stopPropagation();\n",
       "          element.classList.toggle('function-repr-contents-collapsed');\n",
       "        };\n",
       "      }\n",
       "      </script>\n",
       "      </div>"
      ],
      "text/plain": [
       "pyspark.sql.dataframe.DataFrame"
      ]
     },
     "execution_count": 26,
     "metadata": {},
     "output_type": "execute_result"
    }
   ],
   "source": [
    "type(train_df) # spark dataframe"
   ]
  },
  {
   "cell_type": "code",
   "execution_count": 27,
   "metadata": {
    "colab": {
     "base_uri": "https://localhost:8080/"
    },
    "id": "pvoVsjFqEfWu",
    "outputId": "b03acd63-2642-49c3-be7c-293044755968"
   },
   "outputs": [
    {
     "name": "stdout",
     "output_type": "stream",
     "text": [
      "root\n",
      " |-- label: float (nullable = false)\n",
      " |-- features: array (nullable = false)\n",
      " |    |-- element: float (containsNull = true)\n",
      "\n"
     ]
    }
   ],
   "source": [
    "train_df.printSchema() # schema of the dataframe"
   ]
  },
  {
   "cell_type": "markdown",
   "metadata": {
    "id": "knzSDNgBXGbk"
   },
   "source": [
    "Upon verifying the schema of the *DataFrame*, we observe that the **features** column is defined as an array of float values. However, the **MLlib** pipelines require the features to be in *vector* format. This is essential for the proper integration of preprocessing, transformation, and model fitting processes within Spark."
   ]
  },
  {
   "cell_type": "code",
   "execution_count": 28,
   "metadata": {
    "id": "JzlkqwodMSuT"
   },
   "outputs": [],
   "source": [
    "array_to_vector = udf(lambda array: Vectors.dense(array), VectorUDT()) # create a user defined function to convert arrays into spark DenseVector objects"
   ]
  },
  {
   "cell_type": "code",
   "execution_count": 29,
   "metadata": {
    "id": "6f8lpQuSW76m"
   },
   "outputs": [],
   "source": [
    "train_df = train_df.withColumn(\"features\", array_to_vector(train_df[\"features\"])) # apply the UDF to features column"
   ]
  },
  {
   "cell_type": "code",
   "execution_count": 30,
   "metadata": {
    "colab": {
     "base_uri": "https://localhost:8080/"
    },
    "id": "pGaFkdC4MvFe",
    "outputId": "055777e3-f7e0-4718-e9ad-b4906518e7fd"
   },
   "outputs": [
    {
     "name": "stdout",
     "output_type": "stream",
     "text": [
      "root\n",
      " |-- label: float (nullable = false)\n",
      " |-- features: vector (nullable = true)\n",
      "\n"
     ]
    }
   ],
   "source": [
    "train_df.printSchema() # schema updated"
   ]
  },
  {
   "cell_type": "code",
   "execution_count": 31,
   "metadata": {
    "colab": {
     "base_uri": "https://localhost:8080/"
    },
    "id": "cYuOSQZWyEkO",
    "outputId": "ccaf9fe1-771d-48b4-bf0a-1ae10bc84569"
   },
   "outputs": [
    {
     "name": "stdout",
     "output_type": "stream",
     "text": [
      "+-----+--------------------+\n",
      "|label|            features|\n",
      "+-----+--------------------+\n",
      "|  6.0|[0.23137255012989...|\n",
      "|  9.0|[0.60392159223556...|\n",
      "+-----+--------------------+\n",
      "only showing top 2 rows\n",
      "\n"
     ]
    }
   ],
   "source": [
    "train_df.show(2) # data preview"
   ]
  },
  {
   "cell_type": "markdown",
   "metadata": {
    "id": "gLRjaaJBdrgS"
   },
   "source": [
    "### Test Set Processing"
   ]
  },
  {
   "cell_type": "code",
   "execution_count": 32,
   "metadata": {
    "colab": {
     "base_uri": "https://localhost:8080/"
    },
    "id": "d8EBs-xhyPne",
    "outputId": "f300fab5-3402-4fec-c46d-1f66a9c973b9"
   },
   "outputs": [
    {
     "name": "stdout",
     "output_type": "stream",
     "text": [
      "DataFrame[label: float, features: array<float>]\n",
      "DataFrame[label: float, features: array<float>]\n"
     ]
    }
   ],
   "source": [
    "batches = [] # empty list to batches\n",
    "for batch_df in process_data(X_test, y_test, batch_size = 2000): # iterate through the batches produced by the function\n",
    "    print(batch_df) # total no. of batches processed\n",
    "    batches.append(batch_df) # combine all batches into a single list"
   ]
  },
  {
   "cell_type": "code",
   "execution_count": 33,
   "metadata": {
    "id": "aXZJTa81ySi8"
   },
   "outputs": [],
   "source": [
    "test_df = batches[0]\n",
    "for spark_dataframe in batches[1:]:\n",
    "    test_df = test_df.union(spark_dataframe) # combines all the spark dataframes (batches) into a single spark dataframe"
   ]
  },
  {
   "cell_type": "code",
   "execution_count": 34,
   "metadata": {
    "colab": {
     "base_uri": "https://localhost:8080/"
    },
    "id": "JlUrSpb2DG-8",
    "outputId": "10f3ea15-4c6b-4c94-c83b-6d6972058a7e"
   },
   "outputs": [
    {
     "data": {
      "text/plain": [
       "(4000, 2)"
      ]
     },
     "execution_count": 34,
     "metadata": {},
     "output_type": "execute_result"
    }
   ],
   "source": [
    "test_df.shape() # spark dataframe with 10,000 observations (images) and 2 colmns (labels and features)"
   ]
  },
  {
   "cell_type": "code",
   "execution_count": 35,
   "metadata": {
    "colab": {
     "base_uri": "https://localhost:8080/",
     "height": 187
    },
    "id": "OzP-gdjPDA4L",
    "outputId": "b1f742e1-5027-4b3a-e7df-14be184736ea"
   },
   "outputs": [
    {
     "data": {
      "text/html": [
       "<div style=\"max-width:800px; border: 1px solid var(--colab-border-color);\"><style>\n",
       "      pre.function-repr-contents {\n",
       "        overflow-x: auto;\n",
       "        padding: 8px 12px;\n",
       "        max-height: 500px;\n",
       "      }\n",
       "\n",
       "      pre.function-repr-contents.function-repr-contents-collapsed {\n",
       "        cursor: pointer;\n",
       "        max-height: 100px;\n",
       "      }\n",
       "    </style>\n",
       "    <pre style=\"white-space: initial; background:\n",
       "         var(--colab-secondary-surface-color); padding: 8px 12px;\n",
       "         border-bottom: 1px solid var(--colab-border-color);\"><b>pyspark.sql.dataframe.DataFrame</b><br/>def __init__(jdf: JavaObject, sql_ctx: Union[&#x27;SQLContext&#x27;, &#x27;SparkSession&#x27;])</pre><pre class=\"function-repr-contents function-repr-contents-collapsed\" style=\"\"><a class=\"filepath\" style=\"display:none\" href=\"#\">/usr/local/lib/python3.10/dist-packages/pyspark/sql/dataframe.py</a>A distributed collection of data grouped into named columns.\n",
       "\n",
       ".. versionadded:: 1.3.0\n",
       "\n",
       ".. versionchanged:: 3.4.0\n",
       "    Supports Spark Connect.\n",
       "\n",
       "Examples\n",
       "--------\n",
       "A :class:`DataFrame` is equivalent to a relational table in Spark SQL,\n",
       "and can be created using various functions in :class:`SparkSession`:\n",
       "\n",
       "&gt;&gt;&gt; people = spark.createDataFrame([\n",
       "...     {&quot;deptId&quot;: 1, &quot;age&quot;: 40, &quot;name&quot;: &quot;Hyukjin Kwon&quot;, &quot;gender&quot;: &quot;M&quot;, &quot;salary&quot;: 50},\n",
       "...     {&quot;deptId&quot;: 1, &quot;age&quot;: 50, &quot;name&quot;: &quot;Takuya Ueshin&quot;, &quot;gender&quot;: &quot;M&quot;, &quot;salary&quot;: 100},\n",
       "...     {&quot;deptId&quot;: 2, &quot;age&quot;: 60, &quot;name&quot;: &quot;Xinrong Meng&quot;, &quot;gender&quot;: &quot;F&quot;, &quot;salary&quot;: 150},\n",
       "...     {&quot;deptId&quot;: 3, &quot;age&quot;: 20, &quot;name&quot;: &quot;Haejoon Lee&quot;, &quot;gender&quot;: &quot;M&quot;, &quot;salary&quot;: 200}\n",
       "... ])\n",
       "\n",
       "Once created, it can be manipulated using the various domain-specific-language\n",
       "(DSL) functions defined in: :class:`DataFrame`, :class:`Column`.\n",
       "\n",
       "To select a column from the :class:`DataFrame`, use the apply method:\n",
       "\n",
       "&gt;&gt;&gt; age_col = people.age\n",
       "\n",
       "A more concrete example:\n",
       "\n",
       "&gt;&gt;&gt; # To create DataFrame using SparkSession\n",
       "... department = spark.createDataFrame([\n",
       "...     {&quot;id&quot;: 1, &quot;name&quot;: &quot;PySpark&quot;},\n",
       "...     {&quot;id&quot;: 2, &quot;name&quot;: &quot;ML&quot;},\n",
       "...     {&quot;id&quot;: 3, &quot;name&quot;: &quot;Spark SQL&quot;}\n",
       "... ])\n",
       "\n",
       "&gt;&gt;&gt; people.filter(people.age &gt; 30).join(\n",
       "...     department, people.deptId == department.id).groupBy(\n",
       "...     department.name, &quot;gender&quot;).agg({&quot;salary&quot;: &quot;avg&quot;, &quot;age&quot;: &quot;max&quot;}).show()\n",
       "+-------+------+-----------+--------+\n",
       "|   name|gender|avg(salary)|max(age)|\n",
       "+-------+------+-----------+--------+\n",
       "|     ML|     F|      150.0|      60|\n",
       "|PySpark|     M|       75.0|      50|\n",
       "+-------+------+-----------+--------+\n",
       "\n",
       "Notes\n",
       "-----\n",
       "A DataFrame should only be created as described above. It should not be directly\n",
       "created via using the constructor.</pre>\n",
       "      <script>\n",
       "      if (google.colab.kernel.accessAllowed && google.colab.files && google.colab.files.view) {\n",
       "        for (const element of document.querySelectorAll('.filepath')) {\n",
       "          element.style.display = 'block'\n",
       "          element.onclick = (event) => {\n",
       "            event.preventDefault();\n",
       "            event.stopPropagation();\n",
       "            google.colab.files.view(element.textContent, 80);\n",
       "          };\n",
       "        }\n",
       "      }\n",
       "      for (const element of document.querySelectorAll('.function-repr-contents')) {\n",
       "        element.onclick = (event) => {\n",
       "          event.preventDefault();\n",
       "          event.stopPropagation();\n",
       "          element.classList.toggle('function-repr-contents-collapsed');\n",
       "        };\n",
       "      }\n",
       "      </script>\n",
       "      </div>"
      ],
      "text/plain": [
       "pyspark.sql.dataframe.DataFrame"
      ]
     },
     "execution_count": 35,
     "metadata": {},
     "output_type": "execute_result"
    }
   ],
   "source": [
    "type(test_df) # spark dataframe"
   ]
  },
  {
   "cell_type": "code",
   "execution_count": 36,
   "metadata": {
    "colab": {
     "base_uri": "https://localhost:8080/"
    },
    "id": "Xz3U2gKzW49T",
    "outputId": "cfa4fab9-3ca0-4201-ba86-06a8a6d4a612"
   },
   "outputs": [
    {
     "name": "stdout",
     "output_type": "stream",
     "text": [
      "root\n",
      " |-- label: float (nullable = false)\n",
      " |-- features: array (nullable = false)\n",
      " |    |-- element: float (containsNull = true)\n",
      "\n"
     ]
    }
   ],
   "source": [
    "test_df.printSchema() # schema of the dataframe"
   ]
  },
  {
   "cell_type": "code",
   "execution_count": 37,
   "metadata": {
    "id": "5pZ5sYKTW9Fi"
   },
   "outputs": [],
   "source": [
    "test_df = test_df.withColumn(\"features\", array_to_vector(test_df[\"features\"])) # apply the UDF to features column"
   ]
  },
  {
   "cell_type": "code",
   "execution_count": 38,
   "metadata": {
    "colab": {
     "base_uri": "https://localhost:8080/"
    },
    "id": "acq3SXokW-5n",
    "outputId": "5e731f50-da0d-4801-8cf5-b7ea2b9502ba"
   },
   "outputs": [
    {
     "name": "stdout",
     "output_type": "stream",
     "text": [
      "root\n",
      " |-- label: float (nullable = false)\n",
      " |-- features: vector (nullable = true)\n",
      "\n"
     ]
    }
   ],
   "source": [
    "test_df.printSchema() # schema updated"
   ]
  },
  {
   "cell_type": "code",
   "execution_count": 39,
   "metadata": {
    "colab": {
     "base_uri": "https://localhost:8080/"
    },
    "id": "shcz1ofWyatB",
    "outputId": "cfb08a48-f445-4de0-e96d-745d29c2e35b"
   },
   "outputs": [
    {
     "name": "stdout",
     "output_type": "stream",
     "text": [
      "+-----+--------------------+\n",
      "|label|            features|\n",
      "+-----+--------------------+\n",
      "|  3.0|[0.61960786581039...|\n",
      "|  8.0|[0.92156863212585...|\n",
      "+-----+--------------------+\n",
      "only showing top 2 rows\n",
      "\n"
     ]
    }
   ],
   "source": [
    "test_df.show(2) # data preview"
   ]
  },
  {
   "cell_type": "markdown",
   "metadata": {
    "id": "zftICod-qCdI"
   },
   "source": [
    "## Multilayer Perceptron (MLP) Classifier"
   ]
  },
  {
   "cell_type": "markdown",
   "metadata": {
    "id": "V5Rj8S6pqG03"
   },
   "source": [
    "The multilayer perceptron classifier is a classifier based on the **feedforward neural network**, a type of artificial neural network used in ML applications and pattern recognition. Its architecture consists of multiple layers of nodes, also known as hidden units or neurons, which are fully connected within the network. That is, each node in a previous layer is connected to each node in the next layer. The outputs of each node in a layer $L$ serve as inputs to the nodes in layer $L+1$.\n",
    "\n",
    "Each node in the hidden layers transforms the values from the previous layer through a linear combination:\n",
    "\n",
    "$$\n",
    "w_1 x_1 + w_2 x_2 + ... + w_m x_m\n",
    "$$\n",
    "\n",
    "followed by a nonlinear activation function g()g().\n",
    "\n",
    "Finally, the output layer receives the values from the last hidden layer and transforms them into the output values."
   ]
  },
  {
   "cell_type": "markdown",
   "metadata": {
    "id": "RBKlnCt7qUbx"
   },
   "source": [
    "Considering a model with K+1K+1 layers, it can be expressed as:\n",
    "\n",
    "$$\n",
    "y(x) = f_k (...f_2(w_2^T f_1(w_1^T x + b_1) + b_2)... + b_k)\n",
    "$$\n",
    "\n",
    "$\\quad$ where the nodes in the intermediate layers use the sigmoid function defined as:\n",
    "\n",
    "$$\n",
    "f(z_i) = \\frac{1}{1 + e^{-z_i}},\n",
    "$$\n",
    "\n",
    "$\\quad$ and the nodes in the output layer use the *softmax* function:\n",
    "\n",
    "$$\n",
    "f(z_i) = \\frac{e^{z_i}}{\\sum_{k = 1}^{N} e^{z_k}}\n",
    "$$"
   ]
  },
  {
   "cell_type": "code",
   "execution_count": 40,
   "metadata": {
    "colab": {
     "base_uri": "https://localhost:8080/"
    },
    "id": "V-alw032dWOF",
    "outputId": "08666ef7-f1db-4506-8aad-ee1a8e679a39"
   },
   "outputs": [
    {
     "data": {
      "text/plain": [
       "DataFrame[label: float, features: vector]"
      ]
     },
     "execution_count": 40,
     "metadata": {},
     "output_type": "execute_result"
    }
   ],
   "source": [
    "train_df.persist() # persisting a DataFrame can significantly speed up processing time for iterative algorithms or when multiple actions need to be performed on the same dataframe"
   ]
  },
  {
   "cell_type": "markdown",
   "metadata": {
    "id": "IPXEiSWUsCO4"
   },
   "source": [
    "In this case, an input layer is defined with $32 \\times 32 \\times 3 = 3072$ nodes, two hidden layers with $512$ and $128$ nodes, respectively, and an output layer with $10$ output values."
   ]
  },
  {
   "cell_type": "code",
   "execution_count": 41,
   "metadata": {
    "id": "wWKnAsgAouMG"
   },
   "outputs": [],
   "source": [
    "layers = [3072, 512, 128, 10] # no. of pixel values for input + two hidden layers + 10 output classes"
   ]
  },
  {
   "cell_type": "code",
   "execution_count": 42,
   "metadata": {
    "id": "LYU5E9WBouI-"
   },
   "outputs": [],
   "source": [
    "mlp = MultilayerPerceptronClassifier(labelCol = \"label\", featuresCol = \"features\",\n",
    "                                     maxIter = 100, layers = layers, blockSize = 64, seed = 614) # defining a multilayer perceptron classifier\n",
    "fitted_model = mlp.fit(train_df) # fit the mlp model"
   ]
  },
  {
   "cell_type": "markdown",
   "metadata": {
    "id": "bzOhsUEStaC4"
   },
   "source": [
    "### Model Validation and Testing"
   ]
  },
  {
   "cell_type": "markdown",
   "metadata": {
    "id": "r8ML43IAtwcK"
   },
   "source": [
    "Calculate predictions using the parameters learned during training."
   ]
  },
  {
   "cell_type": "code",
   "execution_count": 43,
   "metadata": {
    "id": "v1whT83DsseT"
   },
   "outputs": [],
   "source": [
    "predictions = fitted_model.transform(test_df) # calculate predictions"
   ]
  },
  {
   "cell_type": "code",
   "execution_count": 44,
   "metadata": {
    "colab": {
     "base_uri": "https://localhost:8080/"
    },
    "id": "Q5i06XgRvjhm",
    "outputId": "89fa4aa3-1e7b-4e2a-b43b-2329b677a09f"
   },
   "outputs": [
    {
     "name": "stdout",
     "output_type": "stream",
     "text": [
      "root\n",
      " |-- label: float (nullable = false)\n",
      " |-- features: vector (nullable = true)\n",
      " |-- rawPrediction: vector (nullable = true)\n",
      " |-- probability: vector (nullable = true)\n",
      " |-- prediction: double (nullable = false)\n",
      "\n"
     ]
    }
   ],
   "source": [
    "predictions.printSchema() # dataframe contains the same columns as before plus additional prediction and probability columns"
   ]
  },
  {
   "cell_type": "code",
   "execution_count": 45,
   "metadata": {
    "colab": {
     "base_uri": "https://localhost:8080/"
    },
    "id": "vHJ1ZGQ5wEVt",
    "outputId": "f76a7037-2f11-49b3-de37-0c3339a90d1a"
   },
   "outputs": [
    {
     "name": "stdout",
     "output_type": "stream",
     "text": [
      "+-----+--------------------+--------------------+--------------------+----------+\n",
      "|label|            features|       rawPrediction|         probability|prediction|\n",
      "+-----+--------------------+--------------------+--------------------+----------+\n",
      "|  3.0|[0.61960786581039...|[0.15459485043408...|[0.03960567573302...|       3.0|\n",
      "|  8.0|[0.92156863212585...|[2.18339166279627...|[0.07433233640986...|       8.0|\n",
      "+-----+--------------------+--------------------+--------------------+----------+\n",
      "only showing top 2 rows\n",
      "\n"
     ]
    }
   ],
   "source": [
    "predictions.show(2)"
   ]
  },
  {
   "cell_type": "code",
   "execution_count": 46,
   "metadata": {
    "id": "vrJNkMC3tUq4"
   },
   "outputs": [],
   "source": [
    "predictions_labels = predictions.select(\"prediction\", \"label\") # get the predicted class for each image and the actual label"
   ]
  },
  {
   "cell_type": "code",
   "execution_count": 47,
   "metadata": {
    "colab": {
     "base_uri": "https://localhost:8080/"
    },
    "id": "17aDchzyu73X",
    "outputId": "47c31b3d-63d9-4b98-ed30-1bf7ac040e87"
   },
   "outputs": [
    {
     "name": "stdout",
     "output_type": "stream",
     "text": [
      "+----------+-----+\n",
      "|prediction|label|\n",
      "+----------+-----+\n",
      "|       3.0|  3.0|\n",
      "|       8.0|  8.0|\n",
      "+----------+-----+\n",
      "only showing top 2 rows\n",
      "\n"
     ]
    }
   ],
   "source": [
    "predictions_labels.show(2)"
   ]
  },
  {
   "cell_type": "markdown",
   "metadata": {
    "id": "9b5xklJQ0bLG"
   },
   "source": [
    "#### Assessing Model Accuracy"
   ]
  },
  {
   "cell_type": "code",
   "execution_count": 48,
   "metadata": {
    "colab": {
     "base_uri": "https://localhost:8080/"
    },
    "id": "akWEtp7Btces",
    "outputId": "8d3fabe6-171d-4d1c-d84d-aafad99349c2"
   },
   "outputs": [
    {
     "name": "stdout",
     "output_type": "stream",
     "text": [
      "Test set accuracy = 0.43225\n"
     ]
    }
   ],
   "source": [
    "evaluator = MulticlassClassificationEvaluator(metricName = \"accuracy\")\n",
    "print(\"Test set accuracy = \" + str(evaluator.evaluate(predictions_labels)))"
   ]
  },
  {
   "cell_type": "code",
   "execution_count": 49,
   "metadata": {
    "id": "BKtmjEHKuqsq"
   },
   "outputs": [],
   "source": [
    "no_images = predictions_labels.limit(9).collect() # no. of images to visualize\n",
    "\n",
    "images = []\n",
    "labels = []\n",
    "predictions = [] # empty lists to store images, labels and predictions\n",
    "i = 0 # index variable to retrieve the images from the test set\n",
    "\n",
    "for image in no_images:\n",
    "    label = int(image.label) # true label\n",
    "    predicted = int(image.prediction) # predicted label\n",
    "    images.append(X_test[i]) # get the corresponding image from test set\n",
    "\n",
    "    labels.append(label) # store label\n",
    "    predictions.append(predicted) # store predicted label\n",
    "    i += 1 # update the index"
   ]
  },
  {
   "cell_type": "code",
   "execution_count": 50,
   "metadata": {
    "colab": {
     "base_uri": "https://localhost:8080/",
     "height": 807
    },
    "id": "4f3gNDrb22mI",
    "outputId": "e9a3802d-95e9-4691-d3de-86ddadd83784"
   },
   "outputs": [
    {
     "data": {
      "image/png": "[encoded data removed]",
      "text/plain": [
       "<Figure size 1000x800 with 9 Axes>"
      ]
     },
     "metadata": {},
     "output_type": "display_data"
    }
   ],
   "source": [
    "fig, axes = plt.subplots(3, 3, figsize = (10, 8)) # subplot with 3 rows, 3 columns\n",
    "axes = axes.flatten()\n",
    "\n",
    "for ax, img, label, prediction in zip(axes, images, labels, predictions):\n",
    "    ax.imshow(img) # show the image\n",
    "    ax.set_title(f'True: {label}, Pred: {prediction}') # title with true label and predicted label\n",
    "    ax.axis('off')\n",
    "\n",
    "for ax in axes[len(images):]:\n",
    "    ax.axis('off') # hide any unused axes\n",
    "\n",
    "plt.tight_layout()\n",
    "plt.show()"
   ]
  },
  {
   "cell_type": "code",
   "execution_count": 51,
   "metadata": {
    "id": "vjPyh0JSmqqq"
   },
   "outputs": [],
   "source": [
    "spark.stop() # stop spark session"
   ]
  },
  {
   "cell_type": "markdown",
   "metadata": {},
   "source": [
    "## Conclusion\n",
    "\n",
    "Given the accuracy obtained, we can conclude that, in this case, a multilayer perceptron (MLP) classifier is not suitable for performing the classification of this data. Although the model effectively identifies certain patterns, such as in the case of ships, it may overlook relevant patterns and features for the different classes within the dataset.\n",
    "\n",
    "In this context, we could implement a convolutional neural network (CNN) with the aim of detecting more complex features, such as edges and textures, which may be ignored by the MLP model.\n",
    "\n",
    "The importance and application of data transformations into a nonlinear representation space are fundamental to improving the model's ability to capture complex relationships. These transformations enable machine learning (ML) models to be more effective in addressing problems involving nonlinear features. The implementation of ML models in Spark through the `MLlib` library facilitates the processing of large volumes of data, optimizing performance and enabling the scalability of the models."
   ]
  },
  {
   "cell_type": "markdown",
   "metadata": {},
   "source": [
    "***\n",
    "\n",
    "November 2024"
   ]
  }
 ],
 "metadata": {
  "colab": {
   "provenance": []
  },
  "kernelspec": {
   "display_name": "Python 3 (ipykernel)",
   "language": "python",
   "name": "python3"
  },
  "language_info": {
   "codemirror_mode": {
    "name": "ipython",
    "version": 3
   },
   "file_extension": ".py",
   "mimetype": "text/x-python",
   "name": "python",
   "nbconvert_exporter": "python",
   "pygments_lexer": "ipython3",
   "version": "3.12.3"
  }
 },
 "nbformat": 4,
 "nbformat_minor": 4
}
