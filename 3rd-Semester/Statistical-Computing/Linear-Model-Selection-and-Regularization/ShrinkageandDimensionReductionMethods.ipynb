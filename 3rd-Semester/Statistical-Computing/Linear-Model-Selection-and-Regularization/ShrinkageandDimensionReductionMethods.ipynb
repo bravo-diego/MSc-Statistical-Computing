{
 "cells": [
  {
   "cell_type": "markdown",
   "id": "690fa72f-1df8-4a74-93dd-b85a178dfffc",
   "metadata": {},
   "source": [
    "# Shrinkage and Dimension Reduction Methods"
   ]
  },
  {
   "cell_type": "markdown",
   "id": "b38b86ac-6000-4a71-ba36-196648db53de",
   "metadata": {},
   "source": [
    "## Shrinkage Methods"
   ]
  },
  {
   "cell_type": "markdown",
   "id": "67831631-75a2-43a6-a082-edf9a28f7788",
   "metadata": {},
   "source": [
    "The subset selection methods involve using least squares to fit a linear model that contains a subset of the predictors. As an alternative, we can fit a model containing all $p$ predictors using a technique that **constrains or regularizes** the coefficient estimates, or even **shrinks** the coefficient estimates towards zero."
   ]
  },
  {
   "cell_type": "markdown",
   "id": "b77859e3-1f25-409f-aa20-1aaaa5f26761",
   "metadata": {},
   "source": [
    "### Ridge Regression\n",
    "\n",
    "Recall that the least squares fitting procedure estimates $\\beta$ values minimizing \n",
    "\n",
    "$$\n",
    "RSS = \\sum_{i = 1}^{n} \\left( y_i - \\beta_0 - \\sum_{j = 1}^{p} \\beta_j x_{ij} \\right)^2\n",
    "$$\n",
    "\n",
    "Ridge regression is very similar to least squares, except that the coefficients $\\hat{\\beta}^R$ are estimated by minimizing \n",
    "\n",
    "$$\n",
    "\\sum_{i = 1}^{n} \\left( y_i - \\beta_0 - \\sum_{j = 1}^{p} \\beta_j x_{ij} \\right)^2 + \\lambda \\sum_{j = 1}^{p} \\beta_j^2 = RSS + \\lambda \\sum_{j = 1}^{p} \\beta_j^2\n",
    "$$\n",
    "\n",
    "$\\qquad$ where $\\lambda \\sum_{j = 1}^{p} \\beta_j^2$ is the *penalty term*.\n",
    "\n",
    "This penalty term is small when $\\beta_1, ..., \\beta_p$ are close to zero, and so it has the effect of shrinking the estimates of $\\beta_j$ towards zero. \n",
    "\n",
    "The parameter $\\lambda$ serves to control the relative impact of these two terms on the regression coefficient estimates. \n",
    "\n",
    "- When $\\lambda = 0$ the penalty term has no effect, and Ridge regression will produce the least squares estimates.\n",
    "- As $\\lambda \\rightarrow \\infty$, the impact of the penalty grows, and the Ridge regression coefficient estimates will approach zero.\n",
    "\n",
    "Ridge regression produce a different set of coefficient estimates for each value of $\\lambda$. Thus, selecting a good value for $\\lambda$ is critical. \n",
    "\n",
    "Ridge regression does have a big disadvantage. Unlike subset selection models, which will generally select models that involve just a subset of the variables, Ridge regression will include all $p$ predictors in the final model. The penalty term $\\lambda \\sum \\beta_j^2$ will shrink all of the coefficients towards zero, but it will not set any of them exactly to zero (unless $\\lambda = \\infty$). This create a challenge in model interpretation in setting in which the number of variables $p$ is quite large."
   ]
  },
  {
   "cell_type": "markdown",
   "id": "c12cbd28-e940-447c-9b3c-287f247978d5",
   "metadata": {},
   "source": [
    "### Lasso Regression\n",
    "\n",
    "The Lasso regression is an alternative to Ridge regression. The Lasso coefficients $\\hat{\\beta}^L$, minimize the following expression\n",
    "\n",
    "$$\n",
    "\\sum_{i = 1}^{n} \\left( y_i - \\beta_0 - \\sum_{j = 1}^{p} \\beta_j x_{ij} \\right)^2 + \\lambda \\sum_{j = 1}^{p} | \\beta_j | = RSS + \\lambda \\sum_{j = 1}^{p} | \\beta_j |\n",
    "$$\n",
    "\n",
    "$\\qquad$ where $\\lambda \\sum_{j = 1}^{p} | \\beta_j |$ is the *penalty term*.\n",
    "\n",
    "The difference between Ridge and Lasso regressions, is the penalty term. The $\\beta_j^2$ term in the Ridge regression is replaced by $|\\beta_j|$ in the Lasso regression. \n",
    "\n",
    "As with Ridge regression, the Lasso shrinks the coefficient estimates towards zero. However, in the case of the Lasso, the penalty has the effect of forcing some of the coefficient estimates to be exactly equal to zero when the parameter $\\lambda$ is sufficiently large. Hence, similar to subsect selection, **Lasso regression performs variable selection**. As a result, models generated from the Lasso regression are generally much easier to interpret that those produced by Ridge regression. Similar as in Ridge regression, selection a good value for $\\lambda$ is a critical step."
   ]
  },
  {
   "cell_type": "markdown",
   "id": "de09b201-1fcf-42f8-9f83-08abca2e2e8d",
   "metadata": {},
   "source": [
    "### Another Formulation for Ridge and Lasso Regression"
   ]
  },
  {
   "cell_type": "markdown",
   "id": "58199c27-83aa-4488-8a0e-eba1e937c49f",
   "metadata": {},
   "source": [
    "Both formulations can be expressed as follows\n",
    "\n",
    "$$\n",
    "\\text{minimize}_{\\beta} \\big \\{ \\sum_{i = 1}^{n} \\big( y_i - \\beta_0 - \\sum_{j = 1}^{p} \\beta_j x_{ij} \\big)^2 \\big \\} \\text{~subject~to} \\sum_{j = 1}^{p} |\\beta_j| \\leq s\n",
    "$$\n",
    "\n",
    "$\\qquad$ *Lasso regression*\n",
    "\n",
    "$$\n",
    "\\text{minimize}_{\\beta} \\big \\{ \\sum_{i = 1}^{n} \\big( y_i - \\beta_0 - \\sum_{j = 1}^{p} \\beta_j x_{ij} \\big)^2 \\big \\} \\text{~subject~to} \\sum_{j = 1}^{p} \\beta_j^2 \\leq s,\n",
    "$$\n",
    "\n",
    "$\\qquad$ *Ridge regression*"
   ]
  },
  {
   "cell_type": "markdown",
   "id": "dde35845-ad21-4da0-a288-51f630723d81",
   "metadata": {},
   "source": [
    "## Dimension Reduction Methods"
   ]
  },
  {
   "cell_type": "markdown",
   "id": "29bca21b-de51-43ef-bf0b-d07fda7368c0",
   "metadata": {},
   "source": [
    "Let $Z_1, Z_2, ..., Z_M$ represent $M < p$ **linear combinations** of our original $p$ predictors. That is\n",
    "\n",
    "$$\n",
    "Z_m = \\sum_{j = 1}^{p} \\phi_{jm}X_j\n",
    "$$\n",
    "\n",
    "for some constants $\\phi_{1m}, \\phi_{2m}, ..., \\phi_{pm}$, $m = 1, ..., M$. We can then fit a linear regression model\n",
    "\n",
    "$$\n",
    "y_i = \\theta_0 + \\sum_{m = 1}^{M} \\theta_m z_{im} + \\epsilon_i, \\quad i = 1, ..., n\n",
    "$$\n",
    "\n",
    "using least squares. Note that the regression coefficients are given by $\\theta_0, \\theta_1, ..., \\theta_M$. If the constants $\\phi_{1m}, \\phi_{2m}, ..., \\phi_{pm}$ are chosen wisely, then such dimension reduction approaches can often outperform least squares regression.\n",
    "\n",
    "The term **dimension reduction** comes from the fact that this approach reduces the problem of estimating the $p + 1$ coefficients $\\beta_0, \\beta_1, ..., \\beta_p$ to the simpler problem of estimating the $M + 1$ coefficients $\\theta_0, \\theta_1, ..., \\theta_M$, where $M << p$. \n",
    "\n",
    "Note that\n",
    "\n",
    "$$\n",
    "\\sum_{m = 1}^{M} \\theta_m z_{im} = \\sum_{m = 1}^{M} \\theta_m \\sum_{j = 1}^{p} \\phi_{jm}x_{ij} = \\sum_{j = 1}^{p} \\sum_{m = 1}^{M} \\theta_m \\phi_{jm} x_{ij} = \\sum_{j = 1}^{p} \\beta_j x_{ij}\n",
    "$$\n",
    "\n",
    "where\n",
    "\n",
    "$$\n",
    "\\beta_j = \\sum_{m = 1}^{M} \\theta_m \\phi_{jm}\n",
    "$$"
   ]
  },
  {
   "cell_type": "markdown",
   "id": "aa7d62a6-b5c2-49dd-93e4-d219f4511f33",
   "metadata": {},
   "source": [
    "In situations where $p$ is large relative to $n$, selecting a value of $M << p$ can significantly reduce the variance of the fitted coefficients. If $M = p$, and all the $Z_m$ are linearly independent, then the equation poses no constraints. In that case, no dimension reduction occurs, and fitting the model is equivalent to performing least squares on the original $p$ predictors."
   ]
  },
  {
   "cell_type": "markdown",
   "id": "d6a2c68e-163d-4340-a202-6d8cbf2fdc2a",
   "metadata": {},
   "source": [
    "All dimension reduction methods work in two steps. First, the transformed predictors $Z_1, Z_2, ..., Z_m$ are obtained. Second, the model is fitted using these $M$ predictors. However, the choice of $Z_1, Z_2, ..., Z_M$, or equivalently, the selection of the $\\phi_{jm}$ values can be achieved in different ways."
   ]
  },
  {
   "cell_type": "markdown",
   "id": "2909f8e4-8043-402e-bad5-17c819c9def4",
   "metadata": {},
   "source": [
    "### Principal Components Regression (PCR)\n",
    "\n",
    "The principal components regression (PCR) approach involves constructing the first $M$ principal components, $Z_1, ..., Z_M$, and then using these components as the predictors in a linear regression model that is fit using least squares method. The key idea is that often a small number of principal components suffice to explain most of the variability in the data, as well as the relationship with the response. We assume that **the directions in which $X_1, ..., X_p$ show the most variation are the directions that are associated with $Y$**. This assumption is not guaranteed to be true, but it often turns out to be a reasonable enough approximation to give good results. If this assumption holds, then fitting a least squares model to $Z_1, ..., Z_M$ will lead to better results that fitting a least squares model to $X_1, ..., X_p$, sice most or all the information in the data related to the response is contained in $Z_1, ..., Z_M$, and **by estimating only $M << p$ coefficients we can mitigate overfitting**.\n",
    "\n",
    "PCR will tend to do well in cases when the first few principal components are sufficient to capture most of the variation in the predictors as well as the relationship with the response. \n",
    "\n",
    "When performing PCR, standarization is common prior to generation of the principal components. This standarization ensures that all variables are on the same scale. In the absence of standarization, the high-variance variables will tend to play a larger role in the principal components obtained, and the scale on which the variables are measured will ultimately have an effect on the final model."
   ]
  },
  {
   "cell_type": "markdown",
   "id": "a3d03094-4469-43f2-89fe-e88c3431ba10",
   "metadata": {},
   "source": [
    "**N o t e**\n",
    "\n",
    "Even though PCR provides a simple way to perform regression using $M < p$ predictors, **it's not a feature selection method**. This is because each of the $M$ principal components used in the regression is a linear combination of all $p$ of the original features. "
   ]
  },
  {
   "cell_type": "markdown",
   "id": "dfa1b708-6bf3-4dae-a137-652faca5f03e",
   "metadata": {},
   "source": [
    "### Partial Least Squares (PLS)\n",
    "\n",
    "The PCR approach involves identifying linear combinations, or directions, that best represent the predictors $X_i$. These directions are identified in an **unsupervised way**, since the response $Y$ is not used to help determine the principal component directions. In other words, in PCR there is no guarantee that the directions that best explain the predictors will also be the best directions to use for predicting the response.\n",
    "\n",
    "Partial least squares (PLS) is a supervised alternative to PCR. It makes use of the responde $Y$ in order to identify new features that not only approximate the old features well, but also that are related to the response.\n",
    "\n",
    "After standarizing the $p$ predictors, PLS computes the first direction $Z_1$ by setting each $\\phi_{ji}$ in \n",
    "\n",
    "$$\n",
    "Z_m = \\sum_{j = 1}^{p} \\phi_{jm}X_{j}\n",
    "$$\n",
    "\n",
    "equal to the coefficient from the simple linear regression of $Y$ onto $X_j$. \n",
    "\n",
    "Hence, in computing $Z_1 = \\sum_{j = 1}^{p} \\phi_{j1} X_j$, PLS places the highest weight on the variables that are most strongly related to the response. To identify the second PLS direction we first adjust each of the variables for $Z_1$, by regressing each variable on $Z_1$ and taking residuals, i.e. performing linear regression using $Z_1$ as the predictor and each of the other variables (individually) is treated as the response. These residuals can be interpreted as the remaining information that has not been explained by the first PLS direction. We then compute $Z_2$ using this orthogonalized data in exactly the same way as $Z_1$ was computed based on the original data. This iterative approach can be repeated $M$ times to identify multiple PLS components $Z_1, ..., Z_M$. Finally, we use least squares to fit a linear model to predict $Y$ using $Z_1, ..., Z_M$ in exactly the same fashion as for PCR. "
   ]
  },
  {
   "cell_type": "markdown",
   "id": "050c6c13-2c46-4b97-8f98-5e82e694874a",
   "metadata": {},
   "source": [
    "In both methods, the number of components $M$, is typically chosen by cross-validation. "
   ]
  },
  {
   "cell_type": "markdown",
   "id": "9295278e-38df-4c11-a7d4-e8c6b7d9bf86",
   "metadata": {},
   "source": [
    "## Final Considerations for High-Dimensional Data\n",
    "\n",
    "Datasets containing more features than observations (p >> n), are often referred to as *high-dimensional*. \n",
    "\n",
    "When the no. of features $p$ is as large as, or larger than, the no. of observations $n$, least squares cannot be performed. Regardless of whether or not there truly is a relationship between the features and the response, least squares will yield a set of coefficient estimates that result in a perfect fit to the data, such that residuals are zero. This is problematic because this perfect fit will almost certainly lead to overfitting of the data, i.e. though it's possible to perfectly fit the training data in the high-dimensional setting, the resulting linear model will perform extremely poorly on an independent test set, and therefore doesn't constitute a useful model.\n",
    "\n",
    "Models such as forward stepwise selection, ridge regression, lasso regression, and PCR, are particulary useful for performing regression in the high-dimensional setting. These approaches avoid overfitting by using a less flexible fitting approach than least squares. "
   ]
  },
  {
   "cell_type": "markdown",
   "id": "2e73caaa-20c1-42ef-a443-2a0880b69128",
   "metadata": {},
   "source": [
    "Retrieved from: \n",
    "\n",
    "- James, G., Witten, D., Hastie, T., & Tibshirani, R. (2021). *An introduction to statistical learning with applications in R 2nd ed.*. Springer.\n",
    "\n",
    "***"
   ]
  },
  {
   "cell_type": "markdown",
   "id": "83d42d70-1d13-481b-a072-ef3a78cf9e22",
   "metadata": {},
   "source": [
    "## Exercises"
   ]
  },
  {
   "cell_type": "markdown",
   "id": "a59698cf-cc6b-4074-947e-6f079d5c01b4",
   "metadata": {},
   "source": [
    "### Exercise 1.0"
   ]
  },
  {
   "cell_type": "markdown",
   "id": "ce677549-050c-49d0-840b-550b1e250510",
   "metadata": {},
   "source": [
    "Using the `College` dataset available in the ISLR library, predict the number of applications received (`Apps`) using the other variables in the dataset.\n",
    "\n",
    "- Split the dataset into a training set and a test set.\n",
    "- Fit a linear model using least squares on the training set and report the test error obtained.\n",
    "- Fit a Ridge regression model on the training set, with $\\lambda$ selected via cross-validation. Report the test error obtained.\n",
    "- Fit a Lasso regression model on the training set, with $\\lambda$ selected via cross-validation. Report the test error obtained, along with the number of non-zero coefficient estimates.\n",
    "- Fit a Principal Component Regression (PCR) model on the training set, with $M$ selected via cross-validation. Report the test error obtained, along with the value of $M$ selected via cross-validation.\n",
    "- Fit a Partial Least Squares (PLS) regression model on the training set, with $M$ selected via cross-validation. Report the test error obtained, along with the value of $M$ selected via cross-validation.\n",
    "- Comment on the results obtained. How accurately can we predict the number of college applications received? Are there significant differences in test errors across these five approaches?\n",
    "- Propose a model (or a set of models) that seems to perform well on this dataset and justify your choice. Ensure that model performance is evaluated using validation set error, cross-validation, or another reasonable alternative, rather than training error. Does the chosen model include all features in the dataset?"
   ]
  },
  {
   "cell_type": "code",
   "execution_count": 7,
   "id": "364cc4df-0ec1-4270-a62b-497cfc1dc4fc",
   "metadata": {},
   "outputs": [],
   "source": [
    "set.seed(614)"
   ]
  },
  {
   "cell_type": "code",
   "execution_count": 8,
   "id": "3f9fb588-7c83-465b-aad3-68f6e9e50500",
   "metadata": {},
   "outputs": [],
   "source": [
    "library(pls)\n",
    "library(ISLR)\n",
    "library(glmnet)\n",
    "library(rsample) # loading libraries"
   ]
  },
  {
   "cell_type": "markdown",
   "id": "309960c8-262d-469b-b85f-87dbda58e62c",
   "metadata": {},
   "source": [
    "Preview of the `College` dataset, consisting of **18 variables** and **777 observations**."
   ]
  },
  {
   "cell_type": "code",
   "execution_count": 10,
   "id": "693dceee-7e8d-4f92-a6d5-b2b17eeaec2a",
   "metadata": {},
   "outputs": [
    {
     "data": {
      "text/html": [
       "<style>\n",
       ".list-inline {list-style: none; margin:0; padding: 0}\n",
       ".list-inline>li {display: inline-block}\n",
       ".list-inline>li:not(:last-child)::after {content: \"\\00b7\"; padding: 0 .5ex}\n",
       "</style>\n",
       "<ol class=list-inline><li>'Private'</li><li>'Apps'</li><li>'Accept'</li><li>'Enroll'</li><li>'Top10perc'</li><li>'Top25perc'</li><li>'F.Undergrad'</li><li>'P.Undergrad'</li><li>'Outstate'</li><li>'Room.Board'</li><li>'Books'</li><li>'Personal'</li><li>'PhD'</li><li>'Terminal'</li><li>'S.F.Ratio'</li><li>'perc.alumni'</li><li>'Expend'</li><li>'Grad.Rate'</li></ol>\n"
      ],
      "text/latex": [
       "\\begin{enumerate*}\n",
       "\\item 'Private'\n",
       "\\item 'Apps'\n",
       "\\item 'Accept'\n",
       "\\item 'Enroll'\n",
       "\\item 'Top10perc'\n",
       "\\item 'Top25perc'\n",
       "\\item 'F.Undergrad'\n",
       "\\item 'P.Undergrad'\n",
       "\\item 'Outstate'\n",
       "\\item 'Room.Board'\n",
       "\\item 'Books'\n",
       "\\item 'Personal'\n",
       "\\item 'PhD'\n",
       "\\item 'Terminal'\n",
       "\\item 'S.F.Ratio'\n",
       "\\item 'perc.alumni'\n",
       "\\item 'Expend'\n",
       "\\item 'Grad.Rate'\n",
       "\\end{enumerate*}\n"
      ],
      "text/markdown": [
       "1. 'Private'\n",
       "2. 'Apps'\n",
       "3. 'Accept'\n",
       "4. 'Enroll'\n",
       "5. 'Top10perc'\n",
       "6. 'Top25perc'\n",
       "7. 'F.Undergrad'\n",
       "8. 'P.Undergrad'\n",
       "9. 'Outstate'\n",
       "10. 'Room.Board'\n",
       "11. 'Books'\n",
       "12. 'Personal'\n",
       "13. 'PhD'\n",
       "14. 'Terminal'\n",
       "15. 'S.F.Ratio'\n",
       "16. 'perc.alumni'\n",
       "17. 'Expend'\n",
       "18. 'Grad.Rate'\n",
       "\n",
       "\n"
      ],
      "text/plain": [
       " [1] \"Private\"     \"Apps\"        \"Accept\"      \"Enroll\"      \"Top10perc\"  \n",
       " [6] \"Top25perc\"   \"F.Undergrad\" \"P.Undergrad\" \"Outstate\"    \"Room.Board\" \n",
       "[11] \"Books\"       \"Personal\"    \"PhD\"         \"Terminal\"    \"S.F.Ratio\"  \n",
       "[16] \"perc.alumni\" \"Expend\"      \"Grad.Rate\"  "
      ]
     },
     "metadata": {},
     "output_type": "display_data"
    }
   ],
   "source": [
    "colnames(College) # column names of College dataset"
   ]
  },
  {
   "cell_type": "code",
   "execution_count": 6,
   "id": "c2ce5fd9-1557-4ad8-b47f-800636055edc",
   "metadata": {},
   "outputs": [
    {
     "data": {
      "text/html": [
       "<style>\n",
       ".list-inline {list-style: none; margin:0; padding: 0}\n",
       ".list-inline>li {display: inline-block}\n",
       ".list-inline>li:not(:last-child)::after {content: \"\\00b7\"; padding: 0 .5ex}\n",
       "</style>\n",
       "<ol class=list-inline><li>777</li><li>18</li></ol>\n"
      ],
      "text/latex": [
       "\\begin{enumerate*}\n",
       "\\item 777\n",
       "\\item 18\n",
       "\\end{enumerate*}\n"
      ],
      "text/markdown": [
       "1. 777\n",
       "2. 18\n",
       "\n",
       "\n"
      ],
      "text/plain": [
       "[1] 777  18"
      ]
     },
     "metadata": {},
     "output_type": "display_data"
    }
   ],
   "source": [
    "dim(College) # (777 rows, 18 columns)"
   ]
  },
  {
   "cell_type": "markdown",
   "id": "f4bf2eb8-8a55-404a-8655-4c3f7b324618",
   "metadata": {},
   "source": [
    "Split the dataset into two subsets: a **training set**, containing 80% of the data, and a **test set**, with the remaining 20%."
   ]
  },
  {
   "cell_type": "code",
   "execution_count": 7,
   "id": "d1a819be-1338-4d2b-acf6-8de7461261b6",
   "metadata": {},
   "outputs": [],
   "source": [
    "data_split <- initial_split(College, prop = .80)\n",
    "train <- training(data_split)\n",
    "test  <- testing(data_split) # split data into training (80Matrices de diseño para el ajuste de modelos de regresión Ridge y Lasso.%) and testing set (20%)"
   ]
  },
  {
   "cell_type": "code",
   "execution_count": 8,
   "id": "656c7030-a013-4ae5-84c6-c7bb8fb93474",
   "metadata": {},
   "outputs": [
    {
     "data": {
      "text/html": [
       "<style>\n",
       ".list-inline {list-style: none; margin:0; padding: 0}\n",
       ".list-inline>li {display: inline-block}\n",
       ".list-inline>li:not(:last-child)::after {content: \"\\00b7\"; padding: 0 .5ex}\n",
       "</style>\n",
       "<ol class=list-inline><li>621</li><li>18</li></ol>\n"
      ],
      "text/latex": [
       "\\begin{enumerate*}\n",
       "\\item 621\n",
       "\\item 18\n",
       "\\end{enumerate*}\n"
      ],
      "text/markdown": [
       "1. 621\n",
       "2. 18\n",
       "\n",
       "\n"
      ],
      "text/plain": [
       "[1] 621  18"
      ]
     },
     "metadata": {},
     "output_type": "display_data"
    }
   ],
   "source": [
    "dim(train) # training set contains 621 observations"
   ]
  },
  {
   "cell_type": "code",
   "execution_count": 9,
   "id": "e241c25f-a8c3-410e-9507-ce874fbd4c51",
   "metadata": {},
   "outputs": [
    {
     "data": {
      "text/html": [
       "<style>\n",
       ".list-inline {list-style: none; margin:0; padding: 0}\n",
       ".list-inline>li {display: inline-block}\n",
       ".list-inline>li:not(:last-child)::after {content: \"\\00b7\"; padding: 0 .5ex}\n",
       "</style>\n",
       "<ol class=list-inline><li>156</li><li>18</li></ol>\n"
      ],
      "text/latex": [
       "\\begin{enumerate*}\n",
       "\\item 156\n",
       "\\item 18\n",
       "\\end{enumerate*}\n"
      ],
      "text/markdown": [
       "1. 156\n",
       "2. 18\n",
       "\n",
       "\n"
      ],
      "text/plain": [
       "[1] 156  18"
      ]
     },
     "metadata": {},
     "output_type": "display_data"
    }
   ],
   "source": [
    "dim(test) # testing set contains 156 observations"
   ]
  },
  {
   "cell_type": "markdown",
   "id": "b398b0a2-e925-4263-9452-fa57dbeb71eb",
   "metadata": {},
   "source": [
    "Design matrices for fitting Ridge and Lasso regression models."
   ]
  },
  {
   "cell_type": "code",
   "execution_count": 10,
   "id": "fd035a73-057e-42e6-8de1-0afdf1b9b10a",
   "metadata": {},
   "outputs": [],
   "source": [
    "x_train <- model.matrix(Apps ~ ., data = train)[, -1] # exclude response variable\n",
    "y_train <- train$Apps # response variable"
   ]
  },
  {
   "cell_type": "code",
   "execution_count": 11,
   "id": "5a03b81a-ece5-488f-b505-513a54cf60a1",
   "metadata": {},
   "outputs": [],
   "source": [
    "x_test <- model.matrix(Apps ~ ., data = test)[, -1] # exclude response variable\n",
    "y_test <- test$Apps # response variable"
   ]
  },
  {
   "cell_type": "markdown",
   "id": "4de5f061-3a94-4ca9-859b-7ecc2693c145",
   "metadata": {},
   "source": [
    "### Fitting a Model Using Ordinary Least Squares (OLS)"
   ]
  },
  {
   "cell_type": "code",
   "execution_count": 12,
   "id": "4d9424c1-6950-4080-8f51-efe0a5441675",
   "metadata": {},
   "outputs": [],
   "source": [
    "lm_model <- lm(Apps ~ ., data = train) \n",
    "predictions <- predict(lm_model, test) # fit a linear regression model using least squares method "
   ]
  },
  {
   "cell_type": "code",
   "execution_count": 13,
   "id": "c8ee981c-4135-4de4-8a33-6867ee1138dc",
   "metadata": {},
   "outputs": [],
   "source": [
    "ols_test_error <- mean((test$Apps - predictions)^2) # test error "
   ]
  },
  {
   "cell_type": "code",
   "execution_count": 14,
   "id": "fd18a60f-992c-4c10-8191-f7db261a0977",
   "metadata": {},
   "outputs": [
    {
     "name": "stdout",
     "output_type": "stream",
     "text": [
      "Error de prueba obtenido (OLS): 946141.8"
     ]
    }
   ],
   "source": [
    "cat(\"Error de prueba obtenido (OLS):\", ols_test_error)"
   ]
  },
  {
   "cell_type": "markdown",
   "id": "908919c1-c0e0-40b8-a6f3-7dc2d6262f8f",
   "metadata": {},
   "source": [
    "### Fitting a Ridge Regression Model"
   ]
  },
  {
   "cell_type": "code",
   "execution_count": 15,
   "id": "e2c56f25-3d61-4159-bed7-9021d764d4e8",
   "metadata": {},
   "outputs": [],
   "source": [
    "ridge_model <- glmnet(x_train, y_train, alpha = 0) # ridge regression model; alpha parameter specifies ridge penalty"
   ]
  },
  {
   "cell_type": "code",
   "execution_count": 16,
   "id": "6ede57a1-b895-48f1-9a14-0b5a79073c5d",
   "metadata": {},
   "outputs": [
    {
     "data": {
      "image/png": "[encoded data removed]",
      "text/plain": [
       "plot without title"
      ]
     },
     "metadata": {
      "image/png": {
       "height": 420,
       "width": 420
      }
     },
     "output_type": "display_data"
    }
   ],
   "source": [
    "cv_ridge <- cv.glmnet(x_train, y_train, alpha = 0)\n",
    "plot(cv_ridge)"
   ]
  },
  {
   "cell_type": "markdown",
   "id": "a094a8e8-d121-424e-bb42-dfd540c28c8a",
   "metadata": {},
   "source": [
    "The parameter $\\lambda$ controls the penalty applied to the model:\n",
    "\n",
    "$$\n",
    "\\sum_{i = 1}^{n}\\left(y_i - \\beta_0 - \\sum_{j = 1}^{p}\\beta_j x_{ij} \\right)^2 + \\lambda \\sum_{j = 1}^{p} \\beta_j^2 = RSS + \\lambda \\sum_{j = 1}^{p} \\beta_j^2 \n",
    "$$\n",
    "\n",
    "$\\quad$ where the second term, $\\lambda \\sum_{j = 1}^{p} \\beta_j^2$, is known as the `shrinkage penalty`.\n",
    "\n",
    "When $\\lambda = 0$, the penalty has no effect, and the equation reduces to the model fitted using least squares. In contrast, when $\\lambda \\rightarrow \\infty$, the coefficients shrink to zero, corresponding to the null model."
   ]
  },
  {
   "cell_type": "code",
   "execution_count": 17,
   "id": "9dcdebc6-8423-4f47-a3d5-310c64708ad5",
   "metadata": {},
   "outputs": [
    {
     "name": "stdout",
     "output_type": "stream",
     "text": [
      "Valor mínimo de lambda: 374.7353 5.92622"
     ]
    }
   ],
   "source": [
    "cat(\"Valor mínimo de lambda:\", cv_ridge$lambda.min, log(cv_ridge$lambda.min))"
   ]
  },
  {
   "cell_type": "markdown",
   "id": "22cee28a-daac-427b-8862-f024fcdf1661",
   "metadata": {},
   "source": [
    "The minimum value of $\\lambda$ is reached approximately when $\\log(\\lambda) \\approx 6$, resulting in minimal penalization and a model close to the one fitted using least squares. However, since the goal is to minimize the prediction error on the test set, a value of $\\lambda$ near $\\log(\\lambda) \\approx 8$ was chosen. This value simplifies the model by reducing the coefficients, leading to improved generalization on new data."
   ]
  },
  {
   "cell_type": "code",
   "execution_count": 18,
   "id": "4f561526-c742-4849-90e9-9e2e7370ddc9",
   "metadata": {},
   "outputs": [
    {
     "name": "stdout",
     "output_type": "stream",
     "text": [
      "Valor óptimo de lambda: 1822.189 7.507794"
     ]
    }
   ],
   "source": [
    "cat(\"Valor óptimo de lambda:\", cv_ridge$lambda.1se, log(cv_ridge$lambda.1se))"
   ]
  },
  {
   "cell_type": "code",
   "execution_count": 19,
   "id": "ba55d192-ec58-4397-bb46-8e2c395cc7c6",
   "metadata": {},
   "outputs": [],
   "source": [
    "best_lambda <- cv_ridge$lambda.1se # choosen lambda value"
   ]
  },
  {
   "cell_type": "code",
   "execution_count": 20,
   "id": "9d5e04ff-9e44-43ed-8957-6d31e5fcc319",
   "metadata": {},
   "outputs": [],
   "source": [
    "predictions <- predict(ridge_model, s = best_lambda, newx = x_test) # calculate predictions using the choosen lambda value"
   ]
  },
  {
   "cell_type": "code",
   "execution_count": 21,
   "id": "ccc59ee4-d42e-4de3-808a-6cdf0e415281",
   "metadata": {},
   "outputs": [],
   "source": [
    "ridge_test_error <- mean((y_test - predictions)^2) # test error"
   ]
  },
  {
   "cell_type": "code",
   "execution_count": 22,
   "id": "9ea806b1-f192-40bb-bfa0-a8da11c238fb",
   "metadata": {},
   "outputs": [
    {
     "name": "stdout",
     "output_type": "stream",
     "text": [
      "Error de prueba obtenido (Regresión Ridge): 1106708"
     ]
    }
   ],
   "source": [
    "cat(\"Error de prueba obtenido (Regresión Ridge):\", ridge_test_error)"
   ]
  },
  {
   "cell_type": "markdown",
   "id": "0226b7b8-3503-4f93-9504-540b9559253d",
   "metadata": {},
   "source": [
    "### Fitting a Lasso Regression Model"
   ]
  },
  {
   "cell_type": "code",
   "execution_count": 23,
   "id": "8dfc1fa3-230c-416c-adf6-24fcd0e36dca",
   "metadata": {},
   "outputs": [],
   "source": [
    "lasso_model <- glmnet(x_train, y_train, alpha = 1) # lasso regression model; alpha parameter specifies lasso penalty"
   ]
  },
  {
   "cell_type": "code",
   "execution_count": 24,
   "id": "86e58c0a-c350-4fec-92d9-bc4b7df978b3",
   "metadata": {},
   "outputs": [
    {
     "data": {
      "image/png": "[encoded data removed]",
      "text/plain": [
       "plot without title"
      ]
     },
     "metadata": {
      "image/png": {
       "height": 420,
       "width": 420
      }
     },
     "output_type": "display_data"
    }
   ],
   "source": [
    "cv_lasso <- cv.glmnet(x_train, y_train, alpha = 1)\n",
    "plot(cv_lasso)"
   ]
  },
  {
   "cell_type": "markdown",
   "id": "a512af00-21b3-4f37-b293-603c66f4bbd1",
   "metadata": {},
   "source": [
    "As in Ridge regression, the parameter $\\lambda$ controls the intensity of the penalty. In this case, the function that is minimized in Lasso regression is:\n",
    "\n",
    "$$\n",
    "\\sum_{i = 1}^{n}\\left(y_i - \\beta_0 - \\sum_{j = 1}^{p}\\beta_j x_{ij} \\right)^2 + \\lambda \\sum_{j = 1}^{p} |\\beta_j| = RSS + \\lambda \\sum_{j = 1}^{p} |\\beta_j| \n",
    "$$\n",
    "\n",
    "$\\quad$ where in the penalty term, $\\beta_j^2$ is replaced by $|\\beta_j|$.\n",
    "\n",
    "Similarly, when $\\lambda = 0$, the model is simply fitted using least squares, and when $\\lambda \\rightarrow \\infty$, the model reduces to the null model, where all coefficients are equal to zero."
   ]
  },
  {
   "cell_type": "code",
   "execution_count": 25,
   "id": "035f3233-29d8-4c02-8307-7280da0dfae8",
   "metadata": {},
   "outputs": [
    {
     "name": "stdout",
     "output_type": "stream",
     "text": [
      "Valor mínimo de lambda: 2.194833 0.7861058"
     ]
    }
   ],
   "source": [
    "cat(\"Valor mínimo de lambda:\", cv_lasso$lambda.min, log(cv_lasso$lambda.min))"
   ]
  },
  {
   "cell_type": "code",
   "execution_count": 26,
   "id": "49d8048f-c583-48f0-8f40-706f8b353191",
   "metadata": {},
   "outputs": [],
   "source": [
    "lasso_coef <- predict(lasso_model, type = \"coefficients\", s = cv_lasso$lambda.min)[1:17,]"
   ]
  },
  {
   "cell_type": "code",
   "execution_count": 27,
   "id": "f06aa9cd-638d-417d-8bfb-a399c67bd737",
   "metadata": {},
   "outputs": [
    {
     "name": "stdout",
     "output_type": "stream",
     "text": [
      "Coeficientes/Estimaciones diferentes de 0: 17"
     ]
    }
   ],
   "source": [
    "cat(\"Coeficientes/Estimaciones diferentes de 0:\", length(lasso_coef[lasso_coef != 0]))"
   ]
  },
  {
   "cell_type": "code",
   "execution_count": 28,
   "id": "954c4718-9315-4d37-a6e6-0ebe27036c9f",
   "metadata": {},
   "outputs": [
    {
     "name": "stdout",
     "output_type": "stream",
     "text": [
      "Valor óptimo de lambda: 276.9565 5.62386"
     ]
    }
   ],
   "source": [
    "cat(\"Valor óptimo de lambda:\", cv_lasso$lambda.1se, log(cv_lasso$lambda.1se))"
   ]
  },
  {
   "cell_type": "code",
   "execution_count": 29,
   "id": "3499db35-73de-4de1-96bb-ead7f3ec9f3f",
   "metadata": {},
   "outputs": [],
   "source": [
    "lasso_coef <- predict(lasso_model, type = \"coefficients\", s = cv_lasso$lambda.1se)[1:17,]"
   ]
  },
  {
   "cell_type": "code",
   "execution_count": 30,
   "id": "e425dfef-ee44-4f2d-97e8-d7ee690f4497",
   "metadata": {},
   "outputs": [
    {
     "name": "stdout",
     "output_type": "stream",
     "text": [
      "Coeficientes/Estimaciones diferentes de 0: 4"
     ]
    }
   ],
   "source": [
    "cat(\"Coeficientes/Estimaciones diferentes de 0:\", length(lasso_coef[lasso_coef != 0]))"
   ]
  },
  {
   "cell_type": "markdown",
   "id": "eccd298b-e09b-46e6-bf2e-a1aa981b660b",
   "metadata": {},
   "source": [
    "A value of $\\lambda$ close to $\\log(\\lambda) \\approx 6$ was chosen. Although this value does not minimize the MSE, it significantly reduces the number of predictors, which improves the model's interpretability and its ability to generalize to unseen data. Moreover, the increase in MSE is minimal compared to the error obtained with the minimum $\\lambda$ value."
   ]
  },
  {
   "cell_type": "code",
   "execution_count": 31,
   "id": "3f5847b0-adfc-4ca9-9823-597a494698a2",
   "metadata": {},
   "outputs": [],
   "source": [
    "best_lambda <- cv_lasso$lambda.1se # choosen lambda value"
   ]
  },
  {
   "cell_type": "code",
   "execution_count": 32,
   "id": "1bd32089-f846-45ea-989a-2ca597e9d0f5",
   "metadata": {},
   "outputs": [],
   "source": [
    "predictions <- predict(lasso_model, s = best_lambda, newx = x_test) # calculate predictions using the choosen lambda value"
   ]
  },
  {
   "cell_type": "code",
   "execution_count": 33,
   "id": "cec74cf7-473a-470c-9225-7f6c5a99a87c",
   "metadata": {},
   "outputs": [],
   "source": [
    "lasso_test_error <- mean((y_test - predictions)^2) # test error"
   ]
  },
  {
   "cell_type": "code",
   "execution_count": 34,
   "id": "50cf712e-c760-4ba8-8a3c-6768bdffdb33",
   "metadata": {},
   "outputs": [
    {
     "name": "stdout",
     "output_type": "stream",
     "text": [
      "Error de prueba obtenido (Regresión Lasso): 854761.4"
     ]
    }
   ],
   "source": [
    "cat(\"Error de prueba obtenido (Regresión Lasso):\", lasso_test_error)"
   ]
  },
  {
   "cell_type": "markdown",
   "id": "a43d1705-3841-4c2d-b08d-d0301ab8da4d",
   "metadata": {},
   "source": [
    "### Fitting a Principal Component Regression (PCR) Model"
   ]
  },
  {
   "cell_type": "code",
   "execution_count": 35,
   "id": "10d31eaf-c951-4992-ba16-00492a8fc525",
   "metadata": {},
   "outputs": [],
   "source": [
    "pcr_model <- pcr(Apps ~ ., data = train, scale = TRUE, validation = 'CV') # define a principal components regression model"
   ]
  },
  {
   "cell_type": "code",
   "execution_count": 36,
   "id": "77266f93-8ae6-4a4f-9752-136a49f4de4a",
   "metadata": {},
   "outputs": [
    {
     "data": {
      "image/png": "[encoded data removed]",
      "text/plain": [
       "Plot with title “Apps”"
      ]
     },
     "metadata": {
      "image/png": {
       "height": 420,
       "width": 420
      }
     },
     "output_type": "display_data"
    }
   ],
   "source": [
    "validationplot(pcr_model, val.type = 'MSEP') # plot the mean squared error of prediction (MSEP)"
   ]
  },
  {
   "cell_type": "markdown",
   "id": "4d210098-1a2e-4dad-8c93-77591b3f3547",
   "metadata": {},
   "source": [
    "We observe that, starting from 5 components, the model does not show a significant improvement in its predictive ability. Including more than 5 components would not be advisable, as it would only unnecessarily increase the complexity. A model with approximately 3-5 components is optimal for this case."
   ]
  },
  {
   "cell_type": "code",
   "execution_count": 37,
   "id": "578e21a9-0d61-4fce-bce4-4c07aa1132eb",
   "metadata": {},
   "outputs": [],
   "source": [
    "predictions <- predict(pcr_model, test, ncomp = 5) # calculate predictions using M = 5"
   ]
  },
  {
   "cell_type": "code",
   "execution_count": 38,
   "id": "006e27ff-3c3d-4b85-98e6-44f9bba7d076",
   "metadata": {},
   "outputs": [],
   "source": [
    "pcr_test_error <- mean((test$Apps - predictions)^2) # test error"
   ]
  },
  {
   "cell_type": "code",
   "execution_count": 39,
   "id": "1e37f073-d86f-4ded-aa24-f42deffdf52a",
   "metadata": {},
   "outputs": [
    {
     "name": "stdout",
     "output_type": "stream",
     "text": [
      "Error de prueba obtenido (PCR): 1889150"
     ]
    }
   ],
   "source": [
    "cat(\"Error de prueba obtenido (PCR):\", pcr_test_error)"
   ]
  },
  {
   "cell_type": "markdown",
   "id": "86a25b3d-6fcb-413f-8313-d97833c428cb",
   "metadata": {},
   "source": [
    "### Fitting a Partial Least Squares (PLS) Model"
   ]
  },
  {
   "cell_type": "code",
   "execution_count": 40,
   "id": "bc4fbe00-9ffd-4a04-94ad-369f089bd4a1",
   "metadata": {},
   "outputs": [],
   "source": [
    "pls_model <- plsr(Apps ~ ., data = train, scale = TRUE, validation = 'CV') # define a partial least squares regression model"
   ]
  },
  {
   "cell_type": "code",
   "execution_count": 41,
   "id": "765d5005-7f66-4f8c-83cc-001d5ee35386",
   "metadata": {},
   "outputs": [
    {
     "data": {
      "image/png": "[encoded data removed]",
      "text/plain": [
       "Plot with title “Apps”"
      ]
     },
     "metadata": {
      "image/png": {
       "height": 420,
       "width": 420
      }
     },
     "output_type": "display_data"
    }
   ],
   "source": [
    "validationplot(pls_model, val.type = 'MSEP') # plot the mean squared error of prediction (MSEP)"
   ]
  },
  {
   "cell_type": "markdown",
   "id": "6dd9d6db-cbe2-4d79-be7d-1775f639e175",
   "metadata": {},
   "source": [
    "Initially, increasing the number of components improves the model's prediction ability and reduces the test error. However, between 5 and 7 components, the test error stabilizes, and no significant further reduction is observed. Therefore, in this PLS model, selecting M = 6 components would be optimal, avoiding unnecessary complexity increase."
   ]
  },
  {
   "cell_type": "code",
   "execution_count": 42,
   "id": "eda7af0c-592f-4b0e-a0ef-a49d56afc281",
   "metadata": {},
   "outputs": [],
   "source": [
    "predictions <- predict(pls_model, test, ncomp = 6) # calculate predictions using M = 6 "
   ]
  },
  {
   "cell_type": "code",
   "execution_count": 43,
   "id": "a50c1c62-0fec-4fe2-9693-233df25c9918",
   "metadata": {},
   "outputs": [],
   "source": [
    "pls_test_error <- mean((test$Apps - predictions)^2) # test error"
   ]
  },
  {
   "cell_type": "code",
   "execution_count": 44,
   "id": "05af60c7-a978-46a0-b2f9-d365de374685",
   "metadata": {},
   "outputs": [
    {
     "name": "stdout",
     "output_type": "stream",
     "text": [
      "Error de prueba obtenido (PLS): 870684.1"
     ]
    }
   ],
   "source": [
    "cat(\"Error de prueba obtenido (PLS):\", pls_test_error)"
   ]
  },
  {
   "cell_type": "markdown",
   "id": "777e5adb-6954-4e1e-87b6-42dfd8cb69d1",
   "metadata": {},
   "source": [
    "### Test Error Comparison Across Models"
   ]
  },
  {
   "cell_type": "code",
   "execution_count": 45,
   "id": "7adf03f0-840d-464e-b868-3350a0646a15",
   "metadata": {},
   "outputs": [],
   "source": [
    "test_errors <- c(ols_test_error, ridge_test_error, lasso_test_error, pcr_test_error, lasso_test_error) # test error obtained\n",
    "models <- c('OLS', 'Ridge Reg', 'Lasso Reg', 'PCR', 'PLS') # models fitted"
   ]
  },
  {
   "cell_type": "code",
   "execution_count": 65,
   "id": "49dbe73f-920c-4be8-b338-283940bddb65",
   "metadata": {},
   "outputs": [
    {
     "data": {
      "image/png": "[encoded data removed]",
      "text/plain": [
       "Plot with title “Test Errors Across Models”"
      ]
     },
     "metadata": {
      "image/png": {
       "height": 420,
       "width": 420
      }
     },
     "output_type": "display_data"
    }
   ],
   "source": [
    "barplot(test_errors, names.arg = models, main = 'Test Errors Across Models',\n",
    "        ylab = 'Test Error', col = 'Azure 3', ylim = c(0, max(test_errors) * 1.2))\n",
    "\n",
    "text(x = seq_along(test_errors), y = test_errors, label = round(test_errors, 2), pos = 1) # show test error for each bar"
   ]
  },
  {
   "cell_type": "markdown",
   "id": "7e3f0dfe-73c3-469a-8ef7-9b6e081c2c9b",
   "metadata": {},
   "source": [
    "The **Lasso regression** model shows the lowest test error, followed by the PLS model and the least squares model. This suggests that, in this specific case, using these models improves prediction accuracy compared to the model fitted by least squares. On the other hand, the Ridge regression and PCR models have higher test errors than the OLS model, making them less recommended for this particular case.\n",
    "\n",
    "It is important to note that, in each case, the highest number of components or the minimum value of $\\lambda$ was avoided, as this would result in models very similar to the OLS-fitted model, making the comparison irrelevant."
   ]
  },
  {
   "cell_type": "markdown",
   "id": "843b675e-6652-4335-a20e-0c628bf78a60",
   "metadata": {},
   "source": [
    "### Model Proposed \n",
    "\n",
    "Based on the previous results, I would recommend using a `Lasso Regression` model with a value of $\\lambda \\approx 276.9$, as it shows a lower test error compared to the model fitted by least squares. This shrinkage method significantly reduces the variance of the coefficients and decreases the number of variables, which contributes to the interpretability of the model. In contrast to the Ridge regression and PCR models, which include all predictors in their components, making interpretation more difficult."
   ]
  },
  {
   "cell_type": "code",
   "execution_count": 71,
   "id": "dd22afb9-fa74-4e43-86fb-5a7698f111be",
   "metadata": {},
   "outputs": [
    {
     "name": "stdout",
     "output_type": "stream",
     "text": [
      "Error de prueba obtenido mediante el modelo de regresión Lasso: 854761.4"
     ]
    }
   ],
   "source": [
    "cat(\"Error de prueba obtenido mediante el modelo de regresión Lasso:\", lasso_test_error)"
   ]
  },
  {
   "cell_type": "markdown",
   "id": "5fa6dec6-d270-42aa-9601-3489dac698f4",
   "metadata": {},
   "source": [
    "In this case, the proposed model includes only 3 predictors, in addition to the intercept (non-zero estimates). The predictors considered are: **Accept** (number of accepted applications), **Top10perc** (percentage of new students in the top 10% of their class), and **Expend** (educational expenditure per student)."
   ]
  },
  {
   "cell_type": "code",
   "execution_count": 70,
   "id": "c6fbcd91-1384-42aa-bc12-3535e2fca83d",
   "metadata": {},
   "outputs": [
    {
     "name": "stdout",
     "output_type": "stream",
     "text": [
      "No. de predictores incluidos en el modelo: 4"
     ]
    }
   ],
   "source": [
    "cat(\"No. de predictores incluidos en el modelo:\", length(lasso_coef[lasso_coef != 0]))"
   ]
  },
  {
   "cell_type": "code",
   "execution_count": 74,
   "id": "d7ebd1e6-7e6e-4052-91d4-e4bae054597c",
   "metadata": {},
   "outputs": [
    {
     "data": {
      "text/html": [
       "<style>\n",
       ".dl-inline {width: auto; margin:0; padding: 0}\n",
       ".dl-inline>dt, .dl-inline>dd {float: none; width: auto; display: inline-block}\n",
       ".dl-inline>dt::after {content: \":\\0020\"; padding-right: .5ex}\n",
       ".dl-inline>dt:not(:first-of-type) {padding-left: .5ex}\n",
       "</style><dl class=dl-inline><dt>(Intercept)</dt><dd>-399.162472751937</dd><dt>Accept</dt><dd>1.37026604373971</dd><dt>Top10perc</dt><dd>22.892130402479</dd><dt>Expend</dt><dd>0.00441847156889482</dd></dl>\n"
      ],
      "text/latex": [
       "\\begin{description*}\n",
       "\\item[(Intercept)] -399.162472751937\n",
       "\\item[Accept] 1.37026604373971\n",
       "\\item[Top10perc] 22.892130402479\n",
       "\\item[Expend] 0.00441847156889482\n",
       "\\end{description*}\n"
      ],
      "text/markdown": [
       "(Intercept)\n",
       ":   -399.162472751937Accept\n",
       ":   1.37026604373971Top10perc\n",
       ":   22.892130402479Expend\n",
       ":   0.00441847156889482\n",
       "\n"
      ],
      "text/plain": [
       "  (Intercept)        Accept     Top10perc        Expend \n",
       "-3.991625e+02  1.370266e+00  2.289213e+01  4.418472e-03 "
      ]
     },
     "metadata": {},
     "output_type": "display_data"
    }
   ],
   "source": [
    "lasso_coef[lasso_coef != 0] # coefficient estimates and their respective predictors"
   ]
  },
  {
   "cell_type": "markdown",
   "id": "48c9e2c9-2cbc-4ae2-bcbe-e58f0577d222",
   "metadata": {},
   "source": [
    "By analyzing the predictors of this model, we can infer that these variables capture relevant aspects of the data. A high number of accepted applications (**Accept**) could make the institution more attractive to future applicants, increasing the number of received applications. Additionally, a high percentage of high-performing students (**Top10perc**) could reflect the institution's educational quality, attracting more interested applicants. Lastly, higher spending per student (**Expend**) could be associated with more resources and better facilities, increasing the institution's appeal to applicants."
   ]
  },
  {
   "cell_type": "markdown",
   "id": "e62a30fa-2736-43c0-8bbc-3c586a6a2e90",
   "metadata": {},
   "source": [
    "### Exercise 2.0"
   ]
  },
  {
   "cell_type": "markdown",
   "id": "e24c88b5-7937-41d4-b745-7a12cc45735c",
   "metadata": {},
   "source": [
    "It is well known that Ridge regression tends to give similar coefficient values to correlated variables, while Lasso may give entirely different coefficient values to correlated variables. Now, let's explore this property in a simple setting.\n",
    "\n",
    "Suppose that $n = 2, p = 2, x_{11} = x_{12}, x_{21} = x_{22}$. Additionally, assume that $y_1 + y_2 = 0$ y $x_{11} + x_{21} = 0$ y $x_{12} + x_{22} = 0$, so the estimate for the intercept in a least squares model, Ridge regression, or Lasso is zero: $\\hat{\\gamma} = 0$.\n",
    "\n",
    "- Formulate the optimization problem for Ridge regression under these assumptions.\n",
    "- Argue that under these assumptions, the Ridge coefficient estimates satisfy $\\hat{\\beta}_1 = \\hat{\\beta}_2$.\n",
    "- Formulate the optimization problem for Lasso regression under these assumptions.\n",
    "- Argue that in this context, the Lasso coefficients $\\hat{\\beta}_1$ y $\\hat{\\beta}_2$ are not unique; that is, there are many possible solutions to the optimization problem in (c). Describe these solutions."
   ]
  },
  {
   "cell_type": "markdown",
   "id": "4361a001-81cd-416b-a469-6c59a63d91b4",
   "metadata": {},
   "source": [
    "### Ridge Regression Optimization Problem"
   ]
  },
  {
   "cell_type": "markdown",
   "id": "b45ffe76-6bbe-498b-bb20-a7c2023c00cf",
   "metadata": {},
   "source": [
    "The estimators of the coefficients in Ridge regression are those values that aim to minimize:\n",
    "\n",
    "$$\n",
    "\\sum_{i = 1}^{n}\\left( y_i - \\beta_0 - \\sum_{j = 1}^{p} \\beta_j x_{ij} \\right)^2 + \\lambda \\sum_{j = 1}^{p} \\beta_{j}^{2} = RSS + \\lambda \\sum_{j = 1}^{p} \\beta_j^2\n",
    "$$"
   ]
  },
  {
   "cell_type": "markdown",
   "id": "194bc943-7e89-4a7f-a9f1-19c9fd4e08ea",
   "metadata": {},
   "source": [
    "$\\quad$ where the second term, $\\lambda \\sum_{j = 1}^{p} \\beta_j^2$, is known as the `shrinkage penalty`."
   ]
  },
  {
   "cell_type": "markdown",
   "id": "d75e569b-bcad-4b5f-a0e9-2889ed3a6605",
   "metadata": {},
   "source": [
    "Considering $n = p = 2$.\n",
    "\n",
    "$$\n",
    "\\sum_{i = 1}^{2}\\left( y_i - \\hat{\\beta}_0 - \\sum_{j = 1}^{2} \\hat{\\beta}_j x_{ij} \\right)^2 + \\lambda \\sum_{j = 1}^{2} \\hat{\\beta}_{j}^{2}\n",
    "$$\n",
    "\n",
    "$$\n",
    "(y_1 - \\hat{\\beta}_{1}x_{11} - \\hat{\\beta}_{2}x_{12})^2 + (y_2 - \\hat{\\beta}_{1}x_{21} - \\hat{\\beta}_{2}x_{22})^2 + \\lambda(\\hat{\\beta}_1^2 + \\hat{\\beta}_2^2)\n",
    "$$\n",
    "\n",
    "Given that $x_{11} = x_{12}, x_{21} = x_{22}$.\n",
    "\n",
    "$$\n",
    "(y_1 - (\\hat{\\beta}_1x_{11} + \\hat{\\beta}_2x_{11}))^2 + (y_2 - (\\hat{\\beta}_1x_{22} + \\hat{\\beta}_2x_{22}))^2 + \\lambda(\\hat{\\beta}_1^2 + \\hat{\\beta}_2^2)\n",
    "$$"
   ]
  },
  {
   "cell_type": "markdown",
   "id": "6211dc68-3edc-444d-b880-970897447e45",
   "metadata": {},
   "source": [
    "Given that the optimization problem consists of minimizing the equation:\n",
    "\n",
    "$$\n",
    "min\\left[(y_1 - (\\hat{\\beta}_1x_{11} + \\hat{\\beta}_2x_{11}))^2 + (y_2 - (\\hat{\\beta}_1x_{22} + \\hat{\\beta}_2x_{22}))^2 + \\lambda(\\hat{\\beta}_1^2 + \\hat{\\beta}_2^2) \\right],\n",
    "$$\n",
    "\n",
    "the partial derivatives with respect to $\\hat{\\beta_1}$ and $\\hat{\\beta_2}$ are calculated and set equal to $0$ to find the critical points."
   ]
  },
  {
   "cell_type": "markdown",
   "id": "fd1258c5-acb6-4930-82dc-7c1fc744d154",
   "metadata": {},
   "source": [
    "We expand the squared terms:\n",
    "\n",
    "$$\n",
    "(y_1 - (\\hat{\\beta}_1x_{11} + \\hat{\\beta}_2x_{11}))^2 = y_1^2 - 2y_1(\\hat{\\beta}_{1}x_{11} + \\hat{\\beta}_{2}x_{11}) + \\hat{\\beta}_{1}^2 x_{11}^2 + 2 \\hat{\\beta}_{1} \\hat{\\beta}_{2} x_{11}^2 + \\hat{\\beta}_{2}^2 x_{11}^2 \n",
    "$$\n",
    "\n",
    "$$\n",
    "(y_2 - (\\hat{\\beta}_1x_{22} + \\hat{\\beta}_2x_{22}))^2 = y_2^2 - 2y_2(\\hat{\\beta}_{1}x_{22} + \\hat{\\beta}_{2}x_{22}) + \\hat{\\beta}_{1}^2 x_{22}^2 + 2 \\hat{\\beta}_{1} \\hat{\\beta}_{2} x_{22}^2 + \\hat{\\beta}_{2}^2 x_{22}^2\n",
    "$$"
   ]
  },
  {
   "cell_type": "markdown",
   "id": "61cc5b92-cf60-4631-8dc3-0760564cf282",
   "metadata": {},
   "source": [
    "We calculate the partial derivative with respect to $\\hat{\\beta}_1$.\n",
    "\n",
    "$$\n",
    "-2y_1 x_{11} - 2y_2 x_{22} + 2\\hat{\\beta}_1x_{11}^{2} + 2\\hat{\\beta}_1x_{22}^{2} + 2\\hat{\\beta}_2x_{11}^2 + 2\\hat{\\beta}_2x_{22}^2 + 2\\hat{\\beta}_1\\lambda\n",
    "$$\n",
    "\n",
    "$$\n",
    "-2y_1 x_{11} - 2y_2 x_{22} + 2 \\hat{\\beta}_1 (x_{11}^2 + x_{22}^2 + \\lambda) + 2 \\hat{\\beta}_2 (x_{11}^2 + x_{22}^2) = 0\n",
    "$$"
   ]
  },
  {
   "cell_type": "markdown",
   "id": "602e58e9-84ed-4c00-a25e-0e9c590af163",
   "metadata": {},
   "source": [
    "We calculate the partial derivative with respect to $\\hat{\\beta}_2$.\n",
    "\n",
    "$$\n",
    "-2y_1 x_{11} - 2y_2 x_{22} + 2\\hat{\\beta}_2x_{11}^{2} + 2\\hat{\\beta}_2x_{22}^{2} + 2\\hat{\\beta}_1x_{11}^2 + 2\\hat{\\beta}_1x_{22}^2 + 2\\hat{\\beta}_2\\lambda\n",
    "$$\n",
    "\n",
    "$$\n",
    "-2y_1 x_{11} - 2y_2 x_{22} + 2 \\hat{\\beta}_2 (x_{11}^2 + x_{22}^2 + \\lambda) + 2 \\hat{\\beta}_1 (x_{11}^2 + x_{22}^2) = 0\n",
    "$$"
   ]
  },
  {
   "cell_type": "markdown",
   "id": "b4a3d6f6-03ff-478d-bb35-1a49a433d7e5",
   "metadata": {},
   "source": [
    "Given that:\n",
    "\n",
    "$$\n",
    "2y_1 x_{11} + 2y_2 x_{22} = 2 \\hat{\\beta}_1 (x_{11}^2 + x_{22}^2 + \\lambda) + 2 \\hat{\\beta}_2 (x_{11}^2 + x_{22}^2)\n",
    "$$\n",
    "\n",
    "$\\qquad$ and\n",
    "\n",
    "$$\n",
    "2y_1 x_{11} + 2y_2 x_{22} = 2 \\hat{\\beta}_2 (x_{11}^2 + x_{22}^2 + \\lambda) + 2 \\hat{\\beta}_1 (x_{11}^2 + x_{22}^2)\n",
    "$$\n",
    "\n",
    "Then:\n",
    "\n",
    "$$\n",
    "2 \\hat{\\beta}_1 (x_{11}^2 + x_{22}^2 + \\lambda) + 2 \\hat{\\beta}_2 (x_{11}^2 + x_{22}^2) = 2 \\hat{\\beta}_2 (x_{11}^2 + x_{22}^2 + \\lambda) + 2 \\hat{\\beta}_1 (x_{11}^2 + x_{22}^2)\n",
    "$$\n",
    "\n",
    "From the previous equation, it can be observed that:\n",
    "\n",
    "$$\n",
    "2\\hat{\\beta}_1\\lambda = 2\\hat{\\beta}_2\\lambda\n",
    "$$\n",
    "\n",
    "$$\n",
    "\\hat{\\beta_1} = \\hat{\\beta_2}\n",
    "$$"
   ]
  },
  {
   "cell_type": "markdown",
   "id": "ad96c9f1-b4c2-4111-b07d-b6d9ef7e5f61",
   "metadata": {},
   "source": [
    "### Lasso Regression Optimization Problem"
   ]
  },
  {
   "cell_type": "markdown",
   "id": "e57b8395-52a0-44ec-9914-0178e54910c1",
   "metadata": {},
   "source": [
    "The estimators of the coefficients in Lasso regression aim to minimize the equation:\n",
    "\n",
    "$$\n",
    "\\sum_{i = 1}^{n}\\left(y_i - \\beta_0 - \\sum_{j = 1}^{p}\\beta_j x_{ij} \\right)^2 + \\lambda \\sum_{j = 1}^{p} |\\beta_j| = RSS + \\lambda \\sum_{j = 1}^{p} |\\beta_j| \n",
    "$$\n",
    "\n",
    "$\\quad$ where in the penalty term, $\\beta_j^2$ is replaced by $|\\beta_j|$."
   ]
  },
  {
   "cell_type": "markdown",
   "id": "ef343a4a-3ec9-4ab2-956e-ccf6336da60a",
   "metadata": {},
   "source": [
    "Considering $n = p = 2$.\n",
    "\n",
    "$$\n",
    "\\sum_{i = 1}^{2}\\left( y_i - \\hat{\\beta}_0 - \\sum_{j = 1}^{2} \\hat{\\beta}_j x_{ij} \\right)^2 + \\lambda \\sum_{j = 1}^{2} \\hat{|\\beta_j|}\n",
    "$$\n",
    "\n",
    "$$\n",
    "(y_1 - \\hat{\\beta}_{1}x_{11} - \\hat{\\beta}_{2}x_{12})^2 + (y_2 - \\hat{\\beta}_{1}x_{21} - \\hat{\\beta}_{2}x_{22})^2 + \\lambda(|\\hat{\\beta}_1| + |\\hat{\\beta}_2|)\n",
    "$$\n",
    "\n",
    "Given that $x_{11} = x_{12}, x_{21} = x_{22}$.\n",
    "\n",
    "$$\n",
    "(y_1 - (\\hat{\\beta}_1x_{11} + \\hat{\\beta}_2x_{11}))^2 + (y_2 - (\\hat{\\beta}_1x_{22} + \\hat{\\beta}_2x_{22}))^2 + \\lambda(|\\hat{\\beta}_1| + |\\hat{\\beta}_2|)\n",
    "$$"
   ]
  },
  {
   "cell_type": "markdown",
   "id": "66b37ac7-ce05-4517-9188-2b48ccbe7422",
   "metadata": {},
   "source": [
    "The optimization problem consists of minimizing the equation:\n",
    "\n",
    "$$\n",
    "min\\left[(y_1 - (\\hat{\\beta}_1x_{11} + \\hat{\\beta}_2x_{11}))^2 + (y_2 - (\\hat{\\beta}_1x_{22} + \\hat{\\beta}_2x_{22}))^2 + \\lambda(|\\hat{\\beta}_1| + |\\hat{\\beta}_2|) \\right]\n",
    "$$"
   ]
  },
  {
   "cell_type": "markdown",
   "id": "2ccbc784-7058-455b-90b4-9718b0812f0f",
   "metadata": {},
   "source": [
    "Considering the following formulation for Lasso regression:\n",
    "\n",
    "$$\n",
    "min \\Biggl\\{ (y_1 - (\\hat{\\beta}_1x_{11} + \\hat{\\beta}_2x_{11}))^2 + (y_2 - (\\hat{\\beta}_1x_{22} + \\hat{\\beta}_2x_{22}))^2 \\Biggl\\} ~\\text{subject to}~ |\\hat{\\beta}_1| + |\\hat{\\beta}_2| \\leq s\n",
    "$$"
   ]
  },
  {
   "cell_type": "markdown",
   "id": "e9e95323-a600-4595-9069-0ad1484944aa",
   "metadata": {},
   "source": [
    "Geometrically, the Lasso constraint has the shape of a diamond centered at the origin of the plane, intersecting the axes at a distance $s$ from the origin.\n",
    "\n",
    "Considering that $y_2 = - y_1$ and $x_{22} = - x_{11}$, we rewrite the equation as follows:\n",
    "\n",
    "$$\n",
    "(y_1 - (\\hat{\\beta}_1x_{11} + \\hat{\\beta}_2x_{11})^2 + (-y_1 - \\hat{\\beta}_1(-x_{11}) - \\hat{\\beta}_2(-x_{11}))^2\n",
    "$$\n",
    "\n",
    "$$\n",
    "(y_1 - (\\hat{\\beta}_1x_{11} + \\hat{\\beta}_2x_{11})^2 + (y_1 - (\\hat{\\beta}_1 + \\hat{\\beta}_2)x_{11})^2\n",
    "$$\n",
    "\n",
    "$$\n",
    "(y_1 - (\\hat{\\beta}_1x_{11} + \\hat{\\beta}_2x_{11})^2 + (y_1 - (\\hat{\\beta}_1x_{11} + \\hat{\\beta}_2x_{11})^2 = 2[y_1 - (\\hat{\\beta}_1x_{11} + \\hat{\\beta}_2x_{11})]^2\n",
    "$$"
   ]
  },
  {
   "cell_type": "markdown",
   "id": "e59c2037-0e3b-4459-b17a-52b0447ed40c",
   "metadata": {},
   "source": [
    "We must minimize the expression:\n",
    "\n",
    "$$\n",
    "2[y_1 - (\\hat{\\beta}_1x_{11} + \\hat{\\beta}_2x_{11})]^2 \\geq 0\n",
    "$$\n",
    "\n",
    "Given the obtained expression, we can see that it is always greater than or equal to $0$. Therefore, the optimal solution will be found when\n",
    "\n",
    "$$\n",
    "2[y_1 - (\\hat{\\beta}_1x_{11} + \\hat{\\beta}_2x_{11})]^2 = 0\n",
    "$$\n",
    "\n",
    "Expressing the equation in the following way:\n",
    "\n",
    "$$\n",
    "2[y_1 - (\\hat{\\beta}_1 + \\hat{\\beta}_2)x_{11}]^2 = 0\n",
    "$$\n",
    "\n",
    "We can see that the solution occurs when $\\hat{\\beta}_1 + \\hat{\\beta}_2 = \\frac{y_1}{x_{11}}$."
   ]
  },
  {
   "cell_type": "markdown",
   "id": "edc5db60-ed25-49f8-8ab4-54648c36157a",
   "metadata": {},
   "source": [
    "This solution $\\hat{\\beta}_1 + \\hat{\\beta}_2 = \\frac{y_1}{x_1}$ suggests that there are multiple solutions for the coefficients $\\hat{\\beta}_1$ and $\\hat{\\beta}_2$. Since the equation only imposes a restriction on the sum of $\\hat{\\beta}_1$ and $\\hat{\\beta}_2$, it does not establish individual values for each coefficient. That is, the relationship that describes the solution is a linear equation between $\\hat{\\beta}_1$ and $\\hat{\\beta}_2$, and any pair of values for $\\hat{\\beta}_1$ and $\\hat{\\beta}_2$ that sum to $\\frac{y_1}{x_1}$ can be a valid solution."
   ]
  },
  {
   "cell_type": "markdown",
   "id": "7b8c6a45-819f-4036-ba0d-ac3bb9335b66",
   "metadata": {},
   "source": [
    "***\n",
    "\n",
    "MSc Statistical Computing by Mathematics Research Center (CIMAT Monterrey)\n",
    "\n",
    "November 2024"
   ]
  }
 ],
 "metadata": {
  "kernelspec": {
   "display_name": "R 4.4.1",
   "language": "R",
   "name": "ir44"
  },
  "language_info": {
   "codemirror_mode": "r",
   "file_extension": ".r",
   "mimetype": "text/x-r-source",
   "name": "R",
   "pygments_lexer": "r",
   "version": "4.4.1"
  }
 },
 "nbformat": 4,
 "nbformat_minor": 5
}
