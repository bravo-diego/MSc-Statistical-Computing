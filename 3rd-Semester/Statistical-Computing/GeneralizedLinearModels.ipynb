{
 "cells": [
  {
   "cell_type": "markdown",
   "id": "e3de89e7-dabe-4866-8be9-f7a0614b1db2",
   "metadata": {},
   "source": [
    "# Generalized Linear Models (GLMs)"
   ]
  },
  {
   "cell_type": "markdown",
   "id": "8de80d6e-2cd4-4450-b41e-a0b4b9efcf4d",
   "metadata": {},
   "source": [
    "Generalized linear models (GLMs) go beyond linear mixed models, taking into account that the response variables are not of continuous sale **(not normally distributed)**. GLMs can be *heteroscedastic*, meaning that they allow for **non-constant variance** of the response variables across different levels of the predictor variables. This is one of the key features that differentiates GLMs from classical linear regression models, which assumes *homoscedasticity* **(constant variance)**."
   ]
  },
  {
   "cell_type": "markdown",
   "id": "d28a4a43-fcd3-4adf-8a61-7830104e13ad",
   "metadata": {},
   "source": [
    "McCullagh and Nelder (1989) proposed an extension of linear models, called generalized linear models (GLMs). They pointed out that the key elements of a **classical linear model** are:\n",
    "\n",
    "- The observations are independent.\n",
    "- The mean of the observation is a linear function of some explanatory variables.\n",
    "- The variance of the observation is a constant.\n",
    "\n",
    "To further extend these, points are modified as follows:\n",
    "\n",
    "- The observations are independent.\n",
    "- The mean of the observation is associated with a linear function of some explanatory variables via a *link function*.\n",
    "- The variance of the observation is a function of the mean (constant)."
   ]
  },
  {
   "cell_type": "markdown",
   "id": "3899cdde-5e5b-4e25-adf6-8d0e1e695468",
   "metadata": {},
   "source": [
    "## Components of a GLM"
   ]
  },
  {
   "cell_type": "markdown",
   "id": "cdc5a8ab-e4c2-4571-a075-bfb6d90b9809",
   "metadata": {},
   "source": [
    "The construction of a GLM begins with choosing the distribution of the response variable, the predictor or explanatory variables to include in the systematic component, and how to connect the mean of the response to the systematic component.\n",
    "\n",
    "The three essential components are described as follows:"
   ]
  },
  {
   "cell_type": "markdown",
   "id": "54b9cfff-a89c-4b62-a301-999f349f1cf9",
   "metadata": {},
   "source": [
    "### Random Component"
   ]
  },
  {
   "cell_type": "markdown",
   "id": "8de93b49-047b-412a-bb20-2a2f09d2302b",
   "metadata": {},
   "source": [
    "The first component to specify is the random component, i.e. choose a **probability distribution** for the response variable. This can be any member of the exponential family of distributions (e.g. normal, binomial, poisson, gamma, etc.)."
   ]
  },
  {
   "cell_type": "markdown",
   "id": "c28bc194-70f6-4cc9-a7da-eed5e060c5e2",
   "metadata": {},
   "source": [
    "### Systematic Component"
   ]
  },
  {
   "cell_type": "markdown",
   "id": "3022e314-b195-4cc8-ad18-83f31e00ce36",
   "metadata": {},
   "source": [
    "The second component of a GLM is the systematic component or **linear predictor**, which consists of a linear combination of explanatory variables (the predictor). This is the component of the model that deals with **how the input variables combine to produce a prediction** for each observation, before any transformation by the link function.\n",
    "\n",
    "Let $x_1, x_2, \\dots, x_p$ be the covariates, then the **linear predictor** $\\eta$ is:\n",
    "\n",
    "$$\n",
    "\\eta_{i} = \\beta_{0} + \\beta_{1}x_{1i} + \\beta_{2}x_{2i} + \\dots + \\beta_{p}x_{pi} = x_{i}^{T}\\beta\n",
    "$$\n",
    "\n",
    "where $\\beta = (\\beta_{0}, \\beta_{1}, \\beta_{2}, ..., \\beta_{p})$ is the vector of regression **parameters** of the model and $x_{i}^{T} = (1, x_{1i}, x_{2i}, ..., x_{pi})$ is the vector of **predictor variables** (independent variables). Although $\\eta$ is a linear function, the $x's$ can be nonlinear in form.\n",
    "\n",
    "The linear predictor is called *linear* because it's a **linear combination of the predictor variables** $x_{1}, x_{2}, ..., x_{p}$. Each predictor is multiplied by its corresponding coefficient and then summed together along with the intercept term $\\beta_{0}$."
   ]
  },
  {
   "cell_type": "markdown",
   "id": "180a3da7-d8f3-44c4-8312-fb0c37022193",
   "metadata": {},
   "source": [
    "#### Examples of $\\eta$ in Different Models\n",
    "\n",
    "**Linear Regression**: in linear regression model the link function is the identity function so $\\eta = \\mu$. Here $\\eta$ is the direct prediction of the response variable. \n",
    "\n",
    "$$\n",
    "\\eta_{i} = \\mu = \\beta_{0} + \\beta_{1}x_{1i} + \\beta_{2}x_{2i} + \\dots + \\beta_{p}x_{pi} = x_{i}^{T}\\beta\n",
    "$$"
   ]
  },
  {
   "cell_type": "markdown",
   "id": "29220343-6550-4a31-994a-b727e88741cf",
   "metadata": {},
   "source": [
    "### Predictor's Link Function $\\eta$"
   ]
  },
  {
   "cell_type": "markdown",
   "id": "83c6afc1-798e-4836-bb2f-4befe11759e1",
   "metadata": {},
   "source": [
    "Finally, the specification of the link function that **maps the mean of the response variable to the linear predictor**. The link function **allows a nonlinear relationship between the mean of the response variable and the linear predictor**, and this link $g()$ connects the mean of the response variable with the linear predictor. That is:\n",
    "\n",
    "$$\n",
    "g(\\mu) = \\eta\n",
    "$$"
   ]
  },
  {
   "cell_type": "markdown",
   "id": "bfa8ee0c-2186-45fd-8169-8141ac2b1190",
   "metadata": {},
   "source": [
    "The most natural and meaningful way to interpret the model parameters is in terms of the scale of the data, i.e. \n",
    "\n",
    "$$\n",
    "\\mu = g^{-1}(\\eta) = g^{-1}(\\beta_{0} + \\beta_{1}x_{1i} + \\beta_{2}x_{2i} + \\dots + \\beta_{p}x_{pi})\n",
    "$$\n",
    "\n",
    "In a GLM, a link function $g(\\mu)$ **transforms the expected value $\\mu$** to the scale where the predictors have a linear relationship whit it. Interpreting parameters on the scale of the data involves considering the inverse link function $g^{-1}$, which transforms the linear predictor $\\eta$ back to the original scale of the data. "
   ]
  },
  {
   "cell_type": "markdown",
   "id": "5c36d204-ea6f-440b-b2d6-6dc397958fc7",
   "metadata": {},
   "source": [
    "**NOTE**: When we talk about *transformations* we talk about **transforming the response variable itself**, but with a *link function* we're not transforming the dependent variable we are actually **transforming the predictions**. \n",
    "\n",
    "$log(y)$ is a transformation whereas, \n",
    "\n",
    "$log(\\beta_{0} + \\beta_{1}x)$ is a link function.\n"
   ]
  },
  {
   "cell_type": "markdown",
   "id": "6d1682bc-05d3-45c7-9cc9-18e3badd347b",
   "metadata": {},
   "source": [
    "A transformation of the mean is generally not equal to the mean of the transformed values, that is:\n",
    "\n",
    "$$\n",
    "g(E[y]) \\neq E(g[y])\n",
    "$$"
   ]
  },
  {
   "cell_type": "markdown",
   "id": "89b6f7d8-cd35-4f9f-9623-ef77a519415a",
   "metadata": {},
   "source": [
    "It is important to note that the link function in some cases is in a sense *similar* to a function transformation, in that it establishes only a mathematical connection between the parameters of the model. A function transformation is applied to the observations to better understand the relationship between the mean and the response variables or, in some cases, to stabilize the variance."
   ]
  },
  {
   "cell_type": "markdown",
   "id": "050ec270-122d-41a8-9155-43bda121a8b5",
   "metadata": {},
   "source": [
    "## Asumptions of a GLM\n",
    "\n",
    "McCullagh and Nelder (1989) & Agresti (2013) define a GLM under the following assumptions:\n",
    "\n",
    "- Data $y_{1}, y_{2}, .., y_{n}$ are independent.\n",
    "- The response variable $y_{i}$ does not necessarily have to have a normal distribution, we usually assume a distribution from an exponential family (e.g. binomial, Poisson, multinomial, gamma, etc.).\n",
    "- A GLM does not assume a linear relationship between the dependent variable and the independent variables, but it does assume a linear relationship between the response transformed in terms of the link function and the explanatory variables.\n",
    "- The predictor (explanatory) variables may be in terms of power or some other nonlinear transformations of the original independent variables.\n",
    "- The assumption of homogeneity of variance need not be satisifed. It's not possible in many cases, given the structure of the model and the presence of *overdispersion* (i.e. when the observed variance is larger than what the model assumes).\n",
    "- Errors are independent but are not normally distributed.\n",
    "- The estimation method is maximum likelihood (MLE) or other methods instead of ordinary leas squares (OLS) to estimate the parameters."
   ]
  },
  {
   "cell_type": "markdown",
   "id": "0f5d9cc1-53f6-490a-a820-b1f2f0a75416",
   "metadata": {},
   "source": [
    "## Specification of a GLM"
   ]
  },
  {
   "cell_type": "markdown",
   "id": "9b6d70fb-7773-4ad1-b1ca-42d2d35aba50",
   "metadata": {},
   "source": [
    "### Linear Regression\n",
    "\n",
    "In simple linear regression models, the expected mean value of a continuous response variable depends on a set of explanatory variables:\n",
    "\n",
    "$$\n",
    "y_{i} = \\beta_{0} + \\beta_{1}x_{1i} + \\epsilon_{i}, \\quad \\epsilon_{i} \\sim N(0, \\sigma^{2})\n",
    "$$\n",
    "\n",
    "Equivalently:\n",
    "\n",
    "$$\n",
    "E(y_{i} \\vert x_{i}) = \\beta_{0} + \\beta_{1}x_{i}\n",
    "$$\n",
    "\n",
    "This GLM can be expressed in terms of its three components:\n",
    "\n",
    "- Distribution $y_{i} \\sim N(\\mu_{i}, \\sigma^{2})$ with $E(y_{i}) = \\mu_{i}$ and $Var(y_{i}) = \\sigma^{2}$\n",
    "- Linear predictor $\\eta_{i} = \\beta_{0} + \\beta_{1}x_{i}$\n",
    "- Link function $\\eta_{i} = \\mu_{i} \\qquad$ *identity link*\n",
    "\n",
    "where $\\beta_{0}$ and $\\beta_{1}$ are the **intercept** and **slope**, respectively. This means that we are expressing the linear model as a GLM."
   ]
  },
  {
   "cell_type": "markdown",
   "id": "dc1f15b0-96fa-4591-9c62-c82aa0203879",
   "metadata": {},
   "source": [
    "### Logistic Regression\n",
    "\n",
    "Let $y_{i}$ be the observed response on a set of $p$ explanatory variables $x_{1}, X_{2}, ..., x+{p}$ whose distribution $y_{i}$ is binomial with $n_{i}$ independent Bernoulli trials and probability of success $\\pi_{i}$ on each trial, i.e. \n",
    "\n",
    "$y_{i} \\sim Binomial(n_{i}, \\pi_{i})$\n",
    "\n",
    "We can model the responde using a GLM with a binomial response. The binomial dsitribution is a probability distribution that summarizes the likelihood of a specific number of successes in a fixed number of independent trials, each of which has only two possible outcomes (binary values). \n",
    "\n",
    "The linear predictor in this case will be equal to:\n",
    "\n",
    "$$\n",
    "log\\big( \\frac{\\pi_{i}}{1 - \\pi_{i}} \\big) = \\beta_{0} + \\beta_{1}x_{1i} + ... + \\beta_{p}x_{pi}\n",
    "$$\n",
    "\n",
    "commonly known as **logit**, defined as\n",
    "\n",
    "$$\n",
    "logit(\\pi_{i}) = log(\\frac{\\pi_{i}}{1 - \\pi_{i}}) = x^{T}\\beta\n",
    "$$\n",
    "\n",
    "which models the logarithm of the odds ratio as a function of the predictor variables. "
   ]
  },
  {
   "cell_type": "markdown",
   "id": "7cbace22-c9cc-4ccf-88dd-6400415db1ed",
   "metadata": {},
   "source": [
    "The components of this GLM for binomial data are:\n",
    "\n",
    "- Distribution $y_{i} \\sim Binomial(n_{i}, \\pi_{i})$ with $E(y_{i}) = n_{i}\\pi_{i}$ and $Var(y_{i}) = n_{i}\\pi_{i}(1 - \\pi_{i})$\n",
    "- Linear predictor $\\eta_{i} = \\beta_{0} + \\beta_{1}x_{1i} + ... + \\beta_{p}x_{pi}$\n",
    "- Link function $\\eta_{i} = logit(\\pi_{i}) = log(\\frac{\\pi_{i}}{1 - \\pi_{i}}) \\qquad$ *logit link*"
   ]
  },
  {
   "cell_type": "markdown",
   "id": "185c9dae-30cd-43de-84c1-100218be7515",
   "metadata": {},
   "source": [
    "Another useful link function is the **probit link** $\\eta_{i} = \\Phi^{-1}(\\pi_{i})$ where $\\Phi$ is the cumulative disrtibution function of a standard normal distribution.\n",
    "\n",
    "The cumulative standard normal distribution function $\\Phi$ is used to model the regression function when the dependent variable is binary. This link function **relates the probability $\\mu$ to the z-score that corresponds to that probability in a standard normal distribution**. The model becomes:\n",
    "\n",
    "$$\n",
    "\\Phi^{-1}(\\mu) = \\beta_{0} + \\beta_{1}x_{1} + ... + \\beta_{p}x_{p}\n",
    "$$\n",
    "\n",
    "Remember that $\\Phi(z) = P(Z \\geq z), Z \\sim N(0, 1)$, such that the probit **coefficient $\\beta_{1}$ is the change in $z$ associated with a one unit change in X**. Although the effect on $z$ of a change in X is linear, the link between $z$ and the dependent variable Y is nonlinear since $\\Phi$ is a nonlinear function of X."
   ]
  },
  {
   "cell_type": "markdown",
   "id": "8ba864b1-628c-41da-a6ee-766b47c634b0",
   "metadata": {},
   "source": [
    "In practice, the choice between the logit and probit models often results in **similar predictions** for most datasets because the curves are close in shape. The main difference between both models lies in the **link function** and the **distribution of the errors**. While logit model assumes that the error terms follow a **logistic distribution** the probit model assumes that error terms follow a **standard normal distribution**."
   ]
  },
  {
   "cell_type": "markdown",
   "id": "0bf968aa-5776-4db5-af4f-9462fe9723aa",
   "metadata": {},
   "source": [
    "### Poisson Regression\n",
    "\n",
    "The Poisson probability distribution is perhaps the most widely used for modeling count-type response variables (e.g. the no. of insects surviving after the aplication of an insecticide over time). As $\\lambda$ (the average count) increases, the Poisson distribution grows symetrically and eventually approaches a normal distribution.\n",
    "\n",
    "The probability distribution of a Poisson random variable $y$, which represents the number of successes ocurring in a given time interval or in a given region of space, is given by the expression:\n",
    "\n",
    "$$\n",
    "P(y = k) = \\frac{e^{-\\lambda}\\lambda^{k}}{k\\!}, \\quad \\lambda > 0, \\quad k = 1, 2, \\dots\n",
    "$$ \n",
    "\n",
    "where $\\lambda$ is the average number of successes in a time or space interval. The mean and variance of this distribution are the same, that is:\n",
    "\n",
    "$$\n",
    "E(y) = Var(y) = \\lambda\n",
    "$$\n",
    "\n",
    "Poisson regression belongs to a GLM and is used to analyze count data or contingency tables. A Poisson regression assumes that the response variable $y$ has a Poisson distribution and that the logarithm of its expected value can be modeled by a linear combination of unknown parameters and independent variables.\n",
    "\n",
    "The components of a GLM with a Poisson response $(y_{i} \\sim Poisson(\\lambda_{i}))$, where $\\lambda_{i}$ is the expected value of $y_{i}$, are:\n",
    "\n",
    "- Distribution $y_{i} \\sim Poisson(\\lambda_{i})$ with $E(y) = Var(y) = \\lambda$\n",
    "- Linear predictor $\\eta_{i} = \\beta_{0} + \\beta_{1}x_{1i} + ... + \\beta_{p}x_{pi}$\n",
    "- Link function $\\eta_{i} = log(\\lambda_{i}) = g(\\lambda_{i}) \\qquad$ *log link*\n"
   ]
  },
  {
   "cell_type": "markdown",
   "id": "4eb562e6-6f29-4e01-8174-0f3e1496975f",
   "metadata": {},
   "source": [
    "#### Log-Linear Models\n",
    "\n",
    "Log-linear models are models to study the relationship between categorical variables by analyzing the logarithms of expected cell counts in a contingency table. These models are commonly applied in cases where the response variable is count data and the goal is to examine the **association or interaction among categorical variables**. They treat variables symmetrically, i.e. **do not distinguish one variables as a response**. \n",
    "\n",
    "Variables can be nominal or ordinal. A nominal variable has no natural order (e.g. eye color, gender, type of pet). An ordinal variable has a range of orders (e.g. consumer satisfaction).\n",
    "\n",
    "If the variables are **independent** $\\pi_{ij} = \\pi_{i}\\pi_{j}$ and $\\lambda_{ij} = n\\pi_{ij} = n\\pi_{i}\\pi_{j}$ then $log(\\lambda_{ij}) = log(n) + log(\\pi_{i}) + log(\\pi_{j})$ expressed as $log(\\lambda_{ij}) = \\lambda + \\lambda^{x}_{i} + \\lambda^{y}_{j}$, thus:\n",
    "\n",
    "- Distribution $y_{ij} \\sim Poisson(\\lambda_{ij})$ with $E(y_{ij}) = Var(y_{ij}) = \\lambda_{ij}$\n",
    "- Linear predictor $\\eta_{ij} = \\lambda + \\lambda^{x}_{i} + \\lambda^{y}_{j}$\n",
    "- Link function $\\eta_{ij} = log(\\lambda_{ij})$ \n"
   ]
  },
  {
   "cell_type": "markdown",
   "id": "b3b54e9c-9fb2-4dbc-99be-02a5c2695a89",
   "metadata": {},
   "source": [
    "## Model Selection"
   ]
  },
  {
   "cell_type": "markdown",
   "id": "5acbe992-7f05-4097-8607-4be6bcc88b60",
   "metadata": {},
   "source": [
    "Any model is a simplification of reality. A simple model that fits adequately has the advantages of model **parsimony**, i.e. a model with a low no. of parameters that achieves a good fit to the data while effectively avoiding *overfitting*. \n",
    "\n",
    "**Overfitting** occurs when a model **captures not only the underlying relationship in the data but also noise and random fluctuations**. Overfitted models tend to have a high number of parameters, also if the underlying assumptions (e.g. distribution of the response variable, link function) are not met, the model may fit the noise rather than the true signal. Adding to many predictors or interactions can create a model that fits the training data very closely but doesn't generalize well.\n",
    "\n",
    "Criteria such as the *Akaike Information Criterion* and the *Bayesian Information Criterion* aid in model selection by incorporating penalties for model complexity."
   ]
  },
  {
   "cell_type": "markdown",
   "id": "893b7fbe-ad41-4c85-8ed5-2cf9c1904232",
   "metadata": {},
   "source": [
    "### Akaike Information Criterion (AIC)"
   ]
  },
  {
   "cell_type": "markdown",
   "id": "b53f8bb4-2a7c-4d6a-bcd5-6a3dcbbadaca",
   "metadata": {},
   "source": [
    "Akaike information criterion (AIC) judges a model by how close its fitted values tend to be to the true expected values, as summarized by a certain expected distance between the two. The optimal model is the one that tends to have its fitted values closest to the true outcome probabilities. This is the model that minimizes:\n",
    "\n",
    "$$\n",
    "AIC = 2k - 2log(L),\n",
    "$$\n",
    "\n",
    "where $k$ is the **no. of parameters in the model** and $L$ represents the **likelihood**.\n",
    "\n",
    "The likelihood $L$ represents the probability of observing the given data under specific model parameters. It measures how well a statistical model explains the observed data. The term $log(L)$ is a measure of the goodness of fit of the model, a higher value indicates a better fit. As we see above the AIC **penalizes a model for having many parameters**. Therefore, a **lower AIC** indicates a better-fitting model.\n",
    "\n",
    "Even though a simple model is farther than a more complex model from the true relationship, for a sample the simple model may provide better estimates of the true expected values."
   ]
  },
  {
   "cell_type": "markdown",
   "id": "852785ff-e770-4b4d-92c4-7f7dd8c5af0c",
   "metadata": {},
   "source": [
    "### Receiver Operating Characteristic (ROC) Curve"
   ]
  },
  {
   "cell_type": "markdown",
   "id": "709e778d-cff3-4604-b375-a7a40ba41f37",
   "metadata": {},
   "source": [
    "A *receiver operating characteristic* (ROC) curve is a plot used to evaluate the performance of binary classification models. It plots **sensitivity** on the *y*-axis against **1 - specificity**  on the *x*-axis at various threshold settings.\n",
    "\n",
    "Sensitivity, also called *true positive rate* (TRP), is the **proportion of actual positives** that are correctly identified by the model:\n",
    "\n",
    "$$\n",
    "Sensitivity = \\frac{True~Positives}{True~Positives + False~Negatives}\n",
    "$$\n",
    "\n",
    "Specificity, also called *true negative rate* (TNR), is the **proportion of actual negatives** that are correctly identified by the model:\n",
    "\n",
    "$$\n",
    "Specificity = \\frac{True~Negatives}{True~Negatives + False~Positives}\n",
    "$$\n",
    "\n",
    "Note that in the ROC curve we use **1 - specificity**, also called *false positive rate* (FPR), this is the **proportion of actual negatives** that are incorrectly classified as positives:\n",
    "\n",
    "$$\n",
    "False~Positive~Rate = 1 - Specificity = \\frac{True~Negatives}{True~Negatives + False~Positives}\n",
    "$$"
   ]
  },
  {
   "cell_type": "markdown",
   "id": "62c83c2f-38ae-40fc-bd77-f30d9c7c061a",
   "metadata": {},
   "source": [
    "A classifier with good performance will have a curve that bows towards top left corner, indicating high sensitivity and low FPR across a range of thresholds. A **low threshold** means that the model is more likely to predict positives, increasing sensitivity but may lead to more false positives. A **high threshold** makes the model more conservative, predicting positives with a high confidence, increasing specificity but reducing specificity (i.e. some true positives may be misclassified). A random classifier will give a diagonal line from $(0, 0)$ to $(1, 1)$."
   ]
  },
  {
   "cell_type": "markdown",
   "id": "41b66d8a-97f8-4d9a-a330-e41c7e6e977b",
   "metadata": {},
   "source": [
    "Retrieved from: \n",
    "\n",
    "- Salinas Ruíz, J., Montesinos López, O. A., Hernández Ramírez, G., & Crossa Hiriart, J. (2023). *Generalized linear mixed models with applications in agriculture and biology*. Springer.\n",
    "- Agresti, A. (2007). *An introduction to categorical data analysis 2nd ed*. Wiley-Interscience."
   ]
  },
  {
   "cell_type": "markdown",
   "id": "26ded56c-2db6-425e-8b66-56b505b9e233",
   "metadata": {},
   "source": [
    "***"
   ]
  },
  {
   "cell_type": "markdown",
   "id": "841ae07b-daf4-4ec8-86b1-7518010d3f7e",
   "metadata": {},
   "source": [
    "## Exercises"
   ]
  },
  {
   "cell_type": "markdown",
   "id": "912090e4-5cb4-4ce9-827f-a07984829cb2",
   "metadata": {},
   "source": [
    "### Exercise 1.0"
   ]
  },
  {
   "cell_type": "markdown",
   "id": "20922c12-c592-4f2c-a5d5-f7c4994a554d",
   "metadata": {},
   "source": [
    "There is the following table where several levels of snoring are chosen and related to a heart disease. The values 0, 2, 4, and 5 are taken as relative snoring scores."
   ]
  },
  {
   "cell_type": "markdown",
   "id": "da21a626-b33b-496d-a188-e4976740d0f0",
   "metadata": {},
   "source": [
    "| Snoring          | Yes  | No   | Yes Proportion |\n",
    "|-------------------|-----|------|------------------|\n",
    "| Nunca             | 24  | 1355 | 0.017            |\n",
    "| Ocasional         | 35  | 603  | 0.055            |\n",
    "| Casi cada noche   | 21 | 192   | 0.099             |\n",
    "| Cada noche        | 30  | 224  | 0.118            |"
   ]
  },
  {
   "cell_type": "markdown",
   "id": "b755d942-58d0-40dd-a4ce-2795b166e435",
   "metadata": {},
   "source": [
    "Fit a generalized linear model **logit** and **probit** to analyze whether there is a relationship between snoring and the likelihood of having heart disease."
   ]
  },
  {
   "cell_type": "code",
   "execution_count": 5,
   "id": "034c4a5d-59b5-4ed6-a294-e299b9636291",
   "metadata": {},
   "outputs": [
    {
     "data": {
      "text/html": [
       "<table class=\"dataframe\">\n",
       "<caption>A data.frame: 4 × 4</caption>\n",
       "<thead>\n",
       "\t<tr><th scope=col>Snoring_Category</th><th scope=col>Yes</th><th scope=col>No</th><th scope=col>Yes_Proportion</th></tr>\n",
       "\t<tr><th scope=col>&lt;chr&gt;</th><th scope=col>&lt;dbl&gt;</th><th scope=col>&lt;dbl&gt;</th><th scope=col>&lt;dbl&gt;</th></tr>\n",
       "</thead>\n",
       "<tbody>\n",
       "\t<tr><td>Never             </td><td>24</td><td>1355</td><td>0.017</td></tr>\n",
       "\t<tr><td>Occasional        </td><td>35</td><td> 603</td><td>0.055</td></tr>\n",
       "\t<tr><td>Nearly_Every_Night</td><td>21</td><td> 192</td><td>0.099</td></tr>\n",
       "\t<tr><td>Every_Night       </td><td>30</td><td> 224</td><td>0.118</td></tr>\n",
       "</tbody>\n",
       "</table>\n"
      ],
      "text/latex": [
       "A data.frame: 4 × 4\n",
       "\\begin{tabular}{llll}\n",
       " Snoring\\_Category & Yes & No & Yes\\_Proportion\\\\\n",
       " <chr> & <dbl> & <dbl> & <dbl>\\\\\n",
       "\\hline\n",
       "\t Never              & 24 & 1355 & 0.017\\\\\n",
       "\t Occasional         & 35 &  603 & 0.055\\\\\n",
       "\t Nearly\\_Every\\_Night & 21 &  192 & 0.099\\\\\n",
       "\t Every\\_Night        & 30 &  224 & 0.118\\\\\n",
       "\\end{tabular}\n"
      ],
      "text/markdown": [
       "\n",
       "A data.frame: 4 × 4\n",
       "\n",
       "| Snoring_Category &lt;chr&gt; | Yes &lt;dbl&gt; | No &lt;dbl&gt; | Yes_Proportion &lt;dbl&gt; |\n",
       "|---|---|---|---|\n",
       "| Never              | 24 | 1355 | 0.017 |\n",
       "| Occasional         | 35 |  603 | 0.055 |\n",
       "| Nearly_Every_Night | 21 |  192 | 0.099 |\n",
       "| Every_Night        | 30 |  224 | 0.118 |\n",
       "\n"
      ],
      "text/plain": [
       "  Snoring_Category   Yes No   Yes_Proportion\n",
       "1 Never              24  1355 0.017         \n",
       "2 Occasional         35   603 0.055         \n",
       "3 Nearly_Every_Night 21   192 0.099         \n",
       "4 Every_Night        30   224 0.118         "
      ]
     },
     "metadata": {},
     "output_type": "display_data"
    }
   ],
   "source": [
    "heart_disease_data <- data.frame(\n",
    "  Snoring_Category = c(\"Never\", \"Occasional\", \"Nearly_Every_Night\", \"Every_Night\"),\n",
    "  Yes = c(24, 35, 21, 30),\n",
    "  No = c(1355, 603, 192, 224),\n",
    "  Yes_Proportion = c(0.017, 0.055, 0.099, 0.118)\n",
    ") # data stored in a data frame\n",
    "\n",
    "heart_disease_data"
   ]
  },
  {
   "cell_type": "markdown",
   "id": "dc54dd1c-b30f-4a21-b823-726e72e6b7c6",
   "metadata": {},
   "source": [
    "Adding a numerical variable for snoring frequency. A new variable was added to the data frame to map the categorical data *Snoring Category* column to numerical values."
   ]
  },
  {
   "cell_type": "code",
   "execution_count": 6,
   "id": "adb33be6-c4b6-456a-a8e7-594ff9fc4e09",
   "metadata": {},
   "outputs": [
    {
     "data": {
      "text/html": [
       "<table class=\"dataframe\">\n",
       "<caption>A data.frame: 4 × 5</caption>\n",
       "<thead>\n",
       "\t<tr><th scope=col>Snoring_Category</th><th scope=col>Yes</th><th scope=col>No</th><th scope=col>Yes_Proportion</th><th scope=col>Snoring_No_Category</th></tr>\n",
       "\t<tr><th scope=col>&lt;chr&gt;</th><th scope=col>&lt;dbl&gt;</th><th scope=col>&lt;dbl&gt;</th><th scope=col>&lt;dbl&gt;</th><th scope=col>&lt;dbl&gt;</th></tr>\n",
       "</thead>\n",
       "<tbody>\n",
       "\t<tr><td>Never             </td><td>24</td><td>1355</td><td>0.017</td><td>0</td></tr>\n",
       "\t<tr><td>Occasional        </td><td>35</td><td> 603</td><td>0.055</td><td>2</td></tr>\n",
       "\t<tr><td>Nearly_Every_Night</td><td>21</td><td> 192</td><td>0.099</td><td>4</td></tr>\n",
       "\t<tr><td>Every_Night       </td><td>30</td><td> 224</td><td>0.118</td><td>5</td></tr>\n",
       "</tbody>\n",
       "</table>\n"
      ],
      "text/latex": [
       "A data.frame: 4 × 5\n",
       "\\begin{tabular}{lllll}\n",
       " Snoring\\_Category & Yes & No & Yes\\_Proportion & Snoring\\_No\\_Category\\\\\n",
       " <chr> & <dbl> & <dbl> & <dbl> & <dbl>\\\\\n",
       "\\hline\n",
       "\t Never              & 24 & 1355 & 0.017 & 0\\\\\n",
       "\t Occasional         & 35 &  603 & 0.055 & 2\\\\\n",
       "\t Nearly\\_Every\\_Night & 21 &  192 & 0.099 & 4\\\\\n",
       "\t Every\\_Night        & 30 &  224 & 0.118 & 5\\\\\n",
       "\\end{tabular}\n"
      ],
      "text/markdown": [
       "\n",
       "A data.frame: 4 × 5\n",
       "\n",
       "| Snoring_Category &lt;chr&gt; | Yes &lt;dbl&gt; | No &lt;dbl&gt; | Yes_Proportion &lt;dbl&gt; | Snoring_No_Category &lt;dbl&gt; |\n",
       "|---|---|---|---|---|\n",
       "| Never              | 24 | 1355 | 0.017 | 0 |\n",
       "| Occasional         | 35 |  603 | 0.055 | 2 |\n",
       "| Nearly_Every_Night | 21 |  192 | 0.099 | 4 |\n",
       "| Every_Night        | 30 |  224 | 0.118 | 5 |\n",
       "\n"
      ],
      "text/plain": [
       "  Snoring_Category   Yes No   Yes_Proportion Snoring_No_Category\n",
       "1 Never              24  1355 0.017          0                  \n",
       "2 Occasional         35   603 0.055          2                  \n",
       "3 Nearly_Every_Night 21   192 0.099          4                  \n",
       "4 Every_Night        30   224 0.118          5                  "
      ]
     },
     "metadata": {},
     "output_type": "display_data"
    }
   ],
   "source": [
    "heart_disease_data$Snoring_No_Category <- ifelse(heart_disease_data$Snoring_Category == \"Never\", 0, ifelse(heart_disease_data$Snoring_Category == \"Occasional\", 2,\n",
    "                                     ifelse(heart_disease_data$Snoring_Category == \"Nearly_Every_Night\", 4, ifelse(heart_disease_data$Snoring_Category == \"Every_Night\", 5, NA)))) # adding a numerical variable for snoring frequency\n",
    "heart_disease_data"
   ]
  },
  {
   "cell_type": "markdown",
   "id": "6dd05e0f-1f93-4e69-8a67-9a9c6ba6adcb",
   "metadata": {},
   "source": [
    "#### Logit Link Function"
   ]
  },
  {
   "cell_type": "markdown",
   "id": "fb4ecf7b-e80e-4501-8bad-2878bca2859d",
   "metadata": {},
   "source": [
    "Fitting a Logistic Regression model with a **logit** link function, using both columns *Yes* and *No* to correctly represent the binomial nature of the data. "
   ]
  },
  {
   "cell_type": "code",
   "execution_count": 7,
   "id": "2b98c178-7b2a-420b-95fe-aa3e5c0fdf93",
   "metadata": {},
   "outputs": [
    {
     "data": {
      "text/plain": [
       "\n",
       "Call:\n",
       "glm(formula = cbind(Yes, No) ~ Snoring_No_Category, family = binomial(link = logit), \n",
       "    data = heart_disease_data)\n",
       "\n",
       "Coefficients:\n",
       "                    Estimate Std. Error z value Pr(>|z|)    \n",
       "(Intercept)         -3.86625    0.16621 -23.261  < 2e-16 ***\n",
       "Snoring_No_Category  0.39734    0.05001   7.945 1.94e-15 ***\n",
       "---\n",
       "Signif. codes:  0 ‘***’ 0.001 ‘**’ 0.01 ‘*’ 0.05 ‘.’ 0.1 ‘ ’ 1\n",
       "\n",
       "(Dispersion parameter for binomial family taken to be 1)\n",
       "\n",
       "    Null deviance: 65.9045  on 3  degrees of freedom\n",
       "Residual deviance:  2.8089  on 2  degrees of freedom\n",
       "AIC: 27.061\n",
       "\n",
       "Number of Fisher Scoring iterations: 4\n"
      ]
     },
     "metadata": {},
     "output_type": "display_data"
    }
   ],
   "source": [
    "logistic.model <- glm(cbind(Yes, No) ~ Snoring_No_Category, family = 'binomial'(link = logit), data = heart_disease_data)\n",
    "summary(logistic.model)"
   ]
  },
  {
   "cell_type": "markdown",
   "id": "427b0499-c948-4aa6-b896-0ed10f3fb625",
   "metadata": {},
   "source": [
    "**Snoring Category**: The coefficient for the *snoring category* variable is $0.6545$ with a standard error of $0.0825$, and a **z-value** ($7.931$). The **$p$-value** ($2.18e-15$) for the variable indicates that the frequency of snoring is a statistically significant predictor of the response variable, in this case the presence of a heart disease. \n",
    "\n",
    "Note that *** indicates that the variable is highly statistically significant since **$p$-value** < $0.001$."
   ]
  },
  {
   "cell_type": "code",
   "execution_count": 8,
   "id": "dca5a88c-7f53-4d4d-b7da-0e9fd8aabbf9",
   "metadata": {},
   "outputs": [
    {
     "data": {
      "image/png": "[encoded data removed]",
      "text/plain": [
       "plot without title"
      ]
     },
     "metadata": {
      "image/png": {
       "height": 420,
       "width": 420
      }
     },
     "output_type": "display_data"
    }
   ],
   "source": [
    "plot(heart_disease_data$Snoring_No_Category, heart_disease_data$Yes_Proportion, pch = 16, col = \"black\")\n",
    "points(heart_disease_data$Snoring_No_Category, logistic.model$fitted.values, col = \"red\", type = \"p\", lwd = 3)\n",
    "curve(predict(logistic.model, data.frame(Snoring_No_Category = x), type = \"response\"), add = TRUE, col = \"red\")"
   ]
  },
  {
   "cell_type": "markdown",
   "id": "78a41dd7-2fbf-4e65-b6c9-7702bb7f303d",
   "metadata": {},
   "source": [
    "The coefficient for the *snoring category* variable is $0.6545$, which means that for every one-unit increase in the snoring category, the log-odds of having heart disease increase. In other words, the value of the coefficient suggests that as snoring frequency increases, the likelihood of having heart disease significantly rises. This finding supports the idea that snoring frequency is associated with a higher risk of heart disease.\n",
    "\n",
    "Given that the $p$-value is much smaller than the significance level ($0.001$), there is strong evidence to support the idea that **there is a relationship between the snoring category and the risk of heart disease**."
   ]
  },
  {
   "cell_type": "markdown",
   "id": "9b1813ee-8828-417b-856d-2543e0e3cb1d",
   "metadata": {},
   "source": [
    "#### Probit Link Function"
   ]
  },
  {
   "cell_type": "markdown",
   "id": "996a5eec-581d-4969-a8ed-74b41418c4e8",
   "metadata": {},
   "source": [
    "Fitting a Logistic Regression model with a **probit** link function, using both columns *Yes* and *No* to correctly represent the binomial nature of the data. "
   ]
  },
  {
   "cell_type": "code",
   "execution_count": 9,
   "id": "b50e650e-f650-4d78-af7a-14b58e546783",
   "metadata": {},
   "outputs": [
    {
     "data": {
      "text/plain": [
       "\n",
       "Call:\n",
       "glm(formula = cbind(Yes, No) ~ Snoring_No_Category, family = binomial(link = probit), \n",
       "    data = heart_disease_data)\n",
       "\n",
       "Coefficients:\n",
       "                    Estimate Std. Error z value Pr(>|z|)    \n",
       "(Intercept)         -2.06055    0.07017 -29.367  < 2e-16 ***\n",
       "Snoring_No_Category  0.18777    0.02348   7.997 1.28e-15 ***\n",
       "---\n",
       "Signif. codes:  0 ‘***’ 0.001 ‘**’ 0.01 ‘*’ 0.05 ‘.’ 0.1 ‘ ’ 1\n",
       "\n",
       "(Dispersion parameter for binomial family taken to be 1)\n",
       "\n",
       "    Null deviance: 65.9045  on 3  degrees of freedom\n",
       "Residual deviance:  1.8716  on 2  degrees of freedom\n",
       "AIC: 26.124\n",
       "\n",
       "Number of Fisher Scoring iterations: 4\n"
      ]
     },
     "metadata": {},
     "output_type": "display_data"
    }
   ],
   "source": [
    "logistic.model <- glm(cbind(Yes, No) ~ Snoring_No_Category, family = 'binomial'(link = probit), data = heart_disease_data)\n",
    "summary(logistic.model)"
   ]
  },
  {
   "cell_type": "markdown",
   "id": "42535f88-2127-4710-acfb-3cf71c1ccd99",
   "metadata": {},
   "source": [
    "Snoring Category: The coefficient for the *snoring category* variable is $0.3157$ with a standard error of $0.0397$ and a **z-value** of $7.948$. As in the previous case, the **p-value** ($1.89e-15$) for this variable indicates that snoring frequency is a statistically significant predictor of the response (heart disease).\n",
    "\n",
    "As mentioned earlier, *** indicates that the variable is highly statistically significant, i.e. **$p$-value** < $0.001$."
   ]
  },
  {
   "cell_type": "code",
   "execution_count": 10,
   "id": "43fa52a0-8237-486e-a2df-920b1de94fab",
   "metadata": {},
   "outputs": [
    {
     "data": {
      "image/png": "[encoded data removed]",
      "text/plain": [
       "plot without title"
      ]
     },
     "metadata": {
      "image/png": {
       "height": 420,
       "width": 420
      }
     },
     "output_type": "display_data"
    }
   ],
   "source": [
    "plot(heart_disease_data$Snoring_No_Category, heart_disease_data$Yes_Proportion, pch = 16, col = \"black\")\n",
    "points(heart_disease_data$Snoring_No_Category, logistic.model$fitted.values, col = \"red\", type = \"p\", lwd = 3)\n",
    "curve(predict(logistic.model, data.frame(Snoring_No_Category = x), type = \"response\"), add = TRUE, col = \"red\")"
   ]
  },
  {
   "cell_type": "markdown",
   "id": "5a8f4344-f760-4def-88a5-3203452cabd4",
   "metadata": {},
   "source": [
    "Similarly, the coefficient for the s*noring category* variable suggests that as snoring frequency increases, the odds of having heart disease also increase. This reinforces the idea that snoring frequency is associated with a higher risk of developing heart disease.\n",
    "\n",
    "Given that the $p$-value is much smaller than the significance level ($0.001$), we can say that the predictor is highly statistically significant."
   ]
  },
  {
   "cell_type": "markdown",
   "id": "8e0ef6af-03e4-472f-891f-e066e08fc097",
   "metadata": {},
   "source": [
    "#### Model Comparison"
   ]
  },
  {
   "cell_type": "markdown",
   "id": "505d1772-117f-48fe-8f76-368e0fd4b0e0",
   "metadata": {},
   "source": [
    "The Akaike Information Criterion (AIC) is a metric used to evaluate model quality in terms of goodness-of-fit and model complexity. A lower AIC value indicates a better fit. Using the probit function, the AIC value obtained was $29.026$, compared to the value obtained using the logit function $30.492$. This suggests that the **model using the probit link function is slightly better**.\n",
    "\n",
    "The residual deviance measures how well the model fits the data, a lower deviance indicates a better fit. The model using the probit function has a lower residual deviance ($4.7733$) compared to the model using the logit function ($6.2398$), suggesting that the **probit model provides a slightly better fit**.\n",
    "\n",
    "Both models show that the predictor (snoring category) is statistically significant, with $p$-values less than $0.001$. The difference between them is minimal, **both models provide similar results**."
   ]
  },
  {
   "cell_type": "markdown",
   "id": "69ec3bb9-5d57-4d8d-be29-5b393b390f19",
   "metadata": {},
   "source": [
    "### Exercise 2.0"
   ]
  },
  {
   "cell_type": "markdown",
   "id": "80502406-cbee-444f-8992-9476c3eee334",
   "metadata": {},
   "source": [
    "Among horseshoe crabs, it is known that each female has a male in her nest, but she may have additional concubine males. The response variable is considered to be the number of concubine males, and the explanatory variables are color, condition of the central spine, weight, and carapace width."
   ]
  },
  {
   "cell_type": "markdown",
   "id": "aa9714dd-9205-44a3-9608-66f8a70d1151",
   "metadata": {},
   "source": [
    "| Color | Spine | Width | Satellite | Weight |\n",
    "|----------|----------|----------|----------|----------|\n",
    "| 3     | 3     | 28.3  | 8   | 3050  |\n",
    "| 4     | 3     | 22.5  | 0   | 1550  |\n",
    "| 2     | 1     | 26.0  | 9   | 2300  |\n",
    "| 4     | 3     | 24.8  | 0   | 2100  |\n",
    "| 4     | 3     | 26.0  | 4   | 2600  |\n",
    "| 3     | 3     | 23.8  | 0   | 2100  |\n",
    "| 2     | 1     | 26.5  | 0   | 2350  |\n"
   ]
  },
  {
   "cell_type": "markdown",
   "id": "70d886e6-dfb8-40b3-885b-d9727dcbfe8f",
   "metadata": {},
   "source": [
    "Perform and interpret the results of fitting a generalized linear model of the Poisson type."
   ]
  },
  {
   "cell_type": "markdown",
   "id": "f6bf6261-2fab-443a-bbe7-ee762c0a3e02",
   "metadata": {},
   "source": [
    "There are **n = 7** observations and **5** variables in the dataset. Here the variable *satellite* is the response variable."
   ]
  },
  {
   "cell_type": "code",
   "execution_count": 1,
   "id": "6fde3893-4803-4589-952a-d412464cd24e",
   "metadata": {},
   "outputs": [
    {
     "data": {
      "text/html": [
       "<table class=\"dataframe\">\n",
       "<caption>A data.frame: 7 × 5</caption>\n",
       "<thead>\n",
       "\t<tr><th scope=col>Color</th><th scope=col>Spine</th><th scope=col>Width</th><th scope=col>Satellite</th><th scope=col>Weight</th></tr>\n",
       "\t<tr><th scope=col>&lt;dbl&gt;</th><th scope=col>&lt;dbl&gt;</th><th scope=col>&lt;dbl&gt;</th><th scope=col>&lt;dbl&gt;</th><th scope=col>&lt;dbl&gt;</th></tr>\n",
       "</thead>\n",
       "<tbody>\n",
       "\t<tr><td>3</td><td>3</td><td>28.3</td><td>8</td><td>3050</td></tr>\n",
       "\t<tr><td>4</td><td>3</td><td>22.5</td><td>0</td><td>1550</td></tr>\n",
       "\t<tr><td>2</td><td>1</td><td>26.0</td><td>9</td><td>2300</td></tr>\n",
       "\t<tr><td>4</td><td>3</td><td>24.8</td><td>0</td><td>2100</td></tr>\n",
       "\t<tr><td>4</td><td>3</td><td>26.0</td><td>4</td><td>2600</td></tr>\n",
       "\t<tr><td>3</td><td>3</td><td>23.8</td><td>0</td><td>2100</td></tr>\n",
       "\t<tr><td>2</td><td>1</td><td>26.5</td><td>0</td><td>2350</td></tr>\n",
       "</tbody>\n",
       "</table>\n"
      ],
      "text/latex": [
       "A data.frame: 7 × 5\n",
       "\\begin{tabular}{lllll}\n",
       " Color & Spine & Width & Satellite & Weight\\\\\n",
       " <dbl> & <dbl> & <dbl> & <dbl> & <dbl>\\\\\n",
       "\\hline\n",
       "\t 3 & 3 & 28.3 & 8 & 3050\\\\\n",
       "\t 4 & 3 & 22.5 & 0 & 1550\\\\\n",
       "\t 2 & 1 & 26.0 & 9 & 2300\\\\\n",
       "\t 4 & 3 & 24.8 & 0 & 2100\\\\\n",
       "\t 4 & 3 & 26.0 & 4 & 2600\\\\\n",
       "\t 3 & 3 & 23.8 & 0 & 2100\\\\\n",
       "\t 2 & 1 & 26.5 & 0 & 2350\\\\\n",
       "\\end{tabular}\n"
      ],
      "text/markdown": [
       "\n",
       "A data.frame: 7 × 5\n",
       "\n",
       "| Color &lt;dbl&gt; | Spine &lt;dbl&gt; | Width &lt;dbl&gt; | Satellite &lt;dbl&gt; | Weight &lt;dbl&gt; |\n",
       "|---|---|---|---|---|\n",
       "| 3 | 3 | 28.3 | 8 | 3050 |\n",
       "| 4 | 3 | 22.5 | 0 | 1550 |\n",
       "| 2 | 1 | 26.0 | 9 | 2300 |\n",
       "| 4 | 3 | 24.8 | 0 | 2100 |\n",
       "| 4 | 3 | 26.0 | 4 | 2600 |\n",
       "| 3 | 3 | 23.8 | 0 | 2100 |\n",
       "| 2 | 1 | 26.5 | 0 | 2350 |\n",
       "\n"
      ],
      "text/plain": [
       "  Color Spine Width Satellite Weight\n",
       "1 3     3     28.3  8         3050  \n",
       "2 4     3     22.5  0         1550  \n",
       "3 2     1     26.0  9         2300  \n",
       "4 4     3     24.8  0         2100  \n",
       "5 4     3     26.0  4         2600  \n",
       "6 3     3     23.8  0         2100  \n",
       "7 2     1     26.5  0         2350  "
      ]
     },
     "metadata": {},
     "output_type": "display_data"
    }
   ],
   "source": [
    "crabs_data <- data.frame(\n",
    "  Color = c(3, 4, 2, 4, 4, 3, 2),\n",
    "  Spine = c(3, 3, 1, 3, 3, 3, 1),\n",
    "  Width = c(28.3, 22.5, 26.0, 24.8, 26.0, 23.8, 26.5),\n",
    "  Satellite = c(8, 0, 9, 0, 4, 0, 0),\n",
    "  Weight = c(3050, 1550, 2300, 2100, 2600, 2100, 2350)\n",
    ") # data stored in a data frame\n",
    "\n",
    "crabs_data"
   ]
  },
  {
   "cell_type": "markdown",
   "id": "a25f31ae-eaae-4b62-956a-acc19e7ea2e5",
   "metadata": {},
   "source": [
    "Fitting a Poisson regression model with the `Satellite` variable as the response variable, and `Width`, `Weight` and `Color` as the explanatory variables."
   ]
  },
  {
   "cell_type": "code",
   "execution_count": 3,
   "id": "ca1086a3-5f46-4e41-b365-265056f6a02b",
   "metadata": {},
   "outputs": [
    {
     "data": {
      "text/plain": [
       "\n",
       "Call:\n",
       "glm(formula = Satellite ~ Width + Weight + Color, family = poisson(link = log), \n",
       "    data = crabs_data)\n",
       "\n",
       "Coefficients:\n",
       "             Estimate Std. Error z value Pr(>|z|)\n",
       "(Intercept)  5.712413  13.619198   0.419    0.675\n",
       "Width       -0.432511   0.740442  -0.584    0.559\n",
       "Weight       0.003794   0.003005   1.263    0.207\n",
       "Color       -0.935272   0.627179  -1.491    0.136\n",
       "\n",
       "(Dispersion parameter for poisson family taken to be 1)\n",
       "\n",
       "    Null deviance: 37.770  on 6  degrees of freedom\n",
       "Residual deviance: 19.536  on 3  degrees of freedom\n",
       "AIC: 38.794\n",
       "\n",
       "Number of Fisher Scoring iterations: 7\n"
      ]
     },
     "metadata": {},
     "output_type": "display_data"
    }
   ],
   "source": [
    "poisson.model <- glm(Satellite ~ Width + Weight + Color, family = 'poisson'(link = log), data = crabs_data)\n",
    "summary(poisson.model)"
   ]
  },
  {
   "cell_type": "markdown",
   "id": "388e0f49-7990-4473-827e-f9be87366a13",
   "metadata": {},
   "source": [
    "**Width**: The coefficient for the *Width* variable is $-0.4325$ with a standard error of $0.7404$. The **p-value** ($0.559$) indicates that the effect of this variable is not statistically significant, meaning we cannot affirm that *Width* influences in the outcome.\n",
    "\n",
    "**Weight**: The coefficient for the *Weight* variable is $0.003794$ with a standard error of $0.0030$. Similar to the *Width* variable, the **p-value** suggests that the effect of weight is not statistically significant, as the p-value is $> 0.05$.\n",
    "\n",
    "**Color**: The coefficient for the Color variable is $-0.9352$ with a standard error of $0.6271$. Based on the **p-value**, we can conclude that the effect of this variable on the response (*Satellite* variable) is not significant."
   ]
  },
  {
   "cell_type": "markdown",
   "id": "2bb5d962-0760-4138-8332-a707500b30ce",
   "metadata": {},
   "source": [
    "***"
   ]
  },
  {
   "cell_type": "markdown",
   "id": "1ba7ab03-72b0-4a3b-adb4-8673552a7ca2",
   "metadata": {},
   "source": [
    "Fitting a Poisson regression model with the `Satellite` variable as the response variable, and `width` and `height` of the female as the explanatory variables."
   ]
  },
  {
   "cell_type": "code",
   "execution_count": 2,
   "id": "85d4fa2b-1b88-4d05-b1b9-3a76e21e2196",
   "metadata": {},
   "outputs": [
    {
     "data": {
      "text/plain": [
       "\n",
       "Call:\n",
       "glm(formula = Satellite ~ Width + Weight, family = poisson(link = log), \n",
       "    data = crabs_data)\n",
       "\n",
       "Coefficients:\n",
       "              Estimate Std. Error z value Pr(>|z|)\n",
       "(Intercept) -1.395e+01  8.480e+00  -1.645    0.100\n",
       "Width        5.945e-01  4.727e-01   1.258    0.209\n",
       "Weight      -2.114e-04  1.736e-03  -0.122    0.903\n",
       "\n",
       "(Dispersion parameter for poisson family taken to be 1)\n",
       "\n",
       "    Null deviance: 37.770  on 6  degrees of freedom\n",
       "Residual deviance: 22.166  on 4  degrees of freedom\n",
       "AIC: 39.423\n",
       "\n",
       "Number of Fisher Scoring iterations: 6\n"
      ]
     },
     "metadata": {},
     "output_type": "display_data"
    }
   ],
   "source": [
    "poisson.model <- glm(Satellite ~ Width + Weight, family = 'poisson'(link = log), data = crabs_data)\n",
    "summary(poisson.model)"
   ]
  },
  {
   "cell_type": "markdown",
   "id": "30000174-979c-4940-a999-247ca03618d1",
   "metadata": {},
   "source": [
    "**Width**: The coefficient for the *Width* variable is $5.945e-01$ with a standard error of $4.727e-01$. The **p-value** ($0.209$) indicates that, similar to the previous model, the effect of this variable is not statistically significant (**p-value** $> 0.05$).\n",
    "\n",
    "**Weight**: The coefficient for the Weight variable is $-2.114e-04$ with a standard error of $1.736e-03$. Same as before, the **p-value** ($0.122$) suggests that the effect of this variable is not statistically significant."
   ]
  },
  {
   "cell_type": "markdown",
   "id": "a45ff7f5-9c7c-414a-8c52-93015331e4e7",
   "metadata": {},
   "source": [
    "In this case, considering a logistic regression model with the predictor variables `Width` and `Weight`, we can say that neither variable has a significant effect on the response variable `Satellite`, as their p-values $> 0.05$."
   ]
  },
  {
   "cell_type": "markdown",
   "id": "4902bf3b-30d9-48a5-92af-e54faa6e898b",
   "metadata": {},
   "source": [
    "***"
   ]
  },
  {
   "cell_type": "markdown",
   "id": "efe35ccd-343f-4e01-b148-28881268ca23",
   "metadata": {},
   "source": [
    "Poisson regression model with the number of `Satellites` as the outcome and the `width` of the female as the explanatory variable."
   ]
  },
  {
   "cell_type": "code",
   "execution_count": 123,
   "id": "0fb5ff0d-abfa-471b-9dae-286633ffa07b",
   "metadata": {},
   "outputs": [
    {
     "data": {
      "text/plain": [
       "\n",
       "Call:\n",
       "glm(formula = Satellite ~ Width, family = poisson(link = log), \n",
       "    data = crabs_data)\n",
       "\n",
       "Coefficients:\n",
       "            Estimate Std. Error z value Pr(>|z|)    \n",
       "(Intercept) -13.0435     3.9930  -3.267 0.001088 ** \n",
       "Width         0.5400     0.1483   3.640 0.000273 ***\n",
       "---\n",
       "Signif. codes:  0 ‘***’ 0.001 ‘**’ 0.01 ‘*’ 0.05 ‘.’ 0.1 ‘ ’ 1\n",
       "\n",
       "(Dispersion parameter for poisson family taken to be 1)\n",
       "\n",
       "    Null deviance: 37.770  on 6  degrees of freedom\n",
       "Residual deviance: 22.181  on 5  degrees of freedom\n",
       "AIC: 37.438\n",
       "\n",
       "Number of Fisher Scoring iterations: 6\n"
      ]
     },
     "metadata": {},
     "output_type": "display_data"
    }
   ],
   "source": [
    "poisson.model <- glm(Satellite ~ Width, family = 'poissoModels with partial interactions, whether double or triple (e.g., Class * Sex and Class * Sex * Age), show significant improvements over the null model but also exhibit discrepancies in fit.\n",
    "\n",
    "The model with all possible interactions (Class * Sex * Age * Survived) demonstrates fit issues, evidenced by the values in the likelihood ratio and NaN values in the statistic, indicating potential overfitting or incorrect specification.\n",
    "\n",
    "It is necessary to consider each of the double and triple interactions to determine the model that provides the best fit to the data while capturing the most information.n'(link = log), data = crabs_data)\n",
    "summary(poisson.model)"
   ]
  },
  {
   "cell_type": "markdown",
   "id": "55d762fe-2a9a-4156-928c-8fb395e5fce6",
   "metadata": {},
   "source": [
    "**Width**: The coefficient for width is $0.5400$ with a standard error of $0.1483$. The z-value ($3.640$) and $p$-value ($0.000273$) indicate that this coefficient is highly significant, suggesting that *width* is a strong predictor of the number of satellites.\n",
    "\n",
    "Note that *** indicate that the variable is highly statistically significant (**$p$-value** < $0.001$)."
   ]
  },
  {
   "cell_type": "code",
   "execution_count": 128,
   "id": "ae4c5273-8f68-47bc-a690-7e27a34a2147",
   "metadata": {},
   "outputs": [
    {
     "data": {
      "image/png": "[encoded data removed]",
      "text/plain": [
       "plot without title"
      ]
     },
     "metadata": {
      "image/png": {
       "height": 420,
       "width": 420
      }
     },
     "output_type": "display_data"
    }
   ],
   "source": [
    "plot(crabs_data$Width, crabs_data$Satellite, pch = 16, col = \"black\")\n",
    "points(crabs_data$Width, poisson.model$fitted.values, col = \"red\", type = \"p\", lwd = 3)\n",
    "curve(predict(poisson.model, data.frame(Width = x), type = \"response\"), add = TRUE, col = \"red\")"
   ]
  },
  {
   "cell_type": "markdown",
   "id": "57e8f2d2-a72b-4609-a03d-b5575f857f67",
   "metadata": {},
   "source": [
    "The coefficient for the *Width* variable is $0.5400$, which means that for each one-unit increase in the Width variable, the expected value of the logarithm of the Satellite variable increases. The $p$-value ($0.000273$) indicates that this coefficient is highly significant from a statistical view ($p$-value < $0.001$).\n",
    "\n",
    "Overall, since the $p$-value is much lower than the significance level ($0.001$), we can say that there is a **significant relationship** between the *Width* variable and the *Satellite* variable. The positive coefficient suggests that as the Width variable increases, the expected count of the Satellite variable also increases."
   ]
  },
  {
   "cell_type": "markdown",
   "id": "cd31c7b1-acff-4e44-b373-a207109993ae",
   "metadata": {},
   "source": [
    "#### Model Comparison"
   ]
  },
  {
   "cell_type": "markdown",
   "id": "fec9df91-b4cd-47a8-8173-f564be5b8ac9",
   "metadata": {},
   "source": [
    "Of all the proposed models: Model 1 - `Satelittle ~ Width + Weight + Color`, Model 2 - `Satelittle ~ Width + Weight`, and Model 3 - `Satelittle ~ Width`; the one with the best fit is **Model 3**.\n",
    "\n",
    "This model shows that the effect of the variable `Width` on the variable `Satellite` is **statistically significant**. Additionally, when comparing the AIC values among the models, we observe that the lowest value corresponds to Model 3. This supports the previous statement: Model 3, which uses only the variable Width as a predictor, provides the best fit. The other models exhibit an increase in AIC, suggesting an unnecessary increase in model complexity.\n",
    "\n",
    "It's important to note that the **parsimony of Model 3 is noteworthy**. By utilizing fewer predictors, it achieves a balance between simplicity and explanatory power, making it a more efficient choice without sacrificing predictive accuracy. This underscores the principle that simpler models are often preferable, as they are easier to interpret and less prone to overfitting."
   ]
  },
  {
   "cell_type": "markdown",
   "id": "3a931318-07cf-4dc4-aa5d-4a543a08a4a8",
   "metadata": {},
   "source": [
    "### Exercise 3.0"
   ]
  },
  {
   "cell_type": "markdown",
   "id": "652f28ef-0162-44ee-9f64-1fe0661e323f",
   "metadata": {},
   "source": [
    "Suppose $\\left(x_1, y_1\\right), \\ldots,\\left(x_n, y_n\\right)$ are independent observations of random variables defined as follows:\n",
    "$$\n",
    "\\begin{aligned}\n",
    "Y_i & \\sim \\operatorname{Bernoulli}(p), \\quad i=1, \\cdots, n \\\\\n",
    "X_i \\mid \\left\\{Y_i=1\\right\\} & \\sim N\\left(\\mu_1, \\sigma^2\\right) \\\\\n",
    "X_i \\mid \\left\\{Y_i=0\\right\\} & \\sim N\\left(\\mu_0, \\sigma^2\\right)\n",
    "\\end{aligned}\n",
    "$$\n",
    "\n",
    "Using Bayes' Theorem, show that $\\mathrm{P}\\left(Y_i=1 \\mid X_i\\right)$ satisfies the logistic regression model, that is,\n",
    "$$\n",
    "\\operatorname{logit}\\left(P\\left(Y_i=1 \\mid X_i\\right)\\right) = \\beta_{0} + \\beta_{i} X_i\n",
    "$$\n",
    "where $\\beta_{i} = \\left(\\mu_1 - \\mu_0\\right) / \\sigma^2$.\n"
   ]
  },
  {
   "cell_type": "markdown",
   "id": "10698930-d532-429d-a3fa-c32147855bd0",
   "metadata": {},
   "source": [
    "Demonstrate that the conditional probability $\\mathrm{P}(Y_i = 1 \\mid X_i)$ follows a **logistic regression** model, i.e.,\n",
    "\n",
    "$$\n",
    "\\operatorname{logit}\\left(\\mathrm{P}(Y_i = 1 \\mid X_i)\\right) = \\beta_{0} + \\beta_{i} X_i,\n",
    "$$\n",
    "\n",
    "with $\\beta_{i} = \\frac{\\mu_1 - \\mu_0}{\\sigma^2}$.\n"
   ]
  },
  {
   "cell_type": "markdown",
   "id": "d651656f-133b-4509-a970-405e5272568a",
   "metadata": {},
   "source": [
    "Let the **Bayes' Theorem** be:\n",
    "\n",
    "$P(Y_{i} = 1 \\mid X_{i}) = \\frac{P(X_{i} \\mid Y_{i} = 1) P(Y_{i} = 1)}{P(X_{i})} \\qquad \\text{for} \\quad Y_{i} = 1$\n",
    "\n",
    "and\n",
    "\n",
    "$P(Y_{i} = 0 \\mid X_{i}) = \\frac{P(X_{i} \\mid Y_{i} = 0) P(Y_{i} = 0)}{P(X_{i})} \\qquad \\text{for} \\quad Y_{i} = 0$\n",
    "\n",
    "Therefore:\n",
    "\n",
    "$$\n",
    "\\frac{P(Y_i = 1 \\mid X_i)}{P(Y_i = 0 \\mid X_i)} = \\frac{P(X_i \\mid Y_i = 1) P(Y_i = 1)}{P(X_i \\mid Y_i = 0) P(Y_i = 0)}\n",
    "$$\n",
    "\n",
    "Let $P(Y_i = 1) = p$ and $P(Y_i = 0) = 1 - p$, then:\n",
    "\n",
    "$$\n",
    "\\frac{P(Y_i = 1 \\mid X_i)}{P(Y_i = 0 \\mid X_i)} = \\frac{P(X_i \\mid Y_i = 1) \\cdot p }{P(X_i \\mid Y_i = 0) \\cdot (1 - p)}\n",
    "$$\n",
    "\n",
    "Given that:\n",
    "\n",
    "$X_i \\mid Y_i = 1 \\sim N(\\mu_1, \\sigma^2)$, and $X_i \\mid Y_i = 0 \\sim N(\\mu_0, \\sigma^2)$\n",
    "\n",
    "Then:\n",
    "\n",
    "$P(X_i \\mid Y_i = 1) = \\frac{1}{\\sqrt{2 \\pi \\sigma^2}} \\exp \\left( -\\frac{(X_i - \\mu_1)^2}{2 \\sigma^2} \\right)$,\n",
    "\n",
    "and\n",
    "\n",
    "$P(X_i \\mid Y_i = 0) = \\frac{1}{\\sqrt{2 \\pi \\sigma^2}} \\exp \\left( -\\frac{(X_i - \\mu_0)^2}{2 \\sigma^2} \\right)$\n",
    "\n",
    "So that:\n",
    "\n",
    "$$\n",
    "\\frac{P(Y_i = 1 \\mid X_i)}{P(Y_i = 0 \\mid X_i)} = \\frac{\\frac{1}{\\sqrt{2 \\pi \\sigma^2}} \\exp \\left( -\\frac{(X_i - \\mu_1)^2}{2 \\sigma^2} \\right) \\cdot p}{\\frac{1}{\\sqrt{2 \\pi \\sigma^2}} \\exp \\left( -\\frac{(X_i - \\mu_0)^2}{2 \\sigma^2} \\right) \\cdot (1 - p)}\n",
    "$$\n",
    "\n",
    "Using properties of exponents:\n",
    "\n",
    "$$\n",
    "\\frac{P(Y_i = 1 \\mid X_i)}{P(Y_i = 0 \\mid X_i)} = \\frac{p}{1 - p} \\exp \\left( -\\frac{(X_i - \\mu_1)^2 - (X_i - \\mu_0)^2}{2 \\sigma^2} \\right)\n",
    "$$\n",
    "\n",
    "Applying logarithm:\n",
    "\n",
    "$$\n",
    "\\begin{aligned}\n",
    "\\log \\left(\\frac{P(Y_i = 1 \\mid X_i)}{P(Y_i = 0 \\mid X_i)}\\right) &= \\log \\left( \\frac{p}{1 - p} \\cdot \\exp \\left( -\\frac{(X_i - \\mu_1)^2 - (X_i - \\mu_0)^2}{2 \\sigma^2} \\right) \\right)\\\\\n",
    "&= \\log \\left(\\frac{p}{1 - p}\\right) + \\log \\left( e^{\\frac{-\\left(x_i - \\mu_1\\right)^2}{2 \\sigma^2}}\\right) - \\log \\left( e^{\\frac{-\\left(x_i - \\mu_0\\right)^2}{2 \\sigma^2}}\\right)\\\\\n",
    "&= \\log \\left(\\frac{p}{1 - p}\\right) - \\frac{\\left(x_i - \\mu_1\\right)^2}{2 \\sigma^2} + \\frac{\\left(x_i - \\mu_0\\right)^2}{2 \\sigma^2}\\\\\n",
    "&= \\log \\left(\\frac{p}{1 - p}\\right) - \\frac{1}{2} \\left( \\frac{x_i^2 - 2 x_i \\mu_1 + \\mu_1^2}{\\sigma^2} \\right) + \\frac{1}{2} \\left( \\frac{x_i^2 - 2 x_i \\mu_0 + \\mu_0^2}{\\sigma^2} \\right)\\\\\n",
    "&= \\log \\left(\\frac{p}{1 - p}\\right) - \\frac{x_{i}^{2}}{2 \\sigma^{2}} + \\frac{x_i \\mu_1}{\\sigma^2} - \\frac{\\mu_1^2}{2 \\sigma^2} + \\frac{x_{i}^{2}}{2 \\sigma^{2}} - \\frac{x_i \\mu_0}{\\sigma^2} + \\frac{\\mu_0^2}{2 \\sigma^2}\\\\\n",
    "&= \\log \\left(\\frac{p}{1 - p}\\right) + \\frac{x_i \\mu_1}{\\sigma^2} - \\frac{\\mu_1^2}{2 \\sigma^2} - \\frac{x_i \\mu_0}{\\sigma^2} + \\frac{\\mu_0^2}{2 \\sigma^2}\\\\\n",
    "\\text{Simplifying}\\\\\n",
    "&= \\log \\left(\\frac{p}{1 - p}\\right) + \\frac{1}{2} \\left( \\frac{\\mu_0^2 - \\mu_1^2}{\\sigma^2} \\right) + \\frac{\\left( \\mu_1 - \\mu_0 \\right)}{\\sigma^2} x_i\n",
    "\\end{aligned}\n",
    "$$"
   ]
  },
  {
   "cell_type": "markdown",
   "id": "4d37e750-5b98-4074-a91b-bba47d243e17",
   "metadata": {},
   "source": [
    "Let $\\beta_{0} = \\log \\left(\\frac{p}{1 - p}\\right) + \\frac{1}{2} \\left( \\frac{\\mu_0^2 - \\mu_1^2}{\\sigma^2} \\right)$ and $\\beta_{i} = \\frac{\\mu_1 - \\mu_0}{\\sigma^2}$, finally:\n",
    "$$\n",
    "\\begin{aligned}\n",
    "= \\beta_{0} + \\beta_{i} x_i\n",
    "\\end{aligned}\n",
    "$$"
   ]
  },
  {
   "cell_type": "markdown",
   "id": "54b6040b-40e4-46db-8eb8-21e3332a2b40",
   "metadata": {},
   "source": [
    "### Exercise 4.0"
   ]
  },
  {
   "cell_type": "markdown",
   "id": "2fa9f8ac-2208-4bb1-94ee-07e9cfe86ed7",
   "metadata": {},
   "source": [
    "When using a logistic regression model for classification, we need to define the threshold $p$, above which we declare a positive result.\n",
    "\n",
    "ROC curves plot the TPR against the FPR for different thresholds $p$.\n",
    "\n",
    "$TPR = True~Positive~Rate = \\frac{TP}{P} = \\text{sensitivity}$\n",
    "\n",
    "$FPR = False~Positive~Rate = \\frac{FP}{N} = 1 - \\text{specificity}$\n",
    "\n",
    "- The TPR vs FPR graph can be interpreted as a plot of \"power\" vs. \"Type I error.\"\n",
    "- Ideally, a decision rule would be located at the point (0, 1).\n",
    "- The area under the curve (AUC) represents the probability that a randomly selected positive individual has a higher estimated risk than a randomly selected negative individual.\n",
    "- The Youden's $J$ statistic is a single-number measure that captures the performance of a diagnostic test. It represents the maximum vertical distance between the diagonal and the ROC curve, or equivalently:\n",
    "\n",
    "$$\n",
    "J = \\text{sensitivity} - (1 - \\text{specificity})\n",
    "$$"
   ]
  },
  {
   "cell_type": "markdown",
   "id": "8e969656-2927-410b-af38-f919c08d5d15",
   "metadata": {},
   "source": [
    "Construct the ROC curve for the problem of coronary damage and its relationship with age."
   ]
  },
  {
   "cell_type": "code",
   "execution_count": 5,
   "id": "943ee463-d21d-4bb7-b5d5-84cf323b315f",
   "metadata": {},
   "outputs": [],
   "source": [
    "library(pROC) # libraries for drawing ROC curves\n",
    "library(ROCR)"
   ]
  },
  {
   "cell_type": "code",
   "execution_count": 7,
   "id": "e7808c84-3c15-4f3c-a176-6bfbea79c1d1",
   "metadata": {},
   "outputs": [],
   "source": [
    "library(ggplot2)\n",
    "library(caret)"
   ]
  },
  {
   "cell_type": "markdown",
   "id": "63a577c0-4f84-4a51-ab63-37c0f04818b6",
   "metadata": {},
   "source": [
    "Data corresponding to age and its relationship with coronary damage."
   ]
  },
  {
   "cell_type": "code",
   "execution_count": 10,
   "id": "1ad86aea-fdc1-4313-87fc-0b929a39d578",
   "metadata": {},
   "outputs": [],
   "source": [
    "age <- c(20, 23, 24, 25, 25, 26, 26, 28, 28, 29, 30, 30, 30, 30, 30, 30, 32, 32, 33, 33,\n",
    "         34, 34, 34, 34, 34, 35, 35, 36, 36, 36, 37, 37, 37, 38, 38, 39, 39, 40, 40, 41,\n",
    "         41, 42, 42, 42, 42, 43, 43, 43, 44, 44, 44, 44, 45, 45, 46, 46, 47, 47, 47, 48,\n",
    "         48, 48, 49, 49, 49, 50, 50, 51, 52, 52, 53, 53, 54, 55, 55, 55, 56, 56, 56, 57,\n",
    "         57, 57, 57, 57, 57, 58, 58, 58, 59, 59, 60, 60, 61, 62, 62, 63, 64, 64, 65, 69)\n",
    "\n",
    "coro <- c(0,0,0,0,1,0,0,0,0,0,0,0,0,0,0,1,0,0,0,0,0,0,1,0,0,0,0,0,1,0,0,1,0,0,0,0,1,0,1,0,\n",
    "          0,0,0,0,1,0,0,1,0,0,1,1,0,1,0,1,0,0,1,0,1,1,0,0,1,0,1,0,0,1,1,1,1,0,1,1,1,1,1,0,\n",
    "          0,1,1,1,1,0,1,1,1,1,0,1,1,1,1,1,0,1,1,1)"
   ]
  },
  {
   "cell_type": "markdown",
   "id": "ab87181c-31a5-4f25-b5c0-d32359b054e7",
   "metadata": {},
   "source": [
    "Logistic regression model fitted with the `coro` variable as the response variable and `age` as the explanatory variable."
   ]
  },
  {
   "cell_type": "code",
   "execution_count": 9,
   "id": "5f42abc9-1407-4ccf-9b7d-50a7fa67d838",
   "metadata": {},
   "outputs": [
    {
     "data": {
      "text/plain": [
       "\n",
       "Call:\n",
       "glm(formula = coro ~ age, family = binomial(link = probit))\n",
       "\n",
       "Coefficients:\n",
       "            Estimate Std. Error z value Pr(>|z|)    \n",
       "(Intercept) -3.14573    0.62460  -5.036 4.74e-07 ***\n",
       "age          0.06580    0.01335   4.930 8.20e-07 ***\n",
       "---\n",
       "Signif. codes:  0 ‘***’ 0.001 ‘**’ 0.01 ‘*’ 0.05 ‘.’ 0.1 ‘ ’ 1\n",
       "\n",
       "(Dispersion parameter for binomial family taken to be 1)\n",
       "\n",
       "    Null deviance: 136.66  on 99  degrees of freedom\n",
       "Residual deviance: 107.50  on 98  degrees of freedom\n",
       "AIC: 111.5\n",
       "\n",
       "Number of Fisher Scoring iterations: 4\n"
      ]
     },
     "metadata": {},
     "output_type": "display_data"
    }
   ],
   "source": [
    "logistic.model <- glm(coro ~ age, family = 'binomial'(link = probit))\n",
    "summary(logistic.model)"
   ]
  },
  {
   "cell_type": "markdown",
   "id": "fdf5a94a-2931-48cd-9c9e-3a0bf23af354",
   "metadata": {},
   "source": [
    "**Age**: The coefficient for the *age* variable is $0.06580$, and since the **p-value** is small ($8.20e-07$), we can say that the variable is statistically significant in predicting the response (i.e. coronary damage).\n",
    "\n",
    "Note that *** indicate that the variable is statistically significant with a significance level of $0.001$ (**p-value** < $0.001$)."
   ]
  },
  {
   "cell_type": "markdown",
   "id": "169e4182-866d-420d-8bf3-9e0ca9bba069",
   "metadata": {},
   "source": [
    "Considering a significance level of $0.001$, we can conclude that the `age` variable is statistically significant. Therefore, the `age` variable has a **statistically significant relationship** with the response variable, indicating that age is directly related to the presence of coronary damage."
   ]
  },
  {
   "cell_type": "code",
   "execution_count": 11,
   "id": "dd7f7cea-a0f2-463c-8bf9-5ebbd7845b56",
   "metadata": {},
   "outputs": [
    {
     "data": {
      "text/plain": [
       "A prediction instance\n",
       "  with 100 data points"
      ]
     },
     "metadata": {},
     "output_type": "display_data"
    }
   ],
   "source": [
    "predictions <- predict(logistic.model, type = 'response')\n",
    "pred <- prediction(predictions, coro) # prediction object\n",
    "pred"
   ]
  },
  {
   "cell_type": "code",
   "execution_count": 12,
   "id": "6ca19291-104c-4d4d-ae53-a58ed6f113b7",
   "metadata": {},
   "outputs": [
    {
     "data": {
      "text/plain": [
       "A performance instance\n",
       "  'False positive rate' vs. 'True positive rate' (alpha: 'Cutoff')\n",
       "  with 44 data points"
      ]
     },
     "metadata": {},
     "output_type": "display_data"
    }
   ],
   "source": [
    "perf <- performance(pred, \"tpr\", \"fpr\") # performance object; performance measures for the evaluation: 1) true positive rate (y-axis), and 2) false positive rate (x-axis)\n",
    "perf"
   ]
  },
  {
   "cell_type": "markdown",
   "id": "8386799b-0039-40b9-a00f-c4999c9467cc",
   "metadata": {},
   "source": [
    "The **area under the ROC curve** (AUC) is a measure that represents the model's ability to discriminate between two classes. A model with an AUC of $1.0$ would indicate perfect distinction between the classes, while a value of $0.5$ represents a $50%$ probability of correctly classifying an instance."
   ]
  },
  {
   "cell_type": "code",
   "execution_count": 13,
   "id": "12d8ba1c-304b-4aae-a8d0-bea3a3fb833d",
   "metadata": {},
   "outputs": [
    {
     "name": "stdout",
     "output_type": "stream",
     "text": [
      "Area under the ROC cuerve:  0.7998776"
     ]
    }
   ],
   "source": [
    "AUC <- performance(pred, \"auc\") # area under the curve\n",
    "AUC_value <- AUC@y.values\n",
    "cat(\"Area under the ROC cuerve: \", AUC_value[[1]])"
   ]
  },
  {
   "cell_type": "markdown",
   "id": "846562af-a594-4899-9b48-e7301ca381c2",
   "metadata": {},
   "source": [
    "In this case, an AUC value of **0.799** was obtained, highlighting the model's ability to distinguish between the two classes."
   ]
  },
  {
   "cell_type": "code",
   "execution_count": 14,
   "id": "3ff53930-9094-4a3d-b0ea-d3fe37363bac",
   "metadata": {},
   "outputs": [
    {
     "data": {
      "image/png": "[encoded data removed]",
      "text/plain": [
       "Plot with title “Receiver Operating Characteristic (ROC) Curve”"
      ]
     },
     "metadata": {
      "image/png": {
       "height": 420,
       "width": 420
      }
     },
     "output_type": "display_data"
    }
   ],
   "source": [
    "plot(perf, colorize = TRUE, lwd = 3, type = 'l', main = \"Receiver Operating Characteristic (ROC) Curve\")\n",
    "abline(a = 0, b = 1)"
   ]
  },
  {
   "cell_type": "markdown",
   "id": "618d3490-042e-4f21-9c67-eff974ec8f58",
   "metadata": {},
   "source": [
    "As mentioned before, the **AUC value** indicates the good performance of the model and, therefore, its ability to distinguish between two classes. This is confirmed by the ROC curve graph shown above, where the value of **0.799** aligns with the observations."
   ]
  },
  {
   "cell_type": "code",
   "execution_count": 15,
   "id": "339ba099-e6fe-4775-89bc-e9dce6ebf2da",
   "metadata": {},
   "outputs": [
    {
     "name": "stderr",
     "output_type": "stream",
     "text": [
      "Setting levels: control = 0, case = 1\n",
      "\n",
      "Setting direction: controls < cases\n",
      "\n"
     ]
    }
   ],
   "source": [
    "roc_object <- roc(coro, predictions, auc = TRUE, ci = TRUE)"
   ]
  },
  {
   "cell_type": "code",
   "execution_count": 16,
   "id": "f761ff45-7710-4914-9f98-712497568a3a",
   "metadata": {},
   "outputs": [
    {
     "data": {
      "text/plain": [
       "\n",
       "Call:\n",
       "roc.default(response = coro, predictor = predictions, auc = TRUE,     ci = TRUE)\n",
       "\n",
       "Data: predictions in 57 controls (coro 0) < 43 cases (coro 1).\n",
       "Area under the curve: 0.7999\n",
       "95% CI: 0.7114-0.8884 (DeLong)"
      ]
     },
     "metadata": {},
     "output_type": "display_data"
    }
   ],
   "source": [
    "roc_object"
   ]
  },
  {
   "cell_type": "code",
   "execution_count": 17,
   "id": "45f79820-8eeb-4e32-af63-6638db78eae7",
   "metadata": {},
   "outputs": [
    {
     "data": {
      "image/png": "[encoded data removed]",
      "text/plain": [
       "Plot with title “Receiver Operating Characteristic (ROC) Curve”"
      ]
     },
     "metadata": {
      "image/png": {
       "height": 420,
       "width": 420
      }
     },
     "output_type": "display_data"
    }
   ],
   "source": [
    "plot.roc(roc_object, print.thres = 'best', main = \"Receiver Operating Characteristic (ROC) Curve\")"
   ]
  },
  {
   "cell_type": "markdown",
   "id": "20b542e3-f23a-45ad-bdd4-beadb083feb7",
   "metadata": {},
   "source": [
    "Elements of the confusion matrix:\n",
    "\n",
    "- True Positives (TP) is the number of observations correctly classified as positive, in this case `coro = 1`.\n",
    "- False Positives (FP) is the number of observations incorrectly classified as positive (`coro = 1`) when they are actually negative (`coro = 0`).\n",
    "- True Negatives (TN) is the number of observations correctly classified as negative, in this case `coro = 0`.\n",
    "- False Negatives (FN) is the number of observations incorrectly classified as negative (`coro = 0`) when they are actually positive (`coro = 1`)."
   ]
  },
  {
   "cell_type": "markdown",
   "id": "baf4ddf3-76ad-46b2-894e-e1acbfee0d31",
   "metadata": {},
   "source": [
    "Considering the previous definitions, we calculate each of the elements."
   ]
  },
  {
   "cell_type": "code",
   "execution_count": 18,
   "id": "3ec849a9-e398-43fe-b9dd-a98a34107314",
   "metadata": {},
   "outputs": [],
   "source": [
    "pred <- ifelse(predictions > 0.389, 1, 0)\n",
    "TP <- sum(pred == 1 & coro == 1)\n",
    "FP <- sum(pred == 1 & coro == 0)\n",
    "FN <- sum(pred == 0 & coro == 1)\n",
    "TN <- sum(pred == 0 & coro == 0)"
   ]
  },
  {
   "cell_type": "code",
   "execution_count": 19,
   "id": "241aef81-d719-42da-979c-cec5c7c34f95",
   "metadata": {},
   "outputs": [
    {
     "name": "stdout",
     "output_type": "stream",
     "text": [
      "True Positives (TP): 34 \n",
      "False Positives (FP): 18 \n",
      "True Negatives (TN): 39 \n",
      "False Negatives (FN): 9"
     ]
    }
   ],
   "source": [
    "cat(\"True Positives (TP):\", TP, \"\\nFalse Positives (FP):\", FP, \"\\nTrue Negatives (TN):\", TN, \"\\nFalse Negatives (FN):\", FN)"
   ]
  },
  {
   "cell_type": "markdown",
   "id": "5c98ce7f-fe46-4c37-8d0d-a29792279674",
   "metadata": {},
   "source": [
    "Based on the previous calculations we obtain the values of `sensitivity` and `specificity` according to the following definitions:\n",
    "\n",
    "$TPR = True~Positive~Rate = \\frac{TP}{P} = \\text{sensitivity}$\n",
    "\n",
    "$FPR = False~Positive~Rate = \\frac{FP}{N} = 1 - \\text{specificity}$"
   ]
  },
  {
   "cell_type": "code",
   "execution_count": 20,
   "id": "ca35790a-47a1-4a50-97b1-0b99d275a25b",
   "metadata": {},
   "outputs": [],
   "source": [
    "sensitivity <- TP / (TP + FN) # true positive rate\n",
    "ratio <- FP / (FP + TN) # false positive rate\n",
    "specificity <- 1 - ratio # true negative rate; also calculated as TN / (TN + FP) "
   ]
  },
  {
   "cell_type": "code",
   "execution_count": 21,
   "id": "1fa51763-8bfa-49e6-ac3b-793ba63daebf",
   "metadata": {},
   "outputs": [
    {
     "name": "stdout",
     "output_type": "stream",
     "text": [
      "Sensitivity (true positive rate): 0.7906977"
     ]
    }
   ],
   "source": [
    "cat(\"Sensitivity (true positive rate):\", sensitivity)"
   ]
  },
  {
   "cell_type": "code",
   "execution_count": 23,
   "id": "ad5857ff-da0a-4579-9f11-bc8c6d98dffe",
   "metadata": {},
   "outputs": [
    {
     "name": "stdout",
     "output_type": "stream",
     "text": [
      "Ratio (false positive rate): 0.3157895"
     ]
    }
   ],
   "source": [
    "cat(\"Ratio (false positive rate):\", ratio)"
   ]
  },
  {
   "cell_type": "code",
   "execution_count": 22,
   "id": "3c7bfcb8-48ec-4e57-85e3-ecf03300e49f",
   "metadata": {},
   "outputs": [
    {
     "name": "stdout",
     "output_type": "stream",
     "text": [
      "Specificity (true negative rate): 0.6842105"
     ]
    }
   ],
   "source": [
    "cat(\"Specificity (true negative rate):\", specificity)"
   ]
  },
  {
   "cell_type": "markdown",
   "id": "969cb9c1-2a4e-4c39-90af-0588b0fa5cfd",
   "metadata": {},
   "source": [
    "Calculation of the `Youden's` statistic:\n",
    "\n",
    "$J = \\text{sensitivity} - (1 - \\text{specificity})$"
   ]
  },
  {
   "cell_type": "code",
   "execution_count": 24,
   "id": "41871412-29ec-4c82-a17b-5326d74d6232",
   "metadata": {},
   "outputs": [],
   "source": [
    "J <- sensitivity - (1 - specificity)"
   ]
  },
  {
   "cell_type": "code",
   "execution_count": 25,
   "id": "78349e61-4740-4ebb-a275-34e486c447c3",
   "metadata": {},
   "outputs": [
    {
     "name": "stdout",
     "output_type": "stream",
     "text": [
      "Youden's J statistic: 0.4749082"
     ]
    }
   ],
   "source": [
    "cat(\"Youden's J statistic:\", J)"
   ]
  },
  {
   "cell_type": "markdown",
   "id": "aa3d96ee-e621-4098-b582-8d73f0bdaa31",
   "metadata": {},
   "source": [
    "The `Youden's J statistic` is a measure of the effectiveness of a test, summarizing both metrics, `sensitivity` and `specificity`. High values of the statistic indicate that both metrics have high values, resulting in good efficiency in correctly identifying positive and negative instances.\n",
    "\n",
    "A value of $1.0$ indicates that the model perfectly distinguishes between both cases (i.e., $100%$ sensitivity, $100%$ specificity). Conversely, negative values suggest that the model's performance is worse than random classification.\n",
    "\n",
    "In this case, the obtained value of the Youden J statistic is approximately **0.4749**, indicating that the model has moderate effectiveness in distinguishing between positive and negative classes. This aligns with the values obtained for each of the elements (i.e., True Positives = 34; False Positives = 18)."
   ]
  },
  {
   "cell_type": "markdown",
   "id": "d8be03a4-a690-4fb7-8aec-df2b9d2f9e5c",
   "metadata": {},
   "source": [
    "### Exercise 5.0"
   ]
  },
  {
   "cell_type": "markdown",
   "id": "8d354098-545f-4558-bd70-1341acf084f5",
   "metadata": {},
   "source": [
    "The following table shows $T_4$ cell counts per $mm^3$ in blood samples from 20 patients (in remission) with Hodgkin's disease, as well as counts from 20 patients in remission from other diseases. A key question of interest is whether there are differences in the distributions of counts between the two groups.\n",
    "\n",
    "|     | V1  | V2  | V3   | V4  | V5  | V6   | V7  | V8  | V9  | V10  |\n",
    "|-----|-----|-----|------|-----|-----|------|-----|-----|-----|------|\n",
    "|  H  | 396 | 568 | 1212 | 171 | 554 | 1104 | 257 | 435 | 295 | 397  |\n",
    "| No-H| 375 | 375 | 752  | 208 | 151 | 116  | 736 | 192 | 315 | 1252 |\n",
    "|  H  | 288 | 1004| 431  | 795 | 1621| 1378 | 902 | 958 | 1283| 2415 |\n",
    "| No-H| 675 | 700 | 440  | 771 | 688 | 426  | 410 | 979 | 377 | 503  |"
   ]
  },
  {
   "cell_type": "markdown",
   "id": "bc4f3a00-d62b-4db7-bb78-ac188c70126f",
   "metadata": {},
   "source": [
    "- Perform an exploratory graphical comparison of these data.\n",
    "- Fit an appropriate Poisson model."
   ]
  },
  {
   "cell_type": "code",
   "execution_count": 27,
   "id": "ebf4ade9-5d81-47bf-aa86-572d65a0119e",
   "metadata": {},
   "outputs": [],
   "source": [
    "library(ggplot2) # loading libraries\n",
    "library(tidyr)\n",
    "library(dplyr)"
   ]
  },
  {
   "cell_type": "markdown",
   "id": "08e6e358-4271-43d3-b7c3-cd8d53efaa52",
   "metadata": {},
   "source": [
    "Data corresponding to cell counts per $mm^3$ in two groups, each consisting of 20 patients, where the difference lies in the type of disease they have (presence or absence of Hodgkin's disease)."
   ]
  },
  {
   "cell_type": "code",
   "execution_count": 9,
   "id": "7b85efe5-6567-4494-9e3d-325b96889fc7",
   "metadata": {},
   "outputs": [],
   "source": [
    "hodgkin_data <- data.frame(\n",
    "  V1 = c(396, 375), V2 = c(568, 375), V3 = c(1212, 752), V4 = c(171, 208),\n",
    "  V5 = c(554, 151), V6 = c(1104, 116), V7 = c(257, 736), V8 = c(435, 192),\n",
    "  V9 = c(295, 315), V10 = c(397, 1252), V11 = c(288, 675), V12 = c(1004, 700),\n",
    "  V13 = c(431, 440), V14 = c(795, 771), V15 = c(1621, 688), V16 = c(1378, 426),\n",
    "  V17 = c(902, 410), V18 = c(958, 979), V19 = c(1283, 377), V20 = c(2415, 503)\n",
    ") # data stored in a data frame\n",
    "\n",
    "rownames(hodgkin_data) <- c(\"H\", \"No-H\") # row names; H and No-H"
   ]
  },
  {
   "cell_type": "code",
   "execution_count": 10,
   "id": "4a62ce43-306a-4212-b380-9a453c44e0d4",
   "metadata": {},
   "outputs": [
    {
     "data": {
      "text/html": [
       "<table class=\"dataframe\">\n",
       "<caption>A data.frame: 2 × 20</caption>\n",
       "<thead>\n",
       "\t<tr><th></th><th scope=col>V1</th><th scope=col>V2</th><th scope=col>V3</th><th scope=col>V4</th><th scope=col>V5</th><th scope=col>V6</th><th scope=col>V7</th><th scope=col>V8</th><th scope=col>V9</th><th scope=col>V10</th><th scope=col>V11</th><th scope=col>V12</th><th scope=col>V13</th><th scope=col>V14</th><th scope=col>V15</th><th scope=col>V16</th><th scope=col>V17</th><th scope=col>V18</th><th scope=col>V19</th><th scope=col>V20</th></tr>\n",
       "\t<tr><th></th><th scope=col>&lt;dbl&gt;</th><th scope=col>&lt;dbl&gt;</th><th scope=col>&lt;dbl&gt;</th><th scope=col>&lt;dbl&gt;</th><th scope=col>&lt;dbl&gt;</th><th scope=col>&lt;dbl&gt;</th><th scope=col>&lt;dbl&gt;</th><th scope=col>&lt;dbl&gt;</th><th scope=col>&lt;dbl&gt;</th><th scope=col>&lt;dbl&gt;</th><th scope=col>&lt;dbl&gt;</th><th scope=col>&lt;dbl&gt;</th><th scope=col>&lt;dbl&gt;</th><th scope=col>&lt;dbl&gt;</th><th scope=col>&lt;dbl&gt;</th><th scope=col>&lt;dbl&gt;</th><th scope=col>&lt;dbl&gt;</th><th scope=col>&lt;dbl&gt;</th><th scope=col>&lt;dbl&gt;</th><th scope=col>&lt;dbl&gt;</th></tr>\n",
       "</thead>\n",
       "<tbody>\n",
       "\t<tr><th scope=row>H</th><td>396</td><td>568</td><td>1212</td><td>171</td><td>554</td><td>1104</td><td>257</td><td>435</td><td>295</td><td> 397</td><td>288</td><td>1004</td><td>431</td><td>795</td><td>1621</td><td>1378</td><td>902</td><td>958</td><td>1283</td><td>2415</td></tr>\n",
       "\t<tr><th scope=row>No-H</th><td>375</td><td>375</td><td> 752</td><td>208</td><td>151</td><td> 116</td><td>736</td><td>192</td><td>315</td><td>1252</td><td>675</td><td> 700</td><td>440</td><td>771</td><td> 688</td><td> 426</td><td>410</td><td>979</td><td> 377</td><td> 503</td></tr>\n",
       "</tbody>\n",
       "</table>\n"
      ],
      "text/latex": [
       "A data.frame: 2 × 20\n",
       "\\begin{tabular}{r|llllllllllllllllllll}\n",
       "  & V1 & V2 & V3 & V4 & V5 & V6 & V7 & V8 & V9 & V10 & V11 & V12 & V13 & V14 & V15 & V16 & V17 & V18 & V19 & V20\\\\\n",
       "  & <dbl> & <dbl> & <dbl> & <dbl> & <dbl> & <dbl> & <dbl> & <dbl> & <dbl> & <dbl> & <dbl> & <dbl> & <dbl> & <dbl> & <dbl> & <dbl> & <dbl> & <dbl> & <dbl> & <dbl>\\\\\n",
       "\\hline\n",
       "\tH & 396 & 568 & 1212 & 171 & 554 & 1104 & 257 & 435 & 295 &  397 & 288 & 1004 & 431 & 795 & 1621 & 1378 & 902 & 958 & 1283 & 2415\\\\\n",
       "\tNo-H & 375 & 375 &  752 & 208 & 151 &  116 & 736 & 192 & 315 & 1252 & 675 &  700 & 440 & 771 &  688 &  426 & 410 & 979 &  377 &  503\\\\\n",
       "\\end{tabular}\n"
      ],
      "text/markdown": [
       "\n",
       "A data.frame: 2 × 20\n",
       "\n",
       "| <!--/--> | V1 &lt;dbl&gt; | V2 &lt;dbl&gt; | V3 &lt;dbl&gt; | V4 &lt;dbl&gt; | V5 &lt;dbl&gt; | V6 &lt;dbl&gt; | V7 &lt;dbl&gt; | V8 &lt;dbl&gt; | V9 &lt;dbl&gt; | V10 &lt;dbl&gt; | V11 &lt;dbl&gt; | V12 &lt;dbl&gt; | V13 &lt;dbl&gt; | V14 &lt;dbl&gt; | V15 &lt;dbl&gt; | V16 &lt;dbl&gt; | V17 &lt;dbl&gt; | V18 &lt;dbl&gt; | V19 &lt;dbl&gt; | V20 &lt;dbl&gt; |\n",
       "|---|---|---|---|---|---|---|---|---|---|---|---|---|---|---|---|---|---|---|---|---|\n",
       "| H | 396 | 568 | 1212 | 171 | 554 | 1104 | 257 | 435 | 295 |  397 | 288 | 1004 | 431 | 795 | 1621 | 1378 | 902 | 958 | 1283 | 2415 |\n",
       "| No-H | 375 | 375 |  752 | 208 | 151 |  116 | 736 | 192 | 315 | 1252 | 675 |  700 | 440 | 771 |  688 |  426 | 410 | 979 |  377 |  503 |\n",
       "\n"
      ],
      "text/plain": [
       "     V1  V2  V3   V4  V5  V6   V7  V8  V9  V10  V11 V12  V13 V14 V15  V16  V17\n",
       "H    396 568 1212 171 554 1104 257 435 295  397 288 1004 431 795 1621 1378 902\n",
       "No-H 375 375  752 208 151  116 736 192 315 1252 675  700 440 771  688  426 410\n",
       "     V18 V19  V20 \n",
       "H    958 1283 2415\n",
       "No-H 979  377  503"
      ]
     },
     "metadata": {},
     "output_type": "display_data"
    }
   ],
   "source": [
    "hodgkin_data"
   ]
  },
  {
   "cell_type": "markdown",
   "id": "0d3ee780-fdac-4c14-97e1-c86af6058d9c",
   "metadata": {},
   "source": [
    "#### Comparison of Group Distributions Using Boxplots"
   ]
  },
  {
   "cell_type": "code",
   "execution_count": 29,
   "id": "6424339b-948f-48bf-9828-d2927eb5a931",
   "metadata": {},
   "outputs": [
    {
     "data": {
      "image/png": "[encoded data removed]",
      "text/plain": [
       "Plot with title “Comparison of H and No-H Boxplots”"
      ]
     },
     "metadata": {
      "image/png": {
       "height": 420,
       "width": 420
      }
     },
     "output_type": "display_data"
    }
   ],
   "source": [
    "transposed_data <- t(hodgkin_data) # transpose data\n",
    "\n",
    "boxplot(transposed_data[, \"H\"], transposed_data[, \"No-H\"], names = c(\"H\", \"No-H\"), \n",
    "        main = \"Comparison of H and No-H Boxplots\", xlab = \"Groups\", ylab = \"Values\",\n",
    "        col = c(\"Steel Blue 1\", \"Orange\"))  "
   ]
  },
  {
   "cell_type": "markdown",
   "id": "b64ccf53-3109-4812-bca7-e57e7090ffbd",
   "metadata": {},
   "source": [
    "The generated plot provides a summary of the key statistics for both groups. An **outlier** is observed in the `H` group, which could affect the mean, as it is sensitive to extreme values. Additionally, the `H` group has a higher median compared to the `No-H` group, suggesting that the `H` group tends to have **higher values**. Finally, the `H` group exhibits greater variability in the data compared to the `No-H` group."
   ]
  },
  {
   "cell_type": "markdown",
   "id": "e3d0f178-60ff-44e4-8a2e-d8ea4a07ac63",
   "metadata": {},
   "source": [
    "#### Comparison of Density Distributions Between Groups"
   ]
  },
  {
   "cell_type": "code",
   "execution_count": 32,
   "id": "4816df70-2822-4d8b-8f79-48933b97a26f",
   "metadata": {},
   "outputs": [
    {
     "data": {
      "image/png": "[encoded data removed]",
      "text/plain": [
       "Plot with title “Density Distribution of H and No-H Populations”"
      ]
     },
     "metadata": {
      "image/png": {
       "height": 420,
       "width": 420
      }
     },
     "output_type": "display_data"
    }
   ],
   "source": [
    "H_density <- density(transposed_data[, \"H\"])\n",
    "NoH_density <- density(transposed_data[, \"No-H\"])\n",
    "\n",
    "plot(H_density, col = \"Steel Blue 1\", lwd = 2, main = \"Density Distribution of H and No-H Populations\",\n",
    "     xlab = \"Values\", ylab = \"Density\", xlim = range(c(H_density$x, H_density$x)), ylim = range(c(0, 0.0013)))\n",
    "lines(NoH_density, col = \"orange\", lwd = 2) # plot density distribution for both H and No-H populations\n",
    "\n",
    "polygon(H_density, col = rgb(100/255, 149/255, 237/255, 0.5), border = \"Black\") # fill area under the density curve\n",
    "polygon(NoH_density, col = rgb(255/255, 165/255, 0/255, 0.5), border = \"Black\")\n",
    "legend(\"right\", legend = c(\"H\", \"No-H\"), \n",
    "       col = c(\"Steel Blue 1\", \"orange\"), box.lty=0, lwd = 4) # add legend"
   ]
  },
  {
   "cell_type": "markdown",
   "id": "5ae53c6c-01df-45c6-aae5-e1773f6a9eeb",
   "metadata": {},
   "source": [
    "As seen before, the `H` group exhibits greater variability in the data. This indicates that the values in the `H` group are more dispersed compared to the `No-H` group. Additionally, it can be inferred that the **mean of the `H` group is higher than the mean of the `No-H` group**, as this mean value is influenced by the **presence of an outlier in the `H` group**. Despite this difference, a significant portion of both distributions overlaps, suggesting that the two populations share certain similarities in their value ranges.\n",
    "\n",
    "Furthermore, it is noticeable that the distribution of the `No-H` group is **bimodal**, indicating the presence of two peaks or subgroups within this population. In contrast, the distribution of the `H` group is **unimodal**, with a single peak, suggesting a more uniform trend in the data distribution. This difference in the shape of the distributions could provide useful insights into the underlying characteristics of each group and how they compare to one another."
   ]
  },
  {
   "cell_type": "markdown",
   "id": "1fb98ef7-1e36-43fe-8d97-2f42de8626f8",
   "metadata": {},
   "source": [
    "#### Fitting a Poisson Regression Model"
   ]
  },
  {
   "cell_type": "markdown",
   "id": "30ad4890-3ba6-497a-93bf-42890511c0b8",
   "metadata": {},
   "source": [
    "Create a dataframe with $40 \\times 2$ dimension (i.e., 40 rows, 2 columns), where the columns correspond to the $T_4$ cell count and its respective group (`H` or `No-H`), while the rows indicate the cell count for each patient and the group they belong to. From this dataframe, fit the Poisson regression model, using the `Counts` variable as the response variable and the `Group` variable as the explanatory variable."
   ]
  },
  {
   "cell_type": "code",
   "execution_count": 33,
   "id": "2edddb58-4ac4-48cf-96ca-853d47d6f221",
   "metadata": {},
   "outputs": [],
   "source": [
    "Counts <- c(396, 568, 1212, 171, 554, 1104, 257, 435, 295, 397, \n",
    "            288, 1004, 431, 795, 1621, 1378, 902, 958, 1283, 2415,\n",
    "            375, 375, 752, 208, 151, 116, 736, 192, 315, 1252, \n",
    "            675, 700, 440, 771, 688, 426, 410, 979, 377, 503)\n",
    "\n",
    "Group <- factor(rep(c(\"H\", \"No-H\"), each = 20))\n",
    "\n",
    "hodgkin_data <- data.frame(Counts = Counts, Group = Group)"
   ]
  },
  {
   "cell_type": "markdown",
   "id": "02e5c5b0-4e15-4fa9-bb13-2b91e100255b",
   "metadata": {},
   "source": [
    "Fitting a Poisson regression model with the `Counts` variable as the response variable and the `Group` variable as the explanatory variable."
   ]
  },
  {
   "cell_type": "code",
   "execution_count": 34,
   "id": "2fc49e28-448c-4901-b076-e5481a5367a1",
   "metadata": {},
   "outputs": [
    {
     "data": {
      "text/plain": [
       "\n",
       "Call:\n",
       "glm(formula = Counts ~ Group, family = poisson, data = hodgkin_data)\n",
       "\n",
       "Coefficients:\n",
       "             Estimate Std. Error z value Pr(>|z|)    \n",
       "(Intercept)  6.713199   0.007793   861.4   <2e-16 ***\n",
       "GroupNo-H   -0.455436   0.012511   -36.4   <2e-16 ***\n",
       "---\n",
       "Signif. codes:  0 ‘***’ 0.001 ‘**’ 0.01 ‘*’ 0.05 ‘.’ 0.1 ‘ ’ 1\n",
       "\n",
       "(Dispersion parameter for poisson family taken to be 1)\n",
       "\n",
       "    Null deviance: 11325  on 39  degrees of freedom\n",
       "Residual deviance:  9965  on 38  degrees of freedom\n",
       "AIC: 10294\n",
       "\n",
       "Number of Fisher Scoring iterations: 5\n"
      ]
     },
     "metadata": {},
     "output_type": "display_data"
    }
   ],
   "source": [
    "poisson.model <- glm(Counts ~ Group, family = poisson, data = hodgkin_data)\n",
    "summary(poisson.model)"
   ]
  },
  {
   "cell_type": "markdown",
   "id": "40e08cc5-d602-44fd-8924-1d8340ccb3b8",
   "metadata": {},
   "source": [
    "**Group**: The coefficient for the Group variable is $-0.4554$, and since the **p-value** is small ($<2e-16$), we can say that this variable is statistically significant in predicting the response (i.e., T4 cell count).\n",
    "\n",
    "Note that *** indicate that the variable is statistically significant at a significance level of $0.001$ (**p-value** < $0.001$)."
   ]
  },
  {
   "cell_type": "markdown",
   "id": "c021fe3b-c160-4550-b1af-fc5dd16c8066",
   "metadata": {},
   "source": [
    "Considering a significance level of $0.001$, we can conclude that the effect of the *Group* variable on the response variable is **statistically significant**."
   ]
  },
  {
   "cell_type": "markdown",
   "id": "634992ef-230d-43f6-acc0-32690ceddc1f",
   "metadata": {},
   "source": [
    "### Exercise 6.0"
   ]
  },
  {
   "cell_type": "markdown",
   "id": "97f8cdd3-7acd-48a5-a325-070c753f96cd",
   "metadata": {},
   "source": [
    "The data in the table on the following sheet consists of numbers, $n$, representing insurance policies and the corresponding numbers, $y$, of claims (i.e., the number of accidents for which the policy was invoked). The variable CAR is a coding of various classes of cars, AGE is the age of the policyholder, and DIST is the district where the policyholder resides."
   ]
  },
  {
   "cell_type": "markdown",
   "id": "aef82a81-b475-4140-a176-219cb846adea",
   "metadata": {},
   "source": [
    "- Calculate the claims rate, $y/n$, for each category and plot these rates against the different variables to gain insight into the main effects.\n",
    "- Use logistic regression to estimate the main effects (treating each variable as categorical and modeled using indicator variables) as well as their interactions."
   ]
  },
  {
   "cell_type": "markdown",
   "id": "3b447fde-60f5-4496-b1dc-298a0066f09e",
   "metadata": {},
   "source": [
    "| CAR | EDAD |  DIST = 0 (y) | DIST = 0 (n) | DIST = 1 (y) | DIST = 1 (n) |\n",
    "|-----|------|---------------|--------------|--------------|--------------|\n",
    "|  1  |  1   |      65       |     317      |      2       |      20      |\n",
    "|  1  |  2   |      65       |     476      |      5       |      33      |\n",
    "|  1  |  3   |      52       |     486      |      4       |      40      |\n",
    "|  1  |  4   |     310       |    3259      |     36       |     316      |\n",
    "|  2  |  1   |      98       |     486      |      7       |      31      |\n",
    "|  2  |  2   |     159       |    1004      |     10       |      81      |\n",
    "|  2  |  3   |     175       |    1355      |     22       |     122      |\n",
    "|  2  |  4   |     877       |    7660      |    102       |     724      |\n",
    "|  3  |  1   |      41       |     223      |      5       |      18      |\n",
    "|  3  |  2   |     117       |     539      |      7       |      39      |\n",
    "|  3  |  3   |     137       |     697      |     16       |      68      |\n",
    "|  3  |  4   |     477       |    3442      |     63       |     344      |\n",
    "|  4  |  1   |      11       |      40      |      0       |       3      |\n",
    "|  4  |  2   |      35       |     148      |      6       |      16      |\n",
    "|  4  |  3   |      39       |     214      |      8       |      25      |\n",
    "|  4  |  4   |     167       |    1019      |     33       |     114      |"
   ]
  },
  {
   "cell_type": "code",
   "execution_count": 12,
   "id": "24fb067e-89ee-4ffb-a87d-05e607a1b1d4",
   "metadata": {},
   "outputs": [],
   "source": [
    "library(ggplot2) # loading libraries"
   ]
  },
  {
   "cell_type": "markdown",
   "id": "f30a1076-2224-4caf-b169-6c83d18f8736",
   "metadata": {},
   "source": [
    "Data corresponding to the number of insurance policies $n$ and their respective numbers of claims $y$."
   ]
  },
  {
   "cell_type": "code",
   "execution_count": 13,
   "id": "c7fe3463-c303-4b2a-8bbe-4ea0f3163535",
   "metadata": {},
   "outputs": [
    {
     "data": {
      "text/html": [
       "<table class=\"dataframe\">\n",
       "<caption>A data.frame: 16 × 6</caption>\n",
       "<thead>\n",
       "\t<tr><th scope=col>CAR</th><th scope=col>AGE</th><th scope=col>DIST_0_y</th><th scope=col>DIST_0_n</th><th scope=col>DIST_1_y</th><th scope=col>DIST_1_n</th></tr>\n",
       "\t<tr><th scope=col>&lt;dbl&gt;</th><th scope=col>&lt;dbl&gt;</th><th scope=col>&lt;dbl&gt;</th><th scope=col>&lt;dbl&gt;</th><th scope=col>&lt;dbl&gt;</th><th scope=col>&lt;dbl&gt;</th></tr>\n",
       "</thead>\n",
       "<tbody>\n",
       "\t<tr><td>1</td><td>1</td><td> 65</td><td> 317</td><td>  2</td><td> 20</td></tr>\n",
       "\t<tr><td>1</td><td>2</td><td> 65</td><td> 476</td><td>  5</td><td> 33</td></tr>\n",
       "\t<tr><td>1</td><td>3</td><td> 52</td><td> 486</td><td>  4</td><td> 40</td></tr>\n",
       "\t<tr><td>1</td><td>4</td><td>310</td><td>3259</td><td> 36</td><td>316</td></tr>\n",
       "\t<tr><td>2</td><td>1</td><td> 98</td><td> 486</td><td>  7</td><td> 31</td></tr>\n",
       "\t<tr><td>2</td><td>2</td><td>159</td><td>1004</td><td> 10</td><td> 81</td></tr>\n",
       "\t<tr><td>2</td><td>3</td><td>175</td><td>1355</td><td> 22</td><td>122</td></tr>\n",
       "\t<tr><td>2</td><td>4</td><td>877</td><td>7660</td><td>102</td><td>724</td></tr>\n",
       "\t<tr><td>3</td><td>1</td><td> 41</td><td> 223</td><td>  5</td><td> 18</td></tr>\n",
       "\t<tr><td>3</td><td>2</td><td>117</td><td> 539</td><td>  7</td><td> 39</td></tr>\n",
       "\t<tr><td>3</td><td>3</td><td>137</td><td> 697</td><td> 16</td><td> 68</td></tr>\n",
       "\t<tr><td>3</td><td>4</td><td>477</td><td>3442</td><td> 63</td><td>344</td></tr>\n",
       "\t<tr><td>4</td><td>1</td><td> 11</td><td>  40</td><td>  0</td><td>  3</td></tr>\n",
       "\t<tr><td>4</td><td>2</td><td> 35</td><td> 148</td><td>  6</td><td> 16</td></tr>\n",
       "\t<tr><td>4</td><td>3</td><td> 39</td><td> 214</td><td>  8</td><td> 25</td></tr>\n",
       "\t<tr><td>4</td><td>4</td><td>167</td><td>1019</td><td> 33</td><td>114</td></tr>\n",
       "</tbody>\n",
       "</table>\n"
      ],
      "text/latex": [
       "A data.frame: 16 × 6\n",
       "\\begin{tabular}{llllll}\n",
       " CAR & AGE & DIST\\_0\\_y & DIST\\_0\\_n & DIST\\_1\\_y & DIST\\_1\\_n\\\\\n",
       " <dbl> & <dbl> & <dbl> & <dbl> & <dbl> & <dbl>\\\\\n",
       "\\hline\n",
       "\t 1 & 1 &  65 &  317 &   2 &  20\\\\\n",
       "\t 1 & 2 &  65 &  476 &   5 &  33\\\\\n",
       "\t 1 & 3 &  52 &  486 &   4 &  40\\\\\n",
       "\t 1 & 4 & 310 & 3259 &  36 & 316\\\\\n",
       "\t 2 & 1 &  98 &  486 &   7 &  31\\\\\n",
       "\t 2 & 2 & 159 & 1004 &  10 &  81\\\\\n",
       "\t 2 & 3 & 175 & 1355 &  22 & 122\\\\\n",
       "\t 2 & 4 & 877 & 7660 & 102 & 724\\\\\n",
       "\t 3 & 1 &  41 &  223 &   5 &  18\\\\\n",
       "\t 3 & 2 & 117 &  539 &   7 &  39\\\\\n",
       "\t 3 & 3 & 137 &  697 &  16 &  68\\\\\n",
       "\t 3 & 4 & 477 & 3442 &  63 & 344\\\\\n",
       "\t 4 & 1 &  11 &   40 &   0 &   3\\\\\n",
       "\t 4 & 2 &  35 &  148 &   6 &  16\\\\\n",
       "\t 4 & 3 &  39 &  214 &   8 &  25\\\\\n",
       "\t 4 & 4 & 167 & 1019 &  33 & 114\\\\\n",
       "\\end{tabular}\n"
      ],
      "text/markdown": [
       "\n",
       "A data.frame: 16 × 6\n",
       "\n",
       "| CAR &lt;dbl&gt; | AGE &lt;dbl&gt; | DIST_0_y &lt;dbl&gt; | DIST_0_n &lt;dbl&gt; | DIST_1_y &lt;dbl&gt; | DIST_1_n &lt;dbl&gt; |\n",
       "|---|---|---|---|---|---|\n",
       "| 1 | 1 |  65 |  317 |   2 |  20 |\n",
       "| 1 | 2 |  65 |  476 |   5 |  33 |\n",
       "| 1 | 3 |  52 |  486 |   4 |  40 |\n",
       "| 1 | 4 | 310 | 3259 |  36 | 316 |\n",
       "| 2 | 1 |  98 |  486 |   7 |  31 |\n",
       "| 2 | 2 | 159 | 1004 |  10 |  81 |\n",
       "| 2 | 3 | 175 | 1355 |  22 | 122 |\n",
       "| 2 | 4 | 877 | 7660 | 102 | 724 |\n",
       "| 3 | 1 |  41 |  223 |   5 |  18 |\n",
       "| 3 | 2 | 117 |  539 |   7 |  39 |\n",
       "| 3 | 3 | 137 |  697 |  16 |  68 |\n",
       "| 3 | 4 | 477 | 3442 |  63 | 344 |\n",
       "| 4 | 1 |  11 |   40 |   0 |   3 |\n",
       "| 4 | 2 |  35 |  148 |   6 |  16 |\n",
       "| 4 | 3 |  39 |  214 |   8 |  25 |\n",
       "| 4 | 4 | 167 | 1019 |  33 | 114 |\n",
       "\n"
      ],
      "text/plain": [
       "   CAR AGE DIST_0_y DIST_0_n DIST_1_y DIST_1_n\n",
       "1  1   1    65       317       2       20     \n",
       "2  1   2    65       476       5       33     \n",
       "3  1   3    52       486       4       40     \n",
       "4  1   4   310      3259      36      316     \n",
       "5  2   1    98       486       7       31     \n",
       "6  2   2   159      1004      10       81     \n",
       "7  2   3   175      1355      22      122     \n",
       "8  2   4   877      7660     102      724     \n",
       "9  3   1    41       223       5       18     \n",
       "10 3   2   117       539       7       39     \n",
       "11 3   3   137       697      16       68     \n",
       "12 3   4   477      3442      63      344     \n",
       "13 4   1    11        40       0        3     \n",
       "14 4   2    35       148       6       16     \n",
       "15 4   3    39       214       8       25     \n",
       "16 4   4   167      1019      33      114     "
      ]
     },
     "metadata": {},
     "output_type": "display_data"
    }
   ],
   "source": [
    "car_insurance_policy_data <- data.frame(\n",
    "  CAR = c(1, 1, 1, 1, 2, 2, 2, 2, 3, 3, 3, 3, 4, 4, 4, 4),\n",
    "  AGE = c(1, 2, 3, 4, 1, 2, 3, 4, 1, 2, 3, 4, 1, 2, 3, 4),\n",
    "  DIST_0_y = c(65, 65, 52, 310, 98, 159, 175, 877, 41, 117, 137, 477, 11, 35, 39, 167),\n",
    "  DIST_0_n = c(317, 476, 486, 3259, 486, 1004, 1355, 7660, 223, 539, 697, 3442, 40, 148, 214, 1019),\n",
    "  DIST_1_y = c(2, 5, 4, 36, 7, 10, 22, 102, 5, 7, 16, 63, 0, 6, 8, 33),\n",
    "  DIST_1_n = c(20, 33, 40, 316, 31, 81, 122, 724, 18, 39, 68, 344, 3, 16, 25, 114)\n",
    ") # data stored in a data frame\n",
    "\n",
    "car_insurance_policy_data"
   ]
  },
  {
   "cell_type": "markdown",
   "id": "c3c6d55b-6006-46e6-91de-1478d2002dc1",
   "metadata": {},
   "source": [
    "#### Claims Rates by Categories: DIST = 0 and DIST = 1"
   ]
  },
  {
   "cell_type": "markdown",
   "id": "a758d95d-335e-4cd2-a5b1-3b2d83c35c1c",
   "metadata": {},
   "source": [
    "Calculation of the claims rates as the ratio $y_{i}/n_{i}$ for each of the categories."
   ]
  },
  {
   "cell_type": "code",
   "execution_count": 15,
   "id": "e8a4cd2d-48d8-45b6-8c66-982f5310d599",
   "metadata": {},
   "outputs": [],
   "source": [
    "car_insurance_policy_data$CLAIMS_RATE_0 <- car_insurance_policy_data$DIST_0_y/car_insurance_policy_data$DIST_0_n # category 0\n",
    "car_insurance_policy_data$CLAIMS_RATE_1 <- car_insurance_policy_data$DIST_1_y/car_insurance_policy_data$DIST_1_n # category 1"
   ]
  },
  {
   "cell_type": "markdown",
   "id": "8459d540-e010-489b-bc99-acdc7392097d",
   "metadata": {},
   "source": [
    "##### Claims Rate by CAR and AGE Variables: District 0"
   ]
  },
  {
   "cell_type": "code",
   "execution_count": 16,
   "id": "e3ee75ae-7929-4ae5-9cfd-18334d9ae5e0",
   "metadata": {},
   "outputs": [
    {
     "data": {
      "image/png": "[encoded data removed]",
      "text/plain": [
       "plot without title"
      ]
     },
     "metadata": {
      "image/png": {
       "height": 420,
       "width": 420
      }
     },
     "output_type": "display_data"
    }
   ],
   "source": [
    "ggplot(car_insurance_policy_data, aes(x = CAR, y = CLAIMS_RATE_0, fill = CAR)) +\n",
    "  geom_bar(stat = \"identity\") +\n",
    "  labs(title = \"Claims Rate by Car Category\\nDIST = 0\",\n",
    "       x = \"Car Category\",\n",
    "       y = \"Claims Rate\") # claims rate vs car category"
   ]
  },
  {
   "cell_type": "code",
   "execution_count": 17,
   "id": "2f277a21-88cd-401c-a134-f53e988cfdd9",
   "metadata": {},
   "outputs": [
    {
     "data": {
      "image/png": "[encoded data removed]",
      "text/plain": [
       "plot without title"
      ]
     },
     "metadata": {
      "image/png": {
       "height": 420,
       "width": 420
      }
     },
     "output_type": "display_data"
    }
   ],
   "source": [
    "ggplot(car_insurance_policy_data, aes(x = AGE, y = CLAIMS_RATE_0, fill = AGE)) +\n",
    "  geom_bar(stat = \"identity\") +\n",
    "  labs(title = \"Claims Rate by Age Category\\nDIST = 0\",\n",
    "       x = \"Age Category\",\n",
    "       y = \"Claims Rate\") # claims rate vs age category"
   ]
  },
  {
   "cell_type": "markdown",
   "id": "9678b091-7970-408a-b6c1-f9187d0c0d9b",
   "metadata": {},
   "source": [
    "In general, we observe that the accumulated claims rate tends to increase as we progress through the different categories of the variable `CAR`. On the other hand, for the variable `AGE`, the opposite phenomenon is observed, with the rate progressively decreasing across the different age categories."
   ]
  },
  {
   "cell_type": "markdown",
   "id": "fe4b357b-4c98-4ec8-92d8-65c3099be4ed",
   "metadata": {},
   "source": [
    "##### Claims Rate by CAR and AGE Variables: District 1"
   ]
  },
  {
   "cell_type": "code",
   "execution_count": 19,
   "id": "960eccc7-95b7-4203-bb27-805d7813238c",
   "metadata": {},
   "outputs": [
    {
     "data": {
      "image/png": "[encoded data removed]",
      "text/plain": [
       "plot without title"
      ]
     },
     "metadata": {
      "image/png": {
       "height": 420,
       "width": 420
      }
     },
     "output_type": "display_data"
    }
   ],
   "source": [
    "ggplot(car_insurance_policy_data, aes(x = CAR, y = CLAIMS_RATE_1, fill = CAR)) +\n",
    "  geom_bar(stat = \"identity\") +\n",
    "  labs(title = \"Claims Rate by Car Category\\nDIST = 1\",\n",
    "       x = \"Car Category\",\n",
    "       y = \"Claims Rate\") # claims rate vs car category"
   ]
  },
  {
   "cell_type": "code",
   "execution_count": 20,
   "id": "e28b72a2-1a9f-4204-a821-e008f9f23d4c",
   "metadata": {},
   "outputs": [
    {
     "data": {
      "image/png": "[encoded data removed]",
      "text/plain": [
       "plot without title"
      ]
     },
     "metadata": {
      "image/png": {
       "height": 420,
       "width": 420
      }
     },
     "output_type": "display_data"
    }
   ],
   "source": [
    "ggplot(car_insurance_policy_data, aes(x = AGE, y = CLAIMS_RATE_1, fill = AGE)) +\n",
    "  geom_bar(stat = \"identity\") +\n",
    "  labs(title = \"Claims Rate by Age Category\\nDIST = 1\",\n",
    "       x = \"Age Category\",\n",
    "       y = \"Claims Rate\") # claims rate vs age category"
   ]
  },
  {
   "cell_type": "markdown",
   "id": "e918eacf-0304-4f36-bc4e-61b0c18ae447",
   "metadata": {},
   "source": [
    "Similar to the previous case, the claims rate against the variable `CAR` shows an increase as we move through its different categories. However, for the variable `AGE`, no clear pattern is observed among the categories. The only noteworthy point is that the claims rate in category 1 is significantly lower compared to the other categories."
   ]
  },
  {
   "cell_type": "markdown",
   "id": "18780926-31a6-4baa-abc1-da7c1ee90ba2",
   "metadata": {},
   "source": [
    "#### Fitting a Logistic Regression Model"
   ]
  },
  {
   "cell_type": "markdown",
   "id": "d0029b06-13b3-4479-a947-6d378fb07264",
   "metadata": {},
   "source": [
    "Create a data frame with $32x5$ dimension (i.e., 35 rows, 5 columns), where the columns correspond to the different variables: `CAR` represents the different classes of cars; `AGE` represents the age of the policyholder; and `DIST` indicates the district where the policyholder resides."
   ]
  },
  {
   "cell_type": "code",
   "execution_count": 22,
   "id": "22a87df0-83b7-44a4-bfc4-7553062d69c8",
   "metadata": {},
   "outputs": [
    {
     "data": {
      "text/html": [
       "<table class=\"dataframe\">\n",
       "<caption>A data.frame: 32 × 5</caption>\n",
       "<thead>\n",
       "\t<tr><th scope=col>CAR</th><th scope=col>AGE</th><th scope=col>DIST</th><th scope=col>y</th><th scope=col>n</th></tr>\n",
       "\t<tr><th scope=col>&lt;fct&gt;</th><th scope=col>&lt;fct&gt;</th><th scope=col>&lt;fct&gt;</th><th scope=col>&lt;dbl&gt;</th><th scope=col>&lt;dbl&gt;</th></tr>\n",
       "</thead>\n",
       "<tbody>\n",
       "\t<tr><td>1</td><td>1</td><td>0</td><td> 65</td><td> 317</td></tr>\n",
       "\t<tr><td>1</td><td>2</td><td>0</td><td> 65</td><td> 476</td></tr>\n",
       "\t<tr><td>1</td><td>3</td><td>0</td><td> 52</td><td> 486</td></tr>\n",
       "\t<tr><td>1</td><td>4</td><td>0</td><td>310</td><td>3259</td></tr>\n",
       "\t<tr><td>2</td><td>1</td><td>0</td><td> 98</td><td> 486</td></tr>\n",
       "\t<tr><td>2</td><td>2</td><td>0</td><td>159</td><td>1004</td></tr>\n",
       "\t<tr><td>2</td><td>3</td><td>0</td><td>175</td><td>1355</td></tr>\n",
       "\t<tr><td>2</td><td>4</td><td>0</td><td>877</td><td>7660</td></tr>\n",
       "\t<tr><td>3</td><td>1</td><td>0</td><td> 41</td><td> 223</td></tr>\n",
       "\t<tr><td>3</td><td>2</td><td>0</td><td>117</td><td> 539</td></tr>\n",
       "\t<tr><td>3</td><td>3</td><td>0</td><td>137</td><td> 697</td></tr>\n",
       "\t<tr><td>3</td><td>4</td><td>0</td><td>477</td><td>3442</td></tr>\n",
       "\t<tr><td>4</td><td>1</td><td>0</td><td> 11</td><td>  40</td></tr>\n",
       "\t<tr><td>4</td><td>2</td><td>0</td><td> 35</td><td> 148</td></tr>\n",
       "\t<tr><td>4</td><td>3</td><td>0</td><td> 39</td><td> 214</td></tr>\n",
       "\t<tr><td>4</td><td>4</td><td>0</td><td>167</td><td>1019</td></tr>\n",
       "\t<tr><td>1</td><td>1</td><td>1</td><td>  2</td><td>  20</td></tr>\n",
       "\t<tr><td>1</td><td>2</td><td>1</td><td>  5</td><td>  33</td></tr>\n",
       "\t<tr><td>1</td><td>3</td><td>1</td><td>  4</td><td>  40</td></tr>\n",
       "\t<tr><td>1</td><td>4</td><td>1</td><td> 36</td><td> 316</td></tr>\n",
       "\t<tr><td>2</td><td>1</td><td>1</td><td>  7</td><td>  31</td></tr>\n",
       "\t<tr><td>2</td><td>2</td><td>1</td><td> 10</td><td>  81</td></tr>\n",
       "\t<tr><td>2</td><td>3</td><td>1</td><td> 22</td><td> 122</td></tr>\n",
       "\t<tr><td>2</td><td>4</td><td>1</td><td>102</td><td> 724</td></tr>\n",
       "\t<tr><td>3</td><td>1</td><td>1</td><td>  5</td><td>  18</td></tr>\n",
       "\t<tr><td>3</td><td>2</td><td>1</td><td>  7</td><td>  39</td></tr>\n",
       "\t<tr><td>3</td><td>3</td><td>1</td><td> 16</td><td>  68</td></tr>\n",
       "\t<tr><td>3</td><td>4</td><td>1</td><td> 63</td><td> 344</td></tr>\n",
       "\t<tr><td>4</td><td>1</td><td>1</td><td>  0</td><td>   3</td></tr>\n",
       "\t<tr><td>4</td><td>2</td><td>1</td><td>  6</td><td>  16</td></tr>\n",
       "\t<tr><td>4</td><td>3</td><td>1</td><td>  8</td><td>  25</td></tr>\n",
       "\t<tr><td>4</td><td>4</td><td>1</td><td> 33</td><td> 114</td></tr>\n",
       "</tbody>\n",
       "</table>\n"
      ],
      "text/latex": [
       "A data.frame: 32 × 5\n",
       "\\begin{tabular}{lllll}\n",
       " CAR & AGE & DIST & y & n\\\\\n",
       " <fct> & <fct> & <fct> & <dbl> & <dbl>\\\\\n",
       "\\hline\n",
       "\t 1 & 1 & 0 &  65 &  317\\\\\n",
       "\t 1 & 2 & 0 &  65 &  476\\\\\n",
       "\t 1 & 3 & 0 &  52 &  486\\\\\n",
       "\t 1 & 4 & 0 & 310 & 3259\\\\\n",
       "\t 2 & 1 & 0 &  98 &  486\\\\\n",
       "\t 2 & 2 & 0 & 159 & 1004\\\\\n",
       "\t 2 & 3 & 0 & 175 & 1355\\\\\n",
       "\t 2 & 4 & 0 & 877 & 7660\\\\\n",
       "\t 3 & 1 & 0 &  41 &  223\\\\\n",
       "\t 3 & 2 & 0 & 117 &  539\\\\\n",
       "\t 3 & 3 & 0 & 137 &  697\\\\\n",
       "\t 3 & 4 & 0 & 477 & 3442\\\\\n",
       "\t 4 & 1 & 0 &  11 &   40\\\\\n",
       "\t 4 & 2 & 0 &  35 &  148\\\\\n",
       "\t 4 & 3 & 0 &  39 &  214\\\\\n",
       "\t 4 & 4 & 0 & 167 & 1019\\\\\n",
       "\t 1 & 1 & 1 &   2 &   20\\\\\n",
       "\t 1 & 2 & 1 &   5 &   33\\\\\n",
       "\t 1 & 3 & 1 &   4 &   40\\\\\n",
       "\t 1 & 4 & 1 &  36 &  316\\\\\n",
       "\t 2 & 1 & 1 &   7 &   31\\\\\n",
       "\t 2 & 2 & 1 &  10 &   81\\\\\n",
       "\t 2 & 3 & 1 &  22 &  122\\\\\n",
       "\t 2 & 4 & 1 & 102 &  724\\\\\n",
       "\t 3 & 1 & 1 &   5 &   18\\\\\n",
       "\t 3 & 2 & 1 &   7 &   39\\\\\n",
       "\t 3 & 3 & 1 &  16 &   68\\\\\n",
       "\t 3 & 4 & 1 &  63 &  344\\\\\n",
       "\t 4 & 1 & 1 &   0 &    3\\\\\n",
       "\t 4 & 2 & 1 &   6 &   16\\\\\n",
       "\t 4 & 3 & 1 &   8 &   25\\\\\n",
       "\t 4 & 4 & 1 &  33 &  114\\\\\n",
       "\\end{tabular}\n"
      ],
      "text/markdown": [
       "\n",
       "A data.frame: 32 × 5\n",
       "\n",
       "| CAR &lt;fct&gt; | AGE &lt;fct&gt; | DIST &lt;fct&gt; | y &lt;dbl&gt; | n &lt;dbl&gt; |\n",
       "|---|---|---|---|---|\n",
       "| 1 | 1 | 0 |  65 |  317 |\n",
       "| 1 | 2 | 0 |  65 |  476 |\n",
       "| 1 | 3 | 0 |  52 |  486 |\n",
       "| 1 | 4 | 0 | 310 | 3259 |\n",
       "| 2 | 1 | 0 |  98 |  486 |\n",
       "| 2 | 2 | 0 | 159 | 1004 |\n",
       "| 2 | 3 | 0 | 175 | 1355 |\n",
       "| 2 | 4 | 0 | 877 | 7660 |\n",
       "| 3 | 1 | 0 |  41 |  223 |\n",
       "| 3 | 2 | 0 | 117 |  539 |\n",
       "| 3 | 3 | 0 | 137 |  697 |\n",
       "| 3 | 4 | 0 | 477 | 3442 |\n",
       "| 4 | 1 | 0 |  11 |   40 |\n",
       "| 4 | 2 | 0 |  35 |  148 |\n",
       "| 4 | 3 | 0 |  39 |  214 |\n",
       "| 4 | 4 | 0 | 167 | 1019 |\n",
       "| 1 | 1 | 1 |   2 |   20 |\n",
       "| 1 | 2 | 1 |   5 |   33 |\n",
       "| 1 | 3 | 1 |   4 |   40 |\n",
       "| 1 | 4 | 1 |  36 |  316 |\n",
       "| 2 | 1 | 1 |   7 |   31 |\n",
       "| 2 | 2 | 1 |  10 |   81 |\n",
       "| 2 | 3 | 1 |  22 |  122 |\n",
       "| 2 | 4 | 1 | 102 |  724 |\n",
       "| 3 | 1 | 1 |   5 |   18 |\n",
       "| 3 | 2 | 1 |   7 |   39 |\n",
       "| 3 | 3 | 1 |  16 |   68 |\n",
       "| 3 | 4 | 1 |  63 |  344 |\n",
       "| 4 | 1 | 1 |   0 |    3 |\n",
       "| 4 | 2 | 1 |   6 |   16 |\n",
       "| 4 | 3 | 1 |   8 |   25 |\n",
       "| 4 | 4 | 1 |  33 |  114 |\n",
       "\n"
      ],
      "text/plain": [
       "   CAR AGE DIST y   n   \n",
       "1  1   1   0     65  317\n",
       "2  1   2   0     65  476\n",
       "3  1   3   0     52  486\n",
       "4  1   4   0    310 3259\n",
       "5  2   1   0     98  486\n",
       "6  2   2   0    159 1004\n",
       "7  2   3   0    175 1355\n",
       "8  2   4   0    877 7660\n",
       "9  3   1   0     41  223\n",
       "10 3   2   0    117  539\n",
       "11 3   3   0    137  697\n",
       "12 3   4   0    477 3442\n",
       "13 4   1   0     11   40\n",
       "14 4   2   0     35  148\n",
       "15 4   3   0     39  214\n",
       "16 4   4   0    167 1019\n",
       "17 1   1   1      2   20\n",
       "18 1   2   1      5   33\n",
       "19 1   3   1      4   40\n",
       "20 1   4   1     36  316\n",
       "21 2   1   1      7   31\n",
       "22 2   2   1     10   81\n",
       "23 2   3   1     22  122\n",
       "24 2   4   1    102  724\n",
       "25 3   1   1      5   18\n",
       "26 3   2   1      7   39\n",
       "27 3   3   1     16   68\n",
       "28 3   4   1     63  344\n",
       "29 4   1   1      0    3\n",
       "30 4   2   1      6   16\n",
       "31 4   3   1      8   25\n",
       "32 4   4   1     33  114"
      ]
     },
     "metadata": {},
     "output_type": "display_data"
    }
   ],
   "source": [
    "car_insurance_policy_data <- data.frame(\n",
    "  CAR = factor(rep(c(1, 2, 3, 4), each = 4)),\n",
    "  AGE = factor(rep(c(1, 2, 3, 4), times = 4)),\n",
    "  DIST = factor(rep(c(0, 1), each = 16)),\n",
    "  y = c(65, 65, 52, 310, 98, 159, 175, 877, 41, 117, 137, 477, 11, 35, 39, 167,\n",
    "        2, 5, 4, 36, 7, 10, 22, 102, 5, 7, 16, 63, 0, 6, 8, 33),\n",
    "  n = c(317, 476, 486, 3259, 486, 1004, 1355, 7660, 223, 539, 697, 3442, 40, 148, 214, 1019,\n",
    "        20, 33, 40, 316, 31, 81, 122, 724, 18, 39, 68, 344, 3, 16, 25, 114)\n",
    ") \n",
    "\n",
    "car_insurance_policy_data"
   ]
  },
  {
   "cell_type": "markdown",
   "id": "ee6c3413-8e57-4766-962c-9733b62afe2f",
   "metadata": {},
   "source": [
    "Fitting a logistic regression model using the `no. of claims` variable as the response variable and the variables `CAR`, `AGE`, and `DIST` as predictors. In this case, $y$ represents the number of claims and $n − y$ represents the number of policies minus the number of claims, which is the number of policies that have not filed a claim."
   ]
  },
  {
   "cell_type": "code",
   "execution_count": 23,
   "id": "7480f58e-289d-42cf-b5f7-7a423908bdbb",
   "metadata": {},
   "outputs": [
    {
     "data": {
      "text/plain": [
       "\n",
       "Call:\n",
       "glm(formula = cbind(y, n - y) ~ CAR * AGE * DIST, family = binomial(link = \"logit\"), \n",
       "    data = car_insurance_policy_data)\n",
       "\n",
       "Coefficients:\n",
       "                  Estimate Std. Error z value Pr(>|z|)    \n",
       "(Intercept)        -1.3550     0.1391  -9.740  < 2e-16 ***\n",
       "CAR2               -0.0210     0.1793  -0.117 0.906760    \n",
       "CAR3               -0.1354     0.2219  -0.610 0.541753    \n",
       "CAR4                0.3856     0.3805   1.014 0.310756    \n",
       "AGE2               -0.4892     0.1928  -2.537 0.011174 *  \n",
       "AGE3               -0.7668     0.2022  -3.792 0.000149 ***\n",
       "AGE4               -0.8976     0.1514  -5.929 3.04e-09 ***\n",
       "DIST1              -0.8422     0.7582  -1.111 0.266686    \n",
       "CAR2:AGE2           0.1948     0.2396   0.813 0.416346    \n",
       "CAR3:AGE2           0.6968     0.2792   2.495 0.012586 *  \n",
       "CAR4:AGE2           0.2865     0.4472   0.641 0.521707    \n",
       "CAR2:AGE3           0.2343     0.2454   0.955 0.339707    \n",
       "CAR3:AGE3           0.8492     0.2826   3.005 0.002654 ** \n",
       "CAR4:AGE3           0.2349     0.4446   0.528 0.597177    \n",
       "CAR2:AGE4           0.2280     0.1923   1.185 0.235856    \n",
       "CAR3:AGE4           0.5609     0.2350   2.387 0.017001 *  \n",
       "CAR4:AGE4           0.2374     0.3943   0.602 0.547094    \n",
       "CAR2:DIST1          0.9861     0.8788   1.122 0.261808    \n",
       "CAR3:DIST1          1.3771     0.9390   1.467 0.142493    \n",
       "CAR4:DIST1        -21.3479 37437.8581  -0.001 0.999545    \n",
       "AGE2:DIST1          0.9636     0.9102   1.059 0.289733    \n",
       "AGE3:DIST1          0.7668     0.9350   0.820 0.412179    \n",
       "AGE4:DIST1          1.0436     0.7809   1.336 0.181439    \n",
       "CAR2:AGE2:DIST1    -1.3972     1.0711  -1.304 0.192095    \n",
       "CAR3:AGE2:DIST1    -1.7355     1.1490  -1.510 0.130932    \n",
       "CAR4:AGE2:DIST1    21.8877 37437.8581   0.001 0.999534    \n",
       "CAR2:AGE3:DIST1    -0.5163     1.0647  -0.485 0.627725    \n",
       "CAR3:AGE3:DIST1    -1.0724     1.1278  -0.951 0.341658    \n",
       "CAR4:AGE3:DIST1    22.1708 37437.8581   0.001 0.999527    \n",
       "CAR2:AGE4:DIST1    -0.9497     0.9054  -1.049 0.294206    \n",
       "CAR3:AGE4:DIST1    -1.2466     0.9688  -1.287 0.198168    \n",
       "CAR4:AGE4:DIST1    21.8782 37437.8581   0.001 0.999534    \n",
       "---\n",
       "Signif. codes:  0 ‘***’ 0.001 ‘**’ 0.01 ‘*’ 0.05 ‘.’ 0.1 ‘ ’ 1\n",
       "\n",
       "(Dispersion parameter for binomial family taken to be 1)\n",
       "\n",
       "    Null deviance: 2.4433e+02  on 31  degrees of freedom\n",
       "Residual deviance: 5.2608e-10  on  0  degrees of freedom\n",
       "AIC: 225.92\n",
       "\n",
       "Number of Fisher Scoring iterations: 21\n"
      ]
     },
     "metadata": {},
     "output_type": "display_data"
    }
   ],
   "source": [
    "logistic.model <- glm(cbind(y, n - y) ~ CAR * AGE * DIST, family = binomial(link = \"logit\"), data = car_insurance_policy_data)\n",
    "summary(logistic.model)"
   ]
  },
  {
   "cell_type": "markdown",
   "id": "f72f9f2a-084e-40f0-9f74-8e88e4e01b74",
   "metadata": {},
   "source": [
    "The coefficients for the `AGE` variables are negative and **statistically significant**. Specially for `AGE3` and `AGE4`, where **p-values** are below the significance level $0.001$, while for `AGE2`, the **p-value** is also lower than the significance level $0.05$. This indicates that the effects of `AGE` are statistically significant. Since the coefficients are negative, we can conclude that as age increases, the number of claims decreases. This observation aligns with the results shown in the previous graphs."
   ]
  },
  {
   "cell_type": "markdown",
   "id": "80d8e2b8-1db6-4c23-9614-b1ada0748c5d",
   "metadata": {},
   "source": [
    "Some interactions between the variables `CAR` and `AGE` are found to be **significant**, particularly those involving `CAR3`. This suggests that the impact of the `CAR` variable on the response variable varies according to the `AGE` category.\n",
    "\n",
    "The significant interactions indicate that, in these cases, it is not appropriate to interpret the effects of `CAR` or `AGE` variables in isolation since it is the **combination of both variables that produces a significant effect on the response variable (`no. of claims`)**."
   ]
  },
  {
   "cell_type": "markdown",
   "id": "b6982799-8892-44f3-b52f-3b388090cf89",
   "metadata": {},
   "source": [
    "Finally, the interactions involving the variable `DIST1` **are not significant**, as the **p-values** are greater than the significance level $0.001$."
   ]
  },
  {
   "cell_type": "markdown",
   "id": "75072720-509d-497b-baac-83f81b38b78e",
   "metadata": {},
   "source": [
    "### Exercise 7.0"
   ]
  },
  {
   "cell_type": "markdown",
   "id": "7dd5a091-771e-44ad-be7d-12453d0371f0",
   "metadata": {},
   "source": [
    "Throughout the course, we have emphasized the use of the Maximum Likelihood method for estimation. Now, let’s consider an alternative: the **minimum chi-squared method**. Suppose the cells of a multinomial are parameterized in terms of a vector $\\theta = (\\theta_1, \\ldots, \\theta_s)^{T}$. The minimum chi-squared method involves estimating $\\theta$ by minimizing the Pearson statistic:\n",
    "\n",
    "$$\n",
    "\\begin{aligned}\n",
    "\\chi^2 = \\sum \\frac{(\\text{obs} - \\text{exp})^2}{\\text{exp}} = \\sum_{j = 1}^{K} \\frac{(y_j - n\\pi_j(\\theta))^2}{n\\pi_j(\\theta)} \n",
    "\\end{aligned}\n",
    "$$\n",
    "\n",
    "Consider the following problem. Assume a very large population of objects that can be classified into three categories: A, B, and C. To estimate the proportions $\\pi_1, \\pi_2, \\pi_3$ corresponding to each of these categories, a study was conducted; three samples of sizes $n_1, n_2, n_3$ were taken from the overall population. However, instead of recording the observed frequency of A's, B's, and C's in each sample, the following was noted:\n",
    "\n",
    "- Number of A's in the sample of size $n_1 = y_1$\n",
    "- Number of B's in the sample of size $n_2 = y_2$\n",
    "- Number of A's in the sample of size $n_3 = y_3$\n",
    "\n",
    "Estimate $\\pi_1, \\pi_2, \\pi_3$ using the **minimum chi-squared method**: assume $n_1 = 100, y_1 = 22, n_2 = 150, y_2 = 52, n_3 = 200, y_3 = 77$. In other words, find $\\pi_1, \\pi_2, \\pi_3$ that minimize:\n",
    "\n",
    "$$\n",
    "\\begin{aligned}\n",
    "\\frac{(y_1 - n_1\\pi_1)^2}{n_1\\pi_1} + \\frac{[(n_1 - y_1) - n_1(1 - \\pi_1)]^2}{n_1(1 - \\pi_1)} + \\ldots + \\frac{(y_3 - n_3\\pi_3)^2}{n_3\\pi_3} + \\frac{[(n_3 - y_3) - n_3(1 - \\pi_3)]^2}{n_3(1 - \\pi_3)}\n",
    "\\end{aligned}\n",
    "$$\n",
    "\n",
    "with the constraint $\\pi_3 = 1 - \\pi_1 - \\pi_2$. (Note: use $\\texttt{nlminb}$ function directly in R)."
   ]
  },
  {
   "cell_type": "code",
   "execution_count": 1,
   "id": "37640842-0acc-44fb-9f8b-196d5342df0e",
   "metadata": {},
   "outputs": [],
   "source": [
    "library(stats) # loading stats library"
   ]
  },
  {
   "cell_type": "code",
   "execution_count": 2,
   "id": "9a535f2c-ee61-4e5e-b3ef-211f8a0c287d",
   "metadata": {},
   "outputs": [],
   "source": [
    "n1 <- 100 # initialize samples and categories sizes\n",
    "y1 <- 22\n",
    "\n",
    "n2 <- 150\n",
    "y2 <- 52\n",
    "\n",
    "n3 <- 200\n",
    "y3 <- 77"
   ]
  },
  {
   "cell_type": "code",
   "execution_count": 3,
   "id": "5f5bc4ec-da9a-4fff-8a25-75a3e86491ef",
   "metadata": {},
   "outputs": [],
   "source": [
    "objective_function <- function(parameters){ # function to be minimized \n",
    "    pi1 <- parameters[1]\n",
    "    pi2 <- parameters[2]\n",
    "    pi3 <- 1 - pi1 - pi2 # constraint\n",
    "\n",
    "    A <- ((y1 - n1 * pi1)^2 / (n1 * pi1)) + (((n1 - y1) - (n1 * (1 - pi1))^2) / (n1 * (1 - pi1))) # category A\n",
    "  \n",
    "    B <- ((y2 - n2 * pi2)^2 / (n2 * pi2)) + (((n2 - y2) - (n2 * (1 - pi2))^2) / (n2 * (1 - pi2))) # category B\n",
    "  \n",
    "    C <- ((y3 - n3 * pi3)^2 / (n3 * pi3)) + (((n3 - y3) - (n3 * (1 - pi3))^2) / (n3 * (1 - pi3))) # category C\n",
    "\n",
    "    chi_squared <- A + B + C\n",
    "\n",
    "    return(chi_squared) # return chi-squared value\n",
    "}"
   ]
  },
  {
   "cell_type": "code",
   "execution_count": 4,
   "id": "d0925daf-5551-4775-b7c4-059086404f25",
   "metadata": {},
   "outputs": [
    {
     "data": {
      "text/html": [
       "<style>\n",
       ".list-inline {list-style: none; margin:0; padding: 0}\n",
       ".list-inline>li {display: inline-block}\n",
       ".list-inline>li:not(:last-child)::after {content: \"\\00b7\"; padding: 0 .5ex}\n",
       "</style>\n",
       "<ol class=list-inline><li>0.309614190725317</li><li>0.346226208296422</li></ol>\n"
      ],
      "text/latex": [
       "\\begin{enumerate*}\n",
       "\\item 0.309614190725317\n",
       "\\item 0.346226208296422\n",
       "\\end{enumerate*}\n"
      ],
      "text/markdown": [
       "1. 0.309614190725317\n",
       "2. 0.346226208296422\n",
       "\n",
       "\n"
      ],
      "text/plain": [
       "[1] 0.3096142 0.3462262"
      ]
     },
     "metadata": {},
     "output_type": "display_data"
    }
   ],
   "source": [
    "estimated_parameters <- nlminb(start = c(0.33, 0.33), objective = objective_function, lower = c(0, 0), upper = c(1, 1))\n",
    "estimated_parameters$par # estimated parameters pi1 and pi2"
   ]
  },
  {
   "cell_type": "code",
   "execution_count": 6,
   "id": "523015ce-1b90-4e93-aaae-2656a1c4e634",
   "metadata": {},
   "outputs": [],
   "source": [
    "pi1_estimated <- estimated_parameters$par[1]\n",
    "pi2_estimated <- estimated_parameters$par[2]\n",
    "pi3_estimated <- 1 - pi1_estimated - pi2_estimated # constraint"
   ]
  },
  {
   "cell_type": "markdown",
   "id": "2ba91edd-8113-4477-a922-daaf65a32c69",
   "metadata": {},
   "source": [
    "Estimates of $\\pi_1$, $\\pi_2$ and $\\pi_3$ given the constraint $\\pi_3 = 1 - \\pi_1 - \\pi_2$."
   ]
  },
  {
   "cell_type": "code",
   "execution_count": 8,
   "id": "9e41760c-74ae-4bf7-8296-e5bc0f5e07af",
   "metadata": {},
   "outputs": [
    {
     "name": "stdout",
     "output_type": "stream",
     "text": [
      "Estimated value of pi1: 0.3096142\n",
      "Estimated value of pi2: 0.3462262\n",
      "Estimated value of pi3: 0.3441596"
     ]
    }
   ],
   "source": [
    "cat(\"Estimated value of pi1:\", pi1_estimated)\n",
    "cat(\"\\nEstimated value of pi2:\", pi2_estimated)\n",
    "cat(\"\\nEstimated value of pi3:\", pi3_estimated)"
   ]
  },
  {
   "cell_type": "markdown",
   "id": "e7c78a3c-2d0f-4701-8614-3c7305e38ba7",
   "metadata": {},
   "source": [
    "### Exercise 8.0"
   ]
  },
  {
   "cell_type": "markdown",
   "id": "3658676c-a090-4ffd-bb7f-d73eaa45a541",
   "metadata": {},
   "source": [
    "Data related to the sinking of the Titanic in April 1912 is used. The result can be expressed in a 4-dimensional table."
   ]
  },
  {
   "cell_type": "markdown",
   "id": "cbd81ed9-d61d-4e66-b9ce-231dc1647e9e",
   "metadata": {},
   "source": [
    "The variables are:\n",
    "\n",
    "- **Class** of the passengers (1, 2, 3, Crew)\n",
    "- **Sex** of the passengers (Female, Male)\n",
    "- **Age** of the passengers (Adult, Child)\n",
    "- **Survived** indicating whether the passengers survived or not (Yes, No)\n",
    "\n",
    "Use the `titanic` library in R, the data can be found in the variable `Titanic`."
   ]
  },
  {
   "cell_type": "markdown",
   "id": "06ab2e79-e2f6-49c1-bff4-20b0a2d19665",
   "metadata": {},
   "source": [
    "Consider a log-linear model to analyze the possible effects."
   ]
  },
  {
   "cell_type": "code",
   "execution_count": 26,
   "id": "5e80e36b-a7c6-4cf7-8cad-17ef55b26668",
   "metadata": {},
   "outputs": [],
   "source": [
    "library(titanic) # load titanic library\n",
    "library(MASS) # load MASS library"
   ]
  },
  {
   "cell_type": "code",
   "execution_count": 27,
   "id": "0a6a016d-3b1a-4059-85ba-e731b716a1e3",
   "metadata": {},
   "outputs": [
    {
     "data": {
      "text/html": [
       "<table class=\"dataframe\">\n",
       "<caption>A data.frame: 6 × 5</caption>\n",
       "<thead>\n",
       "\t<tr><th></th><th scope=col>Class</th><th scope=col>Sex</th><th scope=col>Age</th><th scope=col>Survived</th><th scope=col>Freq</th></tr>\n",
       "\t<tr><th></th><th scope=col>&lt;fct&gt;</th><th scope=col>&lt;fct&gt;</th><th scope=col>&lt;fct&gt;</th><th scope=col>&lt;fct&gt;</th><th scope=col>&lt;dbl&gt;</th></tr>\n",
       "</thead>\n",
       "<tbody>\n",
       "\t<tr><th scope=row>1</th><td>1st </td><td>Male  </td><td>Child</td><td>No</td><td> 0</td></tr>\n",
       "\t<tr><th scope=row>2</th><td>2nd </td><td>Male  </td><td>Child</td><td>No</td><td> 0</td></tr>\n",
       "\t<tr><th scope=row>3</th><td>3rd </td><td>Male  </td><td>Child</td><td>No</td><td>35</td></tr>\n",
       "\t<tr><th scope=row>4</th><td>Crew</td><td>Male  </td><td>Child</td><td>No</td><td> 0</td></tr>\n",
       "\t<tr><th scope=row>5</th><td>1st </td><td>Female</td><td>Child</td><td>No</td><td> 0</td></tr>\n",
       "\t<tr><th scope=row>6</th><td>2nd </td><td>Female</td><td>Child</td><td>No</td><td> 0</td></tr>\n",
       "</tbody>\n",
       "</table>\n"
      ],
      "text/latex": [
       "A data.frame: 6 × 5\n",
       "\\begin{tabular}{r|lllll}\n",
       "  & Class & Sex & Age & Survived & Freq\\\\\n",
       "  & <fct> & <fct> & <fct> & <fct> & <dbl>\\\\\n",
       "\\hline\n",
       "\t1 & 1st  & Male   & Child & No &  0\\\\\n",
       "\t2 & 2nd  & Male   & Child & No &  0\\\\\n",
       "\t3 & 3rd  & Male   & Child & No & 35\\\\\n",
       "\t4 & Crew & Male   & Child & No &  0\\\\\n",
       "\t5 & 1st  & Female & Child & No &  0\\\\\n",
       "\t6 & 2nd  & Female & Child & No &  0\\\\\n",
       "\\end{tabular}\n"
      ],
      "text/markdown": [
       "\n",
       "A data.frame: 6 × 5\n",
       "\n",
       "| <!--/--> | Class &lt;fct&gt; | Sex &lt;fct&gt; | Age &lt;fct&gt; | Survived &lt;fct&gt; | Freq &lt;dbl&gt; |\n",
       "|---|---|---|---|---|---|\n",
       "| 1 | 1st  | Male   | Child | No |  0 |\n",
       "| 2 | 2nd  | Male   | Child | No |  0 |\n",
       "| 3 | 3rd  | Male   | Child | No | 35 |\n",
       "| 4 | Crew | Male   | Child | No |  0 |\n",
       "| 5 | 1st  | Female | Child | No |  0 |\n",
       "| 6 | 2nd  | Female | Child | No |  0 |\n",
       "\n"
      ],
      "text/plain": [
       "  Class Sex    Age   Survived Freq\n",
       "1 1st   Male   Child No        0  \n",
       "2 2nd   Male   Child No        0  \n",
       "3 3rd   Male   Child No       35  \n",
       "4 Crew  Male   Child No        0  \n",
       "5 1st   Female Child No        0  \n",
       "6 2nd   Female Child No        0  "
      ]
     },
     "metadata": {},
     "output_type": "display_data"
    }
   ],
   "source": [
    "titanic_data <- as.data.frame(Titanic) # data stored in a data frame\n",
    "head(titanic_data) "
   ]
  },
  {
   "cell_type": "markdown",
   "id": "8295feae-58fe-43cd-b409-2a349b5a3b17",
   "metadata": {},
   "source": [
    "Fitting the first **log-linear model** without additional interactions."
   ]
  },
  {
   "cell_type": "code",
   "execution_count": 28,
   "id": "1afbd60b-4a7e-403a-8825-36a47e09e87b",
   "metadata": {},
   "outputs": [
    {
     "data": {
      "text/plain": [
       "Call:\n",
       "loglm(formula = Freq ~ Class + Age + Sex + Survived, data = titanic_data, \n",
       "    param = TRUE, fit = TRUE)\n",
       "\n",
       "Statistics:\n",
       "                      X^2 df P(> X^2)\n",
       "Likelihood Ratio 1243.663 25        0\n",
       "Pearson          1637.445 25        0"
      ]
     },
     "metadata": {},
     "output_type": "display_data"
    }
   ],
   "source": [
    "loglinear.model <- loglm(Freq ~ Class + Age + Sex + Survived, data = titanic_data, param = TRUE, fit = TRUE)\n",
    "loglinear.model"
   ]
  },
  {
   "cell_type": "markdown",
   "id": "c27242e2-7865-4f4b-8e73-e4f4e900a14a",
   "metadata": {},
   "source": [
    "**Likelihood Ratio Test**: Indicates that the log-linear model is significantly better than a null model with no effects.\n",
    "\n",
    "**Pearson Chi-Square Test**: Suggests that there are signifiThe results suggest that, although the fitted model is significantly better than the null model, it may be beneficial to consider more complex models (with a greater number of interactions) to better capture the variability in the data.cant discrepancies between observed and expected frequencies, which may imply that the model is not fully capturing the relationships in the data."
   ]
  },
  {
   "cell_type": "markdown",
   "id": "5320a6bc-f81f-46f6-b921-dd40baddf169",
   "metadata": {},
   "source": [
    "The results suggest that, although the fitted model is significantly better than the null model, it may be beneficial to consider more complex models (with a greater number of interactions) to better capture the variability in the data."
   ]
  },
  {
   "cell_type": "markdown",
   "id": "b803683b-cb18-40a1-90ee-5c6383dfeffd",
   "metadata": {},
   "source": [
    "***"
   ]
  },
  {
   "cell_type": "markdown",
   "id": "c06dd8fa-0b7a-41b9-90c7-0114431e2539",
   "metadata": {},
   "source": [
    "Fitting the first **log-linear model** considering an additional interaction between the variables `Class` and `Sex`."
   ]
  },
  {
   "cell_type": "code",
   "execution_count": 29,
   "id": "129e6087-d764-489f-b681-656a167d86f8",
   "metadata": {},
   "outputs": [
    {
     "data": {
      "text/plain": [
       "Call:\n",
       "loglm(formula = Freq ~ Class + Age + Sex + Survived + Class * \n",
       "    Sex, data = titanic_data, param = TRUE, fit = TRUE)\n",
       "\n",
       "Statistics:\n",
       "                      X^2 df P(> X^2)\n",
       "Likelihood Ratio 831.0620 22        0\n",
       "Pearson          833.8984 22        0"
      ]
     },
     "metadata": {},
     "output_type": "display_data"
    }
   ],
   "source": [
    "loglinear.model <- loglm(Freq ~ Class + Age + Sex + Survived + Class*Sex, data = titanic_data, param = TRUE, fit = TRUE)\n",
    "loglinear.model"
   ]
  },
  {
   "cell_type": "markdown",
   "id": "b2364439-6363-4fc0-86f6-82e77115a9c2",
   "metadata": {},
   "source": [
    "**Likelihood Ratio Test**: The statistic indicates that the model including `Class`, `Age`, `Sex`, `Survived`, and the interaction `Class * Sex` is significantly better than the null model.\n",
    "\n",
    "**Pearson Chi-Square Test**: Similar to the previous model, it indicates a significant discrepancy between the observed and expected frequencies, suggesting that the model may not be perfectly fitting the data."
   ]
  },
  {
   "cell_type": "markdown",
   "id": "dea5a1c9-66d7-422f-8b11-7a31632843a7",
   "metadata": {},
   "source": [
    "***"
   ]
  },
  {
   "cell_type": "markdown",
   "id": "e97b5770-f900-4f17-ba0e-93b8e643c7a0",
   "metadata": {},
   "source": [
    "Fitting the first **log-linear model** considering an additional interaction between the variables `Class`, `Sex` and `Age`."
   ]
  },
  {
   "cell_type": "code",
   "execution_count": 30,
   "id": "c851d8db-057d-424c-b938-467cad08ee9c",
   "metadata": {},
   "outputs": [
    {
     "data": {
      "text/plain": [
       "Call:\n",
       "loglm(formula = Freq ~ Class + Age + Sex + Survived + Class * \n",
       "    Sex * Age, data = titanic_data, param = TRUE, fit = TRUE)\n",
       "\n",
       "Statistics:\n",
       "                      X^2 df P(> X^2)\n",
       "Likelihood Ratio 671.9622 15        0\n",
       "Pearson               NaN 15      NaN"
      ]
     },
     "metadata": {},
     "output_type": "display_data"
    }
   ],
   "source": [
    "loglinear.model <- loglm(Freq ~ Class + Age + Sex + Survived + Class*Sex*Age, data = titanic_data, param = TRUE, fit = TRUE)\n",
    "loglinear.model"
   ]
  },
  {
   "cell_type": "markdown",
   "id": "3c9a1b56-8e54-4c20-9521-573feb5ef07d",
   "metadata": {},
   "source": [
    "**Likelihood Ratio Test**: Indicates that the model with the interactions `Class * Sex * Age` provides a significantly better explanation of the data compared to the null model.\n",
    "\n",
    "**Pearson Chi-Square Test**: The `NaN` value suggests there was an issue with the calculation of this statistic, which may indicate problems with the model's fit quality or with the data itself."
   ]
  },
  {
   "cell_type": "markdown",
   "id": "2b07ee7e-eb27-4493-bef3-4b0a7fbb5910",
   "metadata": {},
   "source": [
    "***"
   ]
  },
  {
   "cell_type": "markdown",
   "id": "66973da0-4ef0-4b0d-b11c-11c81ee2821d",
   "metadata": {},
   "source": [
    "Fitting the first **log-linear model** considering an additional interaction between the variables `Class`, `Sex`, `Age` and `Survived`."
   ]
  },
  {
   "cell_type": "code",
   "execution_count": 31,
   "id": "6347e5ec-4b59-410b-8b0d-d81a56b88600",
   "metadata": {},
   "outputs": [
    {
     "data": {
      "text/plain": [
       "Call:\n",
       "loglm(formula = Freq ~ Class + Age + Sex + Survived + Class * \n",
       "    Sex * Age * Survived, data = titanic_data, param = TRUE, \n",
       "    fit = TRUE)\n",
       "\n",
       "Statistics:\n",
       "                 X^2 df P(> X^2)\n",
       "Likelihood Ratio   0  0        1\n",
       "Pearson          NaN  0        1"
      ]
     },
     "metadata": {},
     "output_type": "display_data"
    }
   ],
   "source": [
    "loglinear.model <- loglm(Freq ~ Class + Age + Sex + Survived + Class*Sex*Age*Survived, data = titanic_data, param = TRUE, fit = TRUE)\n",
    "loglinear.model"
   ]
  },
  {
   "cell_type": "markdown",
   "id": "9ba3ba6c-3a38-48ce-9d14-54da01725b4f",
   "metadata": {},
   "source": [
    "**Likelihood Ratio Test**: The value of the test statistic and the degrees of freedom suggest that the model with all possible interactions (`Class * Sex * Age * Survived`) does not improve the fit compared to the null model (i.e., it is as if the fitted model and the null model are equivalent in terms of fit).\n",
    "\n",
    "**Pearson Chi-Square Test**: The `NaN` value and the degrees of freedom indicate that this statistic cannot be calculated, possibly due to poor model specification or issues with the data."
   ]
  },
  {
   "cell_type": "markdown",
   "id": "b3a9ab05-12b8-43fd-81cb-429ec6b10a1e",
   "metadata": {},
   "source": [
    "**The model with all possible interactions may be too complex** for the available data, resulting in a redundant or non-informative fit."
   ]
  },
  {
   "cell_type": "markdown",
   "id": "828cee94-08ce-4bda-8b17-932dad7a6cab",
   "metadata": {},
   "source": [
    "#### Model Comparison"
   ]
  },
  {
   "cell_type": "markdown",
   "id": "1d085553-5459-4002-97cc-4de141ac4744",
   "metadata": {},
   "source": [
    "Models with partial interactions, whether double or triple (e.g., `Class * Sex` and `Class * Sex * Age`), show **significant improvements** over the null model but also exhibit discrepancies in fit.\n",
    "\n",
    "The model with all possible interactions (`Class * Sex * Age * Survived`) demonstrates fit issues, evidenced by the values in the likelihood ratio and NaN values in the $\\chi^{2}$ statistic, indicating potential **overfitting** or incorrect specification.\n",
    "\n",
    "**It is necessary to consider each of the double and triple interactions to determine the model that provides the best fit to the data while capturing the most information.**"
   ]
  },
  {
   "cell_type": "markdown",
   "id": "190d3133-1343-4cb3-a0c3-56aacc4d0505",
   "metadata": {},
   "source": [
    "### Exercise 9.0"
   ]
  },
  {
   "cell_type": "markdown",
   "id": "30e02659-abb3-42bf-9017-edf643e737ac",
   "metadata": {},
   "source": [
    "An analysis has been conducted on the therapeutic value of ascorbic acid (vitamin C) in relation to its effect on the common cold. There is a 2 × 2 table with the corresponding counts for a sample of 279 people."
   ]
  },
  {
   "cell_type": "markdown",
   "id": "63e5ecff-fd2b-40ca-a023-4493601b3ae4",
   "metadata": {},
   "source": [
    "|           | Cold  | No Cold   | Total |\n",
    "|-------------------|-----|------|------------------|\n",
    "| Placebo             | 31  | 109 | 140            |\n",
    "| **Ascorbic Acid**         | 17  | 122  | 139            |\n",
    "| Total   | 48 | 231   | 279             |"
   ]
  },
  {
   "cell_type": "markdown",
   "id": "9c31cec1-2635-44f2-b328-11d723d421d8",
   "metadata": {},
   "source": [
    "Apply a linear model to determine if there is sufficient evidence to confirm that ascorbic acid helps reduce the incidence of colds."
   ]
  },
  {
   "cell_type": "code",
   "execution_count": 14,
   "id": "2dfe9303-a1f6-41e4-87ca-d778d7a8536d",
   "metadata": {},
   "outputs": [
    {
     "data": {
      "text/html": [
       "<table class=\"dataframe\">\n",
       "<caption>A data.frame: 3 × 4</caption>\n",
       "<thead>\n",
       "\t<tr><th scope=col>Treatment</th><th scope=col>Cold</th><th scope=col>No_Cold</th><th scope=col>Total</th></tr>\n",
       "\t<tr><th scope=col>&lt;chr&gt;</th><th scope=col>&lt;dbl&gt;</th><th scope=col>&lt;dbl&gt;</th><th scope=col>&lt;dbl&gt;</th></tr>\n",
       "</thead>\n",
       "<tbody>\n",
       "\t<tr><td>Placebo      </td><td>31</td><td>109</td><td>140</td></tr>\n",
       "\t<tr><td>Ascorbic Acid</td><td>17</td><td>122</td><td>139</td></tr>\n",
       "\t<tr><td>Total        </td><td>48</td><td>231</td><td>279</td></tr>\n",
       "</tbody>\n",
       "</table>\n"
      ],
      "text/latex": [
       "A data.frame: 3 × 4\n",
       "\\begin{tabular}{llll}\n",
       " Treatment & Cold & No\\_Cold & Total\\\\\n",
       " <chr> & <dbl> & <dbl> & <dbl>\\\\\n",
       "\\hline\n",
       "\t Placebo       & 31 & 109 & 140\\\\\n",
       "\t Ascorbic Acid & 17 & 122 & 139\\\\\n",
       "\t Total         & 48 & 231 & 279\\\\\n",
       "\\end{tabular}\n"
      ],
      "text/markdown": [
       "\n",
       "A data.frame: 3 × 4\n",
       "\n",
       "| Treatment &lt;chr&gt; | Cold &lt;dbl&gt; | No_Cold &lt;dbl&gt; | Total &lt;dbl&gt; |\n",
       "|---|---|---|---|\n",
       "| Placebo       | 31 | 109 | 140 |\n",
       "| Ascorbic Acid | 17 | 122 | 139 |\n",
       "| Total         | 48 | 231 | 279 |\n",
       "\n"
      ],
      "text/plain": [
       "  Treatment     Cold No_Cold Total\n",
       "1 Placebo       31   109     140  \n",
       "2 Ascorbic Acid 17   122     139  \n",
       "3 Total         48   231     279  "
      ]
     },
     "metadata": {},
     "output_type": "display_data"
    }
   ],
   "source": [
    "ascorbic_acid_data <- data.frame(\n",
    "  Treatment = c(\"Placebo\", \"Ascorbic Acid\", \"Total\"),\n",
    "  Cold = c(31, 17, 48),\n",
    "  No_Cold = c(109, 122, 231),\n",
    "  Total = c(140, 139, 279)\n",
    ") # data stored in a data frame\n",
    "\n",
    "ascorbic_acid_data"
   ]
  },
  {
   "cell_type": "markdown",
   "id": "9192c2c9-c007-47b3-9de7-3bec48661d8d",
   "metadata": {},
   "source": [
    "Modify data frame to add a column in order to map the *Treatment* categorical variable; '0' and '1' both to indicate the presence and absence of ascorbic acid treatment, respectively. "
   ]
  },
  {
   "cell_type": "code",
   "execution_count": 18,
   "id": "80b5cbf4-2a21-47c9-8a9e-f0237f8fcb2e",
   "metadata": {},
   "outputs": [
    {
     "data": {
      "text/html": [
       "<table class=\"dataframe\">\n",
       "<caption>A data.frame: 2 × 5</caption>\n",
       "<thead>\n",
       "\t<tr><th></th><th scope=col>Treatment</th><th scope=col>Cold</th><th scope=col>No_Cold</th><th scope=col>Total</th><th scope=col>Treatment_No_Category</th></tr>\n",
       "\t<tr><th></th><th scope=col>&lt;chr&gt;</th><th scope=col>&lt;dbl&gt;</th><th scope=col>&lt;dbl&gt;</th><th scope=col>&lt;dbl&gt;</th><th scope=col>&lt;dbl&gt;</th></tr>\n",
       "</thead>\n",
       "<tbody>\n",
       "\t<tr><th scope=row>1</th><td>Placebo      </td><td>31</td><td>109</td><td>140</td><td>0</td></tr>\n",
       "\t<tr><th scope=row>2</th><td>Ascorbic Acid</td><td>17</td><td>122</td><td>139</td><td>1</td></tr>\n",
       "</tbody>\n",
       "</table>\n"
      ],
      "text/latex": [
       "A data.frame: 2 × 5\n",
       "\\begin{tabular}{r|lllll}\n",
       "  & Treatment & Cold & No\\_Cold & Total & Treatment\\_No\\_Category\\\\\n",
       "  & <chr> & <dbl> & <dbl> & <dbl> & <dbl>\\\\\n",
       "\\hline\n",
       "\t1 & Placebo       & 31 & 109 & 140 & 0\\\\\n",
       "\t2 & Ascorbic Acid & 17 & 122 & 139 & 1\\\\\n",
       "\\end{tabular}\n"
      ],
      "text/markdown": [
       "\n",
       "A data.frame: 2 × 5\n",
       "\n",
       "| <!--/--> | Treatment &lt;chr&gt; | Cold &lt;dbl&gt; | No_Cold &lt;dbl&gt; | Total &lt;dbl&gt; | Treatment_No_Category &lt;dbl&gt; |\n",
       "|---|---|---|---|---|---|\n",
       "| 1 | Placebo       | 31 | 109 | 140 | 0 |\n",
       "| 2 | Ascorbic Acid | 17 | 122 | 139 | 1 |\n",
       "\n"
      ],
      "text/plain": [
       "  Treatment     Cold No_Cold Total Treatment_No_Category\n",
       "1 Placebo       31   109     140   0                    \n",
       "2 Ascorbic Acid 17   122     139   1                    "
      ]
     },
     "metadata": {},
     "output_type": "display_data"
    }
   ],
   "source": [
    "ascorbic_acid_data <- ascorbic_acid_data[-c(3), ]\n",
    "ascorbic_acid_data$Treatment_No_Category <- ifelse(ascorbic_acid_data$Treatment == \"Placebo\", 0, ifelse(ascorbic_acid_data$Treatment == \"Ascorbic Acid\", 1, NA)) # mapping the treatment variable\n",
    "ascorbic_acid_data"
   ]
  },
  {
   "cell_type": "markdown",
   "id": "fcbb3d1c-c9c9-437a-a3d6-6e0f02dd319b",
   "metadata": {},
   "source": [
    "Fitting a **Logistic Regression** model, using both columns *Cold* and *No Cold* to correctly represent the **binomial nature** of the data. "
   ]
  },
  {
   "cell_type": "code",
   "execution_count": 20,
   "id": "0cbd24d6-f450-412d-9b10-c4f05baee14e",
   "metadata": {},
   "outputs": [
    {
     "data": {
      "text/plain": [
       "\n",
       "Call:\n",
       "glm(formula = cbind(Cold, No_Cold) ~ Treatment_No_Category, family = binomial(link = logit), \n",
       "    data = ascorbic_acid_data)\n",
       "\n",
       "Coefficients:\n",
       "                      Estimate Std. Error z value Pr(>|z|)    \n",
       "(Intercept)            -1.2574     0.2035  -6.177 6.53e-10 ***\n",
       "Treatment_No_Category  -0.7134     0.3293  -2.166   0.0303 *  \n",
       "---\n",
       "Signif. codes:  0 ‘***’ 0.001 ‘**’ 0.01 ‘*’ 0.05 ‘.’ 0.1 ‘ ’ 1\n",
       "\n",
       "(Dispersion parameter for binomial family taken to be 1)\n",
       "\n",
       "    Null deviance: 4.8717e+00  on 1  degrees of freedom\n",
       "Residual deviance: 7.5495e-15  on 0  degrees of freedom\n",
       "AIC: 13.578\n",
       "\n",
       "Number of Fisher Scoring iterations: 3\n"
      ]
     },
     "metadata": {},
     "output_type": "display_data"
    }
   ],
   "source": [
    "logistic.model <- glm(cbind(Cold, No_Cold) ~ Treatment_No_Category, family = 'binomial'(link = logit), data = ascorbic_acid_data)\n",
    "summary(logistic.model)"
   ]
  },
  {
   "cell_type": "markdown",
   "id": "57a81d98-ec7d-4d74-8759-65d30f5f22b3",
   "metadata": {},
   "source": [
    "**Treatment Category**: The coefficient for the *treatment category* is $-0.7134$ with a small **p-value** ($0.0303$) indicating that the *treatment category* is a statistically significant predictor of the outcome, in this case the presence or absence of common cold.\n",
    "\n",
    "Note that * indicates that the variable is statistically significant with a significance level $0.05$ (i.e. **p-value** < $0.05$). "
   ]
  },
  {
   "cell_type": "markdown",
   "id": "83a803b8-8995-4c5a-8d3f-5ec58a01e3b7",
   "metadata": {},
   "source": [
    "Considering a significance level of $\\alpha = 0.05$ (**p-value** $< \\alpha$), we can say that the `treatment` variable is statistically significant. In other words, the `treatment` variable has a **significant relationship** with the response variable, indicating that **ascorbic acid has an effect on the common cold**."
   ]
  },
  {
   "cell_type": "markdown",
   "id": "b96fbe9b-9447-46ea-abb1-91c089a1e058",
   "metadata": {},
   "source": [
    "***\n",
    "\n",
    "MSc Statistical Computing by Mathematics Research Center (CIMAT Monterrey)\n",
    "\n",
    "September 2024"
   ]
  }
 ],
 "metadata": {
  "kernelspec": {
   "display_name": "R 4.4.1",
   "language": "R",
   "name": "ir44"
  },
  "language_info": {
   "codemirror_mode": "r",
   "file_extension": ".r",
   "mimetype": "text/x-r-source",
   "name": "R",
   "pygments_lexer": "r",
   "version": "4.4.1"
  }
 },
 "nbformat": 4,
 "nbformat_minor": 5
}
