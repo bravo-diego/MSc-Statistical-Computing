{
 "cells": [
  {
   "cell_type": "markdown",
   "id": "35fa4a3e-cb63-4549-ae02-fd51a7515d2c",
   "metadata": {},
   "source": [
    "## Multiple Data Imputation Exercise in R"
   ]
  },
  {
   "cell_type": "markdown",
   "id": "12dbdbb1-b595-443a-ad26-928a30735cfd",
   "metadata": {},
   "source": [
    "The data in **Cancerdata** comes from a study conducted on the effect of parents' cancer on behavioral problems in their children. The dependent variable is **totbpt**, which represents the total score of behavioral problems according to Achenbach's Child Behavior Checklist (Achenbach, 1991). The variables for the cancer patient's gender (**sexP**), anxiety and depression scores of the cancer patient (**AnxtP** and **DeptP**) and the spouse (**AnxtS** and **DeptS**) are considered potential predictors of the children's behavior. Unfortunately, many of the observations are missing data (represented by the value **-9**).\n",
    "\n",
    "(a) Considering only the complete cases, build a multiple linear regression model to relate the dependent variable (**totbpt**) to the 5 predictors mentioned above.\n",
    "\n",
    "(b) Apply Little's test to check if the missing data follows a Completely Missing at Random (MCAR) pattern.\n",
    "\n",
    "(c) Apply the Maximum Likelihood approach (with the EM algorithm) or the Multiple Imputation approach to estimate the missing data for all variables.\n",
    "\n",
    "(d) Using the \"complete\" data, rebuild the linear regression model and compare the results with those obtained in (a)."
   ]
  },
  {
   "cell_type": "code",
   "execution_count": 25,
   "id": "ab2afc81-a26c-4b04-b4f1-97b88d0c5387",
   "metadata": {},
   "outputs": [
    {
     "name": "stderr",
     "output_type": "stream",
     "text": [
      "Loading required package: Rcpp\n",
      "\n",
      "## \n",
      "## Amelia II: Multiple Imputation\n",
      "## (Version 1.8.3, built: 2024-11-07)\n",
      "## Copyright (C) 2005-2024 James Honaker, Gary King and Matthew Blackwell\n",
      "## Refer to http://gking.harvard.edu/amelia/ for more information\n",
      "## \n",
      "\n"
     ]
    }
   ],
   "source": [
    "library(Amelia)\n",
    "library(naniar)\n",
    "library(readxl) # loading libraries"
   ]
  },
  {
   "cell_type": "code",
   "execution_count": 4,
   "id": "947e5604-2ecd-4b13-b743-57f95f324527",
   "metadata": {},
   "outputs": [],
   "source": [
    "path = \"/home/aspphem/Desktop/MCE/StatisticalComputing/Cancer_data.xls\" # file path\n",
    "data <- read_excel(path) # read xlsx file"
   ]
  },
  {
   "cell_type": "code",
   "execution_count": 7,
   "id": "95efd854-4a06-4376-a2af-4d61ac284eb2",
   "metadata": {},
   "outputs": [
    {
     "data": {
      "text/html": [
       "<table class=\"dataframe\">\n",
       "<caption>A tibble: 6 × 9</caption>\n",
       "<thead>\n",
       "\t<tr><th scope=col>SexP</th><th scope=col>DeptP</th><th scope=col>AnxtP</th><th scope=col>GSItP</th><th scope=col>DeptS</th><th scope=col>AnxtS</th><th scope=col>GSItS</th><th scope=col>SexChild</th><th scope=col>Totbpt</th></tr>\n",
       "\t<tr><th scope=col>&lt;dbl&gt;</th><th scope=col>&lt;dbl&gt;</th><th scope=col>&lt;dbl&gt;</th><th scope=col>&lt;dbl&gt;</th><th scope=col>&lt;dbl&gt;</th><th scope=col>&lt;dbl&gt;</th><th scope=col>&lt;dbl&gt;</th><th scope=col>&lt;dbl&gt;</th><th scope=col>&lt;dbl&gt;</th></tr>\n",
       "</thead>\n",
       "<tbody>\n",
       "\t<tr><td>2</td><td>50</td><td>52</td><td>52</td><td>44</td><td>41</td><td>42</td><td>-9</td><td>-9</td></tr>\n",
       "\t<tr><td>1</td><td>65</td><td>55</td><td>57</td><td>73</td><td>68</td><td>71</td><td> 1</td><td>60</td></tr>\n",
       "\t<tr><td>1</td><td>57</td><td>67</td><td>61</td><td>67</td><td>63</td><td>65</td><td> 2</td><td>45</td></tr>\n",
       "\t<tr><td>2</td><td>61</td><td>64</td><td>57</td><td>60</td><td>59</td><td>62</td><td> 1</td><td>48</td></tr>\n",
       "\t<tr><td>2</td><td>61</td><td>52</td><td>57</td><td>44</td><td>50</td><td>50</td><td> 1</td><td>58</td></tr>\n",
       "\t<tr><td>1</td><td>53</td><td>55</td><td>53</td><td>70</td><td>70</td><td>69</td><td>-9</td><td>-9</td></tr>\n",
       "</tbody>\n",
       "</table>\n"
      ],
      "text/latex": [
       "A tibble: 6 × 9\n",
       "\\begin{tabular}{lllllllll}\n",
       " SexP & DeptP & AnxtP & GSItP & DeptS & AnxtS & GSItS & SexChild & Totbpt\\\\\n",
       " <dbl> & <dbl> & <dbl> & <dbl> & <dbl> & <dbl> & <dbl> & <dbl> & <dbl>\\\\\n",
       "\\hline\n",
       "\t 2 & 50 & 52 & 52 & 44 & 41 & 42 & -9 & -9\\\\\n",
       "\t 1 & 65 & 55 & 57 & 73 & 68 & 71 &  1 & 60\\\\\n",
       "\t 1 & 57 & 67 & 61 & 67 & 63 & 65 &  2 & 45\\\\\n",
       "\t 2 & 61 & 64 & 57 & 60 & 59 & 62 &  1 & 48\\\\\n",
       "\t 2 & 61 & 52 & 57 & 44 & 50 & 50 &  1 & 58\\\\\n",
       "\t 1 & 53 & 55 & 53 & 70 & 70 & 69 & -9 & -9\\\\\n",
       "\\end{tabular}\n"
      ],
      "text/markdown": [
       "\n",
       "A tibble: 6 × 9\n",
       "\n",
       "| SexP &lt;dbl&gt; | DeptP &lt;dbl&gt; | AnxtP &lt;dbl&gt; | GSItP &lt;dbl&gt; | DeptS &lt;dbl&gt; | AnxtS &lt;dbl&gt; | GSItS &lt;dbl&gt; | SexChild &lt;dbl&gt; | Totbpt &lt;dbl&gt; |\n",
       "|---|---|---|---|---|---|---|---|---|\n",
       "| 2 | 50 | 52 | 52 | 44 | 41 | 42 | -9 | -9 |\n",
       "| 1 | 65 | 55 | 57 | 73 | 68 | 71 |  1 | 60 |\n",
       "| 1 | 57 | 67 | 61 | 67 | 63 | 65 |  2 | 45 |\n",
       "| 2 | 61 | 64 | 57 | 60 | 59 | 62 |  1 | 48 |\n",
       "| 2 | 61 | 52 | 57 | 44 | 50 | 50 |  1 | 58 |\n",
       "| 1 | 53 | 55 | 53 | 70 | 70 | 69 | -9 | -9 |\n",
       "\n"
      ],
      "text/plain": [
       "  SexP DeptP AnxtP GSItP DeptS AnxtS GSItS SexChild Totbpt\n",
       "1 2    50    52    52    44    41    42    -9       -9    \n",
       "2 1    65    55    57    73    68    71     1       60    \n",
       "3 1    57    67    61    67    63    65     2       45    \n",
       "4 2    61    64    57    60    59    62     1       48    \n",
       "5 2    61    52    57    44    50    50     1       58    \n",
       "6 1    53    55    53    70    70    69    -9       -9    "
      ]
     },
     "metadata": {},
     "output_type": "display_data"
    }
   ],
   "source": [
    "head(data) # data preview"
   ]
  },
  {
   "cell_type": "code",
   "execution_count": 6,
   "id": "bcad300e-fb93-43ff-85ed-374f2495c889",
   "metadata": {},
   "outputs": [
    {
     "data": {
      "text/html": [
       "<table class=\"dataframe\">\n",
       "<caption>A tibble: 6 × 9</caption>\n",
       "<thead>\n",
       "\t<tr><th scope=col>SexP</th><th scope=col>DeptP</th><th scope=col>AnxtP</th><th scope=col>GSItP</th><th scope=col>DeptS</th><th scope=col>AnxtS</th><th scope=col>GSItS</th><th scope=col>SexChild</th><th scope=col>Totbpt</th></tr>\n",
       "\t<tr><th scope=col>&lt;dbl&gt;</th><th scope=col>&lt;dbl&gt;</th><th scope=col>&lt;dbl&gt;</th><th scope=col>&lt;dbl&gt;</th><th scope=col>&lt;dbl&gt;</th><th scope=col>&lt;dbl&gt;</th><th scope=col>&lt;dbl&gt;</th><th scope=col>&lt;dbl&gt;</th><th scope=col>&lt;dbl&gt;</th></tr>\n",
       "</thead>\n",
       "<tbody>\n",
       "\t<tr><td> 2</td><td>63</td><td>59</td><td>61</td><td>-9</td><td>-9</td><td>-9</td><td>-9</td><td>-9</td></tr>\n",
       "\t<tr><td> 2</td><td>-9</td><td>-9</td><td>-9</td><td>-9</td><td>-9</td><td>-9</td><td>-9</td><td>-9</td></tr>\n",
       "\t<tr><td> 2</td><td>42</td><td>38</td><td>45</td><td>60</td><td>67</td><td>57</td><td>-9</td><td>-9</td></tr>\n",
       "\t<tr><td> 2</td><td>50</td><td>52</td><td>48</td><td>-9</td><td>-9</td><td>-9</td><td>-9</td><td>-9</td></tr>\n",
       "\t<tr><td>-9</td><td>-9</td><td>-9</td><td>-9</td><td>44</td><td>55</td><td>45</td><td>-9</td><td>-9</td></tr>\n",
       "\t<tr><td> 1</td><td>73</td><td>74</td><td>72</td><td>50</td><td>46</td><td>55</td><td>-9</td><td>-9</td></tr>\n",
       "</tbody>\n",
       "</table>\n"
      ],
      "text/latex": [
       "A tibble: 6 × 9\n",
       "\\begin{tabular}{lllllllll}\n",
       " SexP & DeptP & AnxtP & GSItP & DeptS & AnxtS & GSItS & SexChild & Totbpt\\\\\n",
       " <dbl> & <dbl> & <dbl> & <dbl> & <dbl> & <dbl> & <dbl> & <dbl> & <dbl>\\\\\n",
       "\\hline\n",
       "\t  2 & 63 & 59 & 61 & -9 & -9 & -9 & -9 & -9\\\\\n",
       "\t  2 & -9 & -9 & -9 & -9 & -9 & -9 & -9 & -9\\\\\n",
       "\t  2 & 42 & 38 & 45 & 60 & 67 & 57 & -9 & -9\\\\\n",
       "\t  2 & 50 & 52 & 48 & -9 & -9 & -9 & -9 & -9\\\\\n",
       "\t -9 & -9 & -9 & -9 & 44 & 55 & 45 & -9 & -9\\\\\n",
       "\t  1 & 73 & 74 & 72 & 50 & 46 & 55 & -9 & -9\\\\\n",
       "\\end{tabular}\n"
      ],
      "text/markdown": [
       "\n",
       "A tibble: 6 × 9\n",
       "\n",
       "| SexP &lt;dbl&gt; | DeptP &lt;dbl&gt; | AnxtP &lt;dbl&gt; | GSItP &lt;dbl&gt; | DeptS &lt;dbl&gt; | AnxtS &lt;dbl&gt; | GSItS &lt;dbl&gt; | SexChild &lt;dbl&gt; | Totbpt &lt;dbl&gt; |\n",
       "|---|---|---|---|---|---|---|---|---|\n",
       "|  2 | 63 | 59 | 61 | -9 | -9 | -9 | -9 | -9 |\n",
       "|  2 | -9 | -9 | -9 | -9 | -9 | -9 | -9 | -9 |\n",
       "|  2 | 42 | 38 | 45 | 60 | 67 | 57 | -9 | -9 |\n",
       "|  2 | 50 | 52 | 48 | -9 | -9 | -9 | -9 | -9 |\n",
       "| -9 | -9 | -9 | -9 | 44 | 55 | 45 | -9 | -9 |\n",
       "|  1 | 73 | 74 | 72 | 50 | 46 | 55 | -9 | -9 |\n",
       "\n"
      ],
      "text/plain": [
       "  SexP DeptP AnxtP GSItP DeptS AnxtS GSItS SexChild Totbpt\n",
       "1  2   63    59    61    -9    -9    -9    -9       -9    \n",
       "2  2   -9    -9    -9    -9    -9    -9    -9       -9    \n",
       "3  2   42    38    45    60    67    57    -9       -9    \n",
       "4  2   50    52    48    -9    -9    -9    -9       -9    \n",
       "5 -9   -9    -9    -9    44    55    45    -9       -9    \n",
       "6  1   73    74    72    50    46    55    -9       -9    "
      ]
     },
     "metadata": {},
     "output_type": "display_data"
    }
   ],
   "source": [
    "tail(data)"
   ]
  },
  {
   "cell_type": "code",
   "execution_count": 11,
   "id": "646f85ef-ef94-4cdd-b475-0c652edc22dc",
   "metadata": {},
   "outputs": [
    {
     "data": {
      "text/html": [
       "<style>\n",
       ".list-inline {list-style: none; margin:0; padding: 0}\n",
       ".list-inline>li {display: inline-block}\n",
       ".list-inline>li:not(:last-child)::after {content: \"\\00b7\"; padding: 0 .5ex}\n",
       "</style>\n",
       "<ol class=list-inline><li>89</li><li>9</li></ol>\n"
      ],
      "text/latex": [
       "\\begin{enumerate*}\n",
       "\\item 89\n",
       "\\item 9\n",
       "\\end{enumerate*}\n"
      ],
      "text/markdown": [
       "1. 89\n",
       "2. 9\n",
       "\n",
       "\n"
      ],
      "text/plain": [
       "[1] 89  9"
      ]
     },
     "metadata": {},
     "output_type": "display_data"
    }
   ],
   "source": [
    "dim(data) # data dimensions"
   ]
  },
  {
   "cell_type": "code",
   "execution_count": 13,
   "id": "4f18b2d0-3a40-4b6f-833d-265c60ef1a76",
   "metadata": {},
   "outputs": [
    {
     "data": {
      "text/html": [
       "<table class=\"dataframe\">\n",
       "<caption>A tibble: 6 × 9</caption>\n",
       "<thead>\n",
       "\t<tr><th scope=col>SexP</th><th scope=col>DeptP</th><th scope=col>AnxtP</th><th scope=col>GSItP</th><th scope=col>DeptS</th><th scope=col>AnxtS</th><th scope=col>GSItS</th><th scope=col>SexChild</th><th scope=col>Totbpt</th></tr>\n",
       "\t<tr><th scope=col>&lt;dbl&gt;</th><th scope=col>&lt;dbl&gt;</th><th scope=col>&lt;dbl&gt;</th><th scope=col>&lt;dbl&gt;</th><th scope=col>&lt;dbl&gt;</th><th scope=col>&lt;dbl&gt;</th><th scope=col>&lt;dbl&gt;</th><th scope=col>&lt;dbl&gt;</th><th scope=col>&lt;dbl&gt;</th></tr>\n",
       "</thead>\n",
       "<tbody>\n",
       "\t<tr><td>2</td><td>50</td><td>52</td><td>52</td><td>44</td><td>41</td><td>42</td><td>NA</td><td>NA</td></tr>\n",
       "\t<tr><td>1</td><td>65</td><td>55</td><td>57</td><td>73</td><td>68</td><td>71</td><td> 1</td><td>60</td></tr>\n",
       "\t<tr><td>1</td><td>57</td><td>67</td><td>61</td><td>67</td><td>63</td><td>65</td><td> 2</td><td>45</td></tr>\n",
       "\t<tr><td>2</td><td>61</td><td>64</td><td>57</td><td>60</td><td>59</td><td>62</td><td> 1</td><td>48</td></tr>\n",
       "\t<tr><td>2</td><td>61</td><td>52</td><td>57</td><td>44</td><td>50</td><td>50</td><td> 1</td><td>58</td></tr>\n",
       "\t<tr><td>1</td><td>53</td><td>55</td><td>53</td><td>70</td><td>70</td><td>69</td><td>NA</td><td>NA</td></tr>\n",
       "</tbody>\n",
       "</table>\n"
      ],
      "text/latex": [
       "A tibble: 6 × 9\n",
       "\\begin{tabular}{lllllllll}\n",
       " SexP & DeptP & AnxtP & GSItP & DeptS & AnxtS & GSItS & SexChild & Totbpt\\\\\n",
       " <dbl> & <dbl> & <dbl> & <dbl> & <dbl> & <dbl> & <dbl> & <dbl> & <dbl>\\\\\n",
       "\\hline\n",
       "\t 2 & 50 & 52 & 52 & 44 & 41 & 42 & NA & NA\\\\\n",
       "\t 1 & 65 & 55 & 57 & 73 & 68 & 71 &  1 & 60\\\\\n",
       "\t 1 & 57 & 67 & 61 & 67 & 63 & 65 &  2 & 45\\\\\n",
       "\t 2 & 61 & 64 & 57 & 60 & 59 & 62 &  1 & 48\\\\\n",
       "\t 2 & 61 & 52 & 57 & 44 & 50 & 50 &  1 & 58\\\\\n",
       "\t 1 & 53 & 55 & 53 & 70 & 70 & 69 & NA & NA\\\\\n",
       "\\end{tabular}\n"
      ],
      "text/markdown": [
       "\n",
       "A tibble: 6 × 9\n",
       "\n",
       "| SexP &lt;dbl&gt; | DeptP &lt;dbl&gt; | AnxtP &lt;dbl&gt; | GSItP &lt;dbl&gt; | DeptS &lt;dbl&gt; | AnxtS &lt;dbl&gt; | GSItS &lt;dbl&gt; | SexChild &lt;dbl&gt; | Totbpt &lt;dbl&gt; |\n",
       "|---|---|---|---|---|---|---|---|---|\n",
       "| 2 | 50 | 52 | 52 | 44 | 41 | 42 | NA | NA |\n",
       "| 1 | 65 | 55 | 57 | 73 | 68 | 71 |  1 | 60 |\n",
       "| 1 | 57 | 67 | 61 | 67 | 63 | 65 |  2 | 45 |\n",
       "| 2 | 61 | 64 | 57 | 60 | 59 | 62 |  1 | 48 |\n",
       "| 2 | 61 | 52 | 57 | 44 | 50 | 50 |  1 | 58 |\n",
       "| 1 | 53 | 55 | 53 | 70 | 70 | 69 | NA | NA |\n",
       "\n"
      ],
      "text/plain": [
       "  SexP DeptP AnxtP GSItP DeptS AnxtS GSItS SexChild Totbpt\n",
       "1 2    50    52    52    44    41    42    NA       NA    \n",
       "2 1    65    55    57    73    68    71     1       60    \n",
       "3 1    57    67    61    67    63    65     2       45    \n",
       "4 2    61    64    57    60    59    62     1       48    \n",
       "5 2    61    52    57    44    50    50     1       58    \n",
       "6 1    53    55    53    70    70    69    NA       NA    "
      ]
     },
     "metadata": {},
     "output_type": "display_data"
    }
   ],
   "source": [
    "data[data == -9] <- NA \n",
    "head(data) # replace -9 values for NAN values"
   ]
  },
  {
   "cell_type": "code",
   "execution_count": 15,
   "id": "28e15da4-122c-49a5-9e58-bc0589be5ee6",
   "metadata": {},
   "outputs": [
    {
     "data": {
      "text/html": [
       "<style>\n",
       ".list-inline {list-style: none; margin:0; padding: 0}\n",
       ".list-inline>li {display: inline-block}\n",
       ".list-inline>li:not(:last-child)::after {content: \"\\00b7\"; padding: 0 .5ex}\n",
       "</style>\n",
       "<ol class=list-inline><li>26</li><li>9</li></ol>\n"
      ],
      "text/latex": [
       "\\begin{enumerate*}\n",
       "\\item 26\n",
       "\\item 9\n",
       "\\end{enumerate*}\n"
      ],
      "text/markdown": [
       "1. 26\n",
       "2. 9\n",
       "\n",
       "\n"
      ],
      "text/plain": [
       "[1] 26  9"
      ]
     },
     "metadata": {},
     "output_type": "display_data"
    }
   ],
   "source": [
    "data_updated <- na.omit(data)\n",
    "dim(data_updated) # drop NAN values"
   ]
  },
  {
   "cell_type": "markdown",
   "id": "17f575ba-3d36-44fd-8563-0172bca51ed1",
   "metadata": {},
   "source": [
    "### Multiple Linear Regression Model"
   ]
  },
  {
   "cell_type": "code",
   "execution_count": 21,
   "id": "ba7ddb75-ff49-4439-a907-7b4b18598211",
   "metadata": {},
   "outputs": [
    {
     "data": {
      "text/plain": [
       "\n",
       "Call:\n",
       "lm(formula = Totbpt ~ SexP + AnxtP + DeptP + AnxtS + DeptS, data = data_updated)\n",
       "\n",
       "Residuals:\n",
       "     Min       1Q   Median       3Q      Max \n",
       "-13.2936  -3.2199   0.5605   4.3432   7.0916 \n",
       "\n",
       "Coefficients:\n",
       "            Estimate Std. Error t value Pr(>|t|)    \n",
       "(Intercept) -2.93924   12.00345  -0.245 0.809055    \n",
       "SexP        -3.76858    2.80346  -1.344 0.193914    \n",
       "AnxtP       -0.06422    0.16908  -0.380 0.708075    \n",
       "DeptP        0.88845    0.20224   4.393 0.000281 ***\n",
       "AnxtS        0.60805    0.16604   3.662 0.001548 ** \n",
       "DeptS       -0.35464    0.15540  -2.282 0.033572 *  \n",
       "---\n",
       "Signif. codes:  0 ‘***’ 0.001 ‘**’ 0.01 ‘*’ 0.05 ‘.’ 0.1 ‘ ’ 1\n",
       "\n",
       "Residual standard error: 6.08 on 20 degrees of freedom\n",
       "Multiple R-squared:  0.6583,\tAdjusted R-squared:  0.5729 \n",
       "F-statistic: 7.706 on 5 and 20 DF,  p-value: 0.0003527\n"
      ]
     },
     "metadata": {},
     "output_type": "display_data"
    }
   ],
   "source": [
    "linear_regression <- lm(Totbpt ~ SexP + AnxtP + DeptP + AnxtS + DeptS, data = data_updated) # fit a linear regression model\n",
    "summary(linear_regression) # print the result of the linear regression model"
   ]
  },
  {
   "cell_type": "markdown",
   "id": "6ae84e10-7d3b-4ff5-8f12-afb63cfdff37",
   "metadata": {},
   "source": [
    "The effect of the variables `DeptP`, `AnxtS`, and `DeptS` on the response variable `Totbpt` is statistically significant, with a significance level of **0.05** (p-value < 0.05)."
   ]
  },
  {
   "cell_type": "markdown",
   "id": "f90e8fc4-2784-4cf7-bc73-e74518c8e2d9",
   "metadata": {},
   "source": [
    "### Little's missing completely at random (MCAR) test"
   ]
  },
  {
   "cell_type": "markdown",
   "id": "a5f43bd2-f754-43dc-a053-d8662f4aad0f",
   "metadata": {},
   "source": [
    "*Little's (1988) test statistic is used to assess if data is missing completely at random (MCAR). The null hypothesis in this test is that the data is MCAR, and the test statistic is a chi-squared value.*"
   ]
  },
  {
   "cell_type": "code",
   "execution_count": 24,
   "id": "5fe18fab-90a5-4303-be5f-df91a060f3b8",
   "metadata": {},
   "outputs": [
    {
     "data": {
      "text/html": [
       "<table class=\"dataframe\">\n",
       "<caption>A tibble: 1 × 4</caption>\n",
       "<thead>\n",
       "\t<tr><th scope=col>statistic</th><th scope=col>df</th><th scope=col>p.value</th><th scope=col>missing.patterns</th></tr>\n",
       "\t<tr><th scope=col>&lt;dbl&gt;</th><th scope=col>&lt;dbl&gt;</th><th scope=col>&lt;dbl&gt;</th><th scope=col>&lt;int&gt;</th></tr>\n",
       "</thead>\n",
       "<tbody>\n",
       "\t<tr><td>32.9153</td><td>30</td><td>0.3262298</td><td>8</td></tr>\n",
       "</tbody>\n",
       "</table>\n"
      ],
      "text/latex": [
       "A tibble: 1 × 4\n",
       "\\begin{tabular}{llll}\n",
       " statistic & df & p.value & missing.patterns\\\\\n",
       " <dbl> & <dbl> & <dbl> & <int>\\\\\n",
       "\\hline\n",
       "\t 32.9153 & 30 & 0.3262298 & 8\\\\\n",
       "\\end{tabular}\n"
      ],
      "text/markdown": [
       "\n",
       "A tibble: 1 × 4\n",
       "\n",
       "| statistic &lt;dbl&gt; | df &lt;dbl&gt; | p.value &lt;dbl&gt; | missing.patterns &lt;int&gt; |\n",
       "|---|---|---|---|\n",
       "| 32.9153 | 30 | 0.3262298 | 8 |\n",
       "\n"
      ],
      "text/plain": [
       "  statistic df p.value   missing.patterns\n",
       "1 32.9153   30 0.3262298 8               "
      ]
     },
     "metadata": {},
     "output_type": "display_data"
    }
   ],
   "source": [
    "mcar_test(data)"
   ]
  },
  {
   "cell_type": "markdown",
   "id": "a2a8f3fb-0c21-43ff-98c5-e43e12f5de1b",
   "metadata": {},
   "source": [
    "According to the test statistic obtained, there is not enough evidence to reject the null hypothesis $H_0$. Therefore, we can say that the data follows a **MCAR** pattern."
   ]
  },
  {
   "cell_type": "markdown",
   "id": "28f4341b-2a91-499c-ad93-6fd43f11216f",
   "metadata": {},
   "source": [
    "### Missing Data Estimation"
   ]
  },
  {
   "cell_type": "markdown",
   "id": "e5d69cec-949e-4df9-a797-fe3907a258de",
   "metadata": {},
   "source": [
    "The imputation of missing data was performed using the **Amelia** library."
   ]
  },
  {
   "cell_type": "code",
   "execution_count": 32,
   "id": "6958ecf1-de3e-46f9-8f99-6f84c5fb28c2",
   "metadata": {},
   "outputs": [
    {
     "name": "stdout",
     "output_type": "stream",
     "text": [
      "-- Imputation 1 --\n",
      "\n",
      "  1  2  3  4  5  6  7  8  9 10 11 12 13 14 15 16 17 18 19 20\n",
      " 21 22 23 24 25 26 27 28 29 30 31 32 33 34 35 36\n",
      "\n",
      "-- Imputation 2 --\n",
      "\n",
      "  1  2  3  4  5  6  7  8  9 10 11 12 13 14 15 16 17 18 19 20\n",
      " 21 22 23 24 25 26 27 28 29 30 31 32 33 34 35 36 37 38 39 40\n",
      " 41 42 43 44 45 46 47 48 49 50 51 52 53 54 55 56 57 58 59 60\n",
      " 61 62 63 64 65 66 67 68 69 70 71 72 73 74\n",
      "\n",
      "-- Imputation 3 --\n",
      "\n",
      "  1  2  3  4  5  6  7  8  9 10 11 12 13 14 15 16 17 18 19 20\n",
      " 21 22 23\n",
      "\n",
      "-- Imputation 4 --\n",
      "\n",
      "  1  2  3  4  5  6  7  8  9 10 11 12 13 14 15 16 17 18 19 20\n",
      " 21 22 23 24 25 26 27 28 29 30 31 32 33 34 35 36 37 38 39 40\n",
      " 41 42 43\n",
      "\n",
      "-- Imputation 5 --\n",
      "\n",
      "  1  2  3  4  5  6  7  8  9 10 11 12 13 14 15 16 17 18 19 20\n",
      " 21 22 23 24 25 26 27 28 29 30 31 32 33 34 35 36 37 38 39 40\n",
      " 41 42 43 44 45 46 47 48 49 50 51 52 53 54 55 56\n",
      "\n"
     ]
    }
   ],
   "source": [
    "imputed_data <- amelia(data, m = 5, idvars = NULL, noms = c('SexP', 'SexChild'), seed = 123) # runs the bootstrap EM algorithm on incomplete data"
   ]
  },
  {
   "cell_type": "code",
   "execution_count": 33,
   "id": "5523143c-f59f-4053-be9c-03bcf6091fbe",
   "metadata": {},
   "outputs": [
    {
     "name": "stdout",
     "output_type": "stream",
     "text": [
      "\n",
      "Amelia output with 5 imputed datasets.\n",
      "Return code:  1 \n",
      "Message:  Normal EM convergence. \n",
      "\n",
      "Chain Lengths:\n",
      "--------------\n",
      "Imputation 1:  36\n",
      "Imputation 2:  74\n",
      "Imputation 3:  23\n",
      "Imputation 4:  43\n",
      "Imputation 5:  56\n",
      "\n",
      "Rows after Listwise Deletion:  26 \n",
      "Rows after Imputation:  89 \n",
      "Patterns of missingness in the data:  8 \n",
      "\n",
      "Fraction Missing for original variables: \n",
      "-----------------------------------------\n",
      "\n",
      "         Fraction Missing\n",
      "SexP           0.07865169\n",
      "DeptP          0.11235955\n",
      "AnxtP          0.11235955\n",
      "GSItP          0.11235955\n",
      "DeptS          0.32584270\n",
      "AnxtS          0.32584270\n",
      "GSItS          0.32584270\n",
      "SexChild       0.53932584\n",
      "Totbpt         0.53932584\n",
      "\n"
     ]
    }
   ],
   "source": [
    "summary(imputed_data) # summary of the imputed model"
   ]
  },
  {
   "cell_type": "code",
   "execution_count": 34,
   "id": "269a371e-9c6c-4d73-8ea8-8c85e31ce24d",
   "metadata": {},
   "outputs": [
    {
     "data": {
      "text/html": [
       "<table class=\"dataframe\">\n",
       "<caption>A tibble: 6 × 9</caption>\n",
       "<thead>\n",
       "\t<tr><th scope=col>SexP</th><th scope=col>DeptP</th><th scope=col>AnxtP</th><th scope=col>GSItP</th><th scope=col>DeptS</th><th scope=col>AnxtS</th><th scope=col>GSItS</th><th scope=col>SexChild</th><th scope=col>Totbpt</th></tr>\n",
       "\t<tr><th scope=col>&lt;dbl&gt;</th><th scope=col>&lt;dbl&gt;</th><th scope=col>&lt;dbl&gt;</th><th scope=col>&lt;dbl&gt;</th><th scope=col>&lt;dbl&gt;</th><th scope=col>&lt;dbl&gt;</th><th scope=col>&lt;dbl&gt;</th><th scope=col>&lt;dbl&gt;</th><th scope=col>&lt;dbl&gt;</th></tr>\n",
       "</thead>\n",
       "<tbody>\n",
       "\t<tr><td>2</td><td>50</td><td>52</td><td>52</td><td>44</td><td>41</td><td>42</td><td>1</td><td>38.69638</td></tr>\n",
       "\t<tr><td>1</td><td>65</td><td>55</td><td>57</td><td>73</td><td>68</td><td>71</td><td>1</td><td>60.00000</td></tr>\n",
       "\t<tr><td>1</td><td>57</td><td>67</td><td>61</td><td>67</td><td>63</td><td>65</td><td>2</td><td>45.00000</td></tr>\n",
       "\t<tr><td>2</td><td>61</td><td>64</td><td>57</td><td>60</td><td>59</td><td>62</td><td>1</td><td>48.00000</td></tr>\n",
       "\t<tr><td>2</td><td>61</td><td>52</td><td>57</td><td>44</td><td>50</td><td>50</td><td>1</td><td>58.00000</td></tr>\n",
       "\t<tr><td>1</td><td>53</td><td>55</td><td>53</td><td>70</td><td>70</td><td>69</td><td>2</td><td>52.25045</td></tr>\n",
       "</tbody>\n",
       "</table>\n"
      ],
      "text/latex": [
       "A tibble: 6 × 9\n",
       "\\begin{tabular}{lllllllll}\n",
       " SexP & DeptP & AnxtP & GSItP & DeptS & AnxtS & GSItS & SexChild & Totbpt\\\\\n",
       " <dbl> & <dbl> & <dbl> & <dbl> & <dbl> & <dbl> & <dbl> & <dbl> & <dbl>\\\\\n",
       "\\hline\n",
       "\t 2 & 50 & 52 & 52 & 44 & 41 & 42 & 1 & 38.69638\\\\\n",
       "\t 1 & 65 & 55 & 57 & 73 & 68 & 71 & 1 & 60.00000\\\\\n",
       "\t 1 & 57 & 67 & 61 & 67 & 63 & 65 & 2 & 45.00000\\\\\n",
       "\t 2 & 61 & 64 & 57 & 60 & 59 & 62 & 1 & 48.00000\\\\\n",
       "\t 2 & 61 & 52 & 57 & 44 & 50 & 50 & 1 & 58.00000\\\\\n",
       "\t 1 & 53 & 55 & 53 & 70 & 70 & 69 & 2 & 52.25045\\\\\n",
       "\\end{tabular}\n"
      ],
      "text/markdown": [
       "\n",
       "A tibble: 6 × 9\n",
       "\n",
       "| SexP &lt;dbl&gt; | DeptP &lt;dbl&gt; | AnxtP &lt;dbl&gt; | GSItP &lt;dbl&gt; | DeptS &lt;dbl&gt; | AnxtS &lt;dbl&gt; | GSItS &lt;dbl&gt; | SexChild &lt;dbl&gt; | Totbpt &lt;dbl&gt; |\n",
       "|---|---|---|---|---|---|---|---|---|\n",
       "| 2 | 50 | 52 | 52 | 44 | 41 | 42 | 1 | 38.69638 |\n",
       "| 1 | 65 | 55 | 57 | 73 | 68 | 71 | 1 | 60.00000 |\n",
       "| 1 | 57 | 67 | 61 | 67 | 63 | 65 | 2 | 45.00000 |\n",
       "| 2 | 61 | 64 | 57 | 60 | 59 | 62 | 1 | 48.00000 |\n",
       "| 2 | 61 | 52 | 57 | 44 | 50 | 50 | 1 | 58.00000 |\n",
       "| 1 | 53 | 55 | 53 | 70 | 70 | 69 | 2 | 52.25045 |\n",
       "\n"
      ],
      "text/plain": [
       "  SexP DeptP AnxtP GSItP DeptS AnxtS GSItS SexChild Totbpt  \n",
       "1 2    50    52    52    44    41    42    1        38.69638\n",
       "2 1    65    55    57    73    68    71    1        60.00000\n",
       "3 1    57    67    61    67    63    65    2        45.00000\n",
       "4 2    61    64    57    60    59    62    1        48.00000\n",
       "5 2    61    52    57    44    50    50    1        58.00000\n",
       "6 1    53    55    53    70    70    69    2        52.25045"
      ]
     },
     "metadata": {},
     "output_type": "display_data"
    }
   ],
   "source": [
    "head(imputed_data$imputations[[1]]) # fst imputed dataset"
   ]
  },
  {
   "cell_type": "code",
   "execution_count": 36,
   "id": "31386ff7-360c-4a44-ace0-f3afe7f6f23d",
   "metadata": {},
   "outputs": [
    {
     "data": {
      "text/html": [
       "<table class=\"dataframe\">\n",
       "<caption>A tibble: 6 × 9</caption>\n",
       "<thead>\n",
       "\t<tr><th scope=col>SexP</th><th scope=col>DeptP</th><th scope=col>AnxtP</th><th scope=col>GSItP</th><th scope=col>DeptS</th><th scope=col>AnxtS</th><th scope=col>GSItS</th><th scope=col>SexChild</th><th scope=col>Totbpt</th></tr>\n",
       "\t<tr><th scope=col>&lt;dbl&gt;</th><th scope=col>&lt;dbl&gt;</th><th scope=col>&lt;dbl&gt;</th><th scope=col>&lt;dbl&gt;</th><th scope=col>&lt;dbl&gt;</th><th scope=col>&lt;dbl&gt;</th><th scope=col>&lt;dbl&gt;</th><th scope=col>&lt;dbl&gt;</th><th scope=col>&lt;dbl&gt;</th></tr>\n",
       "</thead>\n",
       "<tbody>\n",
       "\t<tr><td>2</td><td>50</td><td>52</td><td>52</td><td>44</td><td>41</td><td>42</td><td>1</td><td>38.69638</td></tr>\n",
       "\t<tr><td>1</td><td>65</td><td>55</td><td>57</td><td>73</td><td>68</td><td>71</td><td>1</td><td>60.00000</td></tr>\n",
       "\t<tr><td>1</td><td>57</td><td>67</td><td>61</td><td>67</td><td>63</td><td>65</td><td>2</td><td>45.00000</td></tr>\n",
       "\t<tr><td>2</td><td>61</td><td>64</td><td>57</td><td>60</td><td>59</td><td>62</td><td>1</td><td>48.00000</td></tr>\n",
       "\t<tr><td>2</td><td>61</td><td>52</td><td>57</td><td>44</td><td>50</td><td>50</td><td>1</td><td>58.00000</td></tr>\n",
       "\t<tr><td>1</td><td>53</td><td>55</td><td>53</td><td>70</td><td>70</td><td>69</td><td>2</td><td>52.25045</td></tr>\n",
       "</tbody>\n",
       "</table>\n"
      ],
      "text/latex": [
       "A tibble: 6 × 9\n",
       "\\begin{tabular}{lllllllll}\n",
       " SexP & DeptP & AnxtP & GSItP & DeptS & AnxtS & GSItS & SexChild & Totbpt\\\\\n",
       " <dbl> & <dbl> & <dbl> & <dbl> & <dbl> & <dbl> & <dbl> & <dbl> & <dbl>\\\\\n",
       "\\hline\n",
       "\t 2 & 50 & 52 & 52 & 44 & 41 & 42 & 1 & 38.69638\\\\\n",
       "\t 1 & 65 & 55 & 57 & 73 & 68 & 71 & 1 & 60.00000\\\\\n",
       "\t 1 & 57 & 67 & 61 & 67 & 63 & 65 & 2 & 45.00000\\\\\n",
       "\t 2 & 61 & 64 & 57 & 60 & 59 & 62 & 1 & 48.00000\\\\\n",
       "\t 2 & 61 & 52 & 57 & 44 & 50 & 50 & 1 & 58.00000\\\\\n",
       "\t 1 & 53 & 55 & 53 & 70 & 70 & 69 & 2 & 52.25045\\\\\n",
       "\\end{tabular}\n"
      ],
      "text/markdown": [
       "\n",
       "A tibble: 6 × 9\n",
       "\n",
       "| SexP &lt;dbl&gt; | DeptP &lt;dbl&gt; | AnxtP &lt;dbl&gt; | GSItP &lt;dbl&gt; | DeptS &lt;dbl&gt; | AnxtS &lt;dbl&gt; | GSItS &lt;dbl&gt; | SexChild &lt;dbl&gt; | Totbpt &lt;dbl&gt; |\n",
       "|---|---|---|---|---|---|---|---|---|\n",
       "| 2 | 50 | 52 | 52 | 44 | 41 | 42 | 1 | 38.69638 |\n",
       "| 1 | 65 | 55 | 57 | 73 | 68 | 71 | 1 | 60.00000 |\n",
       "| 1 | 57 | 67 | 61 | 67 | 63 | 65 | 2 | 45.00000 |\n",
       "| 2 | 61 | 64 | 57 | 60 | 59 | 62 | 1 | 48.00000 |\n",
       "| 2 | 61 | 52 | 57 | 44 | 50 | 50 | 1 | 58.00000 |\n",
       "| 1 | 53 | 55 | 53 | 70 | 70 | 69 | 2 | 52.25045 |\n",
       "\n"
      ],
      "text/plain": [
       "  SexP DeptP AnxtP GSItP DeptS AnxtS GSItS SexChild Totbpt  \n",
       "1 2    50    52    52    44    41    42    1        38.69638\n",
       "2 1    65    55    57    73    68    71    1        60.00000\n",
       "3 1    57    67    61    67    63    65    2        45.00000\n",
       "4 2    61    64    57    60    59    62    1        48.00000\n",
       "5 2    61    52    57    44    50    50    1        58.00000\n",
       "6 1    53    55    53    70    70    69    2        52.25045"
      ]
     },
     "metadata": {},
     "output_type": "display_data"
    }
   ],
   "source": [
    "imputed_data_v1 <- imputed_data$imputations[[1]]\n",
    "head(imputed_data_v1)"
   ]
  },
  {
   "cell_type": "code",
   "execution_count": 38,
   "id": "12f688b4-cbb7-4f63-a0bb-5134bd66875c",
   "metadata": {},
   "outputs": [
    {
     "data": {
      "text/plain": [
       "\n",
       "Call:\n",
       "lm(formula = Totbpt ~ SexP + AnxtP + DeptP + AnxtS + DeptS, data = imputed_data_v1)\n",
       "\n",
       "Residuals:\n",
       "     Min       1Q   Median       3Q      Max \n",
       "-12.5883  -3.8381  -0.8054   4.1194  12.7635 \n",
       "\n",
       "Coefficients:\n",
       "            Estimate Std. Error t value Pr(>|t|)    \n",
       "(Intercept) -5.06382    5.41074  -0.936 0.352048    \n",
       "SexP        -3.50857    1.56614  -2.240 0.027746 *  \n",
       "AnxtP        0.01650    0.09092   0.182 0.856393    \n",
       "DeptP        0.74731    0.09082   8.229 2.28e-12 ***\n",
       "AnxtS        0.68721    0.08708   7.891 1.07e-11 ***\n",
       "DeptS       -0.33565    0.09161  -3.664 0.000436 ***\n",
       "---\n",
       "Signif. codes:  0 ‘***’ 0.001 ‘**’ 0.01 ‘*’ 0.05 ‘.’ 0.1 ‘ ’ 1\n",
       "\n",
       "Residual standard error: 5.727 on 83 degrees of freedom\n",
       "Multiple R-squared:  0.7742,\tAdjusted R-squared:  0.7606 \n",
       "F-statistic: 56.93 on 5 and 83 DF,  p-value: < 2.2e-16\n"
      ]
     },
     "metadata": {},
     "output_type": "display_data"
    }
   ],
   "source": [
    "linear_regression_impt <- lm(Totbpt ~ SexP + AnxtP + DeptP + AnxtS + DeptS, data = imputed_data_v1) # fit a linear regression model\n",
    "summary(linear_regression_impt) # print the result of the linear regression model"
   ]
  },
  {
   "cell_type": "markdown",
   "id": "7ee7be09-f570-41d2-af39-d4a794ce5f58",
   "metadata": {},
   "source": [
    "As with the previous model, the effects of the variables `DeptS`, `AnxtS`, and `DeptS` on the response are statistically significant. However, when considering a significance level of **alpha = 0.05**, the variable `SexP` is added to the list of statistically significant variables."
   ]
  },
  {
   "cell_type": "markdown",
   "id": "e0237814-5e40-4f82-aa91-24116feaf544",
   "metadata": {},
   "source": [
    "***\n",
    "\n",
    "MSc Statistical Computing by Mathematics Research Center (CIMAT Monterrey)\n",
    "\n",
    "October 2024"
   ]
  }
 ],
 "metadata": {
  "kernelspec": {
   "display_name": "R 4.4.1",
   "language": "R",
   "name": "ir44"
  },
  "language_info": {
   "codemirror_mode": "r",
   "file_extension": ".r",
   "mimetype": "text/x-r-source",
   "name": "R",
   "pygments_lexer": "r",
   "version": "4.4.1"
  }
 },
 "nbformat": 4,
 "nbformat_minor": 5
}
